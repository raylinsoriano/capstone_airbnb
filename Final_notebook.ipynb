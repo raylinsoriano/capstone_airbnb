{
 "cells": [
  {
   "cell_type": "markdown",
   "id": "2475ccd0",
   "metadata": {},
   "source": [
    "# Predicting the Probability of an Airbnb Booking in NYC"
   ]
  },
  {
   "cell_type": "markdown",
   "id": "6e49b0e4",
   "metadata": {},
   "source": [
    "## Buisness Understanding"
   ]
  },
  {
   "cell_type": "markdown",
   "id": "2db616ee",
   "metadata": {},
   "source": [
    "Airbnb is an online marketplace for vacation rentals, cabins, houses, boats and more. Airbnb has round 150 million users and has listings all over the world. What is great about airbnb is that anyone can create there own listing anywhere from renting out a single bedroom to a home.\n",
    "\n",
    "The purpose of this project is to create a model that is able to predict the probability of an Airbnb Host listing to be booked or not based on the features the listing has. This would be helpful for Airbnb Host who might want to know if the listing has a good chance of being booked based on what the listing has to offer.\n"
   ]
  },
  {
   "cell_type": "code",
   "execution_count": 383,
   "id": "fc0be9a4",
   "metadata": {},
   "outputs": [],
   "source": [
    "import pandas as pd\n",
    "import numpy as np\n",
    "import matplotlib.pyplot as plt\n",
    "import seaborn as sns\n",
    "import folium\n",
    "import haversine as hs\n",
    "import json\n",
    "import os\n",
    "\n",
    "import geopandas as gpd\n",
    "from shapely.geometry import Point, Polygon\n",
    "%matplotlib inline\n",
    "\n",
    "os.environ[\"PROJ_LIB\"] = \"C:\\\\Utilities\\\\Python\\\\Anaconda\\\\Library\\\\share\";\n",
    "from mpl_toolkits.basemap import Basemap\n",
    "from folium.plugins import HeatMap\n",
    "import plotly.graph_objs as go\n",
    "\n",
    "from sklearn.preprocessing import OneHotEncoder\n",
    "from sklearn.model_selection import train_test_split, cross_validate, GridSearchCV, ShuffleSplit\n",
    "from sklearn.pipeline import Pipeline\n",
    "from sklearn.preprocessing import FunctionTransformer, StandardScaler\n",
    "from sklearn.feature_extraction.text import CountVectorizer, TfidfVectorizer\n",
    "from sklearn.naive_bayes import MultinomialNB\n",
    "from sklearn.linear_model import LogisticRegression, LassoCV, RidgeClassifier, Ridge\n",
    "from sklearn.ensemble import RandomForestClassifier\n",
    "from sklearn.metrics import mean_absolute_error, mean_squared_error, r2_score\n",
    "from sklearn.compose import ColumnTransformer\n",
    "\n",
    "from xgboost import XGBClassifier\n",
    "\n",
    "from imblearn.over_sampling import SMOTE\n",
    "from imblearn.pipeline import Pipeline as imbpipe\n",
    "\n",
    "from sklearn.metrics import ConfusionMatrixDisplay, confusion_matrix, \\\n",
    "classification_report, accuracy_score, precision_score, plot_confusion_matrix"
   ]
  },
  {
   "cell_type": "markdown",
   "id": "cd2c5d13",
   "metadata": {},
   "source": [
    "## Loading in the Data"
   ]
  },
  {
   "cell_type": "markdown",
   "id": "2972ae3e",
   "metadata": {},
   "source": [
    "I got this data from a website called InsideAirbnb. Its an open source data tool that has Airbnb listing information from all around the world."
   ]
  },
  {
   "cell_type": "code",
   "execution_count": 301,
   "id": "d29ed052",
   "metadata": {},
   "outputs": [],
   "source": [
    "df = pd.read_csv('/Users/raylinsoriano/Documents/Flatiron/capstone/data/listings (1).csv')"
   ]
  },
  {
   "cell_type": "markdown",
   "id": "e2f96198",
   "metadata": {},
   "source": [
    "I also got this csv from kaggle, and this includes data of different attractions in Manhattan. I will use this data later to calculate the distance of the listings to each attractions."
   ]
  },
  {
   "cell_type": "code",
   "execution_count": 302,
   "id": "4b189a2d",
   "metadata": {},
   "outputs": [],
   "source": [
    "# will be used later to create a map\n",
    "\n",
    "attractions = pd.read_csv('/Users/raylinsoriano/Documents/Flatiron/capstone/data/cultural-institutions-by-block-and-lot.csv')\n"
   ]
  },
  {
   "cell_type": "code",
   "execution_count": 303,
   "id": "535ee507",
   "metadata": {},
   "outputs": [
    {
     "data": {
      "text/html": [
       "<div>\n",
       "<style scoped>\n",
       "    .dataframe tbody tr th:only-of-type {\n",
       "        vertical-align: middle;\n",
       "    }\n",
       "\n",
       "    .dataframe tbody tr th {\n",
       "        vertical-align: top;\n",
       "    }\n",
       "\n",
       "    .dataframe thead th {\n",
       "        text-align: right;\n",
       "    }\n",
       "</style>\n",
       "<table border=\"1\" class=\"dataframe\">\n",
       "  <thead>\n",
       "    <tr style=\"text-align: right;\">\n",
       "      <th></th>\n",
       "      <th>id</th>\n",
       "      <th>listing_url</th>\n",
       "      <th>scrape_id</th>\n",
       "      <th>last_scraped</th>\n",
       "      <th>name</th>\n",
       "      <th>description</th>\n",
       "      <th>neighborhood_overview</th>\n",
       "      <th>picture_url</th>\n",
       "      <th>host_id</th>\n",
       "      <th>host_url</th>\n",
       "      <th>...</th>\n",
       "      <th>review_scores_communication</th>\n",
       "      <th>review_scores_location</th>\n",
       "      <th>review_scores_value</th>\n",
       "      <th>license</th>\n",
       "      <th>instant_bookable</th>\n",
       "      <th>calculated_host_listings_count</th>\n",
       "      <th>calculated_host_listings_count_entire_homes</th>\n",
       "      <th>calculated_host_listings_count_private_rooms</th>\n",
       "      <th>calculated_host_listings_count_shared_rooms</th>\n",
       "      <th>reviews_per_month</th>\n",
       "    </tr>\n",
       "  </thead>\n",
       "  <tbody>\n",
       "    <tr>\n",
       "      <th>0</th>\n",
       "      <td>2595</td>\n",
       "      <td>https://www.airbnb.com/rooms/2595</td>\n",
       "      <td>20210901220703</td>\n",
       "      <td>2021-09-02</td>\n",
       "      <td>Skylit Midtown Castle</td>\n",
       "      <td>Beautiful, spacious skylit studio in the heart...</td>\n",
       "      <td>Centrally located in the heart of Manhattan ju...</td>\n",
       "      <td>https://a0.muscache.com/pictures/f0813a11-40b2...</td>\n",
       "      <td>2845</td>\n",
       "      <td>https://www.airbnb.com/users/show/2845</td>\n",
       "      <td>...</td>\n",
       "      <td>4.79</td>\n",
       "      <td>4.86</td>\n",
       "      <td>4.41</td>\n",
       "      <td>NaN</td>\n",
       "      <td>f</td>\n",
       "      <td>3</td>\n",
       "      <td>3</td>\n",
       "      <td>0</td>\n",
       "      <td>0</td>\n",
       "      <td>0.33</td>\n",
       "    </tr>\n",
       "    <tr>\n",
       "      <th>1</th>\n",
       "      <td>3831</td>\n",
       "      <td>https://www.airbnb.com/rooms/3831</td>\n",
       "      <td>20210901220703</td>\n",
       "      <td>2021-09-02</td>\n",
       "      <td>Whole flr w/private bdrm, bath &amp; kitchen(pls r...</td>\n",
       "      <td>Enjoy 500 s.f. top floor in 1899 brownstone, w...</td>\n",
       "      <td>Just the right mix of urban center and local n...</td>\n",
       "      <td>https://a0.muscache.com/pictures/e49999c2-9fd5...</td>\n",
       "      <td>4869</td>\n",
       "      <td>https://www.airbnb.com/users/show/4869</td>\n",
       "      <td>...</td>\n",
       "      <td>4.81</td>\n",
       "      <td>4.72</td>\n",
       "      <td>4.65</td>\n",
       "      <td>NaN</td>\n",
       "      <td>f</td>\n",
       "      <td>1</td>\n",
       "      <td>1</td>\n",
       "      <td>0</td>\n",
       "      <td>0</td>\n",
       "      <td>5.03</td>\n",
       "    </tr>\n",
       "    <tr>\n",
       "      <th>2</th>\n",
       "      <td>5121</td>\n",
       "      <td>https://www.airbnb.com/rooms/5121</td>\n",
       "      <td>20210901220703</td>\n",
       "      <td>2021-09-02</td>\n",
       "      <td>BlissArtsSpace!</td>\n",
       "      <td>&lt;b&gt;The space&lt;/b&gt;&lt;br /&gt;HELLO EVERYONE AND THANK...</td>\n",
       "      <td>NaN</td>\n",
       "      <td>https://a0.muscache.com/pictures/2090980c-b68e...</td>\n",
       "      <td>7356</td>\n",
       "      <td>https://www.airbnb.com/users/show/7356</td>\n",
       "      <td>...</td>\n",
       "      <td>4.91</td>\n",
       "      <td>4.47</td>\n",
       "      <td>4.52</td>\n",
       "      <td>NaN</td>\n",
       "      <td>f</td>\n",
       "      <td>1</td>\n",
       "      <td>0</td>\n",
       "      <td>1</td>\n",
       "      <td>0</td>\n",
       "      <td>0.54</td>\n",
       "    </tr>\n",
       "    <tr>\n",
       "      <th>3</th>\n",
       "      <td>5136</td>\n",
       "      <td>https://www.airbnb.com/rooms/5136</td>\n",
       "      <td>20210901220703</td>\n",
       "      <td>2021-09-02</td>\n",
       "      <td>Spacious Brooklyn Duplex, Patio + Garden</td>\n",
       "      <td>We welcome you to stay in our lovely 2 br dupl...</td>\n",
       "      <td>NaN</td>\n",
       "      <td>https://a0.muscache.com/pictures/miso/Hosting-...</td>\n",
       "      <td>7378</td>\n",
       "      <td>https://www.airbnb.com/users/show/7378</td>\n",
       "      <td>...</td>\n",
       "      <td>5.00</td>\n",
       "      <td>4.50</td>\n",
       "      <td>5.00</td>\n",
       "      <td>NaN</td>\n",
       "      <td>f</td>\n",
       "      <td>1</td>\n",
       "      <td>1</td>\n",
       "      <td>0</td>\n",
       "      <td>0</td>\n",
       "      <td>0.02</td>\n",
       "    </tr>\n",
       "    <tr>\n",
       "      <th>4</th>\n",
       "      <td>5178</td>\n",
       "      <td>https://www.airbnb.com/rooms/5178</td>\n",
       "      <td>20210901220703</td>\n",
       "      <td>2021-09-02</td>\n",
       "      <td>Large Furnished Room Near B'way</td>\n",
       "      <td>Please don’t expect the luxury here just a bas...</td>\n",
       "      <td>Theater district, many restaurants around here.</td>\n",
       "      <td>https://a0.muscache.com/pictures/12065/f070997...</td>\n",
       "      <td>8967</td>\n",
       "      <td>https://www.airbnb.com/users/show/8967</td>\n",
       "      <td>...</td>\n",
       "      <td>4.40</td>\n",
       "      <td>4.86</td>\n",
       "      <td>4.36</td>\n",
       "      <td>NaN</td>\n",
       "      <td>f</td>\n",
       "      <td>1</td>\n",
       "      <td>0</td>\n",
       "      <td>1</td>\n",
       "      <td>0</td>\n",
       "      <td>3.64</td>\n",
       "    </tr>\n",
       "  </tbody>\n",
       "</table>\n",
       "<p>5 rows × 74 columns</p>\n",
       "</div>"
      ],
      "text/plain": [
       "     id                        listing_url       scrape_id last_scraped  \\\n",
       "0  2595  https://www.airbnb.com/rooms/2595  20210901220703   2021-09-02   \n",
       "1  3831  https://www.airbnb.com/rooms/3831  20210901220703   2021-09-02   \n",
       "2  5121  https://www.airbnb.com/rooms/5121  20210901220703   2021-09-02   \n",
       "3  5136  https://www.airbnb.com/rooms/5136  20210901220703   2021-09-02   \n",
       "4  5178  https://www.airbnb.com/rooms/5178  20210901220703   2021-09-02   \n",
       "\n",
       "                                                name  \\\n",
       "0                              Skylit Midtown Castle   \n",
       "1  Whole flr w/private bdrm, bath & kitchen(pls r...   \n",
       "2                                    BlissArtsSpace!   \n",
       "3           Spacious Brooklyn Duplex, Patio + Garden   \n",
       "4                   Large Furnished Room Near B'way　   \n",
       "\n",
       "                                         description  \\\n",
       "0  Beautiful, spacious skylit studio in the heart...   \n",
       "1  Enjoy 500 s.f. top floor in 1899 brownstone, w...   \n",
       "2  <b>The space</b><br />HELLO EVERYONE AND THANK...   \n",
       "3  We welcome you to stay in our lovely 2 br dupl...   \n",
       "4  Please don’t expect the luxury here just a bas...   \n",
       "\n",
       "                               neighborhood_overview  \\\n",
       "0  Centrally located in the heart of Manhattan ju...   \n",
       "1  Just the right mix of urban center and local n...   \n",
       "2                                                NaN   \n",
       "3                                                NaN   \n",
       "4    Theater district, many restaurants around here.   \n",
       "\n",
       "                                         picture_url  host_id  \\\n",
       "0  https://a0.muscache.com/pictures/f0813a11-40b2...     2845   \n",
       "1  https://a0.muscache.com/pictures/e49999c2-9fd5...     4869   \n",
       "2  https://a0.muscache.com/pictures/2090980c-b68e...     7356   \n",
       "3  https://a0.muscache.com/pictures/miso/Hosting-...     7378   \n",
       "4  https://a0.muscache.com/pictures/12065/f070997...     8967   \n",
       "\n",
       "                                 host_url  ... review_scores_communication  \\\n",
       "0  https://www.airbnb.com/users/show/2845  ...                        4.79   \n",
       "1  https://www.airbnb.com/users/show/4869  ...                        4.81   \n",
       "2  https://www.airbnb.com/users/show/7356  ...                        4.91   \n",
       "3  https://www.airbnb.com/users/show/7378  ...                        5.00   \n",
       "4  https://www.airbnb.com/users/show/8967  ...                        4.40   \n",
       "\n",
       "  review_scores_location review_scores_value license instant_bookable  \\\n",
       "0                   4.86                4.41     NaN                f   \n",
       "1                   4.72                4.65     NaN                f   \n",
       "2                   4.47                4.52     NaN                f   \n",
       "3                   4.50                5.00     NaN                f   \n",
       "4                   4.86                4.36     NaN                f   \n",
       "\n",
       "  calculated_host_listings_count calculated_host_listings_count_entire_homes  \\\n",
       "0                              3                                           3   \n",
       "1                              1                                           1   \n",
       "2                              1                                           0   \n",
       "3                              1                                           1   \n",
       "4                              1                                           0   \n",
       "\n",
       "  calculated_host_listings_count_private_rooms  \\\n",
       "0                                            0   \n",
       "1                                            0   \n",
       "2                                            1   \n",
       "3                                            0   \n",
       "4                                            1   \n",
       "\n",
       "  calculated_host_listings_count_shared_rooms reviews_per_month  \n",
       "0                                           0              0.33  \n",
       "1                                           0              5.03  \n",
       "2                                           0              0.54  \n",
       "3                                           0              0.02  \n",
       "4                                           0              3.64  \n",
       "\n",
       "[5 rows x 74 columns]"
      ]
     },
     "execution_count": 303,
     "metadata": {},
     "output_type": "execute_result"
    }
   ],
   "source": [
    "df.head()"
   ]
  },
  {
   "cell_type": "code",
   "execution_count": 304,
   "id": "0fa86e20",
   "metadata": {},
   "outputs": [
    {
     "data": {
      "text/plain": [
       "(36923, 74)"
      ]
     },
     "execution_count": 304,
     "metadata": {},
     "output_type": "execute_result"
    }
   ],
   "source": [
    "df.shape"
   ]
  },
  {
   "cell_type": "code",
   "execution_count": 305,
   "id": "f64a2988",
   "metadata": {},
   "outputs": [
    {
     "name": "stdout",
     "output_type": "stream",
     "text": [
      "<class 'pandas.core.frame.DataFrame'>\n",
      "RangeIndex: 36923 entries, 0 to 36922\n",
      "Data columns (total 74 columns):\n",
      " #   Column                                        Non-Null Count  Dtype  \n",
      "---  ------                                        --------------  -----  \n",
      " 0   id                                            36923 non-null  int64  \n",
      " 1   listing_url                                   36923 non-null  object \n",
      " 2   scrape_id                                     36923 non-null  int64  \n",
      " 3   last_scraped                                  36923 non-null  object \n",
      " 4   name                                          36910 non-null  object \n",
      " 5   description                                   35710 non-null  object \n",
      " 6   neighborhood_overview                         22510 non-null  object \n",
      " 7   picture_url                                   36923 non-null  object \n",
      " 8   host_id                                       36923 non-null  int64  \n",
      " 9   host_url                                      36923 non-null  object \n",
      " 10  host_name                                     36812 non-null  object \n",
      " 11  host_since                                    36812 non-null  object \n",
      " 12  host_location                                 36714 non-null  object \n",
      " 13  host_about                                    21636 non-null  object \n",
      " 14  host_response_time                            21180 non-null  object \n",
      " 15  host_response_rate                            21180 non-null  object \n",
      " 16  host_acceptance_rate                          21821 non-null  object \n",
      " 17  host_is_superhost                             36812 non-null  object \n",
      " 18  host_thumbnail_url                            36812 non-null  object \n",
      " 19  host_picture_url                              36812 non-null  object \n",
      " 20  host_neighbourhood                            29726 non-null  object \n",
      " 21  host_listings_count                           36812 non-null  float64\n",
      " 22  host_total_listings_count                     36812 non-null  float64\n",
      " 23  host_verifications                            36923 non-null  object \n",
      " 24  host_has_profile_pic                          36812 non-null  object \n",
      " 25  host_identity_verified                        36812 non-null  object \n",
      " 26  neighbourhood                                 22511 non-null  object \n",
      " 27  neighbourhood_cleansed                        36923 non-null  object \n",
      " 28  neighbourhood_group_cleansed                  36923 non-null  object \n",
      " 29  latitude                                      36923 non-null  float64\n",
      " 30  longitude                                     36923 non-null  float64\n",
      " 31  property_type                                 36923 non-null  object \n",
      " 32  room_type                                     36923 non-null  object \n",
      " 33  accommodates                                  36923 non-null  int64  \n",
      " 34  bathrooms                                     0 non-null      float64\n",
      " 35  bathrooms_text                                36818 non-null  object \n",
      " 36  bedrooms                                      32987 non-null  float64\n",
      " 37  beds                                          36312 non-null  float64\n",
      " 38  amenities                                     36923 non-null  object \n",
      " 39  price                                         36923 non-null  object \n",
      " 40  minimum_nights                                36923 non-null  int64  \n",
      " 41  maximum_nights                                36923 non-null  int64  \n",
      " 42  minimum_minimum_nights                        36906 non-null  float64\n",
      " 43  maximum_minimum_nights                        36906 non-null  float64\n",
      " 44  minimum_maximum_nights                        36906 non-null  float64\n",
      " 45  maximum_maximum_nights                        36906 non-null  float64\n",
      " 46  minimum_nights_avg_ntm                        36906 non-null  float64\n",
      " 47  maximum_nights_avg_ntm                        36906 non-null  float64\n",
      " 48  calendar_updated                              0 non-null      float64\n",
      " 49  has_availability                              36923 non-null  object \n",
      " 50  availability_30                               36923 non-null  int64  \n",
      " 51  availability_60                               36923 non-null  int64  \n",
      " 52  availability_90                               36923 non-null  int64  \n",
      " 53  availability_365                              36923 non-null  int64  \n",
      " 54  calendar_last_scraped                         36923 non-null  object \n",
      " 55  number_of_reviews                             36923 non-null  int64  \n",
      " 56  number_of_reviews_ltm                         36923 non-null  int64  \n",
      " 57  number_of_reviews_l30d                        36923 non-null  int64  \n",
      " 58  first_review                                  27627 non-null  object \n",
      " 59  last_review                                   27627 non-null  object \n",
      " 60  review_scores_rating                          27627 non-null  float64\n",
      " 61  review_scores_accuracy                        26998 non-null  float64\n",
      " 62  review_scores_cleanliness                     27009 non-null  float64\n",
      " 63  review_scores_checkin                         26991 non-null  float64\n",
      " 64  review_scores_communication                   27002 non-null  float64\n",
      " 65  review_scores_location                        26987 non-null  float64\n",
      " 66  review_scores_value                           26987 non-null  float64\n",
      " 67  license                                       0 non-null      float64\n",
      " 68  instant_bookable                              36923 non-null  object \n",
      " 69  calculated_host_listings_count                36923 non-null  int64  \n",
      " 70  calculated_host_listings_count_entire_homes   36923 non-null  int64  \n",
      " 71  calculated_host_listings_count_private_rooms  36923 non-null  int64  \n",
      " 72  calculated_host_listings_count_shared_rooms   36923 non-null  int64  \n",
      " 73  reviews_per_month                             27627 non-null  float64\n",
      "dtypes: float64(23), int64(17), object(34)\n",
      "memory usage: 20.8+ MB\n"
     ]
    }
   ],
   "source": [
    "df.info()"
   ]
  },
  {
   "cell_type": "code",
   "execution_count": 306,
   "id": "2927cbc7",
   "metadata": {},
   "outputs": [],
   "source": [
    "pd.options.display.max_rows = 4000"
   ]
  },
  {
   "cell_type": "markdown",
   "id": "3eb0ca65",
   "metadata": {},
   "source": [
    "#### Data Exploration"
   ]
  },
  {
   "cell_type": "code",
   "execution_count": 307,
   "id": "a4d36537",
   "metadata": {},
   "outputs": [
    {
     "data": {
      "text/plain": [
       "0"
      ]
     },
     "execution_count": 307,
     "metadata": {},
     "output_type": "execute_result"
    }
   ],
   "source": [
    "#Checking for duplicates \n",
    "df.duplicated().sum()"
   ]
  },
  {
   "cell_type": "code",
   "execution_count": 308,
   "id": "d622e80b",
   "metadata": {},
   "outputs": [
    {
     "data": {
      "text/plain": [
       "count    27627.000000\n",
       "mean         4.578315\n",
       "std          0.854467\n",
       "min          0.000000\n",
       "25%          4.570000\n",
       "50%          4.820000\n",
       "75%          5.000000\n",
       "max          5.000000\n",
       "Name: review_scores_rating, dtype: float64"
      ]
     },
     "execution_count": 308,
     "metadata": {},
     "output_type": "execute_result"
    }
   ],
   "source": [
    "df['review_scores_rating'].describe()"
   ]
  },
  {
   "cell_type": "code",
   "execution_count": 309,
   "id": "05e83310",
   "metadata": {},
   "outputs": [
    {
     "data": {
      "text/plain": [
       "count    26998.000000\n",
       "mean         4.747624\n",
       "std          0.493899\n",
       "min          0.000000\n",
       "25%          4.710000\n",
       "50%          4.900000\n",
       "75%          5.000000\n",
       "max          5.000000\n",
       "Name: review_scores_accuracy, dtype: float64"
      ]
     },
     "execution_count": 309,
     "metadata": {},
     "output_type": "execute_result"
    }
   ],
   "source": [
    "df['review_scores_accuracy'].describe()"
   ]
  },
  {
   "cell_type": "code",
   "execution_count": 310,
   "id": "a2ca638a",
   "metadata": {},
   "outputs": [
    {
     "data": {
      "text/plain": [
       "count    26987.000000\n",
       "mean         4.753515\n",
       "std          0.415131\n",
       "min          0.000000\n",
       "25%          4.670000\n",
       "50%          4.880000\n",
       "75%          5.000000\n",
       "max          5.000000\n",
       "Name: review_scores_location, dtype: float64"
      ]
     },
     "execution_count": 310,
     "metadata": {},
     "output_type": "execute_result"
    }
   ],
   "source": [
    "df['review_scores_location'].describe()"
   ]
  },
  {
   "cell_type": "code",
   "execution_count": 311,
   "id": "9388f8b8",
   "metadata": {},
   "outputs": [
    {
     "data": {
      "text/plain": [
       "count    36812.000000\n",
       "mean        32.769423\n",
       "std        213.664601\n",
       "min          0.000000\n",
       "25%          1.000000\n",
       "50%          1.000000\n",
       "75%          3.000000\n",
       "max       5069.000000\n",
       "Name: host_listings_count, dtype: float64"
      ]
     },
     "execution_count": 311,
     "metadata": {},
     "output_type": "execute_result"
    }
   ],
   "source": [
    "#this needs to be filled with the medium\n",
    "df['host_listings_count'].describe()"
   ]
  },
  {
   "cell_type": "code",
   "execution_count": 312,
   "id": "c1f1e105",
   "metadata": {},
   "outputs": [
    {
     "data": {
      "text/plain": [
       "count    36312.000000\n",
       "mean         1.531422\n",
       "std          1.123261\n",
       "min          0.000000\n",
       "25%          1.000000\n",
       "50%          1.000000\n",
       "75%          2.000000\n",
       "max         42.000000\n",
       "Name: beds, dtype: float64"
      ]
     },
     "execution_count": 312,
     "metadata": {},
     "output_type": "execute_result"
    }
   ],
   "source": [
    "#fill with median\n",
    "df['beds'].describe()"
   ]
  },
  {
   "cell_type": "code",
   "execution_count": 313,
   "id": "1a12aea5",
   "metadata": {},
   "outputs": [
    {
     "data": {
      "image/png": "[encoded data removed]",
      "text/plain": [
       "<Figure size 432x288 with 1 Axes>"
      ]
     },
     "metadata": {
      "needs_background": "light"
     },
     "output_type": "display_data"
    }
   ],
   "source": [
    "df['beds'].hist();"
   ]
  },
  {
   "cell_type": "code",
   "execution_count": 314,
   "id": "b0635cc7",
   "metadata": {},
   "outputs": [
    {
     "data": {
      "text/plain": [
       "1.0     22421\n",
       "2.0      7685\n",
       "3.0      2728\n",
       "0.0      1500\n",
       "4.0      1196\n",
       "5.0       382\n",
       "6.0       202\n",
       "7.0        81\n",
       "8.0        50\n",
       "9.0        29\n",
       "10.0       12\n",
       "12.0        8\n",
       "11.0        6\n",
       "13.0        4\n",
       "16.0        2\n",
       "15.0        2\n",
       "42.0        1\n",
       "21.0        1\n",
       "24.0        1\n",
       "17.0        1\n",
       "Name: beds, dtype: int64"
      ]
     },
     "execution_count": 314,
     "metadata": {},
     "output_type": "execute_result"
    }
   ],
   "source": [
    "df['beds'].value_counts()"
   ]
  },
  {
   "cell_type": "code",
   "execution_count": 315,
   "id": "69dd03ad",
   "metadata": {},
   "outputs": [
    {
     "data": {
      "text/plain": [
       "count    36923.000000\n",
       "mean         2.797579\n",
       "std          1.859867\n",
       "min          0.000000\n",
       "25%          2.000000\n",
       "50%          2.000000\n",
       "75%          4.000000\n",
       "max         16.000000\n",
       "Name: accommodates, dtype: float64"
      ]
     },
     "execution_count": 315,
     "metadata": {},
     "output_type": "execute_result"
    }
   ],
   "source": [
    "#fill with median\n",
    "df['accommodates'].describe()"
   ]
  },
  {
   "cell_type": "code",
   "execution_count": 316,
   "id": "df624696",
   "metadata": {},
   "outputs": [
    {
     "data": {
      "text/plain": [
       "count    32987.000000\n",
       "mean         1.327008\n",
       "std          0.717335\n",
       "min          1.000000\n",
       "25%          1.000000\n",
       "50%          1.000000\n",
       "75%          1.000000\n",
       "max         14.000000\n",
       "Name: bedrooms, dtype: float64"
      ]
     },
     "execution_count": 316,
     "metadata": {},
     "output_type": "execute_result"
    }
   ],
   "source": [
    "#fill with median\n",
    "df['bedrooms'].describe()"
   ]
  },
  {
   "cell_type": "code",
   "execution_count": 317,
   "id": "b1c47e71",
   "metadata": {},
   "outputs": [
    {
     "data": {
      "text/plain": [
       "count    26987.000000\n",
       "mean         4.651268\n",
       "std          0.514201\n",
       "min          0.000000\n",
       "25%          4.560000\n",
       "50%          4.790000\n",
       "75%          5.000000\n",
       "max          5.000000\n",
       "Name: review_scores_value, dtype: float64"
      ]
     },
     "execution_count": 317,
     "metadata": {},
     "output_type": "execute_result"
    }
   ],
   "source": [
    "df['review_scores_value'].describe()"
   ]
  },
  {
   "cell_type": "markdown",
   "id": "b005e0ea",
   "metadata": {},
   "source": [
    "## Cleaning Data"
   ]
  },
  {
   "cell_type": "markdown",
   "id": "6d55dc5a",
   "metadata": {},
   "source": [
    "After Looking at some of the features, now I will start filling in missing data with either the mean, median, or mode.\n",
    "\n",
    "Also chaning strings objects for example, price to a numeric value."
   ]
  },
  {
   "cell_type": "code",
   "execution_count": 318,
   "id": "7f67773a",
   "metadata": {},
   "outputs": [
    {
     "data": {
      "text/plain": [
       "id                                                  0\n",
       "listing_url                                         0\n",
       "scrape_id                                           0\n",
       "last_scraped                                        0\n",
       "name                                               13\n",
       "description                                      1213\n",
       "neighborhood_overview                           14413\n",
       "picture_url                                         0\n",
       "host_id                                             0\n",
       "host_url                                            0\n",
       "host_name                                         111\n",
       "host_since                                        111\n",
       "host_location                                     209\n",
       "host_about                                      15287\n",
       "host_response_time                              15743\n",
       "host_response_rate                              15743\n",
       "host_acceptance_rate                            15102\n",
       "host_is_superhost                                 111\n",
       "host_thumbnail_url                                111\n",
       "host_picture_url                                  111\n",
       "host_neighbourhood                               7197\n",
       "host_listings_count                               111\n",
       "host_total_listings_count                         111\n",
       "host_verifications                                  0\n",
       "host_has_profile_pic                              111\n",
       "host_identity_verified                            111\n",
       "neighbourhood                                   14412\n",
       "neighbourhood_cleansed                              0\n",
       "neighbourhood_group_cleansed                        0\n",
       "latitude                                            0\n",
       "longitude                                           0\n",
       "property_type                                       0\n",
       "room_type                                           0\n",
       "accommodates                                        0\n",
       "bathrooms                                       36923\n",
       "bathrooms_text                                    105\n",
       "bedrooms                                         3936\n",
       "beds                                              611\n",
       "amenities                                           0\n",
       "price                                               0\n",
       "minimum_nights                                      0\n",
       "maximum_nights                                      0\n",
       "minimum_minimum_nights                             17\n",
       "maximum_minimum_nights                             17\n",
       "minimum_maximum_nights                             17\n",
       "maximum_maximum_nights                             17\n",
       "minimum_nights_avg_ntm                             17\n",
       "maximum_nights_avg_ntm                             17\n",
       "calendar_updated                                36923\n",
       "has_availability                                    0\n",
       "availability_30                                     0\n",
       "availability_60                                     0\n",
       "availability_90                                     0\n",
       "availability_365                                    0\n",
       "calendar_last_scraped                               0\n",
       "number_of_reviews                                   0\n",
       "number_of_reviews_ltm                               0\n",
       "number_of_reviews_l30d                              0\n",
       "first_review                                     9296\n",
       "last_review                                      9296\n",
       "review_scores_rating                             9296\n",
       "review_scores_accuracy                           9925\n",
       "review_scores_cleanliness                        9914\n",
       "review_scores_checkin                            9932\n",
       "review_scores_communication                      9921\n",
       "review_scores_location                           9936\n",
       "review_scores_value                              9936\n",
       "license                                         36923\n",
       "instant_bookable                                    0\n",
       "calculated_host_listings_count                      0\n",
       "calculated_host_listings_count_entire_homes         0\n",
       "calculated_host_listings_count_private_rooms        0\n",
       "calculated_host_listings_count_shared_rooms         0\n",
       "reviews_per_month                                9296\n",
       "dtype: int64"
      ]
     },
     "execution_count": 318,
     "metadata": {},
     "output_type": "execute_result"
    }
   ],
   "source": [
    "df.isna().sum()"
   ]
  },
  {
   "cell_type": "code",
   "execution_count": 319,
   "id": "e8cbf714",
   "metadata": {},
   "outputs": [
    {
     "data": {
      "text/plain": [
       "0         19.0\n",
       "1         86.0\n",
       "2          NaN\n",
       "3         33.0\n",
       "4        100.0\n",
       "         ...  \n",
       "36918     96.0\n",
       "36919     25.0\n",
       "36920     78.0\n",
       "36921     25.0\n",
       "36922    100.0\n",
       "Name: host_acceptance_rate, Length: 36923, dtype: float64"
      ]
     },
     "execution_count": 319,
     "metadata": {},
     "output_type": "execute_result"
    }
   ],
   "source": [
    "#Changing the \n",
    "df['host_response_rate'].replace('[\\%,]', '', regex=True).astype(float)\n",
    "df['host_acceptance_rate'].replace('[\\%,]', '', regex=True).astype(float)"
   ]
  },
  {
   "cell_type": "code",
   "execution_count": 320,
   "id": "46b0dfa1",
   "metadata": {},
   "outputs": [],
   "source": [
    "# Created a column for how many years the airbnb has been a host\n",
    "df['host_since'] = pd.to_datetime(df['host_since'])\n",
    "df['year'] = df['host_since'].apply(lambda date: date.year)\n",
    "\n",
    "df['years_been_host'] = max(df['year']) - df['year']"
   ]
  },
  {
   "cell_type": "code",
   "execution_count": 321,
   "id": "17df673d",
   "metadata": {},
   "outputs": [],
   "source": [
    "#Created a column of how many verifications each host has\n",
    "df['number_of_verifications'] = df.host_verifications.str.count(',')+1"
   ]
  },
  {
   "cell_type": "code",
   "execution_count": 322,
   "id": "09454c85",
   "metadata": {},
   "outputs": [],
   "source": [
    "#Created a column of how many amenities each host has\n",
    "df['number_of_amenities'] = df.amenities.str.count(',')+1"
   ]
  },
  {
   "cell_type": "code",
   "execution_count": 323,
   "id": "d41009ef",
   "metadata": {},
   "outputs": [],
   "source": [
    "#changing thid column so it can have the number of bathrooms\n",
    "df['bathrooms_text'] = df.bathrooms_text.str.extract('(\\d+)').astype(float)"
   ]
  },
  {
   "cell_type": "code",
   "execution_count": 324,
   "id": "0c11fd8a",
   "metadata": {},
   "outputs": [],
   "source": [
    "#Chaning the price to be a float and removing the dollar sign\n",
    "df['price'] = df['price'].replace('[\\$,]', '', regex=True).astype(float)"
   ]
  },
  {
   "cell_type": "code",
   "execution_count": 325,
   "id": "a9af2cea",
   "metadata": {},
   "outputs": [],
   "source": [
    "# Adding the median value to each missing value\n",
    "median = df.filter(['host_listings_count','beds', 'bedrooms'\n",
    "                    ,'accommodates','years_been_host','bathrooms_text']).median()"
   ]
  },
  {
   "cell_type": "code",
   "execution_count": 326,
   "id": "4e1b748b",
   "metadata": {},
   "outputs": [],
   "source": [
    "cols = ['host_listings_count','beds', 'bedrooms','accommodates','years_been_host','bathrooms_text']                          \n",
    "df[cols]=df[cols].fillna(median)"
   ]
  },
  {
   "cell_type": "code",
   "execution_count": 327,
   "id": "e374ceae",
   "metadata": {},
   "outputs": [],
   "source": [
    "# Adding the mean value to each missing value\n",
    "mean = df.filter(['review_scores_rating', 'review_scores_accuracy', 'review_scores_cleanliness', 'review_scores_checkin',\n",
    "        'review_scores_communication', 'review_scores_location', 'review_scores_value']).mean()"
   ]
  },
  {
   "cell_type": "code",
   "execution_count": 328,
   "id": "2b7a4230",
   "metadata": {},
   "outputs": [],
   "source": [
    "cols2 = ['review_scores_rating', 'review_scores_accuracy', 'review_scores_cleanliness', 'review_scores_checkin',\n",
    "        'review_scores_communication', 'review_scores_location','review_scores_value']                          \n",
    "df[cols2]=df[cols2].fillna(mean)"
   ]
  },
  {
   "cell_type": "code",
   "execution_count": 329,
   "id": "bad9038f",
   "metadata": {},
   "outputs": [],
   "source": [
    "#Filling in the mode with the most frequent value\n",
    "df = df.fillna(df.mode().iloc[0])"
   ]
  },
  {
   "cell_type": "markdown",
   "id": "4b20bb2b",
   "metadata": {},
   "source": [
    "## Graphs"
   ]
  },
  {
   "cell_type": "code",
   "execution_count": 330,
   "id": "aa02c006",
   "metadata": {},
   "outputs": [
    {
     "data": {
      "text/html": [
       "<div>\n",
       "<style scoped>\n",
       "    .dataframe tbody tr th:only-of-type {\n",
       "        vertical-align: middle;\n",
       "    }\n",
       "\n",
       "    .dataframe tbody tr th {\n",
       "        vertical-align: top;\n",
       "    }\n",
       "\n",
       "    .dataframe thead th {\n",
       "        text-align: right;\n",
       "    }\n",
       "</style>\n",
       "<table border=\"1\" class=\"dataframe\">\n",
       "  <thead>\n",
       "    <tr style=\"text-align: right;\">\n",
       "      <th></th>\n",
       "      <th>boro_code</th>\n",
       "      <th>boro_name</th>\n",
       "      <th>shape_area</th>\n",
       "      <th>shape_leng</th>\n",
       "      <th>geometry</th>\n",
       "    </tr>\n",
       "  </thead>\n",
       "  <tbody>\n",
       "    <tr>\n",
       "      <th>0</th>\n",
       "      <td>2.0</td>\n",
       "      <td>Bronx</td>\n",
       "      <td>1.187194e+09</td>\n",
       "      <td>463868.937681</td>\n",
       "      <td>MULTIPOLYGON (((-73.89681 40.79581, -73.89694 ...</td>\n",
       "    </tr>\n",
       "    <tr>\n",
       "      <th>1</th>\n",
       "      <td>1.0</td>\n",
       "      <td>Manhattan</td>\n",
       "      <td>6.365759e+08</td>\n",
       "      <td>359804.890798</td>\n",
       "      <td>MULTIPOLYGON (((-74.01093 40.68449, -74.01193 ...</td>\n",
       "    </tr>\n",
       "    <tr>\n",
       "      <th>2</th>\n",
       "      <td>5.0</td>\n",
       "      <td>Staten Island</td>\n",
       "      <td>1.623636e+09</td>\n",
       "      <td>325929.794027</td>\n",
       "      <td>MULTIPOLYGON (((-74.05051 40.56642, -74.05047 ...</td>\n",
       "    </tr>\n",
       "    <tr>\n",
       "      <th>3</th>\n",
       "      <td>3.0</td>\n",
       "      <td>Brooklyn</td>\n",
       "      <td>1.934174e+09</td>\n",
       "      <td>728195.197649</td>\n",
       "      <td>MULTIPOLYGON (((-73.86327 40.58388, -73.86381 ...</td>\n",
       "    </tr>\n",
       "    <tr>\n",
       "      <th>4</th>\n",
       "      <td>4.0</td>\n",
       "      <td>Queens</td>\n",
       "      <td>3.040205e+09</td>\n",
       "      <td>900270.512975</td>\n",
       "      <td>MULTIPOLYGON (((-73.82645 40.59053, -73.82642 ...</td>\n",
       "    </tr>\n",
       "  </tbody>\n",
       "</table>\n",
       "</div>"
      ],
      "text/plain": [
       "   boro_code      boro_name    shape_area     shape_leng  \\\n",
       "0        2.0          Bronx  1.187194e+09  463868.937681   \n",
       "1        1.0      Manhattan  6.365759e+08  359804.890798   \n",
       "2        5.0  Staten Island  1.623636e+09  325929.794027   \n",
       "3        3.0       Brooklyn  1.934174e+09  728195.197649   \n",
       "4        4.0         Queens  3.040205e+09  900270.512975   \n",
       "\n",
       "                                            geometry  \n",
       "0  MULTIPOLYGON (((-73.89681 40.79581, -73.89694 ...  \n",
       "1  MULTIPOLYGON (((-74.01093 40.68449, -74.01193 ...  \n",
       "2  MULTIPOLYGON (((-74.05051 40.56642, -74.05047 ...  \n",
       "3  MULTIPOLYGON (((-73.86327 40.58388, -73.86381 ...  \n",
       "4  MULTIPOLYGON (((-73.82645 40.59053, -73.82642 ...  "
      ]
     },
     "execution_count": 330,
     "metadata": {},
     "output_type": "execute_result"
    }
   ],
   "source": [
    "# set the filepath and load in a shapefile\n",
    "fp = '/Users/raylinsoriano/Documents/Flatiron/capstone/data/Borough Boundaries.zip'\n",
    "map_df = gpd.read_file(fp)\n",
    "# check data type so we can see that this is not a normal dataframe, but a GEOdataframe\n",
    "map_df.head()"
   ]
  },
  {
   "cell_type": "code",
   "execution_count": 331,
   "id": "a1a6039e",
   "metadata": {},
   "outputs": [
    {
     "data": {
      "text/plain": [
       "<AxesSubplot:>"
      ]
     },
     "execution_count": 331,
     "metadata": {},
     "output_type": "execute_result"
    },
    {
     "data": {
      "image/png": "[encoded data removed]",
      "text/plain": [
       "<Figure size 432x288 with 1 Axes>"
      ]
     },
     "metadata": {
      "needs_background": "light"
     },
     "output_type": "display_data"
    }
   ],
   "source": [
    "map_df.plot()"
   ]
  },
  {
   "cell_type": "code",
   "execution_count": 332,
   "id": "aa2afb2a",
   "metadata": {},
   "outputs": [
    {
     "data": {
      "text/html": [
       "<div>\n",
       "<style scoped>\n",
       "    .dataframe tbody tr th:only-of-type {\n",
       "        vertical-align: middle;\n",
       "    }\n",
       "\n",
       "    .dataframe tbody tr th {\n",
       "        vertical-align: top;\n",
       "    }\n",
       "\n",
       "    .dataframe thead th {\n",
       "        text-align: right;\n",
       "    }\n",
       "</style>\n",
       "<table border=\"1\" class=\"dataframe\">\n",
       "  <thead>\n",
       "    <tr style=\"text-align: right;\">\n",
       "      <th></th>\n",
       "      <th>boro_code</th>\n",
       "      <th>shape_area</th>\n",
       "      <th>shape_leng</th>\n",
       "      <th>geometry</th>\n",
       "      <th>0</th>\n",
       "      <th>mean_price</th>\n",
       "    </tr>\n",
       "    <tr>\n",
       "      <th>boro_name</th>\n",
       "      <th></th>\n",
       "      <th></th>\n",
       "      <th></th>\n",
       "      <th></th>\n",
       "      <th></th>\n",
       "      <th></th>\n",
       "    </tr>\n",
       "  </thead>\n",
       "  <tbody>\n",
       "    <tr>\n",
       "      <th>Bronx</th>\n",
       "      <td>2.0</td>\n",
       "      <td>1.187194e+09</td>\n",
       "      <td>463868.937681</td>\n",
       "      <td>MULTIPOLYGON (((-73.89681 40.79581, -73.89694 ...</td>\n",
       "      <td>1026</td>\n",
       "      <td>103.789474</td>\n",
       "    </tr>\n",
       "    <tr>\n",
       "      <th>Manhattan</th>\n",
       "      <td>1.0</td>\n",
       "      <td>6.365759e+08</td>\n",
       "      <td>359804.890798</td>\n",
       "      <td>MULTIPOLYGON (((-74.01093 40.68449, -74.01193 ...</td>\n",
       "      <td>16242</td>\n",
       "      <td>213.635451</td>\n",
       "    </tr>\n",
       "    <tr>\n",
       "      <th>Staten Island</th>\n",
       "      <td>5.0</td>\n",
       "      <td>1.623636e+09</td>\n",
       "      <td>325929.794027</td>\n",
       "      <td>MULTIPOLYGON (((-74.05051 40.56642, -74.05047 ...</td>\n",
       "      <td>313</td>\n",
       "      <td>119.370607</td>\n",
       "    </tr>\n",
       "    <tr>\n",
       "      <th>Brooklyn</th>\n",
       "      <td>3.0</td>\n",
       "      <td>1.934174e+09</td>\n",
       "      <td>728195.197649</td>\n",
       "      <td>MULTIPOLYGON (((-73.86327 40.58388, -73.86381 ...</td>\n",
       "      <td>14392</td>\n",
       "      <td>143.821776</td>\n",
       "    </tr>\n",
       "    <tr>\n",
       "      <th>Queens</th>\n",
       "      <td>4.0</td>\n",
       "      <td>3.040205e+09</td>\n",
       "      <td>900270.512975</td>\n",
       "      <td>MULTIPOLYGON (((-73.82645 40.59053, -73.82642 ...</td>\n",
       "      <td>4950</td>\n",
       "      <td>113.788687</td>\n",
       "    </tr>\n",
       "  </tbody>\n",
       "</table>\n",
       "</div>"
      ],
      "text/plain": [
       "               boro_code    shape_area     shape_leng  \\\n",
       "boro_name                                               \n",
       "Bronx                2.0  1.187194e+09  463868.937681   \n",
       "Manhattan            1.0  6.365759e+08  359804.890798   \n",
       "Staten Island        5.0  1.623636e+09  325929.794027   \n",
       "Brooklyn             3.0  1.934174e+09  728195.197649   \n",
       "Queens               4.0  3.040205e+09  900270.512975   \n",
       "\n",
       "                                                        geometry      0  \\\n",
       "boro_name                                                                 \n",
       "Bronx          MULTIPOLYGON (((-73.89681 40.79581, -73.89694 ...   1026   \n",
       "Manhattan      MULTIPOLYGON (((-74.01093 40.68449, -74.01193 ...  16242   \n",
       "Staten Island  MULTIPOLYGON (((-74.05051 40.56642, -74.05047 ...    313   \n",
       "Brooklyn       MULTIPOLYGON (((-73.86327 40.58388, -73.86381 ...  14392   \n",
       "Queens         MULTIPOLYGON (((-73.82645 40.59053, -73.82642 ...   4950   \n",
       "\n",
       "               mean_price  \n",
       "boro_name                  \n",
       "Bronx          103.789474  \n",
       "Manhattan      213.635451  \n",
       "Staten Island  119.370607  \n",
       "Brooklyn       143.821776  \n",
       "Queens         113.788687  "
      ]
     },
     "execution_count": 332,
     "metadata": {},
     "output_type": "execute_result"
    }
   ],
   "source": [
    "# Creating a dataframe of listing counts and median price by borough\n",
    "borough_df = pd.DataFrame(df.groupby('neighbourhood_group_cleansed').size())\n",
    "borough_df['mean_price'] = df.groupby('neighbourhood_group_cleansed').price.mean().values\n",
    "# Joining the dataframes\n",
    "borough_map_df = map_df.set_index('boro_name').join(borough_df)\n",
    "\n",
    "borough_map_df.head()"
   ]
  },
  {
   "cell_type": "code",
   "execution_count": 333,
   "id": "bcfe3108",
   "metadata": {},
   "outputs": [
    {
     "data": {
      "image/png": "[encoded data removed]",
      "text/plain": [
       "<Figure size 1080x720 with 2 Axes>"
      ]
     },
     "metadata": {
      "needs_background": "light"
     },
     "output_type": "display_data"
    }
   ],
   "source": [
    "# Plotting the median price of listings in each borough\n",
    "fig2, ax2 = plt.subplots(1, figsize=(15, 10))\n",
    "borough_map_df.plot(column='mean_price', cmap='Reds', ax=ax2)\n",
    "\n",
    "ax2.axis('off')\n",
    "ax2.set_title('Average Price of Airbnb Listings in each NYC Borough', fontsize=14)\n",
    "sm = plt.cm.ScalarMappable(cmap='Reds', norm=plt.Normalize(vmin=min(borough_map_df.mean_price), vmax=max(borough_map_df.mean_price)))\n",
    "sm._A = [] # Creates an empty array for the data range\n",
    "cbar = fig2.colorbar(sm)\n",
    "plt.show()"
   ]
  },
  {
   "cell_type": "markdown",
   "id": "f2b2075b",
   "metadata": {},
   "source": [
    "The graph above shows the average price of each borough in NYC"
   ]
  },
  {
   "cell_type": "code",
   "execution_count": 334,
   "id": "7fb61cff",
   "metadata": {},
   "outputs": [
    {
     "name": "stderr",
     "output_type": "stream",
     "text": [
      "/Users/raylinsoriano/anaconda3/lib/python3.8/site-packages/seaborn/_decorators.py:36: FutureWarning: Pass the following variable as a keyword arg: x. From version 0.12, the only valid positional argument will be `data`, and passing other arguments without an explicit keyword will result in an error or misinterpretation.\n",
      "  warnings.warn(\n"
     ]
    },
    {
     "data": {
      "image/png": "[encoded data removed]",
      "text/plain": [
       "<Figure size 936x504 with 1 Axes>"
      ]
     },
     "metadata": {
      "needs_background": "light"
     },
     "output_type": "display_data"
    }
   ],
   "source": [
    "# graph showing the count of Host Response Time\n",
    "plt.figure(figsize=(13,7))\n",
    "plt.title(\"Host Repsonse time\")\n",
    "host_response_time_graph = sns.countplot(df.host_response_time, palette=\"muted\")\n",
    "host_response_time_graph.set_xlabel(\"Host Repsonse time\")\n",
    "fig = plt.gcf()\n",
    "plt.show()"
   ]
  },
  {
   "cell_type": "markdown",
   "id": "6444b6cd",
   "metadata": {},
   "source": [
    "The graph above shows the counts of host response times. With in the hour having the highest count."
   ]
  },
  {
   "cell_type": "code",
   "execution_count": 335,
   "id": "f071d1fb",
   "metadata": {},
   "outputs": [],
   "source": [
    "#Mapping the targets for graphing purposes\n",
    "df['has_availability'] = df['has_availability'].map({'t': 'Have Availability',\n",
    "                                     'f': 'No Availability'})"
   ]
  },
  {
   "cell_type": "code",
   "execution_count": 345,
   "id": "a8330c84",
   "metadata": {},
   "outputs": [
    {
     "data": {
      "image/png": "[encoded data removed]",
      "text/plain": [
       "<Figure size 1080x576 with 1 Axes>"
      ]
     },
     "metadata": {},
     "output_type": "display_data"
    }
   ],
   "source": [
    "sns.set(rc = {'figure.figsize':(15,8)})\n",
    "ax = sns.boxplot(x=\"has_availability\", y=\"number_of_amenities\", data=df)\n",
    "ax.set_xlabel('Availiability')\n",
    "ax.set_ylabel('Number of Amenities')\n",
    "ax.set_title('Availiability with Number Amenities');"
   ]
  },
  {
   "cell_type": "markdown",
   "id": "defd3eb8",
   "metadata": {},
   "source": [
    "Above is a boxplot of the number of amenities compared with listing with bookings that have or dont have availability. Looking at this graph it listings with no availablility generally had less amenities, which means for an airbnb host it might not matter having a huge number of amenities in there listing. "
   ]
  },
  {
   "cell_type": "code",
   "execution_count": 352,
   "id": "6a8cb057",
   "metadata": {},
   "outputs": [
    {
     "data": {
      "image/png": "[encoded data removed]",
      "text/plain": [
       "<Figure size 1080x576 with 1 Axes>"
      ]
     },
     "metadata": {},
     "output_type": "display_data"
    }
   ],
   "source": [
    "sns.set(rc = {'figure.figsize':(15,8)})\n",
    "ax1 = sns.barplot(x=\"has_availability\", y=\"number_of_reviews\", data=df)\n",
    "ax1.set_xlabel('Availiability')\n",
    "ax1.set_ylabel('Number of Reviews')\n",
    "ax1.set_title('Availiability with Number of Reviews');"
   ]
  },
  {
   "cell_type": "markdown",
   "id": "83743c05",
   "metadata": {},
   "source": [
    "Above the graph shows the number of reviews based on availiablity. You would think having more reviews would increase the chance of the listing to be booked but with this graph it is showing the opposite."
   ]
  },
  {
   "cell_type": "markdown",
   "id": "90941300",
   "metadata": {},
   "source": [
    "Now going to use the attraction dataset to create a map."
   ]
  },
  {
   "cell_type": "code",
   "execution_count": 241,
   "id": "36054ce5",
   "metadata": {},
   "outputs": [],
   "source": [
    "#Dropping any missing data\n",
    "attractions = attractions.dropna()"
   ]
  },
  {
   "cell_type": "code",
   "execution_count": 242,
   "id": "f1294866",
   "metadata": {},
   "outputs": [
    {
     "data": {
      "text/plain": [
       "Organization Name                                               0\n",
       "Preferred Address Line 1                                        0\n",
       "Preferred Block-Lot Number                                      0\n",
       "Constituency Code                                               0\n",
       "Constituent Specific Attributes R-Secondary Type Description    0\n",
       "Borough                                                         0\n",
       "Postcode                                                        0\n",
       "Latitude                                                        0\n",
       "Longitude                                                       0\n",
       "Community Board                                                 0\n",
       "Council District                                                0\n",
       "Census Tract                                                    0\n",
       "BIN                                                             0\n",
       "BBL                                                             0\n",
       "NTA                                                             0\n",
       "dtype: int64"
      ]
     },
     "execution_count": 242,
     "metadata": {},
     "output_type": "execute_result"
    }
   ],
   "source": [
    "attractions.isna().sum()"
   ]
  },
  {
   "cell_type": "code",
   "execution_count": 243,
   "id": "d9dee967",
   "metadata": {},
   "outputs": [
    {
     "data": {
      "text/html": [
       "<div>\n",
       "<style scoped>\n",
       "    .dataframe tbody tr th:only-of-type {\n",
       "        vertical-align: middle;\n",
       "    }\n",
       "\n",
       "    .dataframe tbody tr th {\n",
       "        vertical-align: top;\n",
       "    }\n",
       "\n",
       "    .dataframe thead th {\n",
       "        text-align: right;\n",
       "    }\n",
       "</style>\n",
       "<table border=\"1\" class=\"dataframe\">\n",
       "  <thead>\n",
       "    <tr style=\"text-align: right;\">\n",
       "      <th></th>\n",
       "      <th>Organization Name</th>\n",
       "      <th>Preferred Address Line 1</th>\n",
       "      <th>Preferred Block-Lot Number</th>\n",
       "      <th>Constituency Code</th>\n",
       "      <th>Constituent Specific Attributes R-Secondary Type Description</th>\n",
       "      <th>Borough</th>\n",
       "      <th>Postcode</th>\n",
       "      <th>Latitude</th>\n",
       "      <th>Longitude</th>\n",
       "      <th>Community Board</th>\n",
       "      <th>Council District</th>\n",
       "      <th>Census Tract</th>\n",
       "      <th>BIN</th>\n",
       "      <th>BBL</th>\n",
       "      <th>NTA</th>\n",
       "    </tr>\n",
       "  </thead>\n",
       "  <tbody>\n",
       "    <tr>\n",
       "      <th>3</th>\n",
       "      <td>Action Center To End World Hunger</td>\n",
       "      <td>6 River Terrace</td>\n",
       "      <td>16-270</td>\n",
       "      <td>Retail Space</td>\n",
       "      <td>A-Museums &amp; Performing Arts</td>\n",
       "      <td>Manhattan</td>\n",
       "      <td>10282.0</td>\n",
       "      <td>40.715781</td>\n",
       "      <td>-74.016518</td>\n",
       "      <td>1.0</td>\n",
       "      <td>1.0</td>\n",
       "      <td>31703.0</td>\n",
       "      <td>1087518.0</td>\n",
       "      <td>1.000168e+09</td>\n",
       "      <td>Battery Park City-Lower Manhattan             ...</td>\n",
       "    </tr>\n",
       "    <tr>\n",
       "      <th>4</th>\n",
       "      <td>Circle Line Downtown</td>\n",
       "      <td>South Street Seaport, Pier 17</td>\n",
       "      <td>15-7501</td>\n",
       "      <td>Retail Space</td>\n",
       "      <td>V-Sightseeing</td>\n",
       "      <td>Manhattan</td>\n",
       "      <td>10038.0</td>\n",
       "      <td>40.705717</td>\n",
       "      <td>-74.002453</td>\n",
       "      <td>1.0</td>\n",
       "      <td>1.0</td>\n",
       "      <td>1501.0</td>\n",
       "      <td>1000000.0</td>\n",
       "      <td>1.000730e+09</td>\n",
       "      <td>Battery Park City-Lower Manhattan             ...</td>\n",
       "    </tr>\n",
       "    <tr>\n",
       "      <th>5</th>\n",
       "      <td>Circle Line Downtown</td>\n",
       "      <td>South Street Seaport, Pier 17</td>\n",
       "      <td>15-7501</td>\n",
       "      <td>DLMA Former Member</td>\n",
       "      <td>V-Sightseeing</td>\n",
       "      <td>Manhattan</td>\n",
       "      <td>10038.0</td>\n",
       "      <td>40.705717</td>\n",
       "      <td>-74.002453</td>\n",
       "      <td>1.0</td>\n",
       "      <td>1.0</td>\n",
       "      <td>1501.0</td>\n",
       "      <td>1000000.0</td>\n",
       "      <td>1.000730e+09</td>\n",
       "      <td>Battery Park City-Lower Manhattan             ...</td>\n",
       "    </tr>\n",
       "    <tr>\n",
       "      <th>6</th>\n",
       "      <td>3 Legged Dog, Inc.</td>\n",
       "      <td>80 Greenwich Street</td>\n",
       "      <td>18-100</td>\n",
       "      <td>Retail Space</td>\n",
       "      <td>A-Theaters &amp; Cinemas</td>\n",
       "      <td>Manhattan</td>\n",
       "      <td>10006.0</td>\n",
       "      <td>40.707514</td>\n",
       "      <td>-74.013800</td>\n",
       "      <td>1.0</td>\n",
       "      <td>1.0</td>\n",
       "      <td>13.0</td>\n",
       "      <td>1078977.0</td>\n",
       "      <td>1.000180e+09</td>\n",
       "      <td>Battery Park City-Lower Manhattan             ...</td>\n",
       "    </tr>\n",
       "    <tr>\n",
       "      <th>7</th>\n",
       "      <td>Church of Our Lady of the Rosary</td>\n",
       "      <td>7-8 State Street</td>\n",
       "      <td>7-Sep</td>\n",
       "      <td>Retail Space</td>\n",
       "      <td>C-Religious Institutions</td>\n",
       "      <td>Manhattan</td>\n",
       "      <td>10004.0</td>\n",
       "      <td>40.702398</td>\n",
       "      <td>-74.013287</td>\n",
       "      <td>1.0</td>\n",
       "      <td>1.0</td>\n",
       "      <td>9.0</td>\n",
       "      <td>1000019.0</td>\n",
       "      <td>1.000090e+09</td>\n",
       "      <td>Battery Park City-Lower Manhattan             ...</td>\n",
       "    </tr>\n",
       "  </tbody>\n",
       "</table>\n",
       "</div>"
      ],
      "text/plain": [
       "                   Organization Name       Preferred Address Line 1  \\\n",
       "3  Action Center To End World Hunger                6 River Terrace   \n",
       "4               Circle Line Downtown  South Street Seaport, Pier 17   \n",
       "5               Circle Line Downtown  South Street Seaport, Pier 17   \n",
       "6                 3 Legged Dog, Inc.            80 Greenwich Street   \n",
       "7   Church of Our Lady of the Rosary               7-8 State Street   \n",
       "\n",
       "  Preferred Block-Lot Number   Constituency Code  \\\n",
       "3                     16-270        Retail Space   \n",
       "4                    15-7501        Retail Space   \n",
       "5                    15-7501  DLMA Former Member   \n",
       "6                     18-100        Retail Space   \n",
       "7                      7-Sep        Retail Space   \n",
       "\n",
       "  Constituent Specific Attributes R-Secondary Type Description    Borough  \\\n",
       "3                        A-Museums & Performing Arts            Manhattan   \n",
       "4                                      V-Sightseeing            Manhattan   \n",
       "5                                      V-Sightseeing            Manhattan   \n",
       "6                               A-Theaters & Cinemas            Manhattan   \n",
       "7                           C-Religious Institutions            Manhattan   \n",
       "\n",
       "   Postcode   Latitude  Longitude  Community Board  Council District  \\\n",
       "3   10282.0  40.715781 -74.016518              1.0               1.0   \n",
       "4   10038.0  40.705717 -74.002453              1.0               1.0   \n",
       "5   10038.0  40.705717 -74.002453              1.0               1.0   \n",
       "6   10006.0  40.707514 -74.013800              1.0               1.0   \n",
       "7   10004.0  40.702398 -74.013287              1.0               1.0   \n",
       "\n",
       "   Census Tract        BIN           BBL  \\\n",
       "3       31703.0  1087518.0  1.000168e+09   \n",
       "4        1501.0  1000000.0  1.000730e+09   \n",
       "5        1501.0  1000000.0  1.000730e+09   \n",
       "6          13.0  1078977.0  1.000180e+09   \n",
       "7           9.0  1000019.0  1.000090e+09   \n",
       "\n",
       "                                                 NTA  \n",
       "3  Battery Park City-Lower Manhattan             ...  \n",
       "4  Battery Park City-Lower Manhattan             ...  \n",
       "5  Battery Park City-Lower Manhattan             ...  \n",
       "6  Battery Park City-Lower Manhattan             ...  \n",
       "7  Battery Park City-Lower Manhattan             ...  "
      ]
     },
     "execution_count": 243,
     "metadata": {},
     "output_type": "execute_result"
    }
   ],
   "source": [
    "attractions.head()"
   ]
  },
  {
   "cell_type": "code",
   "execution_count": 244,
   "id": "a20237db",
   "metadata": {},
   "outputs": [],
   "source": [
    "#renaming column name\n",
    "attractions.rename(columns={\"Organization Name\": \"organization_name\"}, inplace=True)"
   ]
  },
  {
   "cell_type": "code",
   "execution_count": 245,
   "id": "3f33e40d",
   "metadata": {},
   "outputs": [],
   "source": [
    "# concatenating latitude and longitude to create a consolidated location as accepted by havesine function\n",
    "attractions['coor'] = list(zip(attractions.Latitude, attractions.Longitude))\n",
    "df['coor'] = list(zip(df.latitude, df.longitude))"
   ]
  },
  {
   "cell_type": "code",
   "execution_count": 246,
   "id": "76f848be",
   "metadata": {},
   "outputs": [
    {
     "data": {
      "text/html": [
       "<div>\n",
       "<style scoped>\n",
       "    .dataframe tbody tr th:only-of-type {\n",
       "        vertical-align: middle;\n",
       "    }\n",
       "\n",
       "    .dataframe tbody tr th {\n",
       "        vertical-align: top;\n",
       "    }\n",
       "\n",
       "    .dataframe thead th {\n",
       "        text-align: right;\n",
       "    }\n",
       "</style>\n",
       "<table border=\"1\" class=\"dataframe\">\n",
       "  <thead>\n",
       "    <tr style=\"text-align: right;\">\n",
       "      <th></th>\n",
       "      <th>organization_name</th>\n",
       "      <th>Preferred Address Line 1</th>\n",
       "      <th>Preferred Block-Lot Number</th>\n",
       "      <th>Constituency Code</th>\n",
       "      <th>Constituent Specific Attributes R-Secondary Type Description</th>\n",
       "      <th>Borough</th>\n",
       "      <th>Postcode</th>\n",
       "      <th>Latitude</th>\n",
       "      <th>Longitude</th>\n",
       "      <th>Community Board</th>\n",
       "      <th>Council District</th>\n",
       "      <th>Census Tract</th>\n",
       "      <th>BIN</th>\n",
       "      <th>BBL</th>\n",
       "      <th>NTA</th>\n",
       "      <th>coor</th>\n",
       "    </tr>\n",
       "  </thead>\n",
       "  <tbody>\n",
       "    <tr>\n",
       "      <th>3</th>\n",
       "      <td>Action Center To End World Hunger</td>\n",
       "      <td>6 River Terrace</td>\n",
       "      <td>16-270</td>\n",
       "      <td>Retail Space</td>\n",
       "      <td>A-Museums &amp; Performing Arts</td>\n",
       "      <td>Manhattan</td>\n",
       "      <td>10282.0</td>\n",
       "      <td>40.715781</td>\n",
       "      <td>-74.016518</td>\n",
       "      <td>1.0</td>\n",
       "      <td>1.0</td>\n",
       "      <td>31703.0</td>\n",
       "      <td>1087518.0</td>\n",
       "      <td>1.000168e+09</td>\n",
       "      <td>Battery Park City-Lower Manhattan             ...</td>\n",
       "      <td>(40.715781, -74.016518)</td>\n",
       "    </tr>\n",
       "    <tr>\n",
       "      <th>4</th>\n",
       "      <td>Circle Line Downtown</td>\n",
       "      <td>South Street Seaport, Pier 17</td>\n",
       "      <td>15-7501</td>\n",
       "      <td>Retail Space</td>\n",
       "      <td>V-Sightseeing</td>\n",
       "      <td>Manhattan</td>\n",
       "      <td>10038.0</td>\n",
       "      <td>40.705717</td>\n",
       "      <td>-74.002453</td>\n",
       "      <td>1.0</td>\n",
       "      <td>1.0</td>\n",
       "      <td>1501.0</td>\n",
       "      <td>1000000.0</td>\n",
       "      <td>1.000730e+09</td>\n",
       "      <td>Battery Park City-Lower Manhattan             ...</td>\n",
       "      <td>(40.705717, -74.002453)</td>\n",
       "    </tr>\n",
       "    <tr>\n",
       "      <th>5</th>\n",
       "      <td>Circle Line Downtown</td>\n",
       "      <td>South Street Seaport, Pier 17</td>\n",
       "      <td>15-7501</td>\n",
       "      <td>DLMA Former Member</td>\n",
       "      <td>V-Sightseeing</td>\n",
       "      <td>Manhattan</td>\n",
       "      <td>10038.0</td>\n",
       "      <td>40.705717</td>\n",
       "      <td>-74.002453</td>\n",
       "      <td>1.0</td>\n",
       "      <td>1.0</td>\n",
       "      <td>1501.0</td>\n",
       "      <td>1000000.0</td>\n",
       "      <td>1.000730e+09</td>\n",
       "      <td>Battery Park City-Lower Manhattan             ...</td>\n",
       "      <td>(40.705717, -74.002453)</td>\n",
       "    </tr>\n",
       "    <tr>\n",
       "      <th>6</th>\n",
       "      <td>3 Legged Dog, Inc.</td>\n",
       "      <td>80 Greenwich Street</td>\n",
       "      <td>18-100</td>\n",
       "      <td>Retail Space</td>\n",
       "      <td>A-Theaters &amp; Cinemas</td>\n",
       "      <td>Manhattan</td>\n",
       "      <td>10006.0</td>\n",
       "      <td>40.707514</td>\n",
       "      <td>-74.013800</td>\n",
       "      <td>1.0</td>\n",
       "      <td>1.0</td>\n",
       "      <td>13.0</td>\n",
       "      <td>1078977.0</td>\n",
       "      <td>1.000180e+09</td>\n",
       "      <td>Battery Park City-Lower Manhattan             ...</td>\n",
       "      <td>(40.707514, -74.0138)</td>\n",
       "    </tr>\n",
       "    <tr>\n",
       "      <th>7</th>\n",
       "      <td>Church of Our Lady of the Rosary</td>\n",
       "      <td>7-8 State Street</td>\n",
       "      <td>7-Sep</td>\n",
       "      <td>Retail Space</td>\n",
       "      <td>C-Religious Institutions</td>\n",
       "      <td>Manhattan</td>\n",
       "      <td>10004.0</td>\n",
       "      <td>40.702398</td>\n",
       "      <td>-74.013287</td>\n",
       "      <td>1.0</td>\n",
       "      <td>1.0</td>\n",
       "      <td>9.0</td>\n",
       "      <td>1000019.0</td>\n",
       "      <td>1.000090e+09</td>\n",
       "      <td>Battery Park City-Lower Manhattan             ...</td>\n",
       "      <td>(40.702398, -74.013287)</td>\n",
       "    </tr>\n",
       "  </tbody>\n",
       "</table>\n",
       "</div>"
      ],
      "text/plain": [
       "                   organization_name       Preferred Address Line 1  \\\n",
       "3  Action Center To End World Hunger                6 River Terrace   \n",
       "4               Circle Line Downtown  South Street Seaport, Pier 17   \n",
       "5               Circle Line Downtown  South Street Seaport, Pier 17   \n",
       "6                 3 Legged Dog, Inc.            80 Greenwich Street   \n",
       "7   Church of Our Lady of the Rosary               7-8 State Street   \n",
       "\n",
       "  Preferred Block-Lot Number   Constituency Code  \\\n",
       "3                     16-270        Retail Space   \n",
       "4                    15-7501        Retail Space   \n",
       "5                    15-7501  DLMA Former Member   \n",
       "6                     18-100        Retail Space   \n",
       "7                      7-Sep        Retail Space   \n",
       "\n",
       "  Constituent Specific Attributes R-Secondary Type Description    Borough  \\\n",
       "3                        A-Museums & Performing Arts            Manhattan   \n",
       "4                                      V-Sightseeing            Manhattan   \n",
       "5                                      V-Sightseeing            Manhattan   \n",
       "6                               A-Theaters & Cinemas            Manhattan   \n",
       "7                           C-Religious Institutions            Manhattan   \n",
       "\n",
       "   Postcode   Latitude  Longitude  Community Board  Council District  \\\n",
       "3   10282.0  40.715781 -74.016518              1.0               1.0   \n",
       "4   10038.0  40.705717 -74.002453              1.0               1.0   \n",
       "5   10038.0  40.705717 -74.002453              1.0               1.0   \n",
       "6   10006.0  40.707514 -74.013800              1.0               1.0   \n",
       "7   10004.0  40.702398 -74.013287              1.0               1.0   \n",
       "\n",
       "   Census Tract        BIN           BBL  \\\n",
       "3       31703.0  1087518.0  1.000168e+09   \n",
       "4        1501.0  1000000.0  1.000730e+09   \n",
       "5        1501.0  1000000.0  1.000730e+09   \n",
       "6          13.0  1078977.0  1.000180e+09   \n",
       "7           9.0  1000019.0  1.000090e+09   \n",
       "\n",
       "                                                 NTA                     coor  \n",
       "3  Battery Park City-Lower Manhattan             ...  (40.715781, -74.016518)  \n",
       "4  Battery Park City-Lower Manhattan             ...  (40.705717, -74.002453)  \n",
       "5  Battery Park City-Lower Manhattan             ...  (40.705717, -74.002453)  \n",
       "6  Battery Park City-Lower Manhattan             ...    (40.707514, -74.0138)  \n",
       "7  Battery Park City-Lower Manhattan             ...  (40.702398, -74.013287)  "
      ]
     },
     "execution_count": 246,
     "metadata": {},
     "output_type": "execute_result"
    }
   ],
   "source": [
    "attractions.head()"
   ]
  },
  {
   "cell_type": "code",
   "execution_count": 247,
   "id": "c3b27fd6",
   "metadata": {},
   "outputs": [],
   "source": [
    "# formula that calculates the distance using longitude and latitude\n",
    "def distance_from(loc1,loc2): \n",
    "    dist=hs.haversine(loc1,loc2)\n",
    "    return round(dist,2)"
   ]
  },
  {
   "cell_type": "code",
   "execution_count": 248,
   "id": "1bacb9cf",
   "metadata": {},
   "outputs": [],
   "source": [
    "# loop that calculates the distance between each listing and attraction\n",
    "for _,row in attractions.iterrows():\n",
    "    df[row.organization_name]= df['coor'].apply(lambda x: distance_from(row.coor,x))"
   ]
  },
  {
   "cell_type": "code",
   "execution_count": 249,
   "id": "042de370",
   "metadata": {},
   "outputs": [],
   "source": [
    "#pd.options.display.max_rows = 4000"
   ]
  },
  {
   "cell_type": "code",
   "execution_count": 250,
   "id": "f3259bdd",
   "metadata": {},
   "outputs": [
    {
     "data": {
      "text/plain": [
       "Index(['id', 'listing_url', 'scrape_id', 'last_scraped', 'name', 'description',\n",
       "       'neighborhood_overview', 'picture_url', 'host_id', 'host_url',\n",
       "       ...\n",
       "       'Tribute WTC', 'Center for Castle Garden Immigration',\n",
       "       'Wall Street Synagogue', 'Manhattan By Sail', 'Poets House',\n",
       "       'South Street Seaport Museum', 'Cannon's Walk',\n",
       "       'The River Vineyard Christian Fellowship', 'Bike & Roll Bike Rentals',\n",
       "       'NY Waterway Tours'],\n",
       "      dtype='object', length=122)"
      ]
     },
     "execution_count": 250,
     "metadata": {},
     "output_type": "execute_result"
    }
   ],
   "source": [
    "df.columns"
   ]
  },
  {
   "cell_type": "code",
   "execution_count": 251,
   "id": "bbe7606c",
   "metadata": {},
   "outputs": [],
   "source": [
    "#creating a map using folium\n",
    "def create_map(df,attractions):\n",
    "    m = folium.Map(location=[df.latitude.mean(), df.longitude.mean()], zoom_start=12, tiles='OpenStreetMap')\n",
    "    \n",
    "   \n",
    "    \n",
    "    for _, row in df.iterrows():\n",
    "         \n",
    "        if row['Condition']=='Out':\n",
    "            cluster_colour='blue'\n",
    "        else:\n",
    "            cluster_colour = 'green'\n",
    "        \n",
    "        folium.CircleMarker(\n",
    "            location= [row['latitude'],row['longitude']],\n",
    "            radius=5,\n",
    "            popup= row[['Condition','id']],\n",
    "            color=cluster_colour,\n",
    "            fill=True,\n",
    "            fill_color=cluster_colour\n",
    "            ).add_to(m)\n",
    "    \n",
    "    for _, row in attractions.iterrows(): \n",
    "        folium.Marker(\n",
    "            location= [row['Latitude'],row['Longitude']],\n",
    "            radius=5,\n",
    "            popup= row['organization_name'],\n",
    "            color='red',\n",
    "            fill=True,\n",
    "            fill_color='red'\n",
    "             ).add_to(m)\n",
    "    for _, row in attractions.iterrows(): \n",
    "        folium.Circle(\n",
    "            location= [row['Latitude'],row['Longitude']],\n",
    "            radius=100,\n",
    "            popup= row['organization_name'],\n",
    "            color='black',\n",
    "            fill=False,\n",
    "        ).add_to(m)\n",
    "        \n",
    "    return m"
   ]
  },
  {
   "cell_type": "code",
   "execution_count": 252,
   "id": "ade86e6b",
   "metadata": {},
   "outputs": [],
   "source": [
    "# A list of some of the attraction\n",
    "x_list = ['Tribute WTC', 'Center for Castle Garden Immigration',\n",
    "       'Wall Street Synagogue', 'Manhattan By Sail', 'Poets House',\n",
    "       'South Street Seaport Museum', \n",
    "       'The River Vineyard Christian Fellowship', 'Bike & Roll Bike Rentals',\n",
    "       'NY Waterway Tours']"
   ]
  },
  {
   "cell_type": "code",
   "execution_count": 253,
   "id": "eacb2f5a",
   "metadata": {},
   "outputs": [
    {
     "name": "stderr",
     "output_type": "stream",
     "text": [
      "/var/folders/10/1w2hpkhn2v9g5h3_0k0f70t40000gn/T/ipykernel_32021/3237076699.py:4: SettingWithCopyWarning: \n",
      "A value is trying to be set on a copy of a slice from a DataFrame\n",
      "\n",
      "See the caveats in the documentation: https://pandas.pydata.org/pandas-docs/stable/user_guide/indexing.html#returning-a-view-versus-a-copy\n",
      "  df['Condition'][df.Condition=='Out']=df[df.Condition=='Out'][i].apply(lambda x: 'In' if x<3 else 'Out')\n"
     ]
    }
   ],
   "source": [
    "df['Condition']='Out'\n",
    "\n",
    "for i in x_list:\n",
    "    df['Condition'][df.Condition=='Out']=df[df.Condition=='Out'][i].apply(lambda x: 'In' if x<3 else 'Out')\n"
   ]
  },
  {
   "cell_type": "code",
   "execution_count": null,
   "id": "2ced7726",
   "metadata": {},
   "outputs": [],
   "source": [
    "m= create_map(df,attractions)\n",
    "m"
   ]
  },
  {
   "cell_type": "markdown",
   "id": "cfb2f28e",
   "metadata": {},
   "source": [
    "Dropping columns not needed"
   ]
  },
  {
   "cell_type": "code",
   "execution_count": 254,
   "id": "1878fbaa",
   "metadata": {},
   "outputs": [],
   "source": [
    "df = df.drop(['host_url','listing_url', 'picture_url','host_thumbnail_url', 'host_picture_url','neighbourhood'\n",
    "              ,'host_neighbourhood','property_type','bathrooms', 'minimum_minimum_nights', 'maximum_minimum_nights'\n",
    "             ,'minimum_maximum_nights','maximum_maximum_nights', 'minimum_nights_avg_ntm','maximum_nights_avg_ntm'\n",
    "             ,'calendar_updated','calendar_last_scraped', 'number_of_reviews_ltm', 'number_of_reviews_l30d'\n",
    "             ,'first_review','last_review', 'review_scores_value','license','reviews_per_month', 'neighborhood_overview'\n",
    "             ,'host_response_rate', 'host_acceptance_rate','host_about', 'host_location', 'scrape_id','last_scraped'\n",
    "             ,'host_since','year', 'neighbourhood_cleansed', 'amenities','host_name', 'name', 'host_id', 'description'\n",
    "             , 'coor'\n",
    "             \n",
    "             ], axis=1)"
   ]
  },
  {
   "cell_type": "markdown",
   "id": "43f3d153",
   "metadata": {},
   "source": [
    "Checking for missing values"
   ]
  },
  {
   "cell_type": "code",
   "execution_count": 255,
   "id": "653b6294",
   "metadata": {},
   "outputs": [
    {
     "data": {
      "text/plain": [
       "id                                                              0\n",
       "host_response_time                                              0\n",
       "host_is_superhost                                               0\n",
       "host_listings_count                                             0\n",
       "host_total_listings_count                                       0\n",
       "host_verifications                                              0\n",
       "host_has_profile_pic                                            0\n",
       "host_identity_verified                                          0\n",
       "neighbourhood_group_cleansed                                    0\n",
       "latitude                                                        0\n",
       "longitude                                                       0\n",
       "room_type                                                       0\n",
       "accommodates                                                    0\n",
       "bathrooms_text                                                  0\n",
       "bedrooms                                                        0\n",
       "beds                                                            0\n",
       "price                                                           0\n",
       "minimum_nights                                                  0\n",
       "maximum_nights                                                  0\n",
       "has_availability                                                0\n",
       "availability_30                                                 0\n",
       "availability_60                                                 0\n",
       "availability_90                                                 0\n",
       "availability_365                                                0\n",
       "number_of_reviews                                               0\n",
       "review_scores_rating                                            0\n",
       "review_scores_accuracy                                          0\n",
       "review_scores_cleanliness                                       0\n",
       "review_scores_checkin                                           0\n",
       "review_scores_communication                                     0\n",
       "review_scores_location                                          0\n",
       "instant_bookable                                                0\n",
       "calculated_host_listings_count                                  0\n",
       "calculated_host_listings_count_entire_homes                     0\n",
       "calculated_host_listings_count_private_rooms                    0\n",
       "calculated_host_listings_count_shared_rooms                     0\n",
       "years_been_host                                                 0\n",
       "number_of_verifications                                         0\n",
       "number_of_amenities                                             0\n",
       "Action Center To End World Hunger                               0\n",
       "Circle Line Downtown                                            0\n",
       "3 Legged Dog, Inc.                                              0\n",
       "Church of Our Lady of the Rosary                                0\n",
       "Trinity Church                                                  0\n",
       "Museum of American Finance                                      0\n",
       "Bodies The Exhibition                                           0\n",
       "The Skyscraper Museum                                           0\n",
       "Museum of Jewish Heritage-A Living Memorial to the Holocaust    0\n",
       "Intercoastal Adventures                                         0\n",
       "Lower Manhattan Community Church                                0\n",
       "NYSE Euronext                                                   0\n",
       "South Street Seaport                                            0\n",
       "St. Paul's Chapel                                               0\n",
       "World Financial Center Arts & Events Program                    0\n",
       "Gray Line Double Decker Bus Tours                               0\n",
       "Schimmel Center for the Arts                                    0\n",
       "Messiah's Reformed Fellowship                                   0\n",
       "Battery Park Synagogue                                          0\n",
       "New York Public Library                                         0\n",
       "Shooting Star Theater                                           0\n",
       "African Burial Ground National Memorial                         0\n",
       "Fraunces Tavern Museum                                          0\n",
       "John Street United Methodist Church                             0\n",
       "Our Lady of Victory Church                                      0\n",
       "St. Peter's Roman Catholic Church                               0\n",
       "Wall Street Helicopter Tours                                    0\n",
       "National Museum of the American Indian                          0\n",
       "Regal Battery Park                                              0\n",
       "New York City Police Museum                                     0\n",
       "Federal Hall National Memorial                                  0\n",
       "9/11 Memorial Preview Site                                      0\n",
       "African American Art Gallery                                    0\n",
       "Tribute WTC                                                     0\n",
       "Center for Castle Garden Immigration                            0\n",
       "Wall Street Synagogue                                           0\n",
       "Manhattan By Sail                                               0\n",
       "Poets House                                                     0\n",
       "South Street Seaport Museum                                     0\n",
       "Cannon's Walk                                                   0\n",
       "The River Vineyard Christian Fellowship                         0\n",
       "Bike & Roll Bike Rentals                                        0\n",
       "NY Waterway Tours                                               0\n",
       "Condition                                                       0\n",
       "dtype: int64"
      ]
     },
     "execution_count": 255,
     "metadata": {},
     "output_type": "execute_result"
    }
   ],
   "source": [
    "df.isna().sum()\n"
   ]
  },
  {
   "cell_type": "markdown",
   "id": "708007f3",
   "metadata": {},
   "source": [
    "### Target"
   ]
  },
  {
   "cell_type": "markdown",
   "id": "3669e471",
   "metadata": {},
   "source": [
    "For my target I will be looking at the \"has_availability\" column. This data was last scraped on september 9, 2021, so I will be looking at listing availability until there. "
   ]
  },
  {
   "cell_type": "code",
   "execution_count": 257,
   "id": "5282a9ba",
   "metadata": {},
   "outputs": [
    {
     "data": {
      "text/plain": [
       "Text(0.5, 1.0, 'Target Class Frequency Count')"
      ]
     },
     "execution_count": 257,
     "metadata": {},
     "output_type": "execute_result"
    },
    {
     "data": {
      "image/png": "[encoded data removed]",
      "text/plain": [
       "<Figure size 720x720 with 1 Axes>"
      ]
     },
     "metadata": {},
     "output_type": "display_data"
    }
   ],
   "source": [
    "plt.figure(figsize = (10,10))\n",
    "target_graph = sns.countplot(x=df['has_availability'])\n",
    "target_graph.set_xlabel(\"Availability\")\n",
    "target_graph.set_ylabel(\"Frequency\")\n",
    "target_graph.set_title(\"Target Class Frequency Count\")"
   ]
  },
  {
   "cell_type": "markdown",
   "id": "7023056d",
   "metadata": {},
   "source": [
    "Looking at the graph, this you can see that is highly unbalanced. "
   ]
  },
  {
   "cell_type": "code",
   "execution_count": 258,
   "id": "4673cc05",
   "metadata": {},
   "outputs": [
    {
     "data": {
      "text/plain": [
       "Have Availability    34791\n",
       "No Availability       2132\n",
       "Name: has_availability, dtype: int64"
      ]
     },
     "execution_count": 258,
     "metadata": {},
     "output_type": "execute_result"
    }
   ],
   "source": [
    "df['has_availability'].value_counts()"
   ]
  },
  {
   "cell_type": "code",
   "execution_count": 259,
   "id": "a1e866c7",
   "metadata": {
    "scrolled": true
   },
   "outputs": [
    {
     "data": {
      "text/plain": [
       "Have Availability    0.942258\n",
       "No Availability      0.057742\n",
       "Name: has_availability, dtype: float64"
      ]
     },
     "execution_count": 259,
     "metadata": {},
     "output_type": "execute_result"
    }
   ],
   "source": [
    "df['has_availability'].value_counts(normalize=True)"
   ]
  },
  {
   "cell_type": "markdown",
   "id": "d15f3ede",
   "metadata": {},
   "source": [
    "Having the availability to book a listing explains around 94% while not having the availability to book explains for 5%."
   ]
  },
  {
   "cell_type": "code",
   "execution_count": 260,
   "id": "d2e5fdea",
   "metadata": {},
   "outputs": [],
   "source": [
    "#Mapping the targets to be numeric for the train-test-split\n",
    "df['has_availability'] = df['has_availability'].map({'Have Availability': 0,\n",
    "                                     'No Availability': 1,})"
   ]
  },
  {
   "cell_type": "markdown",
   "id": "f61cc62b",
   "metadata": {},
   "source": [
    "## Train/Test Split"
   ]
  },
  {
   "cell_type": "markdown",
   "id": "5d1759fa",
   "metadata": {},
   "source": [
    "Here we are going to split the data and test different models on the training data, while leaaving a portion to the side so we can test on our final model"
   ]
  },
  {
   "cell_type": "code",
   "execution_count": 56,
   "id": "a251c5d2",
   "metadata": {},
   "outputs": [],
   "source": [
    "X= df.drop([\"has_availability\",'id', 'latitude','longitude'],axis=1)\n",
    "y= df[\"has_availability\"]\n",
    "\n",
    "X_train, X_test, y_train, y_test= train_test_split(X, y, stratify=y)"
   ]
  },
  {
   "cell_type": "markdown",
   "id": "d0b89a1d",
   "metadata": {},
   "source": [
    "## One Hot Encode"
   ]
  },
  {
   "cell_type": "markdown",
   "id": "00fec546",
   "metadata": {},
   "source": [
    "Transforming the all the categorical data to dummies to run models"
   ]
  },
  {
   "cell_type": "code",
   "execution_count": 57,
   "id": "48ed3b7c",
   "metadata": {},
   "outputs": [],
   "source": [
    "#Categorical variables to use\n",
    "categorical_vars = [\"host_response_time\",\"host_has_profile_pic\",\"host_identity_verified\",\"host_is_superhost\"\n",
    "            ,\"neighbourhood_group_cleansed\",\"room_type\",\"instant_bookable\", \"Condition\"]"
   ]
  },
  {
   "cell_type": "code",
   "execution_count": 148,
   "id": "d5741f0e",
   "metadata": {},
   "outputs": [],
   "source": [
    "train = X_train[categorical_vars]\n",
    "\n",
    "# Create OneHotEncoder object to create dummies\n",
    "ohe = OneHotEncoder(handle_unknown='ignore')\n",
    "enc = ohe.fit(train)\n",
    "train_dummies_trans = enc.transform(train)\n",
    "\n",
    "# Dummies values in matrix form\n",
    "train_data = train_dummies_trans.todense()\n",
    "\n",
    "# New dummy column names\n",
    "names = ohe.get_feature_names(categorical_vars)\n",
    "\n",
    "# Make them into Dataframe\n",
    "train_dummies_trans_df = pd.DataFrame(train_data, columns=names,index = X_train.index)"
   ]
  },
  {
   "cell_type": "code",
   "execution_count": 149,
   "id": "788b01f2",
   "metadata": {},
   "outputs": [],
   "source": [
    "test = X_test[categorical_vars]\n",
    "    \n",
    "# Create OneHotEncoder object to create dummies\n",
    "ohe = OneHotEncoder(handle_unknown='ignore')\n",
    "\n",
    "#Transforming the test data\n",
    "test_dummies_trans = enc.transform(test)\n",
    "\n",
    "# Dummies values in matrix form\n",
    "test_data = test_dummies_trans.todense()\n",
    "\n",
    "\n",
    "# Make them into Dataframe\n",
    "test_dummies_trans_df = pd.DataFrame(test_data, columns=names,index = X_test.index)"
   ]
  },
  {
   "cell_type": "markdown",
   "id": "268d7315",
   "metadata": {},
   "source": [
    "Combining all the dummy variables with the numeric varibles"
   ]
  },
  {
   "cell_type": "code",
   "execution_count": 150,
   "id": "1a7bc8ca",
   "metadata": {},
   "outputs": [],
   "source": [
    "numerical = (X_train.select_dtypes(exclude='object'))\n",
    "numerical = pd.DataFrame(numerical, index = X_train.index)\n",
    "df_train = train_dummies_trans_df.merge(numerical, left_index = True , right_index=True)"
   ]
  },
  {
   "cell_type": "code",
   "execution_count": 151,
   "id": "d7b6078c",
   "metadata": {},
   "outputs": [],
   "source": [
    "numerical1 = (X_test.select_dtypes(exclude='object'))\n",
    "numerical1 = pd.DataFrame(numerical1, index = X_test.index)\n",
    "df_test = test_dummies_trans_df.merge(numerical1, left_index = True , right_index=True)"
   ]
  },
  {
   "cell_type": "code",
   "execution_count": 152,
   "id": "8febe16c",
   "metadata": {},
   "outputs": [
    {
     "data": {
      "text/html": [
       "<div>\n",
       "<style scoped>\n",
       "    .dataframe tbody tr th:only-of-type {\n",
       "        vertical-align: middle;\n",
       "    }\n",
       "\n",
       "    .dataframe tbody tr th {\n",
       "        vertical-align: top;\n",
       "    }\n",
       "\n",
       "    .dataframe thead th {\n",
       "        text-align: right;\n",
       "    }\n",
       "</style>\n",
       "<table border=\"1\" class=\"dataframe\">\n",
       "  <thead>\n",
       "    <tr style=\"text-align: right;\">\n",
       "      <th></th>\n",
       "      <th>host_response_time_a few days or more</th>\n",
       "      <th>host_response_time_within a day</th>\n",
       "      <th>host_response_time_within a few hours</th>\n",
       "      <th>host_response_time_within an hour</th>\n",
       "      <th>host_has_profile_pic_f</th>\n",
       "      <th>host_has_profile_pic_t</th>\n",
       "      <th>host_identity_verified_f</th>\n",
       "      <th>host_identity_verified_t</th>\n",
       "      <th>host_is_superhost_f</th>\n",
       "      <th>host_is_superhost_t</th>\n",
       "      <th>...</th>\n",
       "      <th>Tribute WTC</th>\n",
       "      <th>Center for Castle Garden Immigration</th>\n",
       "      <th>Wall Street Synagogue</th>\n",
       "      <th>Manhattan By Sail</th>\n",
       "      <th>Poets House</th>\n",
       "      <th>South Street Seaport Museum</th>\n",
       "      <th>Cannon's Walk</th>\n",
       "      <th>The River Vineyard Christian Fellowship</th>\n",
       "      <th>Bike &amp; Roll Bike Rentals</th>\n",
       "      <th>NY Waterway Tours</th>\n",
       "    </tr>\n",
       "  </thead>\n",
       "  <tbody>\n",
       "    <tr>\n",
       "      <th>3146</th>\n",
       "      <td>0.0</td>\n",
       "      <td>0.0</td>\n",
       "      <td>0.0</td>\n",
       "      <td>1.0</td>\n",
       "      <td>0.0</td>\n",
       "      <td>1.0</td>\n",
       "      <td>0.0</td>\n",
       "      <td>1.0</td>\n",
       "      <td>1.0</td>\n",
       "      <td>0.0</td>\n",
       "      <td>...</td>\n",
       "      <td>13.84</td>\n",
       "      <td>14.23</td>\n",
       "      <td>13.30</td>\n",
       "      <td>13.32</td>\n",
       "      <td>13.88</td>\n",
       "      <td>13.35</td>\n",
       "      <td>13.30</td>\n",
       "      <td>13.64</td>\n",
       "      <td>13.32</td>\n",
       "      <td>14.49</td>\n",
       "    </tr>\n",
       "    <tr>\n",
       "      <th>7306</th>\n",
       "      <td>0.0</td>\n",
       "      <td>0.0</td>\n",
       "      <td>0.0</td>\n",
       "      <td>1.0</td>\n",
       "      <td>0.0</td>\n",
       "      <td>1.0</td>\n",
       "      <td>0.0</td>\n",
       "      <td>1.0</td>\n",
       "      <td>1.0</td>\n",
       "      <td>0.0</td>\n",
       "      <td>...</td>\n",
       "      <td>5.50</td>\n",
       "      <td>5.08</td>\n",
       "      <td>5.25</td>\n",
       "      <td>4.71</td>\n",
       "      <td>6.25</td>\n",
       "      <td>4.84</td>\n",
       "      <td>4.86</td>\n",
       "      <td>5.79</td>\n",
       "      <td>4.71</td>\n",
       "      <td>5.21</td>\n",
       "    </tr>\n",
       "    <tr>\n",
       "      <th>29705</th>\n",
       "      <td>0.0</td>\n",
       "      <td>1.0</td>\n",
       "      <td>0.0</td>\n",
       "      <td>0.0</td>\n",
       "      <td>0.0</td>\n",
       "      <td>1.0</td>\n",
       "      <td>0.0</td>\n",
       "      <td>1.0</td>\n",
       "      <td>1.0</td>\n",
       "      <td>0.0</td>\n",
       "      <td>...</td>\n",
       "      <td>8.19</td>\n",
       "      <td>8.76</td>\n",
       "      <td>7.87</td>\n",
       "      <td>8.19</td>\n",
       "      <td>7.84</td>\n",
       "      <td>8.14</td>\n",
       "      <td>8.09</td>\n",
       "      <td>7.86</td>\n",
       "      <td>8.19</td>\n",
       "      <td>8.93</td>\n",
       "    </tr>\n",
       "    <tr>\n",
       "      <th>22771</th>\n",
       "      <td>0.0</td>\n",
       "      <td>0.0</td>\n",
       "      <td>0.0</td>\n",
       "      <td>1.0</td>\n",
       "      <td>0.0</td>\n",
       "      <td>1.0</td>\n",
       "      <td>0.0</td>\n",
       "      <td>1.0</td>\n",
       "      <td>1.0</td>\n",
       "      <td>0.0</td>\n",
       "      <td>...</td>\n",
       "      <td>13.55</td>\n",
       "      <td>13.82</td>\n",
       "      <td>12.97</td>\n",
       "      <td>12.84</td>\n",
       "      <td>13.78</td>\n",
       "      <td>12.90</td>\n",
       "      <td>12.87</td>\n",
       "      <td>13.43</td>\n",
       "      <td>12.84</td>\n",
       "      <td>14.10</td>\n",
       "    </tr>\n",
       "    <tr>\n",
       "      <th>9129</th>\n",
       "      <td>0.0</td>\n",
       "      <td>0.0</td>\n",
       "      <td>0.0</td>\n",
       "      <td>1.0</td>\n",
       "      <td>0.0</td>\n",
       "      <td>1.0</td>\n",
       "      <td>0.0</td>\n",
       "      <td>1.0</td>\n",
       "      <td>1.0</td>\n",
       "      <td>0.0</td>\n",
       "      <td>...</td>\n",
       "      <td>2.30</td>\n",
       "      <td>2.70</td>\n",
       "      <td>1.76</td>\n",
       "      <td>1.88</td>\n",
       "      <td>2.48</td>\n",
       "      <td>1.87</td>\n",
       "      <td>1.82</td>\n",
       "      <td>2.13</td>\n",
       "      <td>1.88</td>\n",
       "      <td>2.96</td>\n",
       "    </tr>\n",
       "  </tbody>\n",
       "</table>\n",
       "<p>5 rows × 93 columns</p>\n",
       "</div>"
      ],
      "text/plain": [
       "       host_response_time_a few days or more  host_response_time_within a day  \\\n",
       "3146                                     0.0                              0.0   \n",
       "7306                                     0.0                              0.0   \n",
       "29705                                    0.0                              1.0   \n",
       "22771                                    0.0                              0.0   \n",
       "9129                                     0.0                              0.0   \n",
       "\n",
       "       host_response_time_within a few hours  \\\n",
       "3146                                     0.0   \n",
       "7306                                     0.0   \n",
       "29705                                    0.0   \n",
       "22771                                    0.0   \n",
       "9129                                     0.0   \n",
       "\n",
       "       host_response_time_within an hour  host_has_profile_pic_f  \\\n",
       "3146                                 1.0                     0.0   \n",
       "7306                                 1.0                     0.0   \n",
       "29705                                0.0                     0.0   \n",
       "22771                                1.0                     0.0   \n",
       "9129                                 1.0                     0.0   \n",
       "\n",
       "       host_has_profile_pic_t  host_identity_verified_f  \\\n",
       "3146                      1.0                       0.0   \n",
       "7306                      1.0                       0.0   \n",
       "29705                     1.0                       0.0   \n",
       "22771                     1.0                       0.0   \n",
       "9129                      1.0                       0.0   \n",
       "\n",
       "       host_identity_verified_t  host_is_superhost_f  host_is_superhost_t  \\\n",
       "3146                        1.0                  1.0                  0.0   \n",
       "7306                        1.0                  1.0                  0.0   \n",
       "29705                       1.0                  1.0                  0.0   \n",
       "22771                       1.0                  1.0                  0.0   \n",
       "9129                        1.0                  1.0                  0.0   \n",
       "\n",
       "       ...  Tribute WTC  Center for Castle Garden Immigration  \\\n",
       "3146   ...        13.84                                 14.23   \n",
       "7306   ...         5.50                                  5.08   \n",
       "29705  ...         8.19                                  8.76   \n",
       "22771  ...        13.55                                 13.82   \n",
       "9129   ...         2.30                                  2.70   \n",
       "\n",
       "       Wall Street Synagogue  Manhattan By Sail  Poets House  \\\n",
       "3146                   13.30              13.32        13.88   \n",
       "7306                    5.25               4.71         6.25   \n",
       "29705                   7.87               8.19         7.84   \n",
       "22771                  12.97              12.84        13.78   \n",
       "9129                    1.76               1.88         2.48   \n",
       "\n",
       "       South Street Seaport Museum  Cannon's Walk  \\\n",
       "3146                         13.35          13.30   \n",
       "7306                          4.84           4.86   \n",
       "29705                         8.14           8.09   \n",
       "22771                        12.90          12.87   \n",
       "9129                          1.87           1.82   \n",
       "\n",
       "       The River Vineyard Christian Fellowship  Bike & Roll Bike Rentals  \\\n",
       "3146                                     13.64                     13.32   \n",
       "7306                                      5.79                      4.71   \n",
       "29705                                     7.86                      8.19   \n",
       "22771                                    13.43                     12.84   \n",
       "9129                                      2.13                      1.88   \n",
       "\n",
       "       NY Waterway Tours  \n",
       "3146               14.49  \n",
       "7306                5.21  \n",
       "29705               8.93  \n",
       "22771              14.10  \n",
       "9129                2.96  \n",
       "\n",
       "[5 rows x 93 columns]"
      ]
     },
     "execution_count": 152,
     "metadata": {},
     "output_type": "execute_result"
    }
   ],
   "source": [
    "df_train.head()"
   ]
  },
  {
   "cell_type": "code",
   "execution_count": 63,
   "id": "bc19fb2e",
   "metadata": {},
   "outputs": [],
   "source": [
    "def print_cv_scores(pipe, X, y):\n",
    "    '''\n",
    "    Runs cross_validate on given feature and class target arrays using given pipeline, \n",
    "    printing the scoring results for both training and cross_val.\n",
    "    '''\n",
    "    scoring = ['accuracy','precision', 'recall', 'f1']\n",
    "    \n",
    "    results = cross_validate(pipe, X, \n",
    "                                   y, \n",
    "                                   return_train_score=True, scoring=scoring, cv=5)\n",
    "    \n",
    "    print(results['train_accuracy'])\n",
    "    print('Training Accuracy', results['train_accuracy'].mean())\n",
    "    print('##############')\n",
    "    print('Cross_Val Accuracy', results['train_accuracy'].mean())\n",
    "    print('##############')\n",
    "    print('Training Precision:', results['train_precision'].mean())\n",
    "    print('##############')\n",
    "    print('Training  Recall:', results['train_recall'].mean())\n",
    "    print('##############')\n",
    "    print('Training  F1:', results['train_f1'].mean())"
   ]
  },
  {
   "cell_type": "markdown",
   "id": "6507b92e",
   "metadata": {},
   "source": [
    "## Modeling "
   ]
  },
  {
   "cell_type": "markdown",
   "id": "37e5084c",
   "metadata": {},
   "source": [
    "For modeling I used Naive Bayes, Logistic Regression, XGBoost and Random Forest."
   ]
  },
  {
   "cell_type": "markdown",
   "id": "69fadcd8",
   "metadata": {},
   "source": [
    "For my metrics I will be looking at accuracy to see accurate my models are preforming and precision to see how well my model is correctly predicting if the listing as availability or not."
   ]
  },
  {
   "cell_type": "markdown",
   "id": "4ea8dd61",
   "metadata": {},
   "source": [
    "## First Simple Model (baseline)"
   ]
  },
  {
   "cell_type": "markdown",
   "id": "150e0df1",
   "metadata": {},
   "source": [
    "For my baseline model I used a Naive Bayes model."
   ]
  },
  {
   "cell_type": "code",
   "execution_count": 64,
   "id": "433f8840",
   "metadata": {},
   "outputs": [
    {
     "data": {
      "text/plain": [
       "Pipeline(steps=[('nb', MultinomialNB())])"
      ]
     },
     "execution_count": 64,
     "metadata": {},
     "output_type": "execute_result"
    }
   ],
   "source": [
    "fsm_pip = Pipeline([('nb', MultinomialNB())\n",
    "                    ])\n",
    "\n",
    "fsm_pip.fit(df_train, y_train)"
   ]
  },
  {
   "cell_type": "code",
   "execution_count": 65,
   "id": "e654424d",
   "metadata": {},
   "outputs": [
    {
     "name": "stderr",
     "output_type": "stream",
     "text": [
      "/Users/raylinsoriano/anaconda3/lib/python3.8/site-packages/sklearn/metrics/_classification.py:1248: UndefinedMetricWarning: Precision is ill-defined and being set to 0.0 due to no predicted samples. Use `zero_division` parameter to control this behavior.\n",
      "  _warn_prf(average, modifier, msg_start, len(result))\n",
      "/Users/raylinsoriano/anaconda3/lib/python3.8/site-packages/sklearn/metrics/_classification.py:1248: UndefinedMetricWarning: Precision is ill-defined and being set to 0.0 due to no predicted samples. Use `zero_division` parameter to control this behavior.\n",
      "  _warn_prf(average, modifier, msg_start, len(result))\n"
     ]
    },
    {
     "name": "stdout",
     "output_type": "stream",
     "text": [
      "[0.94212973 0.94217487 0.94213235 0.65247811 0.94222262]\n",
      "Training Accuracy 0.8842275372809322\n",
      "##############\n",
      "Cross_Val Accuracy 0.8842275372809322\n",
      "##############\n",
      "Training Precision: 0.23511071481646603\n",
      "##############\n",
      "Training  Recall: 0.20015624999999998\n",
      "##############\n",
      "Training  F1: 0.051037099095177896\n"
     ]
    }
   ],
   "source": [
    "print_cv_scores(fsm_pip, df_train, y_train)"
   ]
  },
  {
   "cell_type": "markdown",
   "id": "5e63c8ca",
   "metadata": {},
   "source": [
    "My accuracy score preformed well with an 88%, however my precision preformed terribly with a score of 23%."
   ]
  },
  {
   "cell_type": "markdown",
   "id": "43c3e5cc",
   "metadata": {},
   "source": [
    "## Logisitic Regression Models"
   ]
  },
  {
   "cell_type": "markdown",
   "id": "15395176",
   "metadata": {},
   "source": [
    "Now I will be trying Logistic Regression models to see how well they preform."
   ]
  },
  {
   "cell_type": "code",
   "execution_count": 66,
   "id": "e7439907",
   "metadata": {},
   "outputs": [
    {
     "data": {
      "text/plain": [
       "Pipeline(steps=[('lg',\n",
       "                 LogisticRegression(max_iter=100000000, solver='liblinear'))])"
      ]
     },
     "execution_count": 66,
     "metadata": {},
     "output_type": "execute_result"
    }
   ],
   "source": [
    "log_pipe = Pipeline([('lg', LogisticRegression(solver='liblinear',max_iter=100000000))\n",
    "                    ])\n",
    "log_pipe.fit(df_train,  y_train)"
   ]
  },
  {
   "cell_type": "code",
   "execution_count": 67,
   "id": "80d7a7fe",
   "metadata": {},
   "outputs": [
    {
     "name": "stdout",
     "output_type": "stream",
     "text": [
      "[0.94208459 0.94244572 0.94222262 0.94330595 0.94262887]\n",
      "Training Accuracy 0.9425375510545448\n",
      "##############\n",
      "Cross_Val Accuracy 0.9425375510545448\n",
      "##############\n",
      "Training Precision: 0.619327731092437\n",
      "##############\n",
      "Training  Recall: 0.01532435007818608\n",
      "##############\n",
      "Training  F1: 0.028659761868946042\n"
     ]
    }
   ],
   "source": [
    "print_cv_scores(log_pipe, df_train, y_train)"
   ]
  },
  {
   "cell_type": "markdown",
   "id": "6ac9c654",
   "metadata": {},
   "source": [
    "This model preformed much better than the baseline model by increasing the precision score 39% and increasing accuracy about 8%."
   ]
  },
  {
   "cell_type": "markdown",
   "id": "438c9d41",
   "metadata": {},
   "source": [
    "### Logisitc GridSearch"
   ]
  },
  {
   "cell_type": "markdown",
   "id": "406d9a94",
   "metadata": {},
   "source": [
    "Now I will run a gridsearch using logistic regression parameters to see which parameters will give the best model scores."
   ]
  },
  {
   "cell_type": "code",
   "execution_count": 68,
   "id": "a487f35d",
   "metadata": {},
   "outputs": [],
   "source": [
    "grid = {'lg__class_weight': [None,'balanced'], \n",
    "         'lg__tol': [0.0001, 0.01, 0.1],\n",
    "         'lg__C' : [0.0001,0.001,0.01],\n",
    "         'lg__penalty': ['l1', 'l2']\n",
    "        }"
   ]
  },
  {
   "cell_type": "code",
   "execution_count": 69,
   "id": "2b7d6f05",
   "metadata": {
    "scrolled": true
   },
   "outputs": [
    {
     "name": "stdout",
     "output_type": "stream",
     "text": [
      "Fitting 5 folds for each of 36 candidates, totalling 180 fits\n"
     ]
    },
    {
     "name": "stderr",
     "output_type": "stream",
     "text": [
      "/Users/raylinsoriano/anaconda3/lib/python3.8/site-packages/sklearn/metrics/_classification.py:1248: UndefinedMetricWarning: Precision is ill-defined and being set to 0.0 due to no predicted samples. Use `zero_division` parameter to control this behavior.\n",
      "  _warn_prf(average, modifier, msg_start, len(result))\n",
      "/Users/raylinsoriano/anaconda3/lib/python3.8/site-packages/sklearn/metrics/_classification.py:1248: UndefinedMetricWarning: Precision is ill-defined and being set to 0.0 due to no predicted samples. Use `zero_division` parameter to control this behavior.\n",
      "  _warn_prf(average, modifier, msg_start, len(result))\n"
     ]
    },
    {
     "name": "stdout",
     "output_type": "stream",
     "text": [
      "[CV] END lg__C=0.0001, lg__class_weight=None, lg__penalty=l1, lg__tol=0.0001; total time=   0.3s\n",
      "[CV] END lg__C=0.0001, lg__class_weight=None, lg__penalty=l1, lg__tol=0.0001; total time=   0.2s\n"
     ]
    },
    {
     "name": "stderr",
     "output_type": "stream",
     "text": [
      "/Users/raylinsoriano/anaconda3/lib/python3.8/site-packages/sklearn/metrics/_classification.py:1248: UndefinedMetricWarning: Precision is ill-defined and being set to 0.0 due to no predicted samples. Use `zero_division` parameter to control this behavior.\n",
      "  _warn_prf(average, modifier, msg_start, len(result))\n"
     ]
    },
    {
     "name": "stdout",
     "output_type": "stream",
     "text": [
      "[CV] END lg__C=0.0001, lg__class_weight=None, lg__penalty=l1, lg__tol=0.0001; total time=   0.2s\n"
     ]
    },
    {
     "name": "stderr",
     "output_type": "stream",
     "text": [
      "/Users/raylinsoriano/anaconda3/lib/python3.8/site-packages/sklearn/metrics/_classification.py:1248: UndefinedMetricWarning: Precision is ill-defined and being set to 0.0 due to no predicted samples. Use `zero_division` parameter to control this behavior.\n",
      "  _warn_prf(average, modifier, msg_start, len(result))\n",
      "/Users/raylinsoriano/anaconda3/lib/python3.8/site-packages/sklearn/metrics/_classification.py:1248: UndefinedMetricWarning: Precision is ill-defined and being set to 0.0 due to no predicted samples. Use `zero_division` parameter to control this behavior.\n",
      "  _warn_prf(average, modifier, msg_start, len(result))\n"
     ]
    },
    {
     "name": "stdout",
     "output_type": "stream",
     "text": [
      "[CV] END lg__C=0.0001, lg__class_weight=None, lg__penalty=l1, lg__tol=0.0001; total time=   0.3s\n"
     ]
    },
    {
     "name": "stderr",
     "output_type": "stream",
     "text": [
      "/Users/raylinsoriano/anaconda3/lib/python3.8/site-packages/sklearn/metrics/_classification.py:1248: UndefinedMetricWarning: Precision is ill-defined and being set to 0.0 due to no predicted samples. Use `zero_division` parameter to control this behavior.\n",
      "  _warn_prf(average, modifier, msg_start, len(result))\n",
      "/Users/raylinsoriano/anaconda3/lib/python3.8/site-packages/sklearn/metrics/_classification.py:1248: UndefinedMetricWarning: Precision is ill-defined and being set to 0.0 due to no predicted samples. Use `zero_division` parameter to control this behavior.\n",
      "  _warn_prf(average, modifier, msg_start, len(result))\n"
     ]
    },
    {
     "name": "stdout",
     "output_type": "stream",
     "text": [
      "[CV] END lg__C=0.0001, lg__class_weight=None, lg__penalty=l1, lg__tol=0.0001; total time=   0.2s\n",
      "[CV] END lg__C=0.0001, lg__class_weight=None, lg__penalty=l1, lg__tol=0.01; total time=   0.2s\n"
     ]
    },
    {
     "name": "stderr",
     "output_type": "stream",
     "text": [
      "/Users/raylinsoriano/anaconda3/lib/python3.8/site-packages/sklearn/metrics/_classification.py:1248: UndefinedMetricWarning: Precision is ill-defined and being set to 0.0 due to no predicted samples. Use `zero_division` parameter to control this behavior.\n",
      "  _warn_prf(average, modifier, msg_start, len(result))\n"
     ]
    },
    {
     "name": "stdout",
     "output_type": "stream",
     "text": [
      "[CV] END lg__C=0.0001, lg__class_weight=None, lg__penalty=l1, lg__tol=0.01; total time=   0.2s\n"
     ]
    },
    {
     "name": "stderr",
     "output_type": "stream",
     "text": [
      "/Users/raylinsoriano/anaconda3/lib/python3.8/site-packages/sklearn/metrics/_classification.py:1248: UndefinedMetricWarning: Precision is ill-defined and being set to 0.0 due to no predicted samples. Use `zero_division` parameter to control this behavior.\n",
      "  _warn_prf(average, modifier, msg_start, len(result))\n"
     ]
    },
    {
     "name": "stdout",
     "output_type": "stream",
     "text": [
      "[CV] END lg__C=0.0001, lg__class_weight=None, lg__penalty=l1, lg__tol=0.01; total time=   0.2s\n"
     ]
    },
    {
     "name": "stderr",
     "output_type": "stream",
     "text": [
      "/Users/raylinsoriano/anaconda3/lib/python3.8/site-packages/sklearn/metrics/_classification.py:1248: UndefinedMetricWarning: Precision is ill-defined and being set to 0.0 due to no predicted samples. Use `zero_division` parameter to control this behavior.\n",
      "  _warn_prf(average, modifier, msg_start, len(result))\n",
      "/Users/raylinsoriano/anaconda3/lib/python3.8/site-packages/sklearn/metrics/_classification.py:1248: UndefinedMetricWarning: Precision is ill-defined and being set to 0.0 due to no predicted samples. Use `zero_division` parameter to control this behavior.\n",
      "  _warn_prf(average, modifier, msg_start, len(result))\n",
      "/Users/raylinsoriano/anaconda3/lib/python3.8/site-packages/sklearn/metrics/_classification.py:1248: UndefinedMetricWarning: Precision is ill-defined and being set to 0.0 due to no predicted samples. Use `zero_division` parameter to control this behavior.\n",
      "  _warn_prf(average, modifier, msg_start, len(result))\n"
     ]
    },
    {
     "name": "stdout",
     "output_type": "stream",
     "text": [
      "[CV] END lg__C=0.0001, lg__class_weight=None, lg__penalty=l1, lg__tol=0.01; total time=   0.4s\n",
      "[CV] END lg__C=0.0001, lg__class_weight=None, lg__penalty=l1, lg__tol=0.01; total time=   0.2s\n"
     ]
    },
    {
     "name": "stderr",
     "output_type": "stream",
     "text": [
      "/Users/raylinsoriano/anaconda3/lib/python3.8/site-packages/sklearn/metrics/_classification.py:1248: UndefinedMetricWarning: Precision is ill-defined and being set to 0.0 due to no predicted samples. Use `zero_division` parameter to control this behavior.\n",
      "  _warn_prf(average, modifier, msg_start, len(result))\n",
      "/Users/raylinsoriano/anaconda3/lib/python3.8/site-packages/sklearn/metrics/_classification.py:1248: UndefinedMetricWarning: Precision is ill-defined and being set to 0.0 due to no predicted samples. Use `zero_division` parameter to control this behavior.\n",
      "  _warn_prf(average, modifier, msg_start, len(result))\n"
     ]
    },
    {
     "name": "stdout",
     "output_type": "stream",
     "text": [
      "[CV] END lg__C=0.0001, lg__class_weight=None, lg__penalty=l1, lg__tol=0.1; total time=   0.2s\n",
      "[CV] END lg__C=0.0001, lg__class_weight=None, lg__penalty=l1, lg__tol=0.1; total time=   0.2s\n"
     ]
    },
    {
     "name": "stderr",
     "output_type": "stream",
     "text": [
      "/Users/raylinsoriano/anaconda3/lib/python3.8/site-packages/sklearn/metrics/_classification.py:1248: UndefinedMetricWarning: Precision is ill-defined and being set to 0.0 due to no predicted samples. Use `zero_division` parameter to control this behavior.\n",
      "  _warn_prf(average, modifier, msg_start, len(result))\n"
     ]
    },
    {
     "name": "stdout",
     "output_type": "stream",
     "text": [
      "[CV] END lg__C=0.0001, lg__class_weight=None, lg__penalty=l1, lg__tol=0.1; total time=   0.1s\n"
     ]
    },
    {
     "name": "stderr",
     "output_type": "stream",
     "text": [
      "/Users/raylinsoriano/anaconda3/lib/python3.8/site-packages/sklearn/metrics/_classification.py:1248: UndefinedMetricWarning: Precision is ill-defined and being set to 0.0 due to no predicted samples. Use `zero_division` parameter to control this behavior.\n",
      "  _warn_prf(average, modifier, msg_start, len(result))\n",
      "/Users/raylinsoriano/anaconda3/lib/python3.8/site-packages/sklearn/metrics/_classification.py:1248: UndefinedMetricWarning: Precision is ill-defined and being set to 0.0 due to no predicted samples. Use `zero_division` parameter to control this behavior.\n",
      "  _warn_prf(average, modifier, msg_start, len(result))\n"
     ]
    },
    {
     "name": "stdout",
     "output_type": "stream",
     "text": [
      "[CV] END lg__C=0.0001, lg__class_weight=None, lg__penalty=l1, lg__tol=0.1; total time=   0.3s\n"
     ]
    },
    {
     "name": "stderr",
     "output_type": "stream",
     "text": [
      "/Users/raylinsoriano/anaconda3/lib/python3.8/site-packages/sklearn/metrics/_classification.py:1248: UndefinedMetricWarning: Precision is ill-defined and being set to 0.0 due to no predicted samples. Use `zero_division` parameter to control this behavior.\n",
      "  _warn_prf(average, modifier, msg_start, len(result))\n"
     ]
    },
    {
     "name": "stdout",
     "output_type": "stream",
     "text": [
      "[CV] END lg__C=0.0001, lg__class_weight=None, lg__penalty=l1, lg__tol=0.1; total time=   0.2s\n",
      "[CV] END lg__C=0.0001, lg__class_weight=None, lg__penalty=l2, lg__tol=0.0001; total time=   1.3s\n",
      "[CV] END lg__C=0.0001, lg__class_weight=None, lg__penalty=l2, lg__tol=0.0001; total time=   1.1s\n",
      "[CV] END lg__C=0.0001, lg__class_weight=None, lg__penalty=l2, lg__tol=0.0001; total time=   1.0s\n",
      "[CV] END lg__C=0.0001, lg__class_weight=None, lg__penalty=l2, lg__tol=0.0001; total time=   1.7s\n",
      "[CV] END lg__C=0.0001, lg__class_weight=None, lg__penalty=l2, lg__tol=0.0001; total time=   0.9s\n"
     ]
    },
    {
     "name": "stderr",
     "output_type": "stream",
     "text": [
      "/Users/raylinsoriano/anaconda3/lib/python3.8/site-packages/sklearn/metrics/_classification.py:1248: UndefinedMetricWarning: Precision is ill-defined and being set to 0.0 due to no predicted samples. Use `zero_division` parameter to control this behavior.\n",
      "  _warn_prf(average, modifier, msg_start, len(result))\n"
     ]
    },
    {
     "name": "stdout",
     "output_type": "stream",
     "text": [
      "[CV] END lg__C=0.0001, lg__class_weight=None, lg__penalty=l2, lg__tol=0.01; total time=   0.9s\n"
     ]
    },
    {
     "name": "stderr",
     "output_type": "stream",
     "text": [
      "/Users/raylinsoriano/anaconda3/lib/python3.8/site-packages/sklearn/metrics/_classification.py:1248: UndefinedMetricWarning: Precision is ill-defined and being set to 0.0 due to no predicted samples. Use `zero_division` parameter to control this behavior.\n",
      "  _warn_prf(average, modifier, msg_start, len(result))\n"
     ]
    },
    {
     "name": "stdout",
     "output_type": "stream",
     "text": [
      "[CV] END lg__C=0.0001, lg__class_weight=None, lg__penalty=l2, lg__tol=0.01; total time=   0.6s\n"
     ]
    },
    {
     "name": "stderr",
     "output_type": "stream",
     "text": [
      "/Users/raylinsoriano/anaconda3/lib/python3.8/site-packages/sklearn/metrics/_classification.py:1248: UndefinedMetricWarning: Precision is ill-defined and being set to 0.0 due to no predicted samples. Use `zero_division` parameter to control this behavior.\n",
      "  _warn_prf(average, modifier, msg_start, len(result))\n"
     ]
    },
    {
     "name": "stdout",
     "output_type": "stream",
     "text": [
      "[CV] END lg__C=0.0001, lg__class_weight=None, lg__penalty=l2, lg__tol=0.01; total time=   0.7s\n"
     ]
    },
    {
     "name": "stderr",
     "output_type": "stream",
     "text": [
      "/Users/raylinsoriano/anaconda3/lib/python3.8/site-packages/sklearn/metrics/_classification.py:1248: UndefinedMetricWarning: Precision is ill-defined and being set to 0.0 due to no predicted samples. Use `zero_division` parameter to control this behavior.\n",
      "  _warn_prf(average, modifier, msg_start, len(result))\n"
     ]
    },
    {
     "name": "stdout",
     "output_type": "stream",
     "text": [
      "[CV] END lg__C=0.0001, lg__class_weight=None, lg__penalty=l2, lg__tol=0.01; total time=   0.5s\n"
     ]
    },
    {
     "name": "stderr",
     "output_type": "stream",
     "text": [
      "/Users/raylinsoriano/anaconda3/lib/python3.8/site-packages/sklearn/metrics/_classification.py:1248: UndefinedMetricWarning: Precision is ill-defined and being set to 0.0 due to no predicted samples. Use `zero_division` parameter to control this behavior.\n",
      "  _warn_prf(average, modifier, msg_start, len(result))\n"
     ]
    },
    {
     "name": "stdout",
     "output_type": "stream",
     "text": [
      "[CV] END lg__C=0.0001, lg__class_weight=None, lg__penalty=l2, lg__tol=0.01; total time=   0.5s\n",
      "[CV] END lg__C=0.0001, lg__class_weight=None, lg__penalty=l2, lg__tol=0.1; total time=   0.2s\n",
      "[CV] END lg__C=0.0001, lg__class_weight=None, lg__penalty=l2, lg__tol=0.1; total time=   0.2s\n",
      "[CV] END lg__C=0.0001, lg__class_weight=None, lg__penalty=l2, lg__tol=0.1; total time=   0.2s\n"
     ]
    },
    {
     "name": "stderr",
     "output_type": "stream",
     "text": [
      "/Users/raylinsoriano/anaconda3/lib/python3.8/site-packages/sklearn/metrics/_classification.py:1248: UndefinedMetricWarning: Precision is ill-defined and being set to 0.0 due to no predicted samples. Use `zero_division` parameter to control this behavior.\n",
      "  _warn_prf(average, modifier, msg_start, len(result))\n",
      "/Users/raylinsoriano/anaconda3/lib/python3.8/site-packages/sklearn/metrics/_classification.py:1248: UndefinedMetricWarning: Precision is ill-defined and being set to 0.0 due to no predicted samples. Use `zero_division` parameter to control this behavior.\n",
      "  _warn_prf(average, modifier, msg_start, len(result))\n"
     ]
    },
    {
     "name": "stdout",
     "output_type": "stream",
     "text": [
      "[CV] END lg__C=0.0001, lg__class_weight=None, lg__penalty=l2, lg__tol=0.1; total time=   0.2s\n",
      "[CV] END lg__C=0.0001, lg__class_weight=None, lg__penalty=l2, lg__tol=0.1; total time=   0.1s\n",
      "[CV] END lg__C=0.0001, lg__class_weight=balanced, lg__penalty=l1, lg__tol=0.0001; total time=   0.2s\n",
      "[CV] END lg__C=0.0001, lg__class_weight=balanced, lg__penalty=l1, lg__tol=0.0001; total time=   0.2s\n",
      "[CV] END lg__C=0.0001, lg__class_weight=balanced, lg__penalty=l1, lg__tol=0.0001; total time=   0.2s\n",
      "[CV] END lg__C=0.0001, lg__class_weight=balanced, lg__penalty=l1, lg__tol=0.0001; total time=   0.2s\n",
      "[CV] END lg__C=0.0001, lg__class_weight=balanced, lg__penalty=l1, lg__tol=0.0001; total time=   0.2s\n",
      "[CV] END lg__C=0.0001, lg__class_weight=balanced, lg__penalty=l1, lg__tol=0.01; total time=   0.2s\n",
      "[CV] END lg__C=0.0001, lg__class_weight=balanced, lg__penalty=l1, lg__tol=0.01; total time=   0.2s\n",
      "[CV] END lg__C=0.0001, lg__class_weight=balanced, lg__penalty=l1, lg__tol=0.01; total time=   0.2s\n",
      "[CV] END lg__C=0.0001, lg__class_weight=balanced, lg__penalty=l1, lg__tol=0.01; total time=   0.2s\n",
      "[CV] END lg__C=0.0001, lg__class_weight=balanced, lg__penalty=l1, lg__tol=0.01; total time=   0.2s\n",
      "[CV] END lg__C=0.0001, lg__class_weight=balanced, lg__penalty=l1, lg__tol=0.1; total time=   0.2s\n",
      "[CV] END lg__C=0.0001, lg__class_weight=balanced, lg__penalty=l1, lg__tol=0.1; total time=   0.2s\n",
      "[CV] END lg__C=0.0001, lg__class_weight=balanced, lg__penalty=l1, lg__tol=0.1; total time=   0.2s\n",
      "[CV] END lg__C=0.0001, lg__class_weight=balanced, lg__penalty=l1, lg__tol=0.1; total time=   0.2s\n",
      "[CV] END lg__C=0.0001, lg__class_weight=balanced, lg__penalty=l1, lg__tol=0.1; total time=   0.2s\n",
      "[CV] END lg__C=0.0001, lg__class_weight=balanced, lg__penalty=l2, lg__tol=0.0001; total time=   0.7s\n",
      "[CV] END lg__C=0.0001, lg__class_weight=balanced, lg__penalty=l2, lg__tol=0.0001; total time=   0.7s\n",
      "[CV] END lg__C=0.0001, lg__class_weight=balanced, lg__penalty=l2, lg__tol=0.0001; total time=   0.8s\n",
      "[CV] END lg__C=0.0001, lg__class_weight=balanced, lg__penalty=l2, lg__tol=0.0001; total time=   1.4s\n",
      "[CV] END lg__C=0.0001, lg__class_weight=balanced, lg__penalty=l2, lg__tol=0.0001; total time=   0.7s\n",
      "[CV] END lg__C=0.0001, lg__class_weight=balanced, lg__penalty=l2, lg__tol=0.01; total time=   0.2s\n",
      "[CV] END lg__C=0.0001, lg__class_weight=balanced, lg__penalty=l2, lg__tol=0.01; total time=   0.2s\n",
      "[CV] END lg__C=0.0001, lg__class_weight=balanced, lg__penalty=l2, lg__tol=0.01; total time=   0.2s\n",
      "[CV] END lg__C=0.0001, lg__class_weight=balanced, lg__penalty=l2, lg__tol=0.01; total time=   1.3s\n",
      "[CV] END lg__C=0.0001, lg__class_weight=balanced, lg__penalty=l2, lg__tol=0.01; total time=   0.2s\n",
      "[CV] END lg__C=0.0001, lg__class_weight=balanced, lg__penalty=l2, lg__tol=0.1; total time=   0.2s\n",
      "[CV] END lg__C=0.0001, lg__class_weight=balanced, lg__penalty=l2, lg__tol=0.1; total time=   0.2s\n",
      "[CV] END lg__C=0.0001, lg__class_weight=balanced, lg__penalty=l2, lg__tol=0.1; total time=   0.2s\n",
      "[CV] END lg__C=0.0001, lg__class_weight=balanced, lg__penalty=l2, lg__tol=0.1; total time=   0.6s\n",
      "[CV] END lg__C=0.0001, lg__class_weight=balanced, lg__penalty=l2, lg__tol=0.1; total time=   0.2s\n"
     ]
    },
    {
     "name": "stderr",
     "output_type": "stream",
     "text": [
      "/Users/raylinsoriano/anaconda3/lib/python3.8/site-packages/sklearn/metrics/_classification.py:1248: UndefinedMetricWarning: Precision is ill-defined and being set to 0.0 due to no predicted samples. Use `zero_division` parameter to control this behavior.\n",
      "  _warn_prf(average, modifier, msg_start, len(result))\n"
     ]
    },
    {
     "name": "stdout",
     "output_type": "stream",
     "text": [
      "[CV] END lg__C=0.001, lg__class_weight=None, lg__penalty=l1, lg__tol=0.0001; total time=   0.2s\n",
      "[CV] END lg__C=0.001, lg__class_weight=None, lg__penalty=l1, lg__tol=0.0001; total time=   0.2s\n"
     ]
    },
    {
     "name": "stderr",
     "output_type": "stream",
     "text": [
      "/Users/raylinsoriano/anaconda3/lib/python3.8/site-packages/sklearn/metrics/_classification.py:1248: UndefinedMetricWarning: Precision is ill-defined and being set to 0.0 due to no predicted samples. Use `zero_division` parameter to control this behavior.\n",
      "  _warn_prf(average, modifier, msg_start, len(result))\n"
     ]
    },
    {
     "name": "stdout",
     "output_type": "stream",
     "text": [
      "[CV] END lg__C=0.001, lg__class_weight=None, lg__penalty=l1, lg__tol=0.0001; total time=   0.2s\n"
     ]
    },
    {
     "name": "stderr",
     "output_type": "stream",
     "text": [
      "/Users/raylinsoriano/anaconda3/lib/python3.8/site-packages/sklearn/metrics/_classification.py:1248: UndefinedMetricWarning: Precision is ill-defined and being set to 0.0 due to no predicted samples. Use `zero_division` parameter to control this behavior.\n",
      "  _warn_prf(average, modifier, msg_start, len(result))\n"
     ]
    },
    {
     "name": "stdout",
     "output_type": "stream",
     "text": [
      "[CV] END lg__C=0.001, lg__class_weight=None, lg__penalty=l1, lg__tol=0.0001; total time=   0.3s\n"
     ]
    },
    {
     "name": "stderr",
     "output_type": "stream",
     "text": [
      "/Users/raylinsoriano/anaconda3/lib/python3.8/site-packages/sklearn/metrics/_classification.py:1248: UndefinedMetricWarning: Precision is ill-defined and being set to 0.0 due to no predicted samples. Use `zero_division` parameter to control this behavior.\n",
      "  _warn_prf(average, modifier, msg_start, len(result))\n"
     ]
    },
    {
     "name": "stdout",
     "output_type": "stream",
     "text": [
      "[CV] END lg__C=0.001, lg__class_weight=None, lg__penalty=l1, lg__tol=0.0001; total time=   0.2s\n",
      "[CV] END lg__C=0.001, lg__class_weight=None, lg__penalty=l1, lg__tol=0.01; total time=   0.2s\n"
     ]
    },
    {
     "name": "stderr",
     "output_type": "stream",
     "text": [
      "/Users/raylinsoriano/anaconda3/lib/python3.8/site-packages/sklearn/metrics/_classification.py:1248: UndefinedMetricWarning: Precision is ill-defined and being set to 0.0 due to no predicted samples. Use `zero_division` parameter to control this behavior.\n",
      "  _warn_prf(average, modifier, msg_start, len(result))\n"
     ]
    },
    {
     "name": "stdout",
     "output_type": "stream",
     "text": [
      "[CV] END lg__C=0.001, lg__class_weight=None, lg__penalty=l1, lg__tol=0.01; total time=   0.2s\n"
     ]
    },
    {
     "name": "stderr",
     "output_type": "stream",
     "text": [
      "/Users/raylinsoriano/anaconda3/lib/python3.8/site-packages/sklearn/metrics/_classification.py:1248: UndefinedMetricWarning: Precision is ill-defined and being set to 0.0 due to no predicted samples. Use `zero_division` parameter to control this behavior.\n",
      "  _warn_prf(average, modifier, msg_start, len(result))\n"
     ]
    },
    {
     "name": "stdout",
     "output_type": "stream",
     "text": [
      "[CV] END lg__C=0.001, lg__class_weight=None, lg__penalty=l1, lg__tol=0.01; total time=   0.2s\n"
     ]
    },
    {
     "name": "stderr",
     "output_type": "stream",
     "text": [
      "/Users/raylinsoriano/anaconda3/lib/python3.8/site-packages/sklearn/metrics/_classification.py:1248: UndefinedMetricWarning: Precision is ill-defined and being set to 0.0 due to no predicted samples. Use `zero_division` parameter to control this behavior.\n",
      "  _warn_prf(average, modifier, msg_start, len(result))\n"
     ]
    },
    {
     "name": "stdout",
     "output_type": "stream",
     "text": [
      "[CV] END lg__C=0.001, lg__class_weight=None, lg__penalty=l1, lg__tol=0.01; total time=   0.3s\n",
      "[CV] END lg__C=0.001, lg__class_weight=None, lg__penalty=l1, lg__tol=0.01; total time=   0.2s\n",
      "[CV] END lg__C=0.001, lg__class_weight=None, lg__penalty=l1, lg__tol=0.1; total time=   0.2s\n",
      "[CV] END lg__C=0.001, lg__class_weight=None, lg__penalty=l1, lg__tol=0.1; total time=   0.2s\n"
     ]
    },
    {
     "name": "stderr",
     "output_type": "stream",
     "text": [
      "/Users/raylinsoriano/anaconda3/lib/python3.8/site-packages/sklearn/metrics/_classification.py:1248: UndefinedMetricWarning: Precision is ill-defined and being set to 0.0 due to no predicted samples. Use `zero_division` parameter to control this behavior.\n",
      "  _warn_prf(average, modifier, msg_start, len(result))\n",
      "/Users/raylinsoriano/anaconda3/lib/python3.8/site-packages/sklearn/metrics/_classification.py:1248: UndefinedMetricWarning: Precision is ill-defined and being set to 0.0 due to no predicted samples. Use `zero_division` parameter to control this behavior.\n",
      "  _warn_prf(average, modifier, msg_start, len(result))\n"
     ]
    },
    {
     "name": "stdout",
     "output_type": "stream",
     "text": [
      "[CV] END lg__C=0.001, lg__class_weight=None, lg__penalty=l1, lg__tol=0.1; total time=   0.2s\n"
     ]
    },
    {
     "name": "stderr",
     "output_type": "stream",
     "text": [
      "/Users/raylinsoriano/anaconda3/lib/python3.8/site-packages/sklearn/metrics/_classification.py:1248: UndefinedMetricWarning: Precision is ill-defined and being set to 0.0 due to no predicted samples. Use `zero_division` parameter to control this behavior.\n",
      "  _warn_prf(average, modifier, msg_start, len(result))\n"
     ]
    },
    {
     "name": "stdout",
     "output_type": "stream",
     "text": [
      "[CV] END lg__C=0.001, lg__class_weight=None, lg__penalty=l1, lg__tol=0.1; total time=   0.2s\n",
      "[CV] END lg__C=0.001, lg__class_weight=None, lg__penalty=l1, lg__tol=0.1; total time=   0.2s\n",
      "[CV] END lg__C=0.001, lg__class_weight=None, lg__penalty=l2, lg__tol=0.0001; total time=   2.3s\n",
      "[CV] END lg__C=0.001, lg__class_weight=None, lg__penalty=l2, lg__tol=0.0001; total time=   1.0s\n",
      "[CV] END lg__C=0.001, lg__class_weight=None, lg__penalty=l2, lg__tol=0.0001; total time=   1.5s\n",
      "[CV] END lg__C=0.001, lg__class_weight=None, lg__penalty=l2, lg__tol=0.0001; total time=   2.4s\n",
      "[CV] END lg__C=0.001, lg__class_weight=None, lg__penalty=l2, lg__tol=0.0001; total time=   1.3s\n"
     ]
    },
    {
     "name": "stderr",
     "output_type": "stream",
     "text": [
      "/Users/raylinsoriano/anaconda3/lib/python3.8/site-packages/sklearn/metrics/_classification.py:1248: UndefinedMetricWarning: Precision is ill-defined and being set to 0.0 due to no predicted samples. Use `zero_division` parameter to control this behavior.\n",
      "  _warn_prf(average, modifier, msg_start, len(result))\n"
     ]
    },
    {
     "name": "stdout",
     "output_type": "stream",
     "text": [
      "[CV] END lg__C=0.001, lg__class_weight=None, lg__penalty=l2, lg__tol=0.01; total time=   1.1s\n"
     ]
    },
    {
     "name": "stderr",
     "output_type": "stream",
     "text": [
      "/Users/raylinsoriano/anaconda3/lib/python3.8/site-packages/sklearn/metrics/_classification.py:1248: UndefinedMetricWarning: Precision is ill-defined and being set to 0.0 due to no predicted samples. Use `zero_division` parameter to control this behavior.\n",
      "  _warn_prf(average, modifier, msg_start, len(result))\n"
     ]
    },
    {
     "name": "stdout",
     "output_type": "stream",
     "text": [
      "[CV] END lg__C=0.001, lg__class_weight=None, lg__penalty=l2, lg__tol=0.01; total time=   0.5s\n"
     ]
    },
    {
     "name": "stderr",
     "output_type": "stream",
     "text": [
      "/Users/raylinsoriano/anaconda3/lib/python3.8/site-packages/sklearn/metrics/_classification.py:1248: UndefinedMetricWarning: Precision is ill-defined and being set to 0.0 due to no predicted samples. Use `zero_division` parameter to control this behavior.\n",
      "  _warn_prf(average, modifier, msg_start, len(result))\n"
     ]
    },
    {
     "name": "stdout",
     "output_type": "stream",
     "text": [
      "[CV] END lg__C=0.001, lg__class_weight=None, lg__penalty=l2, lg__tol=0.01; total time=   0.6s\n",
      "[CV] END lg__C=0.001, lg__class_weight=None, lg__penalty=l2, lg__tol=0.01; total time=   0.5s\n"
     ]
    },
    {
     "name": "stderr",
     "output_type": "stream",
     "text": [
      "/Users/raylinsoriano/anaconda3/lib/python3.8/site-packages/sklearn/metrics/_classification.py:1248: UndefinedMetricWarning: Precision is ill-defined and being set to 0.0 due to no predicted samples. Use `zero_division` parameter to control this behavior.\n",
      "  _warn_prf(average, modifier, msg_start, len(result))\n"
     ]
    },
    {
     "name": "stdout",
     "output_type": "stream",
     "text": [
      "[CV] END lg__C=0.001, lg__class_weight=None, lg__penalty=l2, lg__tol=0.01; total time=   0.5s\n",
      "[CV] END lg__C=0.001, lg__class_weight=None, lg__penalty=l2, lg__tol=0.1; total time=   0.2s\n",
      "[CV] END lg__C=0.001, lg__class_weight=None, lg__penalty=l2, lg__tol=0.1; total time=   0.2s\n",
      "[CV] END lg__C=0.001, lg__class_weight=None, lg__penalty=l2, lg__tol=0.1; total time=   0.1s\n"
     ]
    },
    {
     "name": "stderr",
     "output_type": "stream",
     "text": [
      "/Users/raylinsoriano/anaconda3/lib/python3.8/site-packages/sklearn/metrics/_classification.py:1248: UndefinedMetricWarning: Precision is ill-defined and being set to 0.0 due to no predicted samples. Use `zero_division` parameter to control this behavior.\n",
      "  _warn_prf(average, modifier, msg_start, len(result))\n",
      "/Users/raylinsoriano/anaconda3/lib/python3.8/site-packages/sklearn/metrics/_classification.py:1248: UndefinedMetricWarning: Precision is ill-defined and being set to 0.0 due to no predicted samples. Use `zero_division` parameter to control this behavior.\n",
      "  _warn_prf(average, modifier, msg_start, len(result))\n"
     ]
    },
    {
     "name": "stdout",
     "output_type": "stream",
     "text": [
      "[CV] END lg__C=0.001, lg__class_weight=None, lg__penalty=l2, lg__tol=0.1; total time=   0.2s\n",
      "[CV] END lg__C=0.001, lg__class_weight=None, lg__penalty=l2, lg__tol=0.1; total time=   0.2s\n",
      "[CV] END lg__C=0.001, lg__class_weight=balanced, lg__penalty=l1, lg__tol=0.0001; total time=   0.3s\n",
      "[CV] END lg__C=0.001, lg__class_weight=balanced, lg__penalty=l1, lg__tol=0.0001; total time=   0.2s\n",
      "[CV] END lg__C=0.001, lg__class_weight=balanced, lg__penalty=l1, lg__tol=0.0001; total time=   0.2s\n",
      "[CV] END lg__C=0.001, lg__class_weight=balanced, lg__penalty=l1, lg__tol=0.0001; total time=   0.6s\n",
      "[CV] END lg__C=0.001, lg__class_weight=balanced, lg__penalty=l1, lg__tol=0.0001; total time=   0.4s\n",
      "[CV] END lg__C=0.001, lg__class_weight=balanced, lg__penalty=l1, lg__tol=0.01; total time=   0.4s\n",
      "[CV] END lg__C=0.001, lg__class_weight=balanced, lg__penalty=l1, lg__tol=0.01; total time=   0.6s\n",
      "[CV] END lg__C=0.001, lg__class_weight=balanced, lg__penalty=l1, lg__tol=0.01; total time=   0.5s\n",
      "[CV] END lg__C=0.001, lg__class_weight=balanced, lg__penalty=l1, lg__tol=0.01; total time=   1.0s\n",
      "[CV] END lg__C=0.001, lg__class_weight=balanced, lg__penalty=l1, lg__tol=0.01; total time=   0.3s\n",
      "[CV] END lg__C=0.001, lg__class_weight=balanced, lg__penalty=l1, lg__tol=0.1; total time=   0.2s\n",
      "[CV] END lg__C=0.001, lg__class_weight=balanced, lg__penalty=l1, lg__tol=0.1; total time=   0.2s\n",
      "[CV] END lg__C=0.001, lg__class_weight=balanced, lg__penalty=l1, lg__tol=0.1; total time=   0.2s\n",
      "[CV] END lg__C=0.001, lg__class_weight=balanced, lg__penalty=l1, lg__tol=0.1; total time=   0.5s\n",
      "[CV] END lg__C=0.001, lg__class_weight=balanced, lg__penalty=l1, lg__tol=0.1; total time=   0.3s\n",
      "[CV] END lg__C=0.001, lg__class_weight=balanced, lg__penalty=l2, lg__tol=0.0001; total time=   0.6s\n",
      "[CV] END lg__C=0.001, lg__class_weight=balanced, lg__penalty=l2, lg__tol=0.0001; total time=   0.7s\n",
      "[CV] END lg__C=0.001, lg__class_weight=balanced, lg__penalty=l2, lg__tol=0.0001; total time=   2.5s\n",
      "[CV] END lg__C=0.001, lg__class_weight=balanced, lg__penalty=l2, lg__tol=0.0001; total time=  12.8s\n",
      "[CV] END lg__C=0.001, lg__class_weight=balanced, lg__penalty=l2, lg__tol=0.0001; total time=   1.3s\n",
      "[CV] END lg__C=0.001, lg__class_weight=balanced, lg__penalty=l2, lg__tol=0.01; total time=   0.3s\n",
      "[CV] END lg__C=0.001, lg__class_weight=balanced, lg__penalty=l2, lg__tol=0.01; total time=   0.3s\n",
      "[CV] END lg__C=0.001, lg__class_weight=balanced, lg__penalty=l2, lg__tol=0.01; total time=   0.9s\n",
      "[CV] END lg__C=0.001, lg__class_weight=balanced, lg__penalty=l2, lg__tol=0.01; total time=   2.1s\n",
      "[CV] END lg__C=0.001, lg__class_weight=balanced, lg__penalty=l2, lg__tol=0.01; total time=   0.2s\n",
      "[CV] END lg__C=0.001, lg__class_weight=balanced, lg__penalty=l2, lg__tol=0.1; total time=   0.2s\n",
      "[CV] END lg__C=0.001, lg__class_weight=balanced, lg__penalty=l2, lg__tol=0.1; total time=   0.2s\n",
      "[CV] END lg__C=0.001, lg__class_weight=balanced, lg__penalty=l2, lg__tol=0.1; total time=   0.4s\n",
      "[CV] END lg__C=0.001, lg__class_weight=balanced, lg__penalty=l2, lg__tol=0.1; total time=   1.1s\n",
      "[CV] END lg__C=0.001, lg__class_weight=balanced, lg__penalty=l2, lg__tol=0.1; total time=   0.3s\n",
      "[CV] END lg__C=0.01, lg__class_weight=None, lg__penalty=l1, lg__tol=0.0001; total time=   0.4s\n",
      "[CV] END lg__C=0.01, lg__class_weight=None, lg__penalty=l1, lg__tol=0.0001; total time=   0.4s\n",
      "[CV] END lg__C=0.01, lg__class_weight=None, lg__penalty=l1, lg__tol=0.0001; total time=   0.8s\n",
      "[CV] END lg__C=0.01, lg__class_weight=None, lg__penalty=l1, lg__tol=0.0001; total time=   0.4s\n",
      "[CV] END lg__C=0.01, lg__class_weight=None, lg__penalty=l1, lg__tol=0.0001; total time=   0.3s\n",
      "[CV] END lg__C=0.01, lg__class_weight=None, lg__penalty=l1, lg__tol=0.01; total time=   0.2s\n",
      "[CV] END lg__C=0.01, lg__class_weight=None, lg__penalty=l1, lg__tol=0.01; total time=   0.2s\n",
      "[CV] END lg__C=0.01, lg__class_weight=None, lg__penalty=l1, lg__tol=0.01; total time=   0.2s\n",
      "[CV] END lg__C=0.01, lg__class_weight=None, lg__penalty=l1, lg__tol=0.01; total time=   0.4s\n",
      "[CV] END lg__C=0.01, lg__class_weight=None, lg__penalty=l1, lg__tol=0.01; total time=   0.2s\n",
      "[CV] END lg__C=0.01, lg__class_weight=None, lg__penalty=l1, lg__tol=0.1; total time=   0.2s\n",
      "[CV] END lg__C=0.01, lg__class_weight=None, lg__penalty=l1, lg__tol=0.1; total time=   0.2s\n"
     ]
    },
    {
     "name": "stderr",
     "output_type": "stream",
     "text": [
      "/Users/raylinsoriano/anaconda3/lib/python3.8/site-packages/sklearn/metrics/_classification.py:1248: UndefinedMetricWarning: Precision is ill-defined and being set to 0.0 due to no predicted samples. Use `zero_division` parameter to control this behavior.\n",
      "  _warn_prf(average, modifier, msg_start, len(result))\n"
     ]
    },
    {
     "name": "stdout",
     "output_type": "stream",
     "text": [
      "[CV] END lg__C=0.01, lg__class_weight=None, lg__penalty=l1, lg__tol=0.1; total time=   0.2s\n",
      "[CV] END lg__C=0.01, lg__class_weight=None, lg__penalty=l1, lg__tol=0.1; total time=   0.1s\n",
      "[CV] END lg__C=0.01, lg__class_weight=None, lg__penalty=l1, lg__tol=0.1; total time=   0.1s\n",
      "[CV] END lg__C=0.01, lg__class_weight=None, lg__penalty=l2, lg__tol=0.0001; total time=   1.7s\n",
      "[CV] END lg__C=0.01, lg__class_weight=None, lg__penalty=l2, lg__tol=0.0001; total time=   1.0s\n",
      "[CV] END lg__C=0.01, lg__class_weight=None, lg__penalty=l2, lg__tol=0.0001; total time=   1.5s\n",
      "[CV] END lg__C=0.01, lg__class_weight=None, lg__penalty=l2, lg__tol=0.0001; total time=   1.8s\n",
      "[CV] END lg__C=0.01, lg__class_weight=None, lg__penalty=l2, lg__tol=0.0001; total time=   0.8s\n"
     ]
    },
    {
     "name": "stderr",
     "output_type": "stream",
     "text": [
      "/Users/raylinsoriano/anaconda3/lib/python3.8/site-packages/sklearn/metrics/_classification.py:1248: UndefinedMetricWarning: Precision is ill-defined and being set to 0.0 due to no predicted samples. Use `zero_division` parameter to control this behavior.\n",
      "  _warn_prf(average, modifier, msg_start, len(result))\n"
     ]
    },
    {
     "name": "stdout",
     "output_type": "stream",
     "text": [
      "[CV] END lg__C=0.01, lg__class_weight=None, lg__penalty=l2, lg__tol=0.01; total time=   0.9s\n"
     ]
    },
    {
     "name": "stderr",
     "output_type": "stream",
     "text": [
      "/Users/raylinsoriano/anaconda3/lib/python3.8/site-packages/sklearn/metrics/_classification.py:1248: UndefinedMetricWarning: Precision is ill-defined and being set to 0.0 due to no predicted samples. Use `zero_division` parameter to control this behavior.\n",
      "  _warn_prf(average, modifier, msg_start, len(result))\n"
     ]
    },
    {
     "name": "stdout",
     "output_type": "stream",
     "text": [
      "[CV] END lg__C=0.01, lg__class_weight=None, lg__penalty=l2, lg__tol=0.01; total time=   0.5s\n"
     ]
    },
    {
     "name": "stderr",
     "output_type": "stream",
     "text": [
      "/Users/raylinsoriano/anaconda3/lib/python3.8/site-packages/sklearn/metrics/_classification.py:1248: UndefinedMetricWarning: Precision is ill-defined and being set to 0.0 due to no predicted samples. Use `zero_division` parameter to control this behavior.\n",
      "  _warn_prf(average, modifier, msg_start, len(result))\n"
     ]
    },
    {
     "name": "stdout",
     "output_type": "stream",
     "text": [
      "[CV] END lg__C=0.01, lg__class_weight=None, lg__penalty=l2, lg__tol=0.01; total time=   0.4s\n"
     ]
    },
    {
     "name": "stderr",
     "output_type": "stream",
     "text": [
      "/Users/raylinsoriano/anaconda3/lib/python3.8/site-packages/sklearn/metrics/_classification.py:1248: UndefinedMetricWarning: Precision is ill-defined and being set to 0.0 due to no predicted samples. Use `zero_division` parameter to control this behavior.\n",
      "  _warn_prf(average, modifier, msg_start, len(result))\n"
     ]
    },
    {
     "name": "stdout",
     "output_type": "stream",
     "text": [
      "[CV] END lg__C=0.01, lg__class_weight=None, lg__penalty=l2, lg__tol=0.01; total time=   0.3s\n"
     ]
    },
    {
     "name": "stderr",
     "output_type": "stream",
     "text": [
      "/Users/raylinsoriano/anaconda3/lib/python3.8/site-packages/sklearn/metrics/_classification.py:1248: UndefinedMetricWarning: Precision is ill-defined and being set to 0.0 due to no predicted samples. Use `zero_division` parameter to control this behavior.\n",
      "  _warn_prf(average, modifier, msg_start, len(result))\n"
     ]
    },
    {
     "name": "stdout",
     "output_type": "stream",
     "text": [
      "[CV] END lg__C=0.01, lg__class_weight=None, lg__penalty=l2, lg__tol=0.01; total time=   0.5s\n",
      "[CV] END lg__C=0.01, lg__class_weight=None, lg__penalty=l2, lg__tol=0.1; total time=   0.1s\n",
      "[CV] END lg__C=0.01, lg__class_weight=None, lg__penalty=l2, lg__tol=0.1; total time=   0.1s\n",
      "[CV] END lg__C=0.01, lg__class_weight=None, lg__penalty=l2, lg__tol=0.1; total time=   0.1s\n"
     ]
    },
    {
     "name": "stderr",
     "output_type": "stream",
     "text": [
      "/Users/raylinsoriano/anaconda3/lib/python3.8/site-packages/sklearn/metrics/_classification.py:1248: UndefinedMetricWarning: Precision is ill-defined and being set to 0.0 due to no predicted samples. Use `zero_division` parameter to control this behavior.\n",
      "  _warn_prf(average, modifier, msg_start, len(result))\n",
      "/Users/raylinsoriano/anaconda3/lib/python3.8/site-packages/sklearn/metrics/_classification.py:1248: UndefinedMetricWarning: Precision is ill-defined and being set to 0.0 due to no predicted samples. Use `zero_division` parameter to control this behavior.\n",
      "  _warn_prf(average, modifier, msg_start, len(result))\n"
     ]
    },
    {
     "name": "stdout",
     "output_type": "stream",
     "text": [
      "[CV] END lg__C=0.01, lg__class_weight=None, lg__penalty=l2, lg__tol=0.1; total time=   0.2s\n",
      "[CV] END lg__C=0.01, lg__class_weight=None, lg__penalty=l2, lg__tol=0.1; total time=   0.1s\n",
      "[CV] END lg__C=0.01, lg__class_weight=balanced, lg__penalty=l1, lg__tol=0.0001; total time=   0.2s\n",
      "[CV] END lg__C=0.01, lg__class_weight=balanced, lg__penalty=l1, lg__tol=0.0001; total time=   0.2s\n",
      "[CV] END lg__C=0.01, lg__class_weight=balanced, lg__penalty=l1, lg__tol=0.0001; total time=   0.2s\n",
      "[CV] END lg__C=0.01, lg__class_weight=balanced, lg__penalty=l1, lg__tol=0.0001; total time=   1.0s\n",
      "[CV] END lg__C=0.01, lg__class_weight=balanced, lg__penalty=l1, lg__tol=0.0001; total time=   0.2s\n",
      "[CV] END lg__C=0.01, lg__class_weight=balanced, lg__penalty=l1, lg__tol=0.01; total time=   0.2s\n",
      "[CV] END lg__C=0.01, lg__class_weight=balanced, lg__penalty=l1, lg__tol=0.01; total time=   0.2s\n",
      "[CV] END lg__C=0.01, lg__class_weight=balanced, lg__penalty=l1, lg__tol=0.01; total time=   0.2s\n",
      "[CV] END lg__C=0.01, lg__class_weight=balanced, lg__penalty=l1, lg__tol=0.01; total time=   0.7s\n",
      "[CV] END lg__C=0.01, lg__class_weight=balanced, lg__penalty=l1, lg__tol=0.01; total time=   0.2s\n",
      "[CV] END lg__C=0.01, lg__class_weight=balanced, lg__penalty=l1, lg__tol=0.1; total time=   0.2s\n",
      "[CV] END lg__C=0.01, lg__class_weight=balanced, lg__penalty=l1, lg__tol=0.1; total time=   0.2s\n",
      "[CV] END lg__C=0.01, lg__class_weight=balanced, lg__penalty=l1, lg__tol=0.1; total time=   0.2s\n",
      "[CV] END lg__C=0.01, lg__class_weight=balanced, lg__penalty=l1, lg__tol=0.1; total time=   0.6s\n",
      "[CV] END lg__C=0.01, lg__class_weight=balanced, lg__penalty=l1, lg__tol=0.1; total time=   0.2s\n",
      "[CV] END lg__C=0.01, lg__class_weight=balanced, lg__penalty=l2, lg__tol=0.0001; total time=   0.6s\n",
      "[CV] END lg__C=0.01, lg__class_weight=balanced, lg__penalty=l2, lg__tol=0.0001; total time=   0.6s\n",
      "[CV] END lg__C=0.01, lg__class_weight=balanced, lg__penalty=l2, lg__tol=0.0001; total time=   0.9s\n",
      "[CV] END lg__C=0.01, lg__class_weight=balanced, lg__penalty=l2, lg__tol=0.0001; total time=   2.5s\n",
      "[CV] END lg__C=0.01, lg__class_weight=balanced, lg__penalty=l2, lg__tol=0.0001; total time=   0.6s\n",
      "[CV] END lg__C=0.01, lg__class_weight=balanced, lg__penalty=l2, lg__tol=0.01; total time=   0.2s\n",
      "[CV] END lg__C=0.01, lg__class_weight=balanced, lg__penalty=l2, lg__tol=0.01; total time=   0.2s\n",
      "[CV] END lg__C=0.01, lg__class_weight=balanced, lg__penalty=l2, lg__tol=0.01; total time=   0.2s\n",
      "[CV] END lg__C=0.01, lg__class_weight=balanced, lg__penalty=l2, lg__tol=0.01; total time=   1.2s\n",
      "[CV] END lg__C=0.01, lg__class_weight=balanced, lg__penalty=l2, lg__tol=0.01; total time=   0.2s\n",
      "[CV] END lg__C=0.01, lg__class_weight=balanced, lg__penalty=l2, lg__tol=0.1; total time=   0.2s\n",
      "[CV] END lg__C=0.01, lg__class_weight=balanced, lg__penalty=l2, lg__tol=0.1; total time=   0.1s\n",
      "[CV] END lg__C=0.01, lg__class_weight=balanced, lg__penalty=l2, lg__tol=0.1; total time=   0.1s\n",
      "[CV] END lg__C=0.01, lg__class_weight=balanced, lg__penalty=l2, lg__tol=0.1; total time=   0.4s\n",
      "[CV] END lg__C=0.01, lg__class_weight=balanced, lg__penalty=l2, lg__tol=0.1; total time=   0.1s\n"
     ]
    },
    {
     "data": {
      "text/plain": [
       "GridSearchCV(estimator=Pipeline(steps=[('lg',\n",
       "                                        LogisticRegression(max_iter=100000000,\n",
       "                                                           solver='liblinear'))]),\n",
       "             param_grid={'lg__C': [0.0001, 0.001, 0.01],\n",
       "                         'lg__class_weight': [None, 'balanced'],\n",
       "                         'lg__penalty': ['l1', 'l2'],\n",
       "                         'lg__tol': [0.0001, 0.01, 0.1]},\n",
       "             return_train_score=True, scoring='precision', verbose=2)"
      ]
     },
     "execution_count": 69,
     "metadata": {},
     "output_type": "execute_result"
    }
   ],
   "source": [
    "gridsearch = GridSearchCV(log_pipe, grid, return_train_score=True, scoring='precision',verbose=2)\n",
    "\n",
    "gridsearch.fit(df_train, y_train)"
   ]
  },
  {
   "cell_type": "code",
   "execution_count": 70,
   "id": "7da8ac8c",
   "metadata": {},
   "outputs": [
    {
     "name": "stdout",
     "output_type": "stream",
     "text": [
      "gridsearch best parameters: {'lg__C': 0.0001, 'lg__class_weight': None, 'lg__penalty': 'l2', 'lg__tol': 0.0001}\n",
      "gridsearch best score: 0.5166666666666667\n"
     ]
    }
   ],
   "source": [
    "print('gridsearch best parameters: {}'.format(gridsearch.best_params_))\n",
    "print('gridsearch best score: {}'.format(gridsearch.best_score_))"
   ]
  },
  {
   "cell_type": "markdown",
   "id": "28a2728a",
   "metadata": {},
   "source": [
    "Now I will be using those parameters to see if if we get better model scores."
   ]
  },
  {
   "cell_type": "code",
   "execution_count": 71,
   "id": "ed4cc638",
   "metadata": {},
   "outputs": [
    {
     "data": {
      "text/plain": [
       "Pipeline(steps=[('lg',\n",
       "                 LogisticRegression(C=0.0001, max_iter=100000000,\n",
       "                                    solver='liblinear'))])"
      ]
     },
     "execution_count": 71,
     "metadata": {},
     "output_type": "execute_result"
    }
   ],
   "source": [
    "log_pipe2 = Pipeline([('lg', LogisticRegression(C=0.0001, solver='liblinear',max_iter=100000000))\n",
    "                    ])\n",
    "log_pipe2.fit(df_train,  y_train)"
   ]
  },
  {
   "cell_type": "code",
   "execution_count": 72,
   "id": "aef2d48e",
   "metadata": {},
   "outputs": [
    {
     "name": "stdout",
     "output_type": "stream",
     "text": [
      "[0.94235544 0.94235544 0.94222262 0.94244832 0.94262887]\n",
      "Training Accuracy 0.9424021369583315\n",
      "##############\n",
      "Cross_Val Accuracy 0.9424021369583315\n",
      "##############\n",
      "Training Precision: 0.6279761904761905\n",
      "##############\n",
      "Training  Recall: 0.0054727814698983576\n",
      "##############\n",
      "Training  F1: 0.010838614878396024\n"
     ]
    }
   ],
   "source": [
    "print_cv_scores(log_pipe2, df_train, y_train)\n"
   ]
  },
  {
   "cell_type": "markdown",
   "id": "d3168e70",
   "metadata": {},
   "source": [
    "The precision score only increased my 1%."
   ]
  },
  {
   "cell_type": "markdown",
   "id": "4fb021b5",
   "metadata": {},
   "source": [
    "#### Logistic with Standard Scaler"
   ]
  },
  {
   "cell_type": "code",
   "execution_count": 73,
   "id": "a4473117",
   "metadata": {},
   "outputs": [
    {
     "data": {
      "text/plain": [
       "Pipeline(steps=[('ss', StandardScaler()),\n",
       "                ('lg',\n",
       "                 LogisticRegression(max_iter=100000000, solver='liblinear'))])"
      ]
     },
     "execution_count": 73,
     "metadata": {},
     "output_type": "execute_result"
    }
   ],
   "source": [
    "log_pipe_scale = Pipeline([('ss', StandardScaler() ),\n",
    "                           ('lg', LogisticRegression(solver='liblinear',max_iter=100000000))\n",
    "                    ])\n",
    "log_pipe_scale.fit(df_train,  y_train)"
   ]
  },
  {
   "cell_type": "code",
   "execution_count": 74,
   "id": "5a8a67ec",
   "metadata": {},
   "outputs": [
    {
     "name": "stdout",
     "output_type": "stream",
     "text": [
      "[0.94289712 0.94316797 0.94353164 0.94366706 0.94317053]\n",
      "Training Accuracy 0.9432868652621897\n",
      "##############\n",
      "Cross_Val Accuracy 0.9432868652621897\n",
      "##############\n",
      "Training Precision: 0.5962472452841927\n",
      "##############\n",
      "Training  Recall: 0.055188990422204855\n",
      "##############\n",
      "Training  F1: 0.10083244130090066\n"
     ]
    }
   ],
   "source": [
    "print_cv_scores(log_pipe_scale, df_train, y_train)"
   ]
  },
  {
   "cell_type": "markdown",
   "id": "4d2a7ea0",
   "metadata": {},
   "source": [
    "Using standard scaling the logistic model preformed worse with precision score going down to 59%"
   ]
  },
  {
   "cell_type": "markdown",
   "id": "29d38211",
   "metadata": {},
   "source": [
    "#### Logistic with SMOTE "
   ]
  },
  {
   "cell_type": "markdown",
   "id": "cb1bc9cd",
   "metadata": {},
   "source": [
    "Now I will try SMOTE to help with unbalanced target."
   ]
  },
  {
   "cell_type": "code",
   "execution_count": 77,
   "id": "0c7d282f",
   "metadata": {},
   "outputs": [
    {
     "data": {
      "text/plain": [
       "Pipeline(steps=[('smote', SMOTE()),\n",
       "                ('lg',\n",
       "                 LogisticRegression(C=0.0001, max_iter=100000000,\n",
       "                                    solver='liblinear'))])"
      ]
     },
     "execution_count": 77,
     "metadata": {},
     "output_type": "execute_result"
    }
   ],
   "source": [
    "log_smote_pipe = imbpipe([('smote', SMOTE()),\n",
    "                        ('lg', LogisticRegression(C=0.0001,solver='liblinear',max_iter=100000000))\n",
    "                    ])\n",
    "\n",
    "log_smote_pipe.fit(df_train, y_train)"
   ]
  },
  {
   "cell_type": "code",
   "execution_count": 78,
   "id": "f8e61706",
   "metadata": {},
   "outputs": [
    {
     "name": "stdout",
     "output_type": "stream",
     "text": [
      "[0.67665779 0.64081614 0.64633926 0.76812314 0.64877674]\n",
      "Training Accuracy 0.6761426150937193\n",
      "##############\n",
      "Cross_Val Accuracy 0.6761426150937193\n",
      "##############\n",
      "Training Precision: 0.15133363016496015\n",
      "##############\n",
      "Training  Recall: 0.97576304730258\n",
      "##############\n",
      "Training  F1: 0.2612581548216719\n"
     ]
    }
   ],
   "source": [
    "print_cv_scores(log_smote_pipe, df_train, y_train)"
   ]
  },
  {
   "cell_type": "markdown",
   "id": "39f41aaf",
   "metadata": {},
   "source": [
    "Using SMOTE the model preformed horribly with precision score at 15%."
   ]
  },
  {
   "cell_type": "markdown",
   "id": "f38721f8",
   "metadata": {},
   "source": [
    "#### Logistic with SMOTE and Standard Scaler"
   ]
  },
  {
   "cell_type": "code",
   "execution_count": 79,
   "id": "dd002eda",
   "metadata": {},
   "outputs": [
    {
     "data": {
      "text/plain": [
       "Pipeline(steps=[('ss', StandardScaler()), ('smote', SMOTE()),\n",
       "                ('lg',\n",
       "                 LogisticRegression(max_iter=100000000, solver='liblinear'))])"
      ]
     },
     "execution_count": 79,
     "metadata": {},
     "output_type": "execute_result"
    }
   ],
   "source": [
    "log_smote_pipe_sc2 = imbpipe([('ss', StandardScaler()),\n",
    "                        ('smote', SMOTE()),\n",
    "                        ('lg', LogisticRegression(solver='liblinear',max_iter=100000000))\n",
    "                    ])\n",
    "\n",
    "log_smote_pipe_sc2.fit(df_train, y_train)"
   ]
  },
  {
   "cell_type": "code",
   "execution_count": 80,
   "id": "64f3a2ee",
   "metadata": {},
   "outputs": [
    {
     "name": "stdout",
     "output_type": "stream",
     "text": [
      "[0.80779127 0.80873922 0.81493184 0.81168186 0.80743884]\n",
      "Training Accuracy 0.8101166067571768\n",
      "##############\n",
      "Cross_Val Accuracy 0.8101166067571768\n",
      "##############\n",
      "Training Precision: 0.22635093463737865\n",
      "##############\n",
      "Training  Recall: 0.9462160379202501\n",
      "##############\n",
      "Training  F1: 0.36530514381332874\n"
     ]
    }
   ],
   "source": [
    "print_cv_scores(log_smote_pipe_sc2, df_train, y_train)"
   ]
  },
  {
   "cell_type": "markdown",
   "id": "4e6a7b72",
   "metadata": {},
   "source": [
    "Using SMOTE and standard scaler the model didnt improve as much with precision score at 21% and accuracy score falling down to 82%."
   ]
  },
  {
   "cell_type": "markdown",
   "id": "d99d4cc4",
   "metadata": {},
   "source": [
    "## XGBoost Models"
   ]
  },
  {
   "cell_type": "markdown",
   "id": "47255d07",
   "metadata": {},
   "source": [
    "Now I will be trying XGBoost to see how well my model preform on training data."
   ]
  },
  {
   "cell_type": "code",
   "execution_count": 81,
   "id": "3feb2762",
   "metadata": {},
   "outputs": [
    {
     "data": {
      "text/plain": [
       "Pipeline(steps=[('xgb',\n",
       "                 XGBClassifier(base_score=0.5, booster='gbtree',\n",
       "                               colsample_bylevel=1, colsample_bynode=1,\n",
       "                               colsample_bytree=1, eval_metric='logloss',\n",
       "                               gamma=0, gpu_id=-1, importance_type='gain',\n",
       "                               interaction_constraints='',\n",
       "                               learning_rate=0.300000012, max_delta_step=0,\n",
       "                               max_depth=6, min_child_weight=1, missing=nan,\n",
       "                               monotone_constraints='()', n_estimators=100,\n",
       "                               n_jobs=4, num_parallel_tree=1, random_state=0,\n",
       "                               reg_alpha=0, reg_lambda=1, scale_pos_weight=1,\n",
       "                               subsample=1, tree_method='exact',\n",
       "                               use_label_encoder=False, validate_parameters=1,\n",
       "                               verbosity=None))])"
      ]
     },
     "execution_count": 81,
     "metadata": {},
     "output_type": "execute_result"
    }
   ],
   "source": [
    "xgb_pipe = Pipeline([('xgb', XGBClassifier(objective='binary:logistic',use_label_encoder=False, eval_metric='logloss'))\n",
    "                    ])\n",
    "xgb_pipe.fit(df_train,y_train)"
   ]
  },
  {
   "cell_type": "code",
   "execution_count": 82,
   "id": "8ecde432",
   "metadata": {},
   "outputs": [
    {
     "name": "stdout",
     "output_type": "stream",
     "text": [
      "[0.98194375 0.98113122 0.980455   0.97923626 0.97959736]\n",
      "Training Accuracy 0.9804727189218972\n",
      "##############\n",
      "Cross_Val Accuracy 0.9804727189218972\n",
      "##############\n",
      "Training Precision: 0.9650090771421829\n",
      "##############\n",
      "Training  Recall: 0.6866795347928069\n",
      "##############\n",
      "Training  F1: 0.802325828487759\n"
     ]
    }
   ],
   "source": [
    "print_cv_scores(xgb_pipe, df_train, y_train)"
   ]
  },
  {
   "cell_type": "markdown",
   "id": "d1e2c29b",
   "metadata": {},
   "source": [
    "This model looks like it preforms very well but that could be due to overfiting, so I will be running a gridsearch to see which parameters will give the best score for the XGBoost model."
   ]
  },
  {
   "cell_type": "markdown",
   "id": "3d88afac",
   "metadata": {},
   "source": [
    "#### XGBoost GridSearch"
   ]
  },
  {
   "cell_type": "code",
   "execution_count": 83,
   "id": "4ee6ae39",
   "metadata": {},
   "outputs": [],
   "source": [
    "grid3 = {\"xgb__max_depth\": [10, 15, 20],\n",
    "        \"xgb__min_child_weight\": [10, 25, 50], \n",
    "        \"xgb__colsample_bytree\" : [1, 2, 3, 4]\n",
    "       \n",
    "       \n",
    "       }\n",
    "\n",
    "gridsearch3 = GridSearchCV(xgb_pipe, grid3, return_train_score=True, scoring='precision',verbose=2)"
   ]
  },
  {
   "cell_type": "code",
   "execution_count": 84,
   "id": "7bf3e7ac",
   "metadata": {
    "scrolled": true
   },
   "outputs": [
    {
     "name": "stdout",
     "output_type": "stream",
     "text": [
      "Fitting 5 folds for each of 36 candidates, totalling 180 fits\n",
      "[CV] END xgb__colsample_bytree=1, xgb__max_depth=10, xgb__min_child_weight=10; total time=  12.3s\n",
      "[CV] END xgb__colsample_bytree=1, xgb__max_depth=10, xgb__min_child_weight=10; total time=  11.5s\n",
      "[CV] END xgb__colsample_bytree=1, xgb__max_depth=10, xgb__min_child_weight=10; total time=  14.1s\n",
      "[CV] END xgb__colsample_bytree=1, xgb__max_depth=10, xgb__min_child_weight=10; total time=  11.3s\n",
      "[CV] END xgb__colsample_bytree=1, xgb__max_depth=10, xgb__min_child_weight=10; total time=  11.1s\n",
      "[CV] END xgb__colsample_bytree=1, xgb__max_depth=10, xgb__min_child_weight=25; total time=  11.0s\n",
      "[CV] END xgb__colsample_bytree=1, xgb__max_depth=10, xgb__min_child_weight=25; total time=  10.4s\n",
      "[CV] END xgb__colsample_bytree=1, xgb__max_depth=10, xgb__min_child_weight=25; total time=  10.2s\n",
      "[CV] END xgb__colsample_bytree=1, xgb__max_depth=10, xgb__min_child_weight=25; total time=  10.2s\n",
      "[CV] END xgb__colsample_bytree=1, xgb__max_depth=10, xgb__min_child_weight=25; total time=  13.5s\n",
      "[CV] END xgb__colsample_bytree=1, xgb__max_depth=10, xgb__min_child_weight=50; total time=   9.3s\n",
      "[CV] END xgb__colsample_bytree=1, xgb__max_depth=10, xgb__min_child_weight=50; total time=   9.0s\n",
      "[CV] END xgb__colsample_bytree=1, xgb__max_depth=10, xgb__min_child_weight=50; total time=   8.8s\n",
      "[CV] END xgb__colsample_bytree=1, xgb__max_depth=10, xgb__min_child_weight=50; total time=  10.0s\n",
      "[CV] END xgb__colsample_bytree=1, xgb__max_depth=10, xgb__min_child_weight=50; total time=   9.3s\n",
      "[CV] END xgb__colsample_bytree=1, xgb__max_depth=15, xgb__min_child_weight=10; total time=  15.9s\n",
      "[CV] END xgb__colsample_bytree=1, xgb__max_depth=15, xgb__min_child_weight=10; total time=  15.7s\n",
      "[CV] END xgb__colsample_bytree=1, xgb__max_depth=15, xgb__min_child_weight=10; total time=  15.5s\n",
      "[CV] END xgb__colsample_bytree=1, xgb__max_depth=15, xgb__min_child_weight=10; total time=  14.9s\n",
      "[CV] END xgb__colsample_bytree=1, xgb__max_depth=15, xgb__min_child_weight=10; total time=  15.3s\n",
      "[CV] END xgb__colsample_bytree=1, xgb__max_depth=15, xgb__min_child_weight=25; total time=  13.4s\n",
      "[CV] END xgb__colsample_bytree=1, xgb__max_depth=15, xgb__min_child_weight=25; total time=  17.9s\n",
      "[CV] END xgb__colsample_bytree=1, xgb__max_depth=15, xgb__min_child_weight=25; total time=  13.6s\n",
      "[CV] END xgb__colsample_bytree=1, xgb__max_depth=15, xgb__min_child_weight=25; total time=  12.7s\n",
      "[CV] END xgb__colsample_bytree=1, xgb__max_depth=15, xgb__min_child_weight=25; total time=  13.1s\n",
      "[CV] END xgb__colsample_bytree=1, xgb__max_depth=15, xgb__min_child_weight=50; total time=   9.9s\n",
      "[CV] END xgb__colsample_bytree=1, xgb__max_depth=15, xgb__min_child_weight=50; total time=   9.2s\n",
      "[CV] END xgb__colsample_bytree=1, xgb__max_depth=15, xgb__min_child_weight=50; total time=  11.9s\n",
      "[CV] END xgb__colsample_bytree=1, xgb__max_depth=15, xgb__min_child_weight=50; total time=  13.9s\n",
      "[CV] END xgb__colsample_bytree=1, xgb__max_depth=15, xgb__min_child_weight=50; total time=   9.9s\n",
      "[CV] END xgb__colsample_bytree=1, xgb__max_depth=20, xgb__min_child_weight=10; total time=  17.6s\n",
      "[CV] END xgb__colsample_bytree=1, xgb__max_depth=20, xgb__min_child_weight=10; total time=  17.8s\n",
      "[CV] END xgb__colsample_bytree=1, xgb__max_depth=20, xgb__min_child_weight=10; total time=  21.1s\n",
      "[CV] END xgb__colsample_bytree=1, xgb__max_depth=20, xgb__min_child_weight=10; total time=  18.5s\n",
      "[CV] END xgb__colsample_bytree=1, xgb__max_depth=20, xgb__min_child_weight=10; total time=  19.2s\n",
      "[CV] END xgb__colsample_bytree=1, xgb__max_depth=20, xgb__min_child_weight=25; total time=  14.1s\n",
      "[CV] END xgb__colsample_bytree=1, xgb__max_depth=20, xgb__min_child_weight=25; total time=  13.9s\n",
      "[CV] END xgb__colsample_bytree=1, xgb__max_depth=20, xgb__min_child_weight=25; total time=  13.4s\n",
      "[CV] END xgb__colsample_bytree=1, xgb__max_depth=20, xgb__min_child_weight=25; total time=  14.7s\n",
      "[CV] END xgb__colsample_bytree=1, xgb__max_depth=20, xgb__min_child_weight=25; total time=  14.9s\n",
      "[CV] END xgb__colsample_bytree=1, xgb__max_depth=20, xgb__min_child_weight=50; total time=   9.8s\n",
      "[CV] END xgb__colsample_bytree=1, xgb__max_depth=20, xgb__min_child_weight=50; total time=   9.2s\n",
      "[CV] END xgb__colsample_bytree=1, xgb__max_depth=20, xgb__min_child_weight=50; total time=  11.8s\n",
      "[CV] END xgb__colsample_bytree=1, xgb__max_depth=20, xgb__min_child_weight=50; total time=   9.8s\n",
      "[CV] END xgb__colsample_bytree=1, xgb__max_depth=20, xgb__min_child_weight=50; total time=  10.0s\n",
      "[CV] END xgb__colsample_bytree=2, xgb__max_depth=10, xgb__min_child_weight=10; total time=   0.1s\n",
      "[CV] END xgb__colsample_bytree=2, xgb__max_depth=10, xgb__min_child_weight=10; total time=   0.0s\n",
      "[CV] END xgb__colsample_bytree=2, xgb__max_depth=10, xgb__min_child_weight=10; total time=   0.0s\n"
     ]
    },
    {
     "name": "stderr",
     "output_type": "stream",
     "text": [
      "/Users/raylinsoriano/anaconda3/lib/python3.8/site-packages/sklearn/model_selection/_validation.py:615: FitFailedWarning: Estimator fit failed. The score on this train-test partition for these parameters will be set to nan. Details: \n",
      "Traceback (most recent call last):\n",
      "  File \"/Users/raylinsoriano/anaconda3/lib/python3.8/site-packages/sklearn/model_selection/_validation.py\", line 598, in _fit_and_score\n",
      "    estimator.fit(X_train, y_train, **fit_params)\n",
      "  File \"/Users/raylinsoriano/anaconda3/lib/python3.8/site-packages/sklearn/pipeline.py\", line 346, in fit\n",
      "    self._final_estimator.fit(Xt, y, **fit_params_last_step)\n",
      "  File \"/Users/raylinsoriano/anaconda3/lib/python3.8/site-packages/xgboost/core.py\", line 436, in inner_f\n",
      "    return f(**kwargs)\n",
      "  File \"/Users/raylinsoriano/anaconda3/lib/python3.8/site-packages/xgboost/sklearn.py\", line 1176, in fit\n",
      "    self._Booster = train(\n",
      "  File \"/Users/raylinsoriano/anaconda3/lib/python3.8/site-packages/xgboost/training.py\", line 189, in train\n",
      "    bst = _train_internal(params, dtrain,\n",
      "  File \"/Users/raylinsoriano/anaconda3/lib/python3.8/site-packages/xgboost/training.py\", line 81, in _train_internal\n",
      "    bst.update(dtrain, i, obj)\n",
      "  File \"/Users/raylinsoriano/anaconda3/lib/python3.8/site-packages/xgboost/core.py\", line 1499, in update\n",
      "    _check_call(_LIB.XGBoosterUpdateOneIter(self.handle,\n",
      "  File \"/Users/raylinsoriano/anaconda3/lib/python3.8/site-packages/xgboost/core.py\", line 210, in _check_call\n",
      "    raise XGBoostError(py_str(_LIB.XGBGetLastError()))\n",
      "xgboost.core.XGBoostError: value 2 for Parameter colsample_bytree exceed bound [0,1]\n",
      "colsample_bytree: Subsample ratio of columns, resample on each tree construction.\n",
      "\n",
      "  warnings.warn(\"Estimator fit failed. The score on this train-test\"\n",
      "/Users/raylinsoriano/anaconda3/lib/python3.8/site-packages/sklearn/model_selection/_validation.py:615: FitFailedWarning: Estimator fit failed. The score on this train-test partition for these parameters will be set to nan. Details: \n",
      "Traceback (most recent call last):\n",
      "  File \"/Users/raylinsoriano/anaconda3/lib/python3.8/site-packages/sklearn/model_selection/_validation.py\", line 598, in _fit_and_score\n",
      "    estimator.fit(X_train, y_train, **fit_params)\n",
      "  File \"/Users/raylinsoriano/anaconda3/lib/python3.8/site-packages/sklearn/pipeline.py\", line 346, in fit\n",
      "    self._final_estimator.fit(Xt, y, **fit_params_last_step)\n",
      "  File \"/Users/raylinsoriano/anaconda3/lib/python3.8/site-packages/xgboost/core.py\", line 436, in inner_f\n",
      "    return f(**kwargs)\n",
      "  File \"/Users/raylinsoriano/anaconda3/lib/python3.8/site-packages/xgboost/sklearn.py\", line 1176, in fit\n",
      "    self._Booster = train(\n",
      "  File \"/Users/raylinsoriano/anaconda3/lib/python3.8/site-packages/xgboost/training.py\", line 189, in train\n",
      "    bst = _train_internal(params, dtrain,\n",
      "  File \"/Users/raylinsoriano/anaconda3/lib/python3.8/site-packages/xgboost/training.py\", line 81, in _train_internal\n",
      "    bst.update(dtrain, i, obj)\n",
      "  File \"/Users/raylinsoriano/anaconda3/lib/python3.8/site-packages/xgboost/core.py\", line 1499, in update\n",
      "    _check_call(_LIB.XGBoosterUpdateOneIter(self.handle,\n",
      "  File \"/Users/raylinsoriano/anaconda3/lib/python3.8/site-packages/xgboost/core.py\", line 210, in _check_call\n",
      "    raise XGBoostError(py_str(_LIB.XGBGetLastError()))\n",
      "xgboost.core.XGBoostError: value 2 for Parameter colsample_bytree exceed bound [0,1]\n",
      "colsample_bytree: Subsample ratio of columns, resample on each tree construction.\n",
      "\n",
      "  warnings.warn(\"Estimator fit failed. The score on this train-test\"\n",
      "/Users/raylinsoriano/anaconda3/lib/python3.8/site-packages/sklearn/model_selection/_validation.py:615: FitFailedWarning: Estimator fit failed. The score on this train-test partition for these parameters will be set to nan. Details: \n",
      "Traceback (most recent call last):\n",
      "  File \"/Users/raylinsoriano/anaconda3/lib/python3.8/site-packages/sklearn/model_selection/_validation.py\", line 598, in _fit_and_score\n",
      "    estimator.fit(X_train, y_train, **fit_params)\n",
      "  File \"/Users/raylinsoriano/anaconda3/lib/python3.8/site-packages/sklearn/pipeline.py\", line 346, in fit\n",
      "    self._final_estimator.fit(Xt, y, **fit_params_last_step)\n",
      "  File \"/Users/raylinsoriano/anaconda3/lib/python3.8/site-packages/xgboost/core.py\", line 436, in inner_f\n",
      "    return f(**kwargs)\n",
      "  File \"/Users/raylinsoriano/anaconda3/lib/python3.8/site-packages/xgboost/sklearn.py\", line 1176, in fit\n",
      "    self._Booster = train(\n",
      "  File \"/Users/raylinsoriano/anaconda3/lib/python3.8/site-packages/xgboost/training.py\", line 189, in train\n",
      "    bst = _train_internal(params, dtrain,\n",
      "  File \"/Users/raylinsoriano/anaconda3/lib/python3.8/site-packages/xgboost/training.py\", line 81, in _train_internal\n",
      "    bst.update(dtrain, i, obj)\n",
      "  File \"/Users/raylinsoriano/anaconda3/lib/python3.8/site-packages/xgboost/core.py\", line 1499, in update\n",
      "    _check_call(_LIB.XGBoosterUpdateOneIter(self.handle,\n",
      "  File \"/Users/raylinsoriano/anaconda3/lib/python3.8/site-packages/xgboost/core.py\", line 210, in _check_call\n",
      "    raise XGBoostError(py_str(_LIB.XGBGetLastError()))\n",
      "xgboost.core.XGBoostError: value 2 for Parameter colsample_bytree exceed bound [0,1]\n",
      "colsample_bytree: Subsample ratio of columns, resample on each tree construction.\n",
      "\n",
      "  warnings.warn(\"Estimator fit failed. The score on this train-test\"\n",
      "/Users/raylinsoriano/anaconda3/lib/python3.8/site-packages/sklearn/model_selection/_validation.py:615: FitFailedWarning: Estimator fit failed. The score on this train-test partition for these parameters will be set to nan. Details: \n",
      "Traceback (most recent call last):\n",
      "  File \"/Users/raylinsoriano/anaconda3/lib/python3.8/site-packages/sklearn/model_selection/_validation.py\", line 598, in _fit_and_score\n",
      "    estimator.fit(X_train, y_train, **fit_params)\n",
      "  File \"/Users/raylinsoriano/anaconda3/lib/python3.8/site-packages/sklearn/pipeline.py\", line 346, in fit\n",
      "    self._final_estimator.fit(Xt, y, **fit_params_last_step)\n",
      "  File \"/Users/raylinsoriano/anaconda3/lib/python3.8/site-packages/xgboost/core.py\", line 436, in inner_f\n",
      "    return f(**kwargs)\n",
      "  File \"/Users/raylinsoriano/anaconda3/lib/python3.8/site-packages/xgboost/sklearn.py\", line 1176, in fit\n",
      "    self._Booster = train(\n",
      "  File \"/Users/raylinsoriano/anaconda3/lib/python3.8/site-packages/xgboost/training.py\", line 189, in train\n",
      "    bst = _train_internal(params, dtrain,\n",
      "  File \"/Users/raylinsoriano/anaconda3/lib/python3.8/site-packages/xgboost/training.py\", line 81, in _train_internal\n",
      "    bst.update(dtrain, i, obj)\n",
      "  File \"/Users/raylinsoriano/anaconda3/lib/python3.8/site-packages/xgboost/core.py\", line 1499, in update\n",
      "    _check_call(_LIB.XGBoosterUpdateOneIter(self.handle,\n",
      "  File \"/Users/raylinsoriano/anaconda3/lib/python3.8/site-packages/xgboost/core.py\", line 210, in _check_call\n",
      "    raise XGBoostError(py_str(_LIB.XGBGetLastError()))\n",
      "xgboost.core.XGBoostError: value 2 for Parameter colsample_bytree exceed bound [0,1]\n",
      "colsample_bytree: Subsample ratio of columns, resample on each tree construction.\n",
      "\n",
      "  warnings.warn(\"Estimator fit failed. The score on this train-test\"\n",
      "/Users/raylinsoriano/anaconda3/lib/python3.8/site-packages/sklearn/model_selection/_validation.py:615: FitFailedWarning: Estimator fit failed. The score on this train-test partition for these parameters will be set to nan. Details: \n",
      "Traceback (most recent call last):\n",
      "  File \"/Users/raylinsoriano/anaconda3/lib/python3.8/site-packages/sklearn/model_selection/_validation.py\", line 598, in _fit_and_score\n",
      "    estimator.fit(X_train, y_train, **fit_params)\n",
      "  File \"/Users/raylinsoriano/anaconda3/lib/python3.8/site-packages/sklearn/pipeline.py\", line 346, in fit\n",
      "    self._final_estimator.fit(Xt, y, **fit_params_last_step)\n",
      "  File \"/Users/raylinsoriano/anaconda3/lib/python3.8/site-packages/xgboost/core.py\", line 436, in inner_f\n",
      "    return f(**kwargs)\n",
      "  File \"/Users/raylinsoriano/anaconda3/lib/python3.8/site-packages/xgboost/sklearn.py\", line 1176, in fit\n",
      "    self._Booster = train(\n",
      "  File \"/Users/raylinsoriano/anaconda3/lib/python3.8/site-packages/xgboost/training.py\", line 189, in train\n",
      "    bst = _train_internal(params, dtrain,\n",
      "  File \"/Users/raylinsoriano/anaconda3/lib/python3.8/site-packages/xgboost/training.py\", line 81, in _train_internal\n",
      "    bst.update(dtrain, i, obj)\n",
      "  File \"/Users/raylinsoriano/anaconda3/lib/python3.8/site-packages/xgboost/core.py\", line 1499, in update\n",
      "    _check_call(_LIB.XGBoosterUpdateOneIter(self.handle,\n",
      "  File \"/Users/raylinsoriano/anaconda3/lib/python3.8/site-packages/xgboost/core.py\", line 210, in _check_call\n",
      "    raise XGBoostError(py_str(_LIB.XGBGetLastError()))\n",
      "xgboost.core.XGBoostError: value 2 for Parameter colsample_bytree exceed bound [0,1]\n",
      "colsample_bytree: Subsample ratio of columns, resample on each tree construction.\n",
      "\n",
      "  warnings.warn(\"Estimator fit failed. The score on this train-test\"\n"
     ]
    },
    {
     "name": "stdout",
     "output_type": "stream",
     "text": [
      "[CV] END xgb__colsample_bytree=2, xgb__max_depth=10, xgb__min_child_weight=10; total time=   0.0s\n",
      "[CV] END xgb__colsample_bytree=2, xgb__max_depth=10, xgb__min_child_weight=10; total time=   0.0s\n",
      "[CV] END xgb__colsample_bytree=2, xgb__max_depth=10, xgb__min_child_weight=25; total time=   0.0s\n",
      "[CV] END xgb__colsample_bytree=2, xgb__max_depth=10, xgb__min_child_weight=25; total time=   0.0s\n",
      "[CV] END xgb__colsample_bytree=2, xgb__max_depth=10, xgb__min_child_weight=25; total time=   0.0s\n"
     ]
    },
    {
     "name": "stderr",
     "output_type": "stream",
     "text": [
      "/Users/raylinsoriano/anaconda3/lib/python3.8/site-packages/sklearn/model_selection/_validation.py:615: FitFailedWarning: Estimator fit failed. The score on this train-test partition for these parameters will be set to nan. Details: \n",
      "Traceback (most recent call last):\n",
      "  File \"/Users/raylinsoriano/anaconda3/lib/python3.8/site-packages/sklearn/model_selection/_validation.py\", line 598, in _fit_and_score\n",
      "    estimator.fit(X_train, y_train, **fit_params)\n",
      "  File \"/Users/raylinsoriano/anaconda3/lib/python3.8/site-packages/sklearn/pipeline.py\", line 346, in fit\n",
      "    self._final_estimator.fit(Xt, y, **fit_params_last_step)\n",
      "  File \"/Users/raylinsoriano/anaconda3/lib/python3.8/site-packages/xgboost/core.py\", line 436, in inner_f\n",
      "    return f(**kwargs)\n",
      "  File \"/Users/raylinsoriano/anaconda3/lib/python3.8/site-packages/xgboost/sklearn.py\", line 1176, in fit\n",
      "    self._Booster = train(\n",
      "  File \"/Users/raylinsoriano/anaconda3/lib/python3.8/site-packages/xgboost/training.py\", line 189, in train\n",
      "    bst = _train_internal(params, dtrain,\n",
      "  File \"/Users/raylinsoriano/anaconda3/lib/python3.8/site-packages/xgboost/training.py\", line 81, in _train_internal\n",
      "    bst.update(dtrain, i, obj)\n",
      "  File \"/Users/raylinsoriano/anaconda3/lib/python3.8/site-packages/xgboost/core.py\", line 1499, in update\n",
      "    _check_call(_LIB.XGBoosterUpdateOneIter(self.handle,\n",
      "  File \"/Users/raylinsoriano/anaconda3/lib/python3.8/site-packages/xgboost/core.py\", line 210, in _check_call\n",
      "    raise XGBoostError(py_str(_LIB.XGBGetLastError()))\n",
      "xgboost.core.XGBoostError: value 2 for Parameter colsample_bytree exceed bound [0,1]\n",
      "colsample_bytree: Subsample ratio of columns, resample on each tree construction.\n",
      "\n",
      "  warnings.warn(\"Estimator fit failed. The score on this train-test\"\n",
      "/Users/raylinsoriano/anaconda3/lib/python3.8/site-packages/sklearn/model_selection/_validation.py:615: FitFailedWarning: Estimator fit failed. The score on this train-test partition for these parameters will be set to nan. Details: \n",
      "Traceback (most recent call last):\n",
      "  File \"/Users/raylinsoriano/anaconda3/lib/python3.8/site-packages/sklearn/model_selection/_validation.py\", line 598, in _fit_and_score\n",
      "    estimator.fit(X_train, y_train, **fit_params)\n",
      "  File \"/Users/raylinsoriano/anaconda3/lib/python3.8/site-packages/sklearn/pipeline.py\", line 346, in fit\n",
      "    self._final_estimator.fit(Xt, y, **fit_params_last_step)\n",
      "  File \"/Users/raylinsoriano/anaconda3/lib/python3.8/site-packages/xgboost/core.py\", line 436, in inner_f\n",
      "    return f(**kwargs)\n",
      "  File \"/Users/raylinsoriano/anaconda3/lib/python3.8/site-packages/xgboost/sklearn.py\", line 1176, in fit\n",
      "    self._Booster = train(\n",
      "  File \"/Users/raylinsoriano/anaconda3/lib/python3.8/site-packages/xgboost/training.py\", line 189, in train\n",
      "    bst = _train_internal(params, dtrain,\n",
      "  File \"/Users/raylinsoriano/anaconda3/lib/python3.8/site-packages/xgboost/training.py\", line 81, in _train_internal\n",
      "    bst.update(dtrain, i, obj)\n",
      "  File \"/Users/raylinsoriano/anaconda3/lib/python3.8/site-packages/xgboost/core.py\", line 1499, in update\n",
      "    _check_call(_LIB.XGBoosterUpdateOneIter(self.handle,\n",
      "  File \"/Users/raylinsoriano/anaconda3/lib/python3.8/site-packages/xgboost/core.py\", line 210, in _check_call\n",
      "    raise XGBoostError(py_str(_LIB.XGBGetLastError()))\n",
      "xgboost.core.XGBoostError: value 2 for Parameter colsample_bytree exceed bound [0,1]\n",
      "colsample_bytree: Subsample ratio of columns, resample on each tree construction.\n",
      "\n",
      "  warnings.warn(\"Estimator fit failed. The score on this train-test\"\n",
      "/Users/raylinsoriano/anaconda3/lib/python3.8/site-packages/sklearn/model_selection/_validation.py:615: FitFailedWarning: Estimator fit failed. The score on this train-test partition for these parameters will be set to nan. Details: \n",
      "Traceback (most recent call last):\n",
      "  File \"/Users/raylinsoriano/anaconda3/lib/python3.8/site-packages/sklearn/model_selection/_validation.py\", line 598, in _fit_and_score\n",
      "    estimator.fit(X_train, y_train, **fit_params)\n",
      "  File \"/Users/raylinsoriano/anaconda3/lib/python3.8/site-packages/sklearn/pipeline.py\", line 346, in fit\n",
      "    self._final_estimator.fit(Xt, y, **fit_params_last_step)\n",
      "  File \"/Users/raylinsoriano/anaconda3/lib/python3.8/site-packages/xgboost/core.py\", line 436, in inner_f\n",
      "    return f(**kwargs)\n",
      "  File \"/Users/raylinsoriano/anaconda3/lib/python3.8/site-packages/xgboost/sklearn.py\", line 1176, in fit\n",
      "    self._Booster = train(\n",
      "  File \"/Users/raylinsoriano/anaconda3/lib/python3.8/site-packages/xgboost/training.py\", line 189, in train\n",
      "    bst = _train_internal(params, dtrain,\n",
      "  File \"/Users/raylinsoriano/anaconda3/lib/python3.8/site-packages/xgboost/training.py\", line 81, in _train_internal\n",
      "    bst.update(dtrain, i, obj)\n",
      "  File \"/Users/raylinsoriano/anaconda3/lib/python3.8/site-packages/xgboost/core.py\", line 1499, in update\n",
      "    _check_call(_LIB.XGBoosterUpdateOneIter(self.handle,\n",
      "  File \"/Users/raylinsoriano/anaconda3/lib/python3.8/site-packages/xgboost/core.py\", line 210, in _check_call\n",
      "    raise XGBoostError(py_str(_LIB.XGBGetLastError()))\n",
      "xgboost.core.XGBoostError: value 2 for Parameter colsample_bytree exceed bound [0,1]\n",
      "colsample_bytree: Subsample ratio of columns, resample on each tree construction.\n",
      "\n",
      "  warnings.warn(\"Estimator fit failed. The score on this train-test\"\n",
      "/Users/raylinsoriano/anaconda3/lib/python3.8/site-packages/sklearn/model_selection/_validation.py:615: FitFailedWarning: Estimator fit failed. The score on this train-test partition for these parameters will be set to nan. Details: \n",
      "Traceback (most recent call last):\n",
      "  File \"/Users/raylinsoriano/anaconda3/lib/python3.8/site-packages/sklearn/model_selection/_validation.py\", line 598, in _fit_and_score\n",
      "    estimator.fit(X_train, y_train, **fit_params)\n",
      "  File \"/Users/raylinsoriano/anaconda3/lib/python3.8/site-packages/sklearn/pipeline.py\", line 346, in fit\n",
      "    self._final_estimator.fit(Xt, y, **fit_params_last_step)\n",
      "  File \"/Users/raylinsoriano/anaconda3/lib/python3.8/site-packages/xgboost/core.py\", line 436, in inner_f\n",
      "    return f(**kwargs)\n",
      "  File \"/Users/raylinsoriano/anaconda3/lib/python3.8/site-packages/xgboost/sklearn.py\", line 1176, in fit\n",
      "    self._Booster = train(\n",
      "  File \"/Users/raylinsoriano/anaconda3/lib/python3.8/site-packages/xgboost/training.py\", line 189, in train\n",
      "    bst = _train_internal(params, dtrain,\n",
      "  File \"/Users/raylinsoriano/anaconda3/lib/python3.8/site-packages/xgboost/training.py\", line 81, in _train_internal\n",
      "    bst.update(dtrain, i, obj)\n",
      "  File \"/Users/raylinsoriano/anaconda3/lib/python3.8/site-packages/xgboost/core.py\", line 1499, in update\n",
      "    _check_call(_LIB.XGBoosterUpdateOneIter(self.handle,\n",
      "  File \"/Users/raylinsoriano/anaconda3/lib/python3.8/site-packages/xgboost/core.py\", line 210, in _check_call\n",
      "    raise XGBoostError(py_str(_LIB.XGBGetLastError()))\n",
      "xgboost.core.XGBoostError: value 2 for Parameter colsample_bytree exceed bound [0,1]\n",
      "colsample_bytree: Subsample ratio of columns, resample on each tree construction.\n",
      "\n",
      "  warnings.warn(\"Estimator fit failed. The score on this train-test\"\n",
      "/Users/raylinsoriano/anaconda3/lib/python3.8/site-packages/sklearn/model_selection/_validation.py:615: FitFailedWarning: Estimator fit failed. The score on this train-test partition for these parameters will be set to nan. Details: \n",
      "Traceback (most recent call last):\n",
      "  File \"/Users/raylinsoriano/anaconda3/lib/python3.8/site-packages/sklearn/model_selection/_validation.py\", line 598, in _fit_and_score\n",
      "    estimator.fit(X_train, y_train, **fit_params)\n",
      "  File \"/Users/raylinsoriano/anaconda3/lib/python3.8/site-packages/sklearn/pipeline.py\", line 346, in fit\n",
      "    self._final_estimator.fit(Xt, y, **fit_params_last_step)\n",
      "  File \"/Users/raylinsoriano/anaconda3/lib/python3.8/site-packages/xgboost/core.py\", line 436, in inner_f\n",
      "    return f(**kwargs)\n",
      "  File \"/Users/raylinsoriano/anaconda3/lib/python3.8/site-packages/xgboost/sklearn.py\", line 1176, in fit\n",
      "    self._Booster = train(\n",
      "  File \"/Users/raylinsoriano/anaconda3/lib/python3.8/site-packages/xgboost/training.py\", line 189, in train\n",
      "    bst = _train_internal(params, dtrain,\n",
      "  File \"/Users/raylinsoriano/anaconda3/lib/python3.8/site-packages/xgboost/training.py\", line 81, in _train_internal\n",
      "    bst.update(dtrain, i, obj)\n",
      "  File \"/Users/raylinsoriano/anaconda3/lib/python3.8/site-packages/xgboost/core.py\", line 1499, in update\n",
      "    _check_call(_LIB.XGBoosterUpdateOneIter(self.handle,\n",
      "  File \"/Users/raylinsoriano/anaconda3/lib/python3.8/site-packages/xgboost/core.py\", line 210, in _check_call\n",
      "    raise XGBoostError(py_str(_LIB.XGBGetLastError()))\n",
      "xgboost.core.XGBoostError: value 2 for Parameter colsample_bytree exceed bound [0,1]\n",
      "colsample_bytree: Subsample ratio of columns, resample on each tree construction.\n",
      "\n",
      "  warnings.warn(\"Estimator fit failed. The score on this train-test\"\n"
     ]
    },
    {
     "name": "stdout",
     "output_type": "stream",
     "text": [
      "[CV] END xgb__colsample_bytree=2, xgb__max_depth=10, xgb__min_child_weight=25; total time=   0.0s\n",
      "[CV] END xgb__colsample_bytree=2, xgb__max_depth=10, xgb__min_child_weight=25; total time=   0.0s\n",
      "[CV] END xgb__colsample_bytree=2, xgb__max_depth=10, xgb__min_child_weight=50; total time=   0.0s\n",
      "[CV] END xgb__colsample_bytree=2, xgb__max_depth=10, xgb__min_child_weight=50; total time=   0.0s\n",
      "[CV] END xgb__colsample_bytree=2, xgb__max_depth=10, xgb__min_child_weight=50; total time=   0.0s\n"
     ]
    },
    {
     "name": "stderr",
     "output_type": "stream",
     "text": [
      "/Users/raylinsoriano/anaconda3/lib/python3.8/site-packages/sklearn/model_selection/_validation.py:615: FitFailedWarning: Estimator fit failed. The score on this train-test partition for these parameters will be set to nan. Details: \n",
      "Traceback (most recent call last):\n",
      "  File \"/Users/raylinsoriano/anaconda3/lib/python3.8/site-packages/sklearn/model_selection/_validation.py\", line 598, in _fit_and_score\n",
      "    estimator.fit(X_train, y_train, **fit_params)\n",
      "  File \"/Users/raylinsoriano/anaconda3/lib/python3.8/site-packages/sklearn/pipeline.py\", line 346, in fit\n",
      "    self._final_estimator.fit(Xt, y, **fit_params_last_step)\n",
      "  File \"/Users/raylinsoriano/anaconda3/lib/python3.8/site-packages/xgboost/core.py\", line 436, in inner_f\n",
      "    return f(**kwargs)\n",
      "  File \"/Users/raylinsoriano/anaconda3/lib/python3.8/site-packages/xgboost/sklearn.py\", line 1176, in fit\n",
      "    self._Booster = train(\n",
      "  File \"/Users/raylinsoriano/anaconda3/lib/python3.8/site-packages/xgboost/training.py\", line 189, in train\n",
      "    bst = _train_internal(params, dtrain,\n",
      "  File \"/Users/raylinsoriano/anaconda3/lib/python3.8/site-packages/xgboost/training.py\", line 81, in _train_internal\n",
      "    bst.update(dtrain, i, obj)\n",
      "  File \"/Users/raylinsoriano/anaconda3/lib/python3.8/site-packages/xgboost/core.py\", line 1499, in update\n",
      "    _check_call(_LIB.XGBoosterUpdateOneIter(self.handle,\n",
      "  File \"/Users/raylinsoriano/anaconda3/lib/python3.8/site-packages/xgboost/core.py\", line 210, in _check_call\n",
      "    raise XGBoostError(py_str(_LIB.XGBGetLastError()))\n",
      "xgboost.core.XGBoostError: value 2 for Parameter colsample_bytree exceed bound [0,1]\n",
      "colsample_bytree: Subsample ratio of columns, resample on each tree construction.\n",
      "\n",
      "  warnings.warn(\"Estimator fit failed. The score on this train-test\"\n",
      "/Users/raylinsoriano/anaconda3/lib/python3.8/site-packages/sklearn/model_selection/_validation.py:615: FitFailedWarning: Estimator fit failed. The score on this train-test partition for these parameters will be set to nan. Details: \n",
      "Traceback (most recent call last):\n",
      "  File \"/Users/raylinsoriano/anaconda3/lib/python3.8/site-packages/sklearn/model_selection/_validation.py\", line 598, in _fit_and_score\n",
      "    estimator.fit(X_train, y_train, **fit_params)\n",
      "  File \"/Users/raylinsoriano/anaconda3/lib/python3.8/site-packages/sklearn/pipeline.py\", line 346, in fit\n",
      "    self._final_estimator.fit(Xt, y, **fit_params_last_step)\n",
      "  File \"/Users/raylinsoriano/anaconda3/lib/python3.8/site-packages/xgboost/core.py\", line 436, in inner_f\n",
      "    return f(**kwargs)\n",
      "  File \"/Users/raylinsoriano/anaconda3/lib/python3.8/site-packages/xgboost/sklearn.py\", line 1176, in fit\n",
      "    self._Booster = train(\n",
      "  File \"/Users/raylinsoriano/anaconda3/lib/python3.8/site-packages/xgboost/training.py\", line 189, in train\n",
      "    bst = _train_internal(params, dtrain,\n",
      "  File \"/Users/raylinsoriano/anaconda3/lib/python3.8/site-packages/xgboost/training.py\", line 81, in _train_internal\n",
      "    bst.update(dtrain, i, obj)\n",
      "  File \"/Users/raylinsoriano/anaconda3/lib/python3.8/site-packages/xgboost/core.py\", line 1499, in update\n",
      "    _check_call(_LIB.XGBoosterUpdateOneIter(self.handle,\n",
      "  File \"/Users/raylinsoriano/anaconda3/lib/python3.8/site-packages/xgboost/core.py\", line 210, in _check_call\n",
      "    raise XGBoostError(py_str(_LIB.XGBGetLastError()))\n",
      "xgboost.core.XGBoostError: value 2 for Parameter colsample_bytree exceed bound [0,1]\n",
      "colsample_bytree: Subsample ratio of columns, resample on each tree construction.\n",
      "\n",
      "  warnings.warn(\"Estimator fit failed. The score on this train-test\"\n",
      "/Users/raylinsoriano/anaconda3/lib/python3.8/site-packages/sklearn/model_selection/_validation.py:615: FitFailedWarning: Estimator fit failed. The score on this train-test partition for these parameters will be set to nan. Details: \n",
      "Traceback (most recent call last):\n",
      "  File \"/Users/raylinsoriano/anaconda3/lib/python3.8/site-packages/sklearn/model_selection/_validation.py\", line 598, in _fit_and_score\n",
      "    estimator.fit(X_train, y_train, **fit_params)\n",
      "  File \"/Users/raylinsoriano/anaconda3/lib/python3.8/site-packages/sklearn/pipeline.py\", line 346, in fit\n",
      "    self._final_estimator.fit(Xt, y, **fit_params_last_step)\n",
      "  File \"/Users/raylinsoriano/anaconda3/lib/python3.8/site-packages/xgboost/core.py\", line 436, in inner_f\n",
      "    return f(**kwargs)\n",
      "  File \"/Users/raylinsoriano/anaconda3/lib/python3.8/site-packages/xgboost/sklearn.py\", line 1176, in fit\n",
      "    self._Booster = train(\n",
      "  File \"/Users/raylinsoriano/anaconda3/lib/python3.8/site-packages/xgboost/training.py\", line 189, in train\n",
      "    bst = _train_internal(params, dtrain,\n",
      "  File \"/Users/raylinsoriano/anaconda3/lib/python3.8/site-packages/xgboost/training.py\", line 81, in _train_internal\n",
      "    bst.update(dtrain, i, obj)\n",
      "  File \"/Users/raylinsoriano/anaconda3/lib/python3.8/site-packages/xgboost/core.py\", line 1499, in update\n",
      "    _check_call(_LIB.XGBoosterUpdateOneIter(self.handle,\n",
      "  File \"/Users/raylinsoriano/anaconda3/lib/python3.8/site-packages/xgboost/core.py\", line 210, in _check_call\n",
      "    raise XGBoostError(py_str(_LIB.XGBGetLastError()))\n",
      "xgboost.core.XGBoostError: value 2 for Parameter colsample_bytree exceed bound [0,1]\n",
      "colsample_bytree: Subsample ratio of columns, resample on each tree construction.\n",
      "\n",
      "  warnings.warn(\"Estimator fit failed. The score on this train-test\"\n",
      "/Users/raylinsoriano/anaconda3/lib/python3.8/site-packages/sklearn/model_selection/_validation.py:615: FitFailedWarning: Estimator fit failed. The score on this train-test partition for these parameters will be set to nan. Details: \n",
      "Traceback (most recent call last):\n",
      "  File \"/Users/raylinsoriano/anaconda3/lib/python3.8/site-packages/sklearn/model_selection/_validation.py\", line 598, in _fit_and_score\n",
      "    estimator.fit(X_train, y_train, **fit_params)\n",
      "  File \"/Users/raylinsoriano/anaconda3/lib/python3.8/site-packages/sklearn/pipeline.py\", line 346, in fit\n",
      "    self._final_estimator.fit(Xt, y, **fit_params_last_step)\n",
      "  File \"/Users/raylinsoriano/anaconda3/lib/python3.8/site-packages/xgboost/core.py\", line 436, in inner_f\n",
      "    return f(**kwargs)\n",
      "  File \"/Users/raylinsoriano/anaconda3/lib/python3.8/site-packages/xgboost/sklearn.py\", line 1176, in fit\n",
      "    self._Booster = train(\n",
      "  File \"/Users/raylinsoriano/anaconda3/lib/python3.8/site-packages/xgboost/training.py\", line 189, in train\n",
      "    bst = _train_internal(params, dtrain,\n",
      "  File \"/Users/raylinsoriano/anaconda3/lib/python3.8/site-packages/xgboost/training.py\", line 81, in _train_internal\n",
      "    bst.update(dtrain, i, obj)\n",
      "  File \"/Users/raylinsoriano/anaconda3/lib/python3.8/site-packages/xgboost/core.py\", line 1499, in update\n",
      "    _check_call(_LIB.XGBoosterUpdateOneIter(self.handle,\n",
      "  File \"/Users/raylinsoriano/anaconda3/lib/python3.8/site-packages/xgboost/core.py\", line 210, in _check_call\n",
      "    raise XGBoostError(py_str(_LIB.XGBGetLastError()))\n",
      "xgboost.core.XGBoostError: value 2 for Parameter colsample_bytree exceed bound [0,1]\n",
      "colsample_bytree: Subsample ratio of columns, resample on each tree construction.\n",
      "\n",
      "  warnings.warn(\"Estimator fit failed. The score on this train-test\"\n",
      "/Users/raylinsoriano/anaconda3/lib/python3.8/site-packages/sklearn/model_selection/_validation.py:615: FitFailedWarning: Estimator fit failed. The score on this train-test partition for these parameters will be set to nan. Details: \n",
      "Traceback (most recent call last):\n",
      "  File \"/Users/raylinsoriano/anaconda3/lib/python3.8/site-packages/sklearn/model_selection/_validation.py\", line 598, in _fit_and_score\n",
      "    estimator.fit(X_train, y_train, **fit_params)\n",
      "  File \"/Users/raylinsoriano/anaconda3/lib/python3.8/site-packages/sklearn/pipeline.py\", line 346, in fit\n",
      "    self._final_estimator.fit(Xt, y, **fit_params_last_step)\n",
      "  File \"/Users/raylinsoriano/anaconda3/lib/python3.8/site-packages/xgboost/core.py\", line 436, in inner_f\n",
      "    return f(**kwargs)\n",
      "  File \"/Users/raylinsoriano/anaconda3/lib/python3.8/site-packages/xgboost/sklearn.py\", line 1176, in fit\n",
      "    self._Booster = train(\n",
      "  File \"/Users/raylinsoriano/anaconda3/lib/python3.8/site-packages/xgboost/training.py\", line 189, in train\n",
      "    bst = _train_internal(params, dtrain,\n",
      "  File \"/Users/raylinsoriano/anaconda3/lib/python3.8/site-packages/xgboost/training.py\", line 81, in _train_internal\n",
      "    bst.update(dtrain, i, obj)\n",
      "  File \"/Users/raylinsoriano/anaconda3/lib/python3.8/site-packages/xgboost/core.py\", line 1499, in update\n",
      "    _check_call(_LIB.XGBoosterUpdateOneIter(self.handle,\n",
      "  File \"/Users/raylinsoriano/anaconda3/lib/python3.8/site-packages/xgboost/core.py\", line 210, in _check_call\n",
      "    raise XGBoostError(py_str(_LIB.XGBGetLastError()))\n",
      "xgboost.core.XGBoostError: value 2 for Parameter colsample_bytree exceed bound [0,1]\n",
      "colsample_bytree: Subsample ratio of columns, resample on each tree construction.\n",
      "\n",
      "  warnings.warn(\"Estimator fit failed. The score on this train-test\"\n"
     ]
    },
    {
     "name": "stdout",
     "output_type": "stream",
     "text": [
      "[CV] END xgb__colsample_bytree=2, xgb__max_depth=10, xgb__min_child_weight=50; total time=   0.0s\n",
      "[CV] END xgb__colsample_bytree=2, xgb__max_depth=10, xgb__min_child_weight=50; total time=   0.0s\n",
      "[CV] END xgb__colsample_bytree=2, xgb__max_depth=15, xgb__min_child_weight=10; total time=   0.0s\n",
      "[CV] END xgb__colsample_bytree=2, xgb__max_depth=15, xgb__min_child_weight=10; total time=   0.0s\n",
      "[CV] END xgb__colsample_bytree=2, xgb__max_depth=15, xgb__min_child_weight=10; total time=   0.0s\n"
     ]
    },
    {
     "name": "stderr",
     "output_type": "stream",
     "text": [
      "/Users/raylinsoriano/anaconda3/lib/python3.8/site-packages/sklearn/model_selection/_validation.py:615: FitFailedWarning: Estimator fit failed. The score on this train-test partition for these parameters will be set to nan. Details: \n",
      "Traceback (most recent call last):\n",
      "  File \"/Users/raylinsoriano/anaconda3/lib/python3.8/site-packages/sklearn/model_selection/_validation.py\", line 598, in _fit_and_score\n",
      "    estimator.fit(X_train, y_train, **fit_params)\n",
      "  File \"/Users/raylinsoriano/anaconda3/lib/python3.8/site-packages/sklearn/pipeline.py\", line 346, in fit\n",
      "    self._final_estimator.fit(Xt, y, **fit_params_last_step)\n",
      "  File \"/Users/raylinsoriano/anaconda3/lib/python3.8/site-packages/xgboost/core.py\", line 436, in inner_f\n",
      "    return f(**kwargs)\n",
      "  File \"/Users/raylinsoriano/anaconda3/lib/python3.8/site-packages/xgboost/sklearn.py\", line 1176, in fit\n",
      "    self._Booster = train(\n",
      "  File \"/Users/raylinsoriano/anaconda3/lib/python3.8/site-packages/xgboost/training.py\", line 189, in train\n",
      "    bst = _train_internal(params, dtrain,\n",
      "  File \"/Users/raylinsoriano/anaconda3/lib/python3.8/site-packages/xgboost/training.py\", line 81, in _train_internal\n",
      "    bst.update(dtrain, i, obj)\n",
      "  File \"/Users/raylinsoriano/anaconda3/lib/python3.8/site-packages/xgboost/core.py\", line 1499, in update\n",
      "    _check_call(_LIB.XGBoosterUpdateOneIter(self.handle,\n",
      "  File \"/Users/raylinsoriano/anaconda3/lib/python3.8/site-packages/xgboost/core.py\", line 210, in _check_call\n",
      "    raise XGBoostError(py_str(_LIB.XGBGetLastError()))\n",
      "xgboost.core.XGBoostError: value 2 for Parameter colsample_bytree exceed bound [0,1]\n",
      "colsample_bytree: Subsample ratio of columns, resample on each tree construction.\n",
      "\n",
      "  warnings.warn(\"Estimator fit failed. The score on this train-test\"\n",
      "/Users/raylinsoriano/anaconda3/lib/python3.8/site-packages/sklearn/model_selection/_validation.py:615: FitFailedWarning: Estimator fit failed. The score on this train-test partition for these parameters will be set to nan. Details: \n",
      "Traceback (most recent call last):\n",
      "  File \"/Users/raylinsoriano/anaconda3/lib/python3.8/site-packages/sklearn/model_selection/_validation.py\", line 598, in _fit_and_score\n",
      "    estimator.fit(X_train, y_train, **fit_params)\n",
      "  File \"/Users/raylinsoriano/anaconda3/lib/python3.8/site-packages/sklearn/pipeline.py\", line 346, in fit\n",
      "    self._final_estimator.fit(Xt, y, **fit_params_last_step)\n",
      "  File \"/Users/raylinsoriano/anaconda3/lib/python3.8/site-packages/xgboost/core.py\", line 436, in inner_f\n",
      "    return f(**kwargs)\n",
      "  File \"/Users/raylinsoriano/anaconda3/lib/python3.8/site-packages/xgboost/sklearn.py\", line 1176, in fit\n",
      "    self._Booster = train(\n",
      "  File \"/Users/raylinsoriano/anaconda3/lib/python3.8/site-packages/xgboost/training.py\", line 189, in train\n",
      "    bst = _train_internal(params, dtrain,\n",
      "  File \"/Users/raylinsoriano/anaconda3/lib/python3.8/site-packages/xgboost/training.py\", line 81, in _train_internal\n",
      "    bst.update(dtrain, i, obj)\n",
      "  File \"/Users/raylinsoriano/anaconda3/lib/python3.8/site-packages/xgboost/core.py\", line 1499, in update\n",
      "    _check_call(_LIB.XGBoosterUpdateOneIter(self.handle,\n",
      "  File \"/Users/raylinsoriano/anaconda3/lib/python3.8/site-packages/xgboost/core.py\", line 210, in _check_call\n",
      "    raise XGBoostError(py_str(_LIB.XGBGetLastError()))\n",
      "xgboost.core.XGBoostError: value 2 for Parameter colsample_bytree exceed bound [0,1]\n",
      "colsample_bytree: Subsample ratio of columns, resample on each tree construction.\n",
      "\n",
      "  warnings.warn(\"Estimator fit failed. The score on this train-test\"\n",
      "/Users/raylinsoriano/anaconda3/lib/python3.8/site-packages/sklearn/model_selection/_validation.py:615: FitFailedWarning: Estimator fit failed. The score on this train-test partition for these parameters will be set to nan. Details: \n",
      "Traceback (most recent call last):\n",
      "  File \"/Users/raylinsoriano/anaconda3/lib/python3.8/site-packages/sklearn/model_selection/_validation.py\", line 598, in _fit_and_score\n",
      "    estimator.fit(X_train, y_train, **fit_params)\n",
      "  File \"/Users/raylinsoriano/anaconda3/lib/python3.8/site-packages/sklearn/pipeline.py\", line 346, in fit\n",
      "    self._final_estimator.fit(Xt, y, **fit_params_last_step)\n",
      "  File \"/Users/raylinsoriano/anaconda3/lib/python3.8/site-packages/xgboost/core.py\", line 436, in inner_f\n",
      "    return f(**kwargs)\n",
      "  File \"/Users/raylinsoriano/anaconda3/lib/python3.8/site-packages/xgboost/sklearn.py\", line 1176, in fit\n",
      "    self._Booster = train(\n",
      "  File \"/Users/raylinsoriano/anaconda3/lib/python3.8/site-packages/xgboost/training.py\", line 189, in train\n",
      "    bst = _train_internal(params, dtrain,\n",
      "  File \"/Users/raylinsoriano/anaconda3/lib/python3.8/site-packages/xgboost/training.py\", line 81, in _train_internal\n",
      "    bst.update(dtrain, i, obj)\n",
      "  File \"/Users/raylinsoriano/anaconda3/lib/python3.8/site-packages/xgboost/core.py\", line 1499, in update\n",
      "    _check_call(_LIB.XGBoosterUpdateOneIter(self.handle,\n",
      "  File \"/Users/raylinsoriano/anaconda3/lib/python3.8/site-packages/xgboost/core.py\", line 210, in _check_call\n",
      "    raise XGBoostError(py_str(_LIB.XGBGetLastError()))\n",
      "xgboost.core.XGBoostError: value 2 for Parameter colsample_bytree exceed bound [0,1]\n",
      "colsample_bytree: Subsample ratio of columns, resample on each tree construction.\n",
      "\n",
      "  warnings.warn(\"Estimator fit failed. The score on this train-test\"\n",
      "/Users/raylinsoriano/anaconda3/lib/python3.8/site-packages/sklearn/model_selection/_validation.py:615: FitFailedWarning: Estimator fit failed. The score on this train-test partition for these parameters will be set to nan. Details: \n",
      "Traceback (most recent call last):\n",
      "  File \"/Users/raylinsoriano/anaconda3/lib/python3.8/site-packages/sklearn/model_selection/_validation.py\", line 598, in _fit_and_score\n",
      "    estimator.fit(X_train, y_train, **fit_params)\n",
      "  File \"/Users/raylinsoriano/anaconda3/lib/python3.8/site-packages/sklearn/pipeline.py\", line 346, in fit\n",
      "    self._final_estimator.fit(Xt, y, **fit_params_last_step)\n",
      "  File \"/Users/raylinsoriano/anaconda3/lib/python3.8/site-packages/xgboost/core.py\", line 436, in inner_f\n",
      "    return f(**kwargs)\n",
      "  File \"/Users/raylinsoriano/anaconda3/lib/python3.8/site-packages/xgboost/sklearn.py\", line 1176, in fit\n",
      "    self._Booster = train(\n",
      "  File \"/Users/raylinsoriano/anaconda3/lib/python3.8/site-packages/xgboost/training.py\", line 189, in train\n",
      "    bst = _train_internal(params, dtrain,\n",
      "  File \"/Users/raylinsoriano/anaconda3/lib/python3.8/site-packages/xgboost/training.py\", line 81, in _train_internal\n",
      "    bst.update(dtrain, i, obj)\n",
      "  File \"/Users/raylinsoriano/anaconda3/lib/python3.8/site-packages/xgboost/core.py\", line 1499, in update\n",
      "    _check_call(_LIB.XGBoosterUpdateOneIter(self.handle,\n",
      "  File \"/Users/raylinsoriano/anaconda3/lib/python3.8/site-packages/xgboost/core.py\", line 210, in _check_call\n",
      "    raise XGBoostError(py_str(_LIB.XGBGetLastError()))\n",
      "xgboost.core.XGBoostError: value 2 for Parameter colsample_bytree exceed bound [0,1]\n",
      "colsample_bytree: Subsample ratio of columns, resample on each tree construction.\n",
      "\n",
      "  warnings.warn(\"Estimator fit failed. The score on this train-test\"\n",
      "/Users/raylinsoriano/anaconda3/lib/python3.8/site-packages/sklearn/model_selection/_validation.py:615: FitFailedWarning: Estimator fit failed. The score on this train-test partition for these parameters will be set to nan. Details: \n",
      "Traceback (most recent call last):\n",
      "  File \"/Users/raylinsoriano/anaconda3/lib/python3.8/site-packages/sklearn/model_selection/_validation.py\", line 598, in _fit_and_score\n",
      "    estimator.fit(X_train, y_train, **fit_params)\n",
      "  File \"/Users/raylinsoriano/anaconda3/lib/python3.8/site-packages/sklearn/pipeline.py\", line 346, in fit\n",
      "    self._final_estimator.fit(Xt, y, **fit_params_last_step)\n",
      "  File \"/Users/raylinsoriano/anaconda3/lib/python3.8/site-packages/xgboost/core.py\", line 436, in inner_f\n",
      "    return f(**kwargs)\n",
      "  File \"/Users/raylinsoriano/anaconda3/lib/python3.8/site-packages/xgboost/sklearn.py\", line 1176, in fit\n",
      "    self._Booster = train(\n",
      "  File \"/Users/raylinsoriano/anaconda3/lib/python3.8/site-packages/xgboost/training.py\", line 189, in train\n",
      "    bst = _train_internal(params, dtrain,\n",
      "  File \"/Users/raylinsoriano/anaconda3/lib/python3.8/site-packages/xgboost/training.py\", line 81, in _train_internal\n",
      "    bst.update(dtrain, i, obj)\n",
      "  File \"/Users/raylinsoriano/anaconda3/lib/python3.8/site-packages/xgboost/core.py\", line 1499, in update\n",
      "    _check_call(_LIB.XGBoosterUpdateOneIter(self.handle,\n",
      "  File \"/Users/raylinsoriano/anaconda3/lib/python3.8/site-packages/xgboost/core.py\", line 210, in _check_call\n",
      "    raise XGBoostError(py_str(_LIB.XGBGetLastError()))\n",
      "xgboost.core.XGBoostError: value 2 for Parameter colsample_bytree exceed bound [0,1]\n",
      "colsample_bytree: Subsample ratio of columns, resample on each tree construction.\n",
      "\n",
      "  warnings.warn(\"Estimator fit failed. The score on this train-test\"\n"
     ]
    },
    {
     "name": "stdout",
     "output_type": "stream",
     "text": [
      "[CV] END xgb__colsample_bytree=2, xgb__max_depth=15, xgb__min_child_weight=10; total time=   0.0s\n",
      "[CV] END xgb__colsample_bytree=2, xgb__max_depth=15, xgb__min_child_weight=10; total time=   0.0s\n",
      "[CV] END xgb__colsample_bytree=2, xgb__max_depth=15, xgb__min_child_weight=25; total time=   0.0s\n",
      "[CV] END xgb__colsample_bytree=2, xgb__max_depth=15, xgb__min_child_weight=25; total time=   0.0s\n",
      "[CV] END xgb__colsample_bytree=2, xgb__max_depth=15, xgb__min_child_weight=25; total time=   0.0s\n"
     ]
    },
    {
     "name": "stderr",
     "output_type": "stream",
     "text": [
      "/Users/raylinsoriano/anaconda3/lib/python3.8/site-packages/sklearn/model_selection/_validation.py:615: FitFailedWarning: Estimator fit failed. The score on this train-test partition for these parameters will be set to nan. Details: \n",
      "Traceback (most recent call last):\n",
      "  File \"/Users/raylinsoriano/anaconda3/lib/python3.8/site-packages/sklearn/model_selection/_validation.py\", line 598, in _fit_and_score\n",
      "    estimator.fit(X_train, y_train, **fit_params)\n",
      "  File \"/Users/raylinsoriano/anaconda3/lib/python3.8/site-packages/sklearn/pipeline.py\", line 346, in fit\n",
      "    self._final_estimator.fit(Xt, y, **fit_params_last_step)\n",
      "  File \"/Users/raylinsoriano/anaconda3/lib/python3.8/site-packages/xgboost/core.py\", line 436, in inner_f\n",
      "    return f(**kwargs)\n",
      "  File \"/Users/raylinsoriano/anaconda3/lib/python3.8/site-packages/xgboost/sklearn.py\", line 1176, in fit\n",
      "    self._Booster = train(\n",
      "  File \"/Users/raylinsoriano/anaconda3/lib/python3.8/site-packages/xgboost/training.py\", line 189, in train\n",
      "    bst = _train_internal(params, dtrain,\n",
      "  File \"/Users/raylinsoriano/anaconda3/lib/python3.8/site-packages/xgboost/training.py\", line 81, in _train_internal\n",
      "    bst.update(dtrain, i, obj)\n",
      "  File \"/Users/raylinsoriano/anaconda3/lib/python3.8/site-packages/xgboost/core.py\", line 1499, in update\n",
      "    _check_call(_LIB.XGBoosterUpdateOneIter(self.handle,\n",
      "  File \"/Users/raylinsoriano/anaconda3/lib/python3.8/site-packages/xgboost/core.py\", line 210, in _check_call\n",
      "    raise XGBoostError(py_str(_LIB.XGBGetLastError()))\n",
      "xgboost.core.XGBoostError: value 2 for Parameter colsample_bytree exceed bound [0,1]\n",
      "colsample_bytree: Subsample ratio of columns, resample on each tree construction.\n",
      "\n",
      "  warnings.warn(\"Estimator fit failed. The score on this train-test\"\n",
      "/Users/raylinsoriano/anaconda3/lib/python3.8/site-packages/sklearn/model_selection/_validation.py:615: FitFailedWarning: Estimator fit failed. The score on this train-test partition for these parameters will be set to nan. Details: \n",
      "Traceback (most recent call last):\n",
      "  File \"/Users/raylinsoriano/anaconda3/lib/python3.8/site-packages/sklearn/model_selection/_validation.py\", line 598, in _fit_and_score\n",
      "    estimator.fit(X_train, y_train, **fit_params)\n",
      "  File \"/Users/raylinsoriano/anaconda3/lib/python3.8/site-packages/sklearn/pipeline.py\", line 346, in fit\n",
      "    self._final_estimator.fit(Xt, y, **fit_params_last_step)\n",
      "  File \"/Users/raylinsoriano/anaconda3/lib/python3.8/site-packages/xgboost/core.py\", line 436, in inner_f\n",
      "    return f(**kwargs)\n",
      "  File \"/Users/raylinsoriano/anaconda3/lib/python3.8/site-packages/xgboost/sklearn.py\", line 1176, in fit\n",
      "    self._Booster = train(\n",
      "  File \"/Users/raylinsoriano/anaconda3/lib/python3.8/site-packages/xgboost/training.py\", line 189, in train\n",
      "    bst = _train_internal(params, dtrain,\n",
      "  File \"/Users/raylinsoriano/anaconda3/lib/python3.8/site-packages/xgboost/training.py\", line 81, in _train_internal\n",
      "    bst.update(dtrain, i, obj)\n",
      "  File \"/Users/raylinsoriano/anaconda3/lib/python3.8/site-packages/xgboost/core.py\", line 1499, in update\n",
      "    _check_call(_LIB.XGBoosterUpdateOneIter(self.handle,\n",
      "  File \"/Users/raylinsoriano/anaconda3/lib/python3.8/site-packages/xgboost/core.py\", line 210, in _check_call\n",
      "    raise XGBoostError(py_str(_LIB.XGBGetLastError()))\n",
      "xgboost.core.XGBoostError: value 2 for Parameter colsample_bytree exceed bound [0,1]\n",
      "colsample_bytree: Subsample ratio of columns, resample on each tree construction.\n",
      "\n",
      "  warnings.warn(\"Estimator fit failed. The score on this train-test\"\n",
      "/Users/raylinsoriano/anaconda3/lib/python3.8/site-packages/sklearn/model_selection/_validation.py:615: FitFailedWarning: Estimator fit failed. The score on this train-test partition for these parameters will be set to nan. Details: \n",
      "Traceback (most recent call last):\n",
      "  File \"/Users/raylinsoriano/anaconda3/lib/python3.8/site-packages/sklearn/model_selection/_validation.py\", line 598, in _fit_and_score\n",
      "    estimator.fit(X_train, y_train, **fit_params)\n",
      "  File \"/Users/raylinsoriano/anaconda3/lib/python3.8/site-packages/sklearn/pipeline.py\", line 346, in fit\n",
      "    self._final_estimator.fit(Xt, y, **fit_params_last_step)\n",
      "  File \"/Users/raylinsoriano/anaconda3/lib/python3.8/site-packages/xgboost/core.py\", line 436, in inner_f\n",
      "    return f(**kwargs)\n",
      "  File \"/Users/raylinsoriano/anaconda3/lib/python3.8/site-packages/xgboost/sklearn.py\", line 1176, in fit\n",
      "    self._Booster = train(\n",
      "  File \"/Users/raylinsoriano/anaconda3/lib/python3.8/site-packages/xgboost/training.py\", line 189, in train\n",
      "    bst = _train_internal(params, dtrain,\n",
      "  File \"/Users/raylinsoriano/anaconda3/lib/python3.8/site-packages/xgboost/training.py\", line 81, in _train_internal\n",
      "    bst.update(dtrain, i, obj)\n",
      "  File \"/Users/raylinsoriano/anaconda3/lib/python3.8/site-packages/xgboost/core.py\", line 1499, in update\n",
      "    _check_call(_LIB.XGBoosterUpdateOneIter(self.handle,\n",
      "  File \"/Users/raylinsoriano/anaconda3/lib/python3.8/site-packages/xgboost/core.py\", line 210, in _check_call\n",
      "    raise XGBoostError(py_str(_LIB.XGBGetLastError()))\n",
      "xgboost.core.XGBoostError: value 2 for Parameter colsample_bytree exceed bound [0,1]\n",
      "colsample_bytree: Subsample ratio of columns, resample on each tree construction.\n",
      "\n",
      "  warnings.warn(\"Estimator fit failed. The score on this train-test\"\n",
      "/Users/raylinsoriano/anaconda3/lib/python3.8/site-packages/sklearn/model_selection/_validation.py:615: FitFailedWarning: Estimator fit failed. The score on this train-test partition for these parameters will be set to nan. Details: \n",
      "Traceback (most recent call last):\n",
      "  File \"/Users/raylinsoriano/anaconda3/lib/python3.8/site-packages/sklearn/model_selection/_validation.py\", line 598, in _fit_and_score\n",
      "    estimator.fit(X_train, y_train, **fit_params)\n",
      "  File \"/Users/raylinsoriano/anaconda3/lib/python3.8/site-packages/sklearn/pipeline.py\", line 346, in fit\n",
      "    self._final_estimator.fit(Xt, y, **fit_params_last_step)\n",
      "  File \"/Users/raylinsoriano/anaconda3/lib/python3.8/site-packages/xgboost/core.py\", line 436, in inner_f\n",
      "    return f(**kwargs)\n",
      "  File \"/Users/raylinsoriano/anaconda3/lib/python3.8/site-packages/xgboost/sklearn.py\", line 1176, in fit\n",
      "    self._Booster = train(\n",
      "  File \"/Users/raylinsoriano/anaconda3/lib/python3.8/site-packages/xgboost/training.py\", line 189, in train\n",
      "    bst = _train_internal(params, dtrain,\n",
      "  File \"/Users/raylinsoriano/anaconda3/lib/python3.8/site-packages/xgboost/training.py\", line 81, in _train_internal\n",
      "    bst.update(dtrain, i, obj)\n",
      "  File \"/Users/raylinsoriano/anaconda3/lib/python3.8/site-packages/xgboost/core.py\", line 1499, in update\n",
      "    _check_call(_LIB.XGBoosterUpdateOneIter(self.handle,\n",
      "  File \"/Users/raylinsoriano/anaconda3/lib/python3.8/site-packages/xgboost/core.py\", line 210, in _check_call\n",
      "    raise XGBoostError(py_str(_LIB.XGBGetLastError()))\n",
      "xgboost.core.XGBoostError: value 2 for Parameter colsample_bytree exceed bound [0,1]\n",
      "colsample_bytree: Subsample ratio of columns, resample on each tree construction.\n",
      "\n",
      "  warnings.warn(\"Estimator fit failed. The score on this train-test\"\n",
      "/Users/raylinsoriano/anaconda3/lib/python3.8/site-packages/sklearn/model_selection/_validation.py:615: FitFailedWarning: Estimator fit failed. The score on this train-test partition for these parameters will be set to nan. Details: \n",
      "Traceback (most recent call last):\n",
      "  File \"/Users/raylinsoriano/anaconda3/lib/python3.8/site-packages/sklearn/model_selection/_validation.py\", line 598, in _fit_and_score\n",
      "    estimator.fit(X_train, y_train, **fit_params)\n",
      "  File \"/Users/raylinsoriano/anaconda3/lib/python3.8/site-packages/sklearn/pipeline.py\", line 346, in fit\n",
      "    self._final_estimator.fit(Xt, y, **fit_params_last_step)\n",
      "  File \"/Users/raylinsoriano/anaconda3/lib/python3.8/site-packages/xgboost/core.py\", line 436, in inner_f\n",
      "    return f(**kwargs)\n",
      "  File \"/Users/raylinsoriano/anaconda3/lib/python3.8/site-packages/xgboost/sklearn.py\", line 1176, in fit\n",
      "    self._Booster = train(\n",
      "  File \"/Users/raylinsoriano/anaconda3/lib/python3.8/site-packages/xgboost/training.py\", line 189, in train\n",
      "    bst = _train_internal(params, dtrain,\n",
      "  File \"/Users/raylinsoriano/anaconda3/lib/python3.8/site-packages/xgboost/training.py\", line 81, in _train_internal\n",
      "    bst.update(dtrain, i, obj)\n",
      "  File \"/Users/raylinsoriano/anaconda3/lib/python3.8/site-packages/xgboost/core.py\", line 1499, in update\n",
      "    _check_call(_LIB.XGBoosterUpdateOneIter(self.handle,\n",
      "  File \"/Users/raylinsoriano/anaconda3/lib/python3.8/site-packages/xgboost/core.py\", line 210, in _check_call\n",
      "    raise XGBoostError(py_str(_LIB.XGBGetLastError()))\n",
      "xgboost.core.XGBoostError: value 2 for Parameter colsample_bytree exceed bound [0,1]\n",
      "colsample_bytree: Subsample ratio of columns, resample on each tree construction.\n",
      "\n",
      "  warnings.warn(\"Estimator fit failed. The score on this train-test\"\n"
     ]
    },
    {
     "name": "stdout",
     "output_type": "stream",
     "text": [
      "[CV] END xgb__colsample_bytree=2, xgb__max_depth=15, xgb__min_child_weight=25; total time=   0.0s\n",
      "[CV] END xgb__colsample_bytree=2, xgb__max_depth=15, xgb__min_child_weight=25; total time=   0.0s\n",
      "[CV] END xgb__colsample_bytree=2, xgb__max_depth=15, xgb__min_child_weight=50; total time=   0.0s\n",
      "[CV] END xgb__colsample_bytree=2, xgb__max_depth=15, xgb__min_child_weight=50; total time=   0.0s\n",
      "[CV] END xgb__colsample_bytree=2, xgb__max_depth=15, xgb__min_child_weight=50; total time=   0.0s\n"
     ]
    },
    {
     "name": "stderr",
     "output_type": "stream",
     "text": [
      "/Users/raylinsoriano/anaconda3/lib/python3.8/site-packages/sklearn/model_selection/_validation.py:615: FitFailedWarning: Estimator fit failed. The score on this train-test partition for these parameters will be set to nan. Details: \n",
      "Traceback (most recent call last):\n",
      "  File \"/Users/raylinsoriano/anaconda3/lib/python3.8/site-packages/sklearn/model_selection/_validation.py\", line 598, in _fit_and_score\n",
      "    estimator.fit(X_train, y_train, **fit_params)\n",
      "  File \"/Users/raylinsoriano/anaconda3/lib/python3.8/site-packages/sklearn/pipeline.py\", line 346, in fit\n",
      "    self._final_estimator.fit(Xt, y, **fit_params_last_step)\n",
      "  File \"/Users/raylinsoriano/anaconda3/lib/python3.8/site-packages/xgboost/core.py\", line 436, in inner_f\n",
      "    return f(**kwargs)\n",
      "  File \"/Users/raylinsoriano/anaconda3/lib/python3.8/site-packages/xgboost/sklearn.py\", line 1176, in fit\n",
      "    self._Booster = train(\n",
      "  File \"/Users/raylinsoriano/anaconda3/lib/python3.8/site-packages/xgboost/training.py\", line 189, in train\n",
      "    bst = _train_internal(params, dtrain,\n",
      "  File \"/Users/raylinsoriano/anaconda3/lib/python3.8/site-packages/xgboost/training.py\", line 81, in _train_internal\n",
      "    bst.update(dtrain, i, obj)\n",
      "  File \"/Users/raylinsoriano/anaconda3/lib/python3.8/site-packages/xgboost/core.py\", line 1499, in update\n",
      "    _check_call(_LIB.XGBoosterUpdateOneIter(self.handle,\n",
      "  File \"/Users/raylinsoriano/anaconda3/lib/python3.8/site-packages/xgboost/core.py\", line 210, in _check_call\n",
      "    raise XGBoostError(py_str(_LIB.XGBGetLastError()))\n",
      "xgboost.core.XGBoostError: value 2 for Parameter colsample_bytree exceed bound [0,1]\n",
      "colsample_bytree: Subsample ratio of columns, resample on each tree construction.\n",
      "\n",
      "  warnings.warn(\"Estimator fit failed. The score on this train-test\"\n",
      "/Users/raylinsoriano/anaconda3/lib/python3.8/site-packages/sklearn/model_selection/_validation.py:615: FitFailedWarning: Estimator fit failed. The score on this train-test partition for these parameters will be set to nan. Details: \n",
      "Traceback (most recent call last):\n",
      "  File \"/Users/raylinsoriano/anaconda3/lib/python3.8/site-packages/sklearn/model_selection/_validation.py\", line 598, in _fit_and_score\n",
      "    estimator.fit(X_train, y_train, **fit_params)\n",
      "  File \"/Users/raylinsoriano/anaconda3/lib/python3.8/site-packages/sklearn/pipeline.py\", line 346, in fit\n",
      "    self._final_estimator.fit(Xt, y, **fit_params_last_step)\n",
      "  File \"/Users/raylinsoriano/anaconda3/lib/python3.8/site-packages/xgboost/core.py\", line 436, in inner_f\n",
      "    return f(**kwargs)\n",
      "  File \"/Users/raylinsoriano/anaconda3/lib/python3.8/site-packages/xgboost/sklearn.py\", line 1176, in fit\n",
      "    self._Booster = train(\n",
      "  File \"/Users/raylinsoriano/anaconda3/lib/python3.8/site-packages/xgboost/training.py\", line 189, in train\n",
      "    bst = _train_internal(params, dtrain,\n",
      "  File \"/Users/raylinsoriano/anaconda3/lib/python3.8/site-packages/xgboost/training.py\", line 81, in _train_internal\n",
      "    bst.update(dtrain, i, obj)\n",
      "  File \"/Users/raylinsoriano/anaconda3/lib/python3.8/site-packages/xgboost/core.py\", line 1499, in update\n",
      "    _check_call(_LIB.XGBoosterUpdateOneIter(self.handle,\n",
      "  File \"/Users/raylinsoriano/anaconda3/lib/python3.8/site-packages/xgboost/core.py\", line 210, in _check_call\n",
      "    raise XGBoostError(py_str(_LIB.XGBGetLastError()))\n",
      "xgboost.core.XGBoostError: value 2 for Parameter colsample_bytree exceed bound [0,1]\n",
      "colsample_bytree: Subsample ratio of columns, resample on each tree construction.\n",
      "\n",
      "  warnings.warn(\"Estimator fit failed. The score on this train-test\"\n",
      "/Users/raylinsoriano/anaconda3/lib/python3.8/site-packages/sklearn/model_selection/_validation.py:615: FitFailedWarning: Estimator fit failed. The score on this train-test partition for these parameters will be set to nan. Details: \n",
      "Traceback (most recent call last):\n",
      "  File \"/Users/raylinsoriano/anaconda3/lib/python3.8/site-packages/sklearn/model_selection/_validation.py\", line 598, in _fit_and_score\n",
      "    estimator.fit(X_train, y_train, **fit_params)\n",
      "  File \"/Users/raylinsoriano/anaconda3/lib/python3.8/site-packages/sklearn/pipeline.py\", line 346, in fit\n",
      "    self._final_estimator.fit(Xt, y, **fit_params_last_step)\n",
      "  File \"/Users/raylinsoriano/anaconda3/lib/python3.8/site-packages/xgboost/core.py\", line 436, in inner_f\n",
      "    return f(**kwargs)\n",
      "  File \"/Users/raylinsoriano/anaconda3/lib/python3.8/site-packages/xgboost/sklearn.py\", line 1176, in fit\n",
      "    self._Booster = train(\n",
      "  File \"/Users/raylinsoriano/anaconda3/lib/python3.8/site-packages/xgboost/training.py\", line 189, in train\n",
      "    bst = _train_internal(params, dtrain,\n",
      "  File \"/Users/raylinsoriano/anaconda3/lib/python3.8/site-packages/xgboost/training.py\", line 81, in _train_internal\n",
      "    bst.update(dtrain, i, obj)\n",
      "  File \"/Users/raylinsoriano/anaconda3/lib/python3.8/site-packages/xgboost/core.py\", line 1499, in update\n",
      "    _check_call(_LIB.XGBoosterUpdateOneIter(self.handle,\n",
      "  File \"/Users/raylinsoriano/anaconda3/lib/python3.8/site-packages/xgboost/core.py\", line 210, in _check_call\n",
      "    raise XGBoostError(py_str(_LIB.XGBGetLastError()))\n",
      "xgboost.core.XGBoostError: value 2 for Parameter colsample_bytree exceed bound [0,1]\n",
      "colsample_bytree: Subsample ratio of columns, resample on each tree construction.\n",
      "\n",
      "  warnings.warn(\"Estimator fit failed. The score on this train-test\"\n",
      "/Users/raylinsoriano/anaconda3/lib/python3.8/site-packages/sklearn/model_selection/_validation.py:615: FitFailedWarning: Estimator fit failed. The score on this train-test partition for these parameters will be set to nan. Details: \n",
      "Traceback (most recent call last):\n",
      "  File \"/Users/raylinsoriano/anaconda3/lib/python3.8/site-packages/sklearn/model_selection/_validation.py\", line 598, in _fit_and_score\n",
      "    estimator.fit(X_train, y_train, **fit_params)\n",
      "  File \"/Users/raylinsoriano/anaconda3/lib/python3.8/site-packages/sklearn/pipeline.py\", line 346, in fit\n",
      "    self._final_estimator.fit(Xt, y, **fit_params_last_step)\n",
      "  File \"/Users/raylinsoriano/anaconda3/lib/python3.8/site-packages/xgboost/core.py\", line 436, in inner_f\n",
      "    return f(**kwargs)\n",
      "  File \"/Users/raylinsoriano/anaconda3/lib/python3.8/site-packages/xgboost/sklearn.py\", line 1176, in fit\n",
      "    self._Booster = train(\n",
      "  File \"/Users/raylinsoriano/anaconda3/lib/python3.8/site-packages/xgboost/training.py\", line 189, in train\n",
      "    bst = _train_internal(params, dtrain,\n",
      "  File \"/Users/raylinsoriano/anaconda3/lib/python3.8/site-packages/xgboost/training.py\", line 81, in _train_internal\n",
      "    bst.update(dtrain, i, obj)\n",
      "  File \"/Users/raylinsoriano/anaconda3/lib/python3.8/site-packages/xgboost/core.py\", line 1499, in update\n",
      "    _check_call(_LIB.XGBoosterUpdateOneIter(self.handle,\n",
      "  File \"/Users/raylinsoriano/anaconda3/lib/python3.8/site-packages/xgboost/core.py\", line 210, in _check_call\n",
      "    raise XGBoostError(py_str(_LIB.XGBGetLastError()))\n",
      "xgboost.core.XGBoostError: value 2 for Parameter colsample_bytree exceed bound [0,1]\n",
      "colsample_bytree: Subsample ratio of columns, resample on each tree construction.\n",
      "\n",
      "  warnings.warn(\"Estimator fit failed. The score on this train-test\"\n",
      "/Users/raylinsoriano/anaconda3/lib/python3.8/site-packages/sklearn/model_selection/_validation.py:615: FitFailedWarning: Estimator fit failed. The score on this train-test partition for these parameters will be set to nan. Details: \n",
      "Traceback (most recent call last):\n",
      "  File \"/Users/raylinsoriano/anaconda3/lib/python3.8/site-packages/sklearn/model_selection/_validation.py\", line 598, in _fit_and_score\n",
      "    estimator.fit(X_train, y_train, **fit_params)\n",
      "  File \"/Users/raylinsoriano/anaconda3/lib/python3.8/site-packages/sklearn/pipeline.py\", line 346, in fit\n",
      "    self._final_estimator.fit(Xt, y, **fit_params_last_step)\n",
      "  File \"/Users/raylinsoriano/anaconda3/lib/python3.8/site-packages/xgboost/core.py\", line 436, in inner_f\n",
      "    return f(**kwargs)\n",
      "  File \"/Users/raylinsoriano/anaconda3/lib/python3.8/site-packages/xgboost/sklearn.py\", line 1176, in fit\n",
      "    self._Booster = train(\n",
      "  File \"/Users/raylinsoriano/anaconda3/lib/python3.8/site-packages/xgboost/training.py\", line 189, in train\n",
      "    bst = _train_internal(params, dtrain,\n",
      "  File \"/Users/raylinsoriano/anaconda3/lib/python3.8/site-packages/xgboost/training.py\", line 81, in _train_internal\n",
      "    bst.update(dtrain, i, obj)\n",
      "  File \"/Users/raylinsoriano/anaconda3/lib/python3.8/site-packages/xgboost/core.py\", line 1499, in update\n",
      "    _check_call(_LIB.XGBoosterUpdateOneIter(self.handle,\n",
      "  File \"/Users/raylinsoriano/anaconda3/lib/python3.8/site-packages/xgboost/core.py\", line 210, in _check_call\n",
      "    raise XGBoostError(py_str(_LIB.XGBGetLastError()))\n",
      "xgboost.core.XGBoostError: value 2 for Parameter colsample_bytree exceed bound [0,1]\n",
      "colsample_bytree: Subsample ratio of columns, resample on each tree construction.\n",
      "\n",
      "  warnings.warn(\"Estimator fit failed. The score on this train-test\"\n"
     ]
    },
    {
     "name": "stdout",
     "output_type": "stream",
     "text": [
      "[CV] END xgb__colsample_bytree=2, xgb__max_depth=15, xgb__min_child_weight=50; total time=   0.0s\n",
      "[CV] END xgb__colsample_bytree=2, xgb__max_depth=15, xgb__min_child_weight=50; total time=   0.0s\n",
      "[CV] END xgb__colsample_bytree=2, xgb__max_depth=20, xgb__min_child_weight=10; total time=   0.0s\n",
      "[CV] END xgb__colsample_bytree=2, xgb__max_depth=20, xgb__min_child_weight=10; total time=   0.0s\n",
      "[CV] END xgb__colsample_bytree=2, xgb__max_depth=20, xgb__min_child_weight=10; total time=   0.0s\n"
     ]
    },
    {
     "name": "stderr",
     "output_type": "stream",
     "text": [
      "/Users/raylinsoriano/anaconda3/lib/python3.8/site-packages/sklearn/model_selection/_validation.py:615: FitFailedWarning: Estimator fit failed. The score on this train-test partition for these parameters will be set to nan. Details: \n",
      "Traceback (most recent call last):\n",
      "  File \"/Users/raylinsoriano/anaconda3/lib/python3.8/site-packages/sklearn/model_selection/_validation.py\", line 598, in _fit_and_score\n",
      "    estimator.fit(X_train, y_train, **fit_params)\n",
      "  File \"/Users/raylinsoriano/anaconda3/lib/python3.8/site-packages/sklearn/pipeline.py\", line 346, in fit\n",
      "    self._final_estimator.fit(Xt, y, **fit_params_last_step)\n",
      "  File \"/Users/raylinsoriano/anaconda3/lib/python3.8/site-packages/xgboost/core.py\", line 436, in inner_f\n",
      "    return f(**kwargs)\n",
      "  File \"/Users/raylinsoriano/anaconda3/lib/python3.8/site-packages/xgboost/sklearn.py\", line 1176, in fit\n",
      "    self._Booster = train(\n",
      "  File \"/Users/raylinsoriano/anaconda3/lib/python3.8/site-packages/xgboost/training.py\", line 189, in train\n",
      "    bst = _train_internal(params, dtrain,\n",
      "  File \"/Users/raylinsoriano/anaconda3/lib/python3.8/site-packages/xgboost/training.py\", line 81, in _train_internal\n",
      "    bst.update(dtrain, i, obj)\n",
      "  File \"/Users/raylinsoriano/anaconda3/lib/python3.8/site-packages/xgboost/core.py\", line 1499, in update\n",
      "    _check_call(_LIB.XGBoosterUpdateOneIter(self.handle,\n",
      "  File \"/Users/raylinsoriano/anaconda3/lib/python3.8/site-packages/xgboost/core.py\", line 210, in _check_call\n",
      "    raise XGBoostError(py_str(_LIB.XGBGetLastError()))\n",
      "xgboost.core.XGBoostError: value 2 for Parameter colsample_bytree exceed bound [0,1]\n",
      "colsample_bytree: Subsample ratio of columns, resample on each tree construction.\n",
      "\n",
      "  warnings.warn(\"Estimator fit failed. The score on this train-test\"\n",
      "/Users/raylinsoriano/anaconda3/lib/python3.8/site-packages/sklearn/model_selection/_validation.py:615: FitFailedWarning: Estimator fit failed. The score on this train-test partition for these parameters will be set to nan. Details: \n",
      "Traceback (most recent call last):\n",
      "  File \"/Users/raylinsoriano/anaconda3/lib/python3.8/site-packages/sklearn/model_selection/_validation.py\", line 598, in _fit_and_score\n",
      "    estimator.fit(X_train, y_train, **fit_params)\n",
      "  File \"/Users/raylinsoriano/anaconda3/lib/python3.8/site-packages/sklearn/pipeline.py\", line 346, in fit\n",
      "    self._final_estimator.fit(Xt, y, **fit_params_last_step)\n",
      "  File \"/Users/raylinsoriano/anaconda3/lib/python3.8/site-packages/xgboost/core.py\", line 436, in inner_f\n",
      "    return f(**kwargs)\n",
      "  File \"/Users/raylinsoriano/anaconda3/lib/python3.8/site-packages/xgboost/sklearn.py\", line 1176, in fit\n",
      "    self._Booster = train(\n",
      "  File \"/Users/raylinsoriano/anaconda3/lib/python3.8/site-packages/xgboost/training.py\", line 189, in train\n",
      "    bst = _train_internal(params, dtrain,\n",
      "  File \"/Users/raylinsoriano/anaconda3/lib/python3.8/site-packages/xgboost/training.py\", line 81, in _train_internal\n",
      "    bst.update(dtrain, i, obj)\n",
      "  File \"/Users/raylinsoriano/anaconda3/lib/python3.8/site-packages/xgboost/core.py\", line 1499, in update\n",
      "    _check_call(_LIB.XGBoosterUpdateOneIter(self.handle,\n",
      "  File \"/Users/raylinsoriano/anaconda3/lib/python3.8/site-packages/xgboost/core.py\", line 210, in _check_call\n",
      "    raise XGBoostError(py_str(_LIB.XGBGetLastError()))\n",
      "xgboost.core.XGBoostError: value 2 for Parameter colsample_bytree exceed bound [0,1]\n",
      "colsample_bytree: Subsample ratio of columns, resample on each tree construction.\n",
      "\n",
      "  warnings.warn(\"Estimator fit failed. The score on this train-test\"\n",
      "/Users/raylinsoriano/anaconda3/lib/python3.8/site-packages/sklearn/model_selection/_validation.py:615: FitFailedWarning: Estimator fit failed. The score on this train-test partition for these parameters will be set to nan. Details: \n",
      "Traceback (most recent call last):\n",
      "  File \"/Users/raylinsoriano/anaconda3/lib/python3.8/site-packages/sklearn/model_selection/_validation.py\", line 598, in _fit_and_score\n",
      "    estimator.fit(X_train, y_train, **fit_params)\n",
      "  File \"/Users/raylinsoriano/anaconda3/lib/python3.8/site-packages/sklearn/pipeline.py\", line 346, in fit\n",
      "    self._final_estimator.fit(Xt, y, **fit_params_last_step)\n",
      "  File \"/Users/raylinsoriano/anaconda3/lib/python3.8/site-packages/xgboost/core.py\", line 436, in inner_f\n",
      "    return f(**kwargs)\n",
      "  File \"/Users/raylinsoriano/anaconda3/lib/python3.8/site-packages/xgboost/sklearn.py\", line 1176, in fit\n",
      "    self._Booster = train(\n",
      "  File \"/Users/raylinsoriano/anaconda3/lib/python3.8/site-packages/xgboost/training.py\", line 189, in train\n",
      "    bst = _train_internal(params, dtrain,\n",
      "  File \"/Users/raylinsoriano/anaconda3/lib/python3.8/site-packages/xgboost/training.py\", line 81, in _train_internal\n",
      "    bst.update(dtrain, i, obj)\n",
      "  File \"/Users/raylinsoriano/anaconda3/lib/python3.8/site-packages/xgboost/core.py\", line 1499, in update\n",
      "    _check_call(_LIB.XGBoosterUpdateOneIter(self.handle,\n",
      "  File \"/Users/raylinsoriano/anaconda3/lib/python3.8/site-packages/xgboost/core.py\", line 210, in _check_call\n",
      "    raise XGBoostError(py_str(_LIB.XGBGetLastError()))\n",
      "xgboost.core.XGBoostError: value 2 for Parameter colsample_bytree exceed bound [0,1]\n",
      "colsample_bytree: Subsample ratio of columns, resample on each tree construction.\n",
      "\n",
      "  warnings.warn(\"Estimator fit failed. The score on this train-test\"\n",
      "/Users/raylinsoriano/anaconda3/lib/python3.8/site-packages/sklearn/model_selection/_validation.py:615: FitFailedWarning: Estimator fit failed. The score on this train-test partition for these parameters will be set to nan. Details: \n",
      "Traceback (most recent call last):\n",
      "  File \"/Users/raylinsoriano/anaconda3/lib/python3.8/site-packages/sklearn/model_selection/_validation.py\", line 598, in _fit_and_score\n",
      "    estimator.fit(X_train, y_train, **fit_params)\n",
      "  File \"/Users/raylinsoriano/anaconda3/lib/python3.8/site-packages/sklearn/pipeline.py\", line 346, in fit\n",
      "    self._final_estimator.fit(Xt, y, **fit_params_last_step)\n",
      "  File \"/Users/raylinsoriano/anaconda3/lib/python3.8/site-packages/xgboost/core.py\", line 436, in inner_f\n",
      "    return f(**kwargs)\n",
      "  File \"/Users/raylinsoriano/anaconda3/lib/python3.8/site-packages/xgboost/sklearn.py\", line 1176, in fit\n",
      "    self._Booster = train(\n",
      "  File \"/Users/raylinsoriano/anaconda3/lib/python3.8/site-packages/xgboost/training.py\", line 189, in train\n",
      "    bst = _train_internal(params, dtrain,\n",
      "  File \"/Users/raylinsoriano/anaconda3/lib/python3.8/site-packages/xgboost/training.py\", line 81, in _train_internal\n",
      "    bst.update(dtrain, i, obj)\n",
      "  File \"/Users/raylinsoriano/anaconda3/lib/python3.8/site-packages/xgboost/core.py\", line 1499, in update\n",
      "    _check_call(_LIB.XGBoosterUpdateOneIter(self.handle,\n",
      "  File \"/Users/raylinsoriano/anaconda3/lib/python3.8/site-packages/xgboost/core.py\", line 210, in _check_call\n",
      "    raise XGBoostError(py_str(_LIB.XGBGetLastError()))\n",
      "xgboost.core.XGBoostError: value 2 for Parameter colsample_bytree exceed bound [0,1]\n",
      "colsample_bytree: Subsample ratio of columns, resample on each tree construction.\n",
      "\n",
      "  warnings.warn(\"Estimator fit failed. The score on this train-test\"\n",
      "/Users/raylinsoriano/anaconda3/lib/python3.8/site-packages/sklearn/model_selection/_validation.py:615: FitFailedWarning: Estimator fit failed. The score on this train-test partition for these parameters will be set to nan. Details: \n",
      "Traceback (most recent call last):\n",
      "  File \"/Users/raylinsoriano/anaconda3/lib/python3.8/site-packages/sklearn/model_selection/_validation.py\", line 598, in _fit_and_score\n",
      "    estimator.fit(X_train, y_train, **fit_params)\n",
      "  File \"/Users/raylinsoriano/anaconda3/lib/python3.8/site-packages/sklearn/pipeline.py\", line 346, in fit\n",
      "    self._final_estimator.fit(Xt, y, **fit_params_last_step)\n",
      "  File \"/Users/raylinsoriano/anaconda3/lib/python3.8/site-packages/xgboost/core.py\", line 436, in inner_f\n",
      "    return f(**kwargs)\n",
      "  File \"/Users/raylinsoriano/anaconda3/lib/python3.8/site-packages/xgboost/sklearn.py\", line 1176, in fit\n",
      "    self._Booster = train(\n",
      "  File \"/Users/raylinsoriano/anaconda3/lib/python3.8/site-packages/xgboost/training.py\", line 189, in train\n",
      "    bst = _train_internal(params, dtrain,\n",
      "  File \"/Users/raylinsoriano/anaconda3/lib/python3.8/site-packages/xgboost/training.py\", line 81, in _train_internal\n",
      "    bst.update(dtrain, i, obj)\n",
      "  File \"/Users/raylinsoriano/anaconda3/lib/python3.8/site-packages/xgboost/core.py\", line 1499, in update\n",
      "    _check_call(_LIB.XGBoosterUpdateOneIter(self.handle,\n",
      "  File \"/Users/raylinsoriano/anaconda3/lib/python3.8/site-packages/xgboost/core.py\", line 210, in _check_call\n",
      "    raise XGBoostError(py_str(_LIB.XGBGetLastError()))\n",
      "xgboost.core.XGBoostError: value 2 for Parameter colsample_bytree exceed bound [0,1]\n",
      "colsample_bytree: Subsample ratio of columns, resample on each tree construction.\n",
      "\n",
      "  warnings.warn(\"Estimator fit failed. The score on this train-test\"\n"
     ]
    },
    {
     "name": "stdout",
     "output_type": "stream",
     "text": [
      "[CV] END xgb__colsample_bytree=2, xgb__max_depth=20, xgb__min_child_weight=10; total time=   0.0s\n",
      "[CV] END xgb__colsample_bytree=2, xgb__max_depth=20, xgb__min_child_weight=10; total time=   0.0s\n",
      "[CV] END xgb__colsample_bytree=2, xgb__max_depth=20, xgb__min_child_weight=25; total time=   0.0s\n",
      "[CV] END xgb__colsample_bytree=2, xgb__max_depth=20, xgb__min_child_weight=25; total time=   0.0s\n",
      "[CV] END xgb__colsample_bytree=2, xgb__max_depth=20, xgb__min_child_weight=25; total time=   0.0s\n"
     ]
    },
    {
     "name": "stderr",
     "output_type": "stream",
     "text": [
      "/Users/raylinsoriano/anaconda3/lib/python3.8/site-packages/sklearn/model_selection/_validation.py:615: FitFailedWarning: Estimator fit failed. The score on this train-test partition for these parameters will be set to nan. Details: \n",
      "Traceback (most recent call last):\n",
      "  File \"/Users/raylinsoriano/anaconda3/lib/python3.8/site-packages/sklearn/model_selection/_validation.py\", line 598, in _fit_and_score\n",
      "    estimator.fit(X_train, y_train, **fit_params)\n",
      "  File \"/Users/raylinsoriano/anaconda3/lib/python3.8/site-packages/sklearn/pipeline.py\", line 346, in fit\n",
      "    self._final_estimator.fit(Xt, y, **fit_params_last_step)\n",
      "  File \"/Users/raylinsoriano/anaconda3/lib/python3.8/site-packages/xgboost/core.py\", line 436, in inner_f\n",
      "    return f(**kwargs)\n",
      "  File \"/Users/raylinsoriano/anaconda3/lib/python3.8/site-packages/xgboost/sklearn.py\", line 1176, in fit\n",
      "    self._Booster = train(\n",
      "  File \"/Users/raylinsoriano/anaconda3/lib/python3.8/site-packages/xgboost/training.py\", line 189, in train\n",
      "    bst = _train_internal(params, dtrain,\n",
      "  File \"/Users/raylinsoriano/anaconda3/lib/python3.8/site-packages/xgboost/training.py\", line 81, in _train_internal\n",
      "    bst.update(dtrain, i, obj)\n",
      "  File \"/Users/raylinsoriano/anaconda3/lib/python3.8/site-packages/xgboost/core.py\", line 1499, in update\n",
      "    _check_call(_LIB.XGBoosterUpdateOneIter(self.handle,\n",
      "  File \"/Users/raylinsoriano/anaconda3/lib/python3.8/site-packages/xgboost/core.py\", line 210, in _check_call\n",
      "    raise XGBoostError(py_str(_LIB.XGBGetLastError()))\n",
      "xgboost.core.XGBoostError: value 2 for Parameter colsample_bytree exceed bound [0,1]\n",
      "colsample_bytree: Subsample ratio of columns, resample on each tree construction.\n",
      "\n",
      "  warnings.warn(\"Estimator fit failed. The score on this train-test\"\n",
      "/Users/raylinsoriano/anaconda3/lib/python3.8/site-packages/sklearn/model_selection/_validation.py:615: FitFailedWarning: Estimator fit failed. The score on this train-test partition for these parameters will be set to nan. Details: \n",
      "Traceback (most recent call last):\n",
      "  File \"/Users/raylinsoriano/anaconda3/lib/python3.8/site-packages/sklearn/model_selection/_validation.py\", line 598, in _fit_and_score\n",
      "    estimator.fit(X_train, y_train, **fit_params)\n",
      "  File \"/Users/raylinsoriano/anaconda3/lib/python3.8/site-packages/sklearn/pipeline.py\", line 346, in fit\n",
      "    self._final_estimator.fit(Xt, y, **fit_params_last_step)\n",
      "  File \"/Users/raylinsoriano/anaconda3/lib/python3.8/site-packages/xgboost/core.py\", line 436, in inner_f\n",
      "    return f(**kwargs)\n",
      "  File \"/Users/raylinsoriano/anaconda3/lib/python3.8/site-packages/xgboost/sklearn.py\", line 1176, in fit\n",
      "    self._Booster = train(\n",
      "  File \"/Users/raylinsoriano/anaconda3/lib/python3.8/site-packages/xgboost/training.py\", line 189, in train\n",
      "    bst = _train_internal(params, dtrain,\n",
      "  File \"/Users/raylinsoriano/anaconda3/lib/python3.8/site-packages/xgboost/training.py\", line 81, in _train_internal\n",
      "    bst.update(dtrain, i, obj)\n",
      "  File \"/Users/raylinsoriano/anaconda3/lib/python3.8/site-packages/xgboost/core.py\", line 1499, in update\n",
      "    _check_call(_LIB.XGBoosterUpdateOneIter(self.handle,\n",
      "  File \"/Users/raylinsoriano/anaconda3/lib/python3.8/site-packages/xgboost/core.py\", line 210, in _check_call\n",
      "    raise XGBoostError(py_str(_LIB.XGBGetLastError()))\n",
      "xgboost.core.XGBoostError: value 2 for Parameter colsample_bytree exceed bound [0,1]\n",
      "colsample_bytree: Subsample ratio of columns, resample on each tree construction.\n",
      "\n",
      "  warnings.warn(\"Estimator fit failed. The score on this train-test\"\n",
      "/Users/raylinsoriano/anaconda3/lib/python3.8/site-packages/sklearn/model_selection/_validation.py:615: FitFailedWarning: Estimator fit failed. The score on this train-test partition for these parameters will be set to nan. Details: \n",
      "Traceback (most recent call last):\n",
      "  File \"/Users/raylinsoriano/anaconda3/lib/python3.8/site-packages/sklearn/model_selection/_validation.py\", line 598, in _fit_and_score\n",
      "    estimator.fit(X_train, y_train, **fit_params)\n",
      "  File \"/Users/raylinsoriano/anaconda3/lib/python3.8/site-packages/sklearn/pipeline.py\", line 346, in fit\n",
      "    self._final_estimator.fit(Xt, y, **fit_params_last_step)\n",
      "  File \"/Users/raylinsoriano/anaconda3/lib/python3.8/site-packages/xgboost/core.py\", line 436, in inner_f\n",
      "    return f(**kwargs)\n",
      "  File \"/Users/raylinsoriano/anaconda3/lib/python3.8/site-packages/xgboost/sklearn.py\", line 1176, in fit\n",
      "    self._Booster = train(\n",
      "  File \"/Users/raylinsoriano/anaconda3/lib/python3.8/site-packages/xgboost/training.py\", line 189, in train\n",
      "    bst = _train_internal(params, dtrain,\n",
      "  File \"/Users/raylinsoriano/anaconda3/lib/python3.8/site-packages/xgboost/training.py\", line 81, in _train_internal\n",
      "    bst.update(dtrain, i, obj)\n",
      "  File \"/Users/raylinsoriano/anaconda3/lib/python3.8/site-packages/xgboost/core.py\", line 1499, in update\n",
      "    _check_call(_LIB.XGBoosterUpdateOneIter(self.handle,\n",
      "  File \"/Users/raylinsoriano/anaconda3/lib/python3.8/site-packages/xgboost/core.py\", line 210, in _check_call\n",
      "    raise XGBoostError(py_str(_LIB.XGBGetLastError()))\n",
      "xgboost.core.XGBoostError: value 2 for Parameter colsample_bytree exceed bound [0,1]\n",
      "colsample_bytree: Subsample ratio of columns, resample on each tree construction.\n",
      "\n",
      "  warnings.warn(\"Estimator fit failed. The score on this train-test\"\n",
      "/Users/raylinsoriano/anaconda3/lib/python3.8/site-packages/sklearn/model_selection/_validation.py:615: FitFailedWarning: Estimator fit failed. The score on this train-test partition for these parameters will be set to nan. Details: \n",
      "Traceback (most recent call last):\n",
      "  File \"/Users/raylinsoriano/anaconda3/lib/python3.8/site-packages/sklearn/model_selection/_validation.py\", line 598, in _fit_and_score\n",
      "    estimator.fit(X_train, y_train, **fit_params)\n",
      "  File \"/Users/raylinsoriano/anaconda3/lib/python3.8/site-packages/sklearn/pipeline.py\", line 346, in fit\n",
      "    self._final_estimator.fit(Xt, y, **fit_params_last_step)\n",
      "  File \"/Users/raylinsoriano/anaconda3/lib/python3.8/site-packages/xgboost/core.py\", line 436, in inner_f\n",
      "    return f(**kwargs)\n",
      "  File \"/Users/raylinsoriano/anaconda3/lib/python3.8/site-packages/xgboost/sklearn.py\", line 1176, in fit\n",
      "    self._Booster = train(\n",
      "  File \"/Users/raylinsoriano/anaconda3/lib/python3.8/site-packages/xgboost/training.py\", line 189, in train\n",
      "    bst = _train_internal(params, dtrain,\n",
      "  File \"/Users/raylinsoriano/anaconda3/lib/python3.8/site-packages/xgboost/training.py\", line 81, in _train_internal\n",
      "    bst.update(dtrain, i, obj)\n",
      "  File \"/Users/raylinsoriano/anaconda3/lib/python3.8/site-packages/xgboost/core.py\", line 1499, in update\n",
      "    _check_call(_LIB.XGBoosterUpdateOneIter(self.handle,\n",
      "  File \"/Users/raylinsoriano/anaconda3/lib/python3.8/site-packages/xgboost/core.py\", line 210, in _check_call\n",
      "    raise XGBoostError(py_str(_LIB.XGBGetLastError()))\n",
      "xgboost.core.XGBoostError: value 2 for Parameter colsample_bytree exceed bound [0,1]\n",
      "colsample_bytree: Subsample ratio of columns, resample on each tree construction.\n",
      "\n",
      "  warnings.warn(\"Estimator fit failed. The score on this train-test\"\n",
      "/Users/raylinsoriano/anaconda3/lib/python3.8/site-packages/sklearn/model_selection/_validation.py:615: FitFailedWarning: Estimator fit failed. The score on this train-test partition for these parameters will be set to nan. Details: \n",
      "Traceback (most recent call last):\n",
      "  File \"/Users/raylinsoriano/anaconda3/lib/python3.8/site-packages/sklearn/model_selection/_validation.py\", line 598, in _fit_and_score\n",
      "    estimator.fit(X_train, y_train, **fit_params)\n",
      "  File \"/Users/raylinsoriano/anaconda3/lib/python3.8/site-packages/sklearn/pipeline.py\", line 346, in fit\n",
      "    self._final_estimator.fit(Xt, y, **fit_params_last_step)\n",
      "  File \"/Users/raylinsoriano/anaconda3/lib/python3.8/site-packages/xgboost/core.py\", line 436, in inner_f\n",
      "    return f(**kwargs)\n",
      "  File \"/Users/raylinsoriano/anaconda3/lib/python3.8/site-packages/xgboost/sklearn.py\", line 1176, in fit\n",
      "    self._Booster = train(\n",
      "  File \"/Users/raylinsoriano/anaconda3/lib/python3.8/site-packages/xgboost/training.py\", line 189, in train\n",
      "    bst = _train_internal(params, dtrain,\n",
      "  File \"/Users/raylinsoriano/anaconda3/lib/python3.8/site-packages/xgboost/training.py\", line 81, in _train_internal\n",
      "    bst.update(dtrain, i, obj)\n",
      "  File \"/Users/raylinsoriano/anaconda3/lib/python3.8/site-packages/xgboost/core.py\", line 1499, in update\n",
      "    _check_call(_LIB.XGBoosterUpdateOneIter(self.handle,\n",
      "  File \"/Users/raylinsoriano/anaconda3/lib/python3.8/site-packages/xgboost/core.py\", line 210, in _check_call\n",
      "    raise XGBoostError(py_str(_LIB.XGBGetLastError()))\n",
      "xgboost.core.XGBoostError: value 2 for Parameter colsample_bytree exceed bound [0,1]\n",
      "colsample_bytree: Subsample ratio of columns, resample on each tree construction.\n",
      "\n",
      "  warnings.warn(\"Estimator fit failed. The score on this train-test\"\n"
     ]
    },
    {
     "name": "stdout",
     "output_type": "stream",
     "text": [
      "[CV] END xgb__colsample_bytree=2, xgb__max_depth=20, xgb__min_child_weight=25; total time=   0.0s\n",
      "[CV] END xgb__colsample_bytree=2, xgb__max_depth=20, xgb__min_child_weight=25; total time=   0.0s\n",
      "[CV] END xgb__colsample_bytree=2, xgb__max_depth=20, xgb__min_child_weight=50; total time=   0.0s\n",
      "[CV] END xgb__colsample_bytree=2, xgb__max_depth=20, xgb__min_child_weight=50; total time=   0.0s\n",
      "[CV] END xgb__colsample_bytree=2, xgb__max_depth=20, xgb__min_child_weight=50; total time=   0.0s\n"
     ]
    },
    {
     "name": "stderr",
     "output_type": "stream",
     "text": [
      "/Users/raylinsoriano/anaconda3/lib/python3.8/site-packages/sklearn/model_selection/_validation.py:615: FitFailedWarning: Estimator fit failed. The score on this train-test partition for these parameters will be set to nan. Details: \n",
      "Traceback (most recent call last):\n",
      "  File \"/Users/raylinsoriano/anaconda3/lib/python3.8/site-packages/sklearn/model_selection/_validation.py\", line 598, in _fit_and_score\n",
      "    estimator.fit(X_train, y_train, **fit_params)\n",
      "  File \"/Users/raylinsoriano/anaconda3/lib/python3.8/site-packages/sklearn/pipeline.py\", line 346, in fit\n",
      "    self._final_estimator.fit(Xt, y, **fit_params_last_step)\n",
      "  File \"/Users/raylinsoriano/anaconda3/lib/python3.8/site-packages/xgboost/core.py\", line 436, in inner_f\n",
      "    return f(**kwargs)\n",
      "  File \"/Users/raylinsoriano/anaconda3/lib/python3.8/site-packages/xgboost/sklearn.py\", line 1176, in fit\n",
      "    self._Booster = train(\n",
      "  File \"/Users/raylinsoriano/anaconda3/lib/python3.8/site-packages/xgboost/training.py\", line 189, in train\n",
      "    bst = _train_internal(params, dtrain,\n",
      "  File \"/Users/raylinsoriano/anaconda3/lib/python3.8/site-packages/xgboost/training.py\", line 81, in _train_internal\n",
      "    bst.update(dtrain, i, obj)\n",
      "  File \"/Users/raylinsoriano/anaconda3/lib/python3.8/site-packages/xgboost/core.py\", line 1499, in update\n",
      "    _check_call(_LIB.XGBoosterUpdateOneIter(self.handle,\n",
      "  File \"/Users/raylinsoriano/anaconda3/lib/python3.8/site-packages/xgboost/core.py\", line 210, in _check_call\n",
      "    raise XGBoostError(py_str(_LIB.XGBGetLastError()))\n",
      "xgboost.core.XGBoostError: value 2 for Parameter colsample_bytree exceed bound [0,1]\n",
      "colsample_bytree: Subsample ratio of columns, resample on each tree construction.\n",
      "\n",
      "  warnings.warn(\"Estimator fit failed. The score on this train-test\"\n",
      "/Users/raylinsoriano/anaconda3/lib/python3.8/site-packages/sklearn/model_selection/_validation.py:615: FitFailedWarning: Estimator fit failed. The score on this train-test partition for these parameters will be set to nan. Details: \n",
      "Traceback (most recent call last):\n",
      "  File \"/Users/raylinsoriano/anaconda3/lib/python3.8/site-packages/sklearn/model_selection/_validation.py\", line 598, in _fit_and_score\n",
      "    estimator.fit(X_train, y_train, **fit_params)\n",
      "  File \"/Users/raylinsoriano/anaconda3/lib/python3.8/site-packages/sklearn/pipeline.py\", line 346, in fit\n",
      "    self._final_estimator.fit(Xt, y, **fit_params_last_step)\n",
      "  File \"/Users/raylinsoriano/anaconda3/lib/python3.8/site-packages/xgboost/core.py\", line 436, in inner_f\n",
      "    return f(**kwargs)\n",
      "  File \"/Users/raylinsoriano/anaconda3/lib/python3.8/site-packages/xgboost/sklearn.py\", line 1176, in fit\n",
      "    self._Booster = train(\n",
      "  File \"/Users/raylinsoriano/anaconda3/lib/python3.8/site-packages/xgboost/training.py\", line 189, in train\n",
      "    bst = _train_internal(params, dtrain,\n",
      "  File \"/Users/raylinsoriano/anaconda3/lib/python3.8/site-packages/xgboost/training.py\", line 81, in _train_internal\n",
      "    bst.update(dtrain, i, obj)\n",
      "  File \"/Users/raylinsoriano/anaconda3/lib/python3.8/site-packages/xgboost/core.py\", line 1499, in update\n",
      "    _check_call(_LIB.XGBoosterUpdateOneIter(self.handle,\n",
      "  File \"/Users/raylinsoriano/anaconda3/lib/python3.8/site-packages/xgboost/core.py\", line 210, in _check_call\n",
      "    raise XGBoostError(py_str(_LIB.XGBGetLastError()))\n",
      "xgboost.core.XGBoostError: value 2 for Parameter colsample_bytree exceed bound [0,1]\n",
      "colsample_bytree: Subsample ratio of columns, resample on each tree construction.\n",
      "\n",
      "  warnings.warn(\"Estimator fit failed. The score on this train-test\"\n",
      "/Users/raylinsoriano/anaconda3/lib/python3.8/site-packages/sklearn/model_selection/_validation.py:615: FitFailedWarning: Estimator fit failed. The score on this train-test partition for these parameters will be set to nan. Details: \n",
      "Traceback (most recent call last):\n",
      "  File \"/Users/raylinsoriano/anaconda3/lib/python3.8/site-packages/sklearn/model_selection/_validation.py\", line 598, in _fit_and_score\n",
      "    estimator.fit(X_train, y_train, **fit_params)\n",
      "  File \"/Users/raylinsoriano/anaconda3/lib/python3.8/site-packages/sklearn/pipeline.py\", line 346, in fit\n",
      "    self._final_estimator.fit(Xt, y, **fit_params_last_step)\n",
      "  File \"/Users/raylinsoriano/anaconda3/lib/python3.8/site-packages/xgboost/core.py\", line 436, in inner_f\n",
      "    return f(**kwargs)\n",
      "  File \"/Users/raylinsoriano/anaconda3/lib/python3.8/site-packages/xgboost/sklearn.py\", line 1176, in fit\n",
      "    self._Booster = train(\n",
      "  File \"/Users/raylinsoriano/anaconda3/lib/python3.8/site-packages/xgboost/training.py\", line 189, in train\n",
      "    bst = _train_internal(params, dtrain,\n",
      "  File \"/Users/raylinsoriano/anaconda3/lib/python3.8/site-packages/xgboost/training.py\", line 81, in _train_internal\n",
      "    bst.update(dtrain, i, obj)\n",
      "  File \"/Users/raylinsoriano/anaconda3/lib/python3.8/site-packages/xgboost/core.py\", line 1499, in update\n",
      "    _check_call(_LIB.XGBoosterUpdateOneIter(self.handle,\n",
      "  File \"/Users/raylinsoriano/anaconda3/lib/python3.8/site-packages/xgboost/core.py\", line 210, in _check_call\n",
      "    raise XGBoostError(py_str(_LIB.XGBGetLastError()))\n",
      "xgboost.core.XGBoostError: value 2 for Parameter colsample_bytree exceed bound [0,1]\n",
      "colsample_bytree: Subsample ratio of columns, resample on each tree construction.\n",
      "\n",
      "  warnings.warn(\"Estimator fit failed. The score on this train-test\"\n",
      "/Users/raylinsoriano/anaconda3/lib/python3.8/site-packages/sklearn/model_selection/_validation.py:615: FitFailedWarning: Estimator fit failed. The score on this train-test partition for these parameters will be set to nan. Details: \n",
      "Traceback (most recent call last):\n",
      "  File \"/Users/raylinsoriano/anaconda3/lib/python3.8/site-packages/sklearn/model_selection/_validation.py\", line 598, in _fit_and_score\n",
      "    estimator.fit(X_train, y_train, **fit_params)\n",
      "  File \"/Users/raylinsoriano/anaconda3/lib/python3.8/site-packages/sklearn/pipeline.py\", line 346, in fit\n",
      "    self._final_estimator.fit(Xt, y, **fit_params_last_step)\n",
      "  File \"/Users/raylinsoriano/anaconda3/lib/python3.8/site-packages/xgboost/core.py\", line 436, in inner_f\n",
      "    return f(**kwargs)\n",
      "  File \"/Users/raylinsoriano/anaconda3/lib/python3.8/site-packages/xgboost/sklearn.py\", line 1176, in fit\n",
      "    self._Booster = train(\n",
      "  File \"/Users/raylinsoriano/anaconda3/lib/python3.8/site-packages/xgboost/training.py\", line 189, in train\n",
      "    bst = _train_internal(params, dtrain,\n",
      "  File \"/Users/raylinsoriano/anaconda3/lib/python3.8/site-packages/xgboost/training.py\", line 81, in _train_internal\n",
      "    bst.update(dtrain, i, obj)\n",
      "  File \"/Users/raylinsoriano/anaconda3/lib/python3.8/site-packages/xgboost/core.py\", line 1499, in update\n",
      "    _check_call(_LIB.XGBoosterUpdateOneIter(self.handle,\n",
      "  File \"/Users/raylinsoriano/anaconda3/lib/python3.8/site-packages/xgboost/core.py\", line 210, in _check_call\n",
      "    raise XGBoostError(py_str(_LIB.XGBGetLastError()))\n",
      "xgboost.core.XGBoostError: value 2 for Parameter colsample_bytree exceed bound [0,1]\n",
      "colsample_bytree: Subsample ratio of columns, resample on each tree construction.\n",
      "\n",
      "  warnings.warn(\"Estimator fit failed. The score on this train-test\"\n",
      "/Users/raylinsoriano/anaconda3/lib/python3.8/site-packages/sklearn/model_selection/_validation.py:615: FitFailedWarning: Estimator fit failed. The score on this train-test partition for these parameters will be set to nan. Details: \n",
      "Traceback (most recent call last):\n",
      "  File \"/Users/raylinsoriano/anaconda3/lib/python3.8/site-packages/sklearn/model_selection/_validation.py\", line 598, in _fit_and_score\n",
      "    estimator.fit(X_train, y_train, **fit_params)\n",
      "  File \"/Users/raylinsoriano/anaconda3/lib/python3.8/site-packages/sklearn/pipeline.py\", line 346, in fit\n",
      "    self._final_estimator.fit(Xt, y, **fit_params_last_step)\n",
      "  File \"/Users/raylinsoriano/anaconda3/lib/python3.8/site-packages/xgboost/core.py\", line 436, in inner_f\n",
      "    return f(**kwargs)\n",
      "  File \"/Users/raylinsoriano/anaconda3/lib/python3.8/site-packages/xgboost/sklearn.py\", line 1176, in fit\n",
      "    self._Booster = train(\n",
      "  File \"/Users/raylinsoriano/anaconda3/lib/python3.8/site-packages/xgboost/training.py\", line 189, in train\n",
      "    bst = _train_internal(params, dtrain,\n",
      "  File \"/Users/raylinsoriano/anaconda3/lib/python3.8/site-packages/xgboost/training.py\", line 81, in _train_internal\n",
      "    bst.update(dtrain, i, obj)\n",
      "  File \"/Users/raylinsoriano/anaconda3/lib/python3.8/site-packages/xgboost/core.py\", line 1499, in update\n",
      "    _check_call(_LIB.XGBoosterUpdateOneIter(self.handle,\n",
      "  File \"/Users/raylinsoriano/anaconda3/lib/python3.8/site-packages/xgboost/core.py\", line 210, in _check_call\n",
      "    raise XGBoostError(py_str(_LIB.XGBGetLastError()))\n",
      "xgboost.core.XGBoostError: value 2 for Parameter colsample_bytree exceed bound [0,1]\n",
      "colsample_bytree: Subsample ratio of columns, resample on each tree construction.\n",
      "\n",
      "  warnings.warn(\"Estimator fit failed. The score on this train-test\"\n"
     ]
    },
    {
     "name": "stdout",
     "output_type": "stream",
     "text": [
      "[CV] END xgb__colsample_bytree=2, xgb__max_depth=20, xgb__min_child_weight=50; total time=   0.0s\n",
      "[CV] END xgb__colsample_bytree=2, xgb__max_depth=20, xgb__min_child_weight=50; total time=   0.0s\n",
      "[CV] END xgb__colsample_bytree=3, xgb__max_depth=10, xgb__min_child_weight=10; total time=   0.0s\n",
      "[CV] END xgb__colsample_bytree=3, xgb__max_depth=10, xgb__min_child_weight=10; total time=   0.0s\n",
      "[CV] END xgb__colsample_bytree=3, xgb__max_depth=10, xgb__min_child_weight=10; total time=   0.0s\n"
     ]
    },
    {
     "name": "stderr",
     "output_type": "stream",
     "text": [
      "/Users/raylinsoriano/anaconda3/lib/python3.8/site-packages/sklearn/model_selection/_validation.py:615: FitFailedWarning: Estimator fit failed. The score on this train-test partition for these parameters will be set to nan. Details: \n",
      "Traceback (most recent call last):\n",
      "  File \"/Users/raylinsoriano/anaconda3/lib/python3.8/site-packages/sklearn/model_selection/_validation.py\", line 598, in _fit_and_score\n",
      "    estimator.fit(X_train, y_train, **fit_params)\n",
      "  File \"/Users/raylinsoriano/anaconda3/lib/python3.8/site-packages/sklearn/pipeline.py\", line 346, in fit\n",
      "    self._final_estimator.fit(Xt, y, **fit_params_last_step)\n",
      "  File \"/Users/raylinsoriano/anaconda3/lib/python3.8/site-packages/xgboost/core.py\", line 436, in inner_f\n",
      "    return f(**kwargs)\n",
      "  File \"/Users/raylinsoriano/anaconda3/lib/python3.8/site-packages/xgboost/sklearn.py\", line 1176, in fit\n",
      "    self._Booster = train(\n",
      "  File \"/Users/raylinsoriano/anaconda3/lib/python3.8/site-packages/xgboost/training.py\", line 189, in train\n",
      "    bst = _train_internal(params, dtrain,\n",
      "  File \"/Users/raylinsoriano/anaconda3/lib/python3.8/site-packages/xgboost/training.py\", line 81, in _train_internal\n",
      "    bst.update(dtrain, i, obj)\n",
      "  File \"/Users/raylinsoriano/anaconda3/lib/python3.8/site-packages/xgboost/core.py\", line 1499, in update\n",
      "    _check_call(_LIB.XGBoosterUpdateOneIter(self.handle,\n",
      "  File \"/Users/raylinsoriano/anaconda3/lib/python3.8/site-packages/xgboost/core.py\", line 210, in _check_call\n",
      "    raise XGBoostError(py_str(_LIB.XGBGetLastError()))\n",
      "xgboost.core.XGBoostError: value 3 for Parameter colsample_bytree exceed bound [0,1]\n",
      "colsample_bytree: Subsample ratio of columns, resample on each tree construction.\n",
      "\n",
      "  warnings.warn(\"Estimator fit failed. The score on this train-test\"\n",
      "/Users/raylinsoriano/anaconda3/lib/python3.8/site-packages/sklearn/model_selection/_validation.py:615: FitFailedWarning: Estimator fit failed. The score on this train-test partition for these parameters will be set to nan. Details: \n",
      "Traceback (most recent call last):\n",
      "  File \"/Users/raylinsoriano/anaconda3/lib/python3.8/site-packages/sklearn/model_selection/_validation.py\", line 598, in _fit_and_score\n",
      "    estimator.fit(X_train, y_train, **fit_params)\n",
      "  File \"/Users/raylinsoriano/anaconda3/lib/python3.8/site-packages/sklearn/pipeline.py\", line 346, in fit\n",
      "    self._final_estimator.fit(Xt, y, **fit_params_last_step)\n",
      "  File \"/Users/raylinsoriano/anaconda3/lib/python3.8/site-packages/xgboost/core.py\", line 436, in inner_f\n",
      "    return f(**kwargs)\n",
      "  File \"/Users/raylinsoriano/anaconda3/lib/python3.8/site-packages/xgboost/sklearn.py\", line 1176, in fit\n",
      "    self._Booster = train(\n",
      "  File \"/Users/raylinsoriano/anaconda3/lib/python3.8/site-packages/xgboost/training.py\", line 189, in train\n",
      "    bst = _train_internal(params, dtrain,\n",
      "  File \"/Users/raylinsoriano/anaconda3/lib/python3.8/site-packages/xgboost/training.py\", line 81, in _train_internal\n",
      "    bst.update(dtrain, i, obj)\n",
      "  File \"/Users/raylinsoriano/anaconda3/lib/python3.8/site-packages/xgboost/core.py\", line 1499, in update\n",
      "    _check_call(_LIB.XGBoosterUpdateOneIter(self.handle,\n",
      "  File \"/Users/raylinsoriano/anaconda3/lib/python3.8/site-packages/xgboost/core.py\", line 210, in _check_call\n",
      "    raise XGBoostError(py_str(_LIB.XGBGetLastError()))\n",
      "xgboost.core.XGBoostError: value 3 for Parameter colsample_bytree exceed bound [0,1]\n",
      "colsample_bytree: Subsample ratio of columns, resample on each tree construction.\n",
      "\n",
      "  warnings.warn(\"Estimator fit failed. The score on this train-test\"\n",
      "/Users/raylinsoriano/anaconda3/lib/python3.8/site-packages/sklearn/model_selection/_validation.py:615: FitFailedWarning: Estimator fit failed. The score on this train-test partition for these parameters will be set to nan. Details: \n",
      "Traceback (most recent call last):\n",
      "  File \"/Users/raylinsoriano/anaconda3/lib/python3.8/site-packages/sklearn/model_selection/_validation.py\", line 598, in _fit_and_score\n",
      "    estimator.fit(X_train, y_train, **fit_params)\n",
      "  File \"/Users/raylinsoriano/anaconda3/lib/python3.8/site-packages/sklearn/pipeline.py\", line 346, in fit\n",
      "    self._final_estimator.fit(Xt, y, **fit_params_last_step)\n",
      "  File \"/Users/raylinsoriano/anaconda3/lib/python3.8/site-packages/xgboost/core.py\", line 436, in inner_f\n",
      "    return f(**kwargs)\n",
      "  File \"/Users/raylinsoriano/anaconda3/lib/python3.8/site-packages/xgboost/sklearn.py\", line 1176, in fit\n",
      "    self._Booster = train(\n",
      "  File \"/Users/raylinsoriano/anaconda3/lib/python3.8/site-packages/xgboost/training.py\", line 189, in train\n",
      "    bst = _train_internal(params, dtrain,\n",
      "  File \"/Users/raylinsoriano/anaconda3/lib/python3.8/site-packages/xgboost/training.py\", line 81, in _train_internal\n",
      "    bst.update(dtrain, i, obj)\n",
      "  File \"/Users/raylinsoriano/anaconda3/lib/python3.8/site-packages/xgboost/core.py\", line 1499, in update\n",
      "    _check_call(_LIB.XGBoosterUpdateOneIter(self.handle,\n",
      "  File \"/Users/raylinsoriano/anaconda3/lib/python3.8/site-packages/xgboost/core.py\", line 210, in _check_call\n",
      "    raise XGBoostError(py_str(_LIB.XGBGetLastError()))\n",
      "xgboost.core.XGBoostError: value 3 for Parameter colsample_bytree exceed bound [0,1]\n",
      "colsample_bytree: Subsample ratio of columns, resample on each tree construction.\n",
      "\n",
      "  warnings.warn(\"Estimator fit failed. The score on this train-test\"\n",
      "/Users/raylinsoriano/anaconda3/lib/python3.8/site-packages/sklearn/model_selection/_validation.py:615: FitFailedWarning: Estimator fit failed. The score on this train-test partition for these parameters will be set to nan. Details: \n",
      "Traceback (most recent call last):\n",
      "  File \"/Users/raylinsoriano/anaconda3/lib/python3.8/site-packages/sklearn/model_selection/_validation.py\", line 598, in _fit_and_score\n",
      "    estimator.fit(X_train, y_train, **fit_params)\n",
      "  File \"/Users/raylinsoriano/anaconda3/lib/python3.8/site-packages/sklearn/pipeline.py\", line 346, in fit\n",
      "    self._final_estimator.fit(Xt, y, **fit_params_last_step)\n",
      "  File \"/Users/raylinsoriano/anaconda3/lib/python3.8/site-packages/xgboost/core.py\", line 436, in inner_f\n",
      "    return f(**kwargs)\n",
      "  File \"/Users/raylinsoriano/anaconda3/lib/python3.8/site-packages/xgboost/sklearn.py\", line 1176, in fit\n",
      "    self._Booster = train(\n",
      "  File \"/Users/raylinsoriano/anaconda3/lib/python3.8/site-packages/xgboost/training.py\", line 189, in train\n",
      "    bst = _train_internal(params, dtrain,\n",
      "  File \"/Users/raylinsoriano/anaconda3/lib/python3.8/site-packages/xgboost/training.py\", line 81, in _train_internal\n",
      "    bst.update(dtrain, i, obj)\n",
      "  File \"/Users/raylinsoriano/anaconda3/lib/python3.8/site-packages/xgboost/core.py\", line 1499, in update\n",
      "    _check_call(_LIB.XGBoosterUpdateOneIter(self.handle,\n",
      "  File \"/Users/raylinsoriano/anaconda3/lib/python3.8/site-packages/xgboost/core.py\", line 210, in _check_call\n",
      "    raise XGBoostError(py_str(_LIB.XGBGetLastError()))\n",
      "xgboost.core.XGBoostError: value 3 for Parameter colsample_bytree exceed bound [0,1]\n",
      "colsample_bytree: Subsample ratio of columns, resample on each tree construction.\n",
      "\n",
      "  warnings.warn(\"Estimator fit failed. The score on this train-test\"\n",
      "/Users/raylinsoriano/anaconda3/lib/python3.8/site-packages/sklearn/model_selection/_validation.py:615: FitFailedWarning: Estimator fit failed. The score on this train-test partition for these parameters will be set to nan. Details: \n",
      "Traceback (most recent call last):\n",
      "  File \"/Users/raylinsoriano/anaconda3/lib/python3.8/site-packages/sklearn/model_selection/_validation.py\", line 598, in _fit_and_score\n",
      "    estimator.fit(X_train, y_train, **fit_params)\n",
      "  File \"/Users/raylinsoriano/anaconda3/lib/python3.8/site-packages/sklearn/pipeline.py\", line 346, in fit\n",
      "    self._final_estimator.fit(Xt, y, **fit_params_last_step)\n",
      "  File \"/Users/raylinsoriano/anaconda3/lib/python3.8/site-packages/xgboost/core.py\", line 436, in inner_f\n",
      "    return f(**kwargs)\n",
      "  File \"/Users/raylinsoriano/anaconda3/lib/python3.8/site-packages/xgboost/sklearn.py\", line 1176, in fit\n",
      "    self._Booster = train(\n",
      "  File \"/Users/raylinsoriano/anaconda3/lib/python3.8/site-packages/xgboost/training.py\", line 189, in train\n",
      "    bst = _train_internal(params, dtrain,\n",
      "  File \"/Users/raylinsoriano/anaconda3/lib/python3.8/site-packages/xgboost/training.py\", line 81, in _train_internal\n",
      "    bst.update(dtrain, i, obj)\n",
      "  File \"/Users/raylinsoriano/anaconda3/lib/python3.8/site-packages/xgboost/core.py\", line 1499, in update\n",
      "    _check_call(_LIB.XGBoosterUpdateOneIter(self.handle,\n",
      "  File \"/Users/raylinsoriano/anaconda3/lib/python3.8/site-packages/xgboost/core.py\", line 210, in _check_call\n",
      "    raise XGBoostError(py_str(_LIB.XGBGetLastError()))\n",
      "xgboost.core.XGBoostError: value 3 for Parameter colsample_bytree exceed bound [0,1]\n",
      "colsample_bytree: Subsample ratio of columns, resample on each tree construction.\n",
      "\n",
      "  warnings.warn(\"Estimator fit failed. The score on this train-test\"\n"
     ]
    },
    {
     "name": "stdout",
     "output_type": "stream",
     "text": [
      "[CV] END xgb__colsample_bytree=3, xgb__max_depth=10, xgb__min_child_weight=10; total time=   0.0s\n",
      "[CV] END xgb__colsample_bytree=3, xgb__max_depth=10, xgb__min_child_weight=10; total time=   0.0s\n",
      "[CV] END xgb__colsample_bytree=3, xgb__max_depth=10, xgb__min_child_weight=25; total time=   0.0s\n",
      "[CV] END xgb__colsample_bytree=3, xgb__max_depth=10, xgb__min_child_weight=25; total time=   0.0s\n",
      "[CV] END xgb__colsample_bytree=3, xgb__max_depth=10, xgb__min_child_weight=25; total time=   0.0s\n"
     ]
    },
    {
     "name": "stderr",
     "output_type": "stream",
     "text": [
      "/Users/raylinsoriano/anaconda3/lib/python3.8/site-packages/sklearn/model_selection/_validation.py:615: FitFailedWarning: Estimator fit failed. The score on this train-test partition for these parameters will be set to nan. Details: \n",
      "Traceback (most recent call last):\n",
      "  File \"/Users/raylinsoriano/anaconda3/lib/python3.8/site-packages/sklearn/model_selection/_validation.py\", line 598, in _fit_and_score\n",
      "    estimator.fit(X_train, y_train, **fit_params)\n",
      "  File \"/Users/raylinsoriano/anaconda3/lib/python3.8/site-packages/sklearn/pipeline.py\", line 346, in fit\n",
      "    self._final_estimator.fit(Xt, y, **fit_params_last_step)\n",
      "  File \"/Users/raylinsoriano/anaconda3/lib/python3.8/site-packages/xgboost/core.py\", line 436, in inner_f\n",
      "    return f(**kwargs)\n",
      "  File \"/Users/raylinsoriano/anaconda3/lib/python3.8/site-packages/xgboost/sklearn.py\", line 1176, in fit\n",
      "    self._Booster = train(\n",
      "  File \"/Users/raylinsoriano/anaconda3/lib/python3.8/site-packages/xgboost/training.py\", line 189, in train\n",
      "    bst = _train_internal(params, dtrain,\n",
      "  File \"/Users/raylinsoriano/anaconda3/lib/python3.8/site-packages/xgboost/training.py\", line 81, in _train_internal\n",
      "    bst.update(dtrain, i, obj)\n",
      "  File \"/Users/raylinsoriano/anaconda3/lib/python3.8/site-packages/xgboost/core.py\", line 1499, in update\n",
      "    _check_call(_LIB.XGBoosterUpdateOneIter(self.handle,\n",
      "  File \"/Users/raylinsoriano/anaconda3/lib/python3.8/site-packages/xgboost/core.py\", line 210, in _check_call\n",
      "    raise XGBoostError(py_str(_LIB.XGBGetLastError()))\n",
      "xgboost.core.XGBoostError: value 3 for Parameter colsample_bytree exceed bound [0,1]\n",
      "colsample_bytree: Subsample ratio of columns, resample on each tree construction.\n",
      "\n",
      "  warnings.warn(\"Estimator fit failed. The score on this train-test\"\n",
      "/Users/raylinsoriano/anaconda3/lib/python3.8/site-packages/sklearn/model_selection/_validation.py:615: FitFailedWarning: Estimator fit failed. The score on this train-test partition for these parameters will be set to nan. Details: \n",
      "Traceback (most recent call last):\n",
      "  File \"/Users/raylinsoriano/anaconda3/lib/python3.8/site-packages/sklearn/model_selection/_validation.py\", line 598, in _fit_and_score\n",
      "    estimator.fit(X_train, y_train, **fit_params)\n",
      "  File \"/Users/raylinsoriano/anaconda3/lib/python3.8/site-packages/sklearn/pipeline.py\", line 346, in fit\n",
      "    self._final_estimator.fit(Xt, y, **fit_params_last_step)\n",
      "  File \"/Users/raylinsoriano/anaconda3/lib/python3.8/site-packages/xgboost/core.py\", line 436, in inner_f\n",
      "    return f(**kwargs)\n",
      "  File \"/Users/raylinsoriano/anaconda3/lib/python3.8/site-packages/xgboost/sklearn.py\", line 1176, in fit\n",
      "    self._Booster = train(\n",
      "  File \"/Users/raylinsoriano/anaconda3/lib/python3.8/site-packages/xgboost/training.py\", line 189, in train\n",
      "    bst = _train_internal(params, dtrain,\n",
      "  File \"/Users/raylinsoriano/anaconda3/lib/python3.8/site-packages/xgboost/training.py\", line 81, in _train_internal\n",
      "    bst.update(dtrain, i, obj)\n",
      "  File \"/Users/raylinsoriano/anaconda3/lib/python3.8/site-packages/xgboost/core.py\", line 1499, in update\n",
      "    _check_call(_LIB.XGBoosterUpdateOneIter(self.handle,\n",
      "  File \"/Users/raylinsoriano/anaconda3/lib/python3.8/site-packages/xgboost/core.py\", line 210, in _check_call\n",
      "    raise XGBoostError(py_str(_LIB.XGBGetLastError()))\n",
      "xgboost.core.XGBoostError: value 3 for Parameter colsample_bytree exceed bound [0,1]\n",
      "colsample_bytree: Subsample ratio of columns, resample on each tree construction.\n",
      "\n",
      "  warnings.warn(\"Estimator fit failed. The score on this train-test\"\n",
      "/Users/raylinsoriano/anaconda3/lib/python3.8/site-packages/sklearn/model_selection/_validation.py:615: FitFailedWarning: Estimator fit failed. The score on this train-test partition for these parameters will be set to nan. Details: \n",
      "Traceback (most recent call last):\n",
      "  File \"/Users/raylinsoriano/anaconda3/lib/python3.8/site-packages/sklearn/model_selection/_validation.py\", line 598, in _fit_and_score\n",
      "    estimator.fit(X_train, y_train, **fit_params)\n",
      "  File \"/Users/raylinsoriano/anaconda3/lib/python3.8/site-packages/sklearn/pipeline.py\", line 346, in fit\n",
      "    self._final_estimator.fit(Xt, y, **fit_params_last_step)\n",
      "  File \"/Users/raylinsoriano/anaconda3/lib/python3.8/site-packages/xgboost/core.py\", line 436, in inner_f\n",
      "    return f(**kwargs)\n",
      "  File \"/Users/raylinsoriano/anaconda3/lib/python3.8/site-packages/xgboost/sklearn.py\", line 1176, in fit\n",
      "    self._Booster = train(\n",
      "  File \"/Users/raylinsoriano/anaconda3/lib/python3.8/site-packages/xgboost/training.py\", line 189, in train\n",
      "    bst = _train_internal(params, dtrain,\n",
      "  File \"/Users/raylinsoriano/anaconda3/lib/python3.8/site-packages/xgboost/training.py\", line 81, in _train_internal\n",
      "    bst.update(dtrain, i, obj)\n",
      "  File \"/Users/raylinsoriano/anaconda3/lib/python3.8/site-packages/xgboost/core.py\", line 1499, in update\n",
      "    _check_call(_LIB.XGBoosterUpdateOneIter(self.handle,\n",
      "  File \"/Users/raylinsoriano/anaconda3/lib/python3.8/site-packages/xgboost/core.py\", line 210, in _check_call\n",
      "    raise XGBoostError(py_str(_LIB.XGBGetLastError()))\n",
      "xgboost.core.XGBoostError: value 3 for Parameter colsample_bytree exceed bound [0,1]\n",
      "colsample_bytree: Subsample ratio of columns, resample on each tree construction.\n",
      "\n",
      "  warnings.warn(\"Estimator fit failed. The score on this train-test\"\n",
      "/Users/raylinsoriano/anaconda3/lib/python3.8/site-packages/sklearn/model_selection/_validation.py:615: FitFailedWarning: Estimator fit failed. The score on this train-test partition for these parameters will be set to nan. Details: \n",
      "Traceback (most recent call last):\n",
      "  File \"/Users/raylinsoriano/anaconda3/lib/python3.8/site-packages/sklearn/model_selection/_validation.py\", line 598, in _fit_and_score\n",
      "    estimator.fit(X_train, y_train, **fit_params)\n",
      "  File \"/Users/raylinsoriano/anaconda3/lib/python3.8/site-packages/sklearn/pipeline.py\", line 346, in fit\n",
      "    self._final_estimator.fit(Xt, y, **fit_params_last_step)\n",
      "  File \"/Users/raylinsoriano/anaconda3/lib/python3.8/site-packages/xgboost/core.py\", line 436, in inner_f\n",
      "    return f(**kwargs)\n",
      "  File \"/Users/raylinsoriano/anaconda3/lib/python3.8/site-packages/xgboost/sklearn.py\", line 1176, in fit\n",
      "    self._Booster = train(\n",
      "  File \"/Users/raylinsoriano/anaconda3/lib/python3.8/site-packages/xgboost/training.py\", line 189, in train\n",
      "    bst = _train_internal(params, dtrain,\n",
      "  File \"/Users/raylinsoriano/anaconda3/lib/python3.8/site-packages/xgboost/training.py\", line 81, in _train_internal\n",
      "    bst.update(dtrain, i, obj)\n",
      "  File \"/Users/raylinsoriano/anaconda3/lib/python3.8/site-packages/xgboost/core.py\", line 1499, in update\n",
      "    _check_call(_LIB.XGBoosterUpdateOneIter(self.handle,\n",
      "  File \"/Users/raylinsoriano/anaconda3/lib/python3.8/site-packages/xgboost/core.py\", line 210, in _check_call\n",
      "    raise XGBoostError(py_str(_LIB.XGBGetLastError()))\n",
      "xgboost.core.XGBoostError: value 3 for Parameter colsample_bytree exceed bound [0,1]\n",
      "colsample_bytree: Subsample ratio of columns, resample on each tree construction.\n",
      "\n",
      "  warnings.warn(\"Estimator fit failed. The score on this train-test\"\n",
      "/Users/raylinsoriano/anaconda3/lib/python3.8/site-packages/sklearn/model_selection/_validation.py:615: FitFailedWarning: Estimator fit failed. The score on this train-test partition for these parameters will be set to nan. Details: \n",
      "Traceback (most recent call last):\n",
      "  File \"/Users/raylinsoriano/anaconda3/lib/python3.8/site-packages/sklearn/model_selection/_validation.py\", line 598, in _fit_and_score\n",
      "    estimator.fit(X_train, y_train, **fit_params)\n",
      "  File \"/Users/raylinsoriano/anaconda3/lib/python3.8/site-packages/sklearn/pipeline.py\", line 346, in fit\n",
      "    self._final_estimator.fit(Xt, y, **fit_params_last_step)\n",
      "  File \"/Users/raylinsoriano/anaconda3/lib/python3.8/site-packages/xgboost/core.py\", line 436, in inner_f\n",
      "    return f(**kwargs)\n",
      "  File \"/Users/raylinsoriano/anaconda3/lib/python3.8/site-packages/xgboost/sklearn.py\", line 1176, in fit\n",
      "    self._Booster = train(\n",
      "  File \"/Users/raylinsoriano/anaconda3/lib/python3.8/site-packages/xgboost/training.py\", line 189, in train\n",
      "    bst = _train_internal(params, dtrain,\n",
      "  File \"/Users/raylinsoriano/anaconda3/lib/python3.8/site-packages/xgboost/training.py\", line 81, in _train_internal\n",
      "    bst.update(dtrain, i, obj)\n",
      "  File \"/Users/raylinsoriano/anaconda3/lib/python3.8/site-packages/xgboost/core.py\", line 1499, in update\n",
      "    _check_call(_LIB.XGBoosterUpdateOneIter(self.handle,\n",
      "  File \"/Users/raylinsoriano/anaconda3/lib/python3.8/site-packages/xgboost/core.py\", line 210, in _check_call\n",
      "    raise XGBoostError(py_str(_LIB.XGBGetLastError()))\n",
      "xgboost.core.XGBoostError: value 3 for Parameter colsample_bytree exceed bound [0,1]\n",
      "colsample_bytree: Subsample ratio of columns, resample on each tree construction.\n",
      "\n",
      "  warnings.warn(\"Estimator fit failed. The score on this train-test\"\n"
     ]
    },
    {
     "name": "stdout",
     "output_type": "stream",
     "text": [
      "[CV] END xgb__colsample_bytree=3, xgb__max_depth=10, xgb__min_child_weight=25; total time=   0.0s\n",
      "[CV] END xgb__colsample_bytree=3, xgb__max_depth=10, xgb__min_child_weight=25; total time=   0.0s\n",
      "[CV] END xgb__colsample_bytree=3, xgb__max_depth=10, xgb__min_child_weight=50; total time=   0.0s\n",
      "[CV] END xgb__colsample_bytree=3, xgb__max_depth=10, xgb__min_child_weight=50; total time=   0.0s\n",
      "[CV] END xgb__colsample_bytree=3, xgb__max_depth=10, xgb__min_child_weight=50; total time=   0.0s\n"
     ]
    },
    {
     "name": "stderr",
     "output_type": "stream",
     "text": [
      "/Users/raylinsoriano/anaconda3/lib/python3.8/site-packages/sklearn/model_selection/_validation.py:615: FitFailedWarning: Estimator fit failed. The score on this train-test partition for these parameters will be set to nan. Details: \n",
      "Traceback (most recent call last):\n",
      "  File \"/Users/raylinsoriano/anaconda3/lib/python3.8/site-packages/sklearn/model_selection/_validation.py\", line 598, in _fit_and_score\n",
      "    estimator.fit(X_train, y_train, **fit_params)\n",
      "  File \"/Users/raylinsoriano/anaconda3/lib/python3.8/site-packages/sklearn/pipeline.py\", line 346, in fit\n",
      "    self._final_estimator.fit(Xt, y, **fit_params_last_step)\n",
      "  File \"/Users/raylinsoriano/anaconda3/lib/python3.8/site-packages/xgboost/core.py\", line 436, in inner_f\n",
      "    return f(**kwargs)\n",
      "  File \"/Users/raylinsoriano/anaconda3/lib/python3.8/site-packages/xgboost/sklearn.py\", line 1176, in fit\n",
      "    self._Booster = train(\n",
      "  File \"/Users/raylinsoriano/anaconda3/lib/python3.8/site-packages/xgboost/training.py\", line 189, in train\n",
      "    bst = _train_internal(params, dtrain,\n",
      "  File \"/Users/raylinsoriano/anaconda3/lib/python3.8/site-packages/xgboost/training.py\", line 81, in _train_internal\n",
      "    bst.update(dtrain, i, obj)\n",
      "  File \"/Users/raylinsoriano/anaconda3/lib/python3.8/site-packages/xgboost/core.py\", line 1499, in update\n",
      "    _check_call(_LIB.XGBoosterUpdateOneIter(self.handle,\n",
      "  File \"/Users/raylinsoriano/anaconda3/lib/python3.8/site-packages/xgboost/core.py\", line 210, in _check_call\n",
      "    raise XGBoostError(py_str(_LIB.XGBGetLastError()))\n",
      "xgboost.core.XGBoostError: value 3 for Parameter colsample_bytree exceed bound [0,1]\n",
      "colsample_bytree: Subsample ratio of columns, resample on each tree construction.\n",
      "\n",
      "  warnings.warn(\"Estimator fit failed. The score on this train-test\"\n",
      "/Users/raylinsoriano/anaconda3/lib/python3.8/site-packages/sklearn/model_selection/_validation.py:615: FitFailedWarning: Estimator fit failed. The score on this train-test partition for these parameters will be set to nan. Details: \n",
      "Traceback (most recent call last):\n",
      "  File \"/Users/raylinsoriano/anaconda3/lib/python3.8/site-packages/sklearn/model_selection/_validation.py\", line 598, in _fit_and_score\n",
      "    estimator.fit(X_train, y_train, **fit_params)\n",
      "  File \"/Users/raylinsoriano/anaconda3/lib/python3.8/site-packages/sklearn/pipeline.py\", line 346, in fit\n",
      "    self._final_estimator.fit(Xt, y, **fit_params_last_step)\n",
      "  File \"/Users/raylinsoriano/anaconda3/lib/python3.8/site-packages/xgboost/core.py\", line 436, in inner_f\n",
      "    return f(**kwargs)\n",
      "  File \"/Users/raylinsoriano/anaconda3/lib/python3.8/site-packages/xgboost/sklearn.py\", line 1176, in fit\n",
      "    self._Booster = train(\n",
      "  File \"/Users/raylinsoriano/anaconda3/lib/python3.8/site-packages/xgboost/training.py\", line 189, in train\n",
      "    bst = _train_internal(params, dtrain,\n",
      "  File \"/Users/raylinsoriano/anaconda3/lib/python3.8/site-packages/xgboost/training.py\", line 81, in _train_internal\n",
      "    bst.update(dtrain, i, obj)\n",
      "  File \"/Users/raylinsoriano/anaconda3/lib/python3.8/site-packages/xgboost/core.py\", line 1499, in update\n",
      "    _check_call(_LIB.XGBoosterUpdateOneIter(self.handle,\n",
      "  File \"/Users/raylinsoriano/anaconda3/lib/python3.8/site-packages/xgboost/core.py\", line 210, in _check_call\n",
      "    raise XGBoostError(py_str(_LIB.XGBGetLastError()))\n",
      "xgboost.core.XGBoostError: value 3 for Parameter colsample_bytree exceed bound [0,1]\n",
      "colsample_bytree: Subsample ratio of columns, resample on each tree construction.\n",
      "\n",
      "  warnings.warn(\"Estimator fit failed. The score on this train-test\"\n",
      "/Users/raylinsoriano/anaconda3/lib/python3.8/site-packages/sklearn/model_selection/_validation.py:615: FitFailedWarning: Estimator fit failed. The score on this train-test partition for these parameters will be set to nan. Details: \n",
      "Traceback (most recent call last):\n",
      "  File \"/Users/raylinsoriano/anaconda3/lib/python3.8/site-packages/sklearn/model_selection/_validation.py\", line 598, in _fit_and_score\n",
      "    estimator.fit(X_train, y_train, **fit_params)\n",
      "  File \"/Users/raylinsoriano/anaconda3/lib/python3.8/site-packages/sklearn/pipeline.py\", line 346, in fit\n",
      "    self._final_estimator.fit(Xt, y, **fit_params_last_step)\n",
      "  File \"/Users/raylinsoriano/anaconda3/lib/python3.8/site-packages/xgboost/core.py\", line 436, in inner_f\n",
      "    return f(**kwargs)\n",
      "  File \"/Users/raylinsoriano/anaconda3/lib/python3.8/site-packages/xgboost/sklearn.py\", line 1176, in fit\n",
      "    self._Booster = train(\n",
      "  File \"/Users/raylinsoriano/anaconda3/lib/python3.8/site-packages/xgboost/training.py\", line 189, in train\n",
      "    bst = _train_internal(params, dtrain,\n",
      "  File \"/Users/raylinsoriano/anaconda3/lib/python3.8/site-packages/xgboost/training.py\", line 81, in _train_internal\n",
      "    bst.update(dtrain, i, obj)\n",
      "  File \"/Users/raylinsoriano/anaconda3/lib/python3.8/site-packages/xgboost/core.py\", line 1499, in update\n",
      "    _check_call(_LIB.XGBoosterUpdateOneIter(self.handle,\n",
      "  File \"/Users/raylinsoriano/anaconda3/lib/python3.8/site-packages/xgboost/core.py\", line 210, in _check_call\n",
      "    raise XGBoostError(py_str(_LIB.XGBGetLastError()))\n",
      "xgboost.core.XGBoostError: value 3 for Parameter colsample_bytree exceed bound [0,1]\n",
      "colsample_bytree: Subsample ratio of columns, resample on each tree construction.\n",
      "\n",
      "  warnings.warn(\"Estimator fit failed. The score on this train-test\"\n",
      "/Users/raylinsoriano/anaconda3/lib/python3.8/site-packages/sklearn/model_selection/_validation.py:615: FitFailedWarning: Estimator fit failed. The score on this train-test partition for these parameters will be set to nan. Details: \n",
      "Traceback (most recent call last):\n",
      "  File \"/Users/raylinsoriano/anaconda3/lib/python3.8/site-packages/sklearn/model_selection/_validation.py\", line 598, in _fit_and_score\n",
      "    estimator.fit(X_train, y_train, **fit_params)\n",
      "  File \"/Users/raylinsoriano/anaconda3/lib/python3.8/site-packages/sklearn/pipeline.py\", line 346, in fit\n",
      "    self._final_estimator.fit(Xt, y, **fit_params_last_step)\n",
      "  File \"/Users/raylinsoriano/anaconda3/lib/python3.8/site-packages/xgboost/core.py\", line 436, in inner_f\n",
      "    return f(**kwargs)\n",
      "  File \"/Users/raylinsoriano/anaconda3/lib/python3.8/site-packages/xgboost/sklearn.py\", line 1176, in fit\n",
      "    self._Booster = train(\n",
      "  File \"/Users/raylinsoriano/anaconda3/lib/python3.8/site-packages/xgboost/training.py\", line 189, in train\n",
      "    bst = _train_internal(params, dtrain,\n",
      "  File \"/Users/raylinsoriano/anaconda3/lib/python3.8/site-packages/xgboost/training.py\", line 81, in _train_internal\n",
      "    bst.update(dtrain, i, obj)\n",
      "  File \"/Users/raylinsoriano/anaconda3/lib/python3.8/site-packages/xgboost/core.py\", line 1499, in update\n",
      "    _check_call(_LIB.XGBoosterUpdateOneIter(self.handle,\n",
      "  File \"/Users/raylinsoriano/anaconda3/lib/python3.8/site-packages/xgboost/core.py\", line 210, in _check_call\n",
      "    raise XGBoostError(py_str(_LIB.XGBGetLastError()))\n",
      "xgboost.core.XGBoostError: value 3 for Parameter colsample_bytree exceed bound [0,1]\n",
      "colsample_bytree: Subsample ratio of columns, resample on each tree construction.\n",
      "\n",
      "  warnings.warn(\"Estimator fit failed. The score on this train-test\"\n",
      "/Users/raylinsoriano/anaconda3/lib/python3.8/site-packages/sklearn/model_selection/_validation.py:615: FitFailedWarning: Estimator fit failed. The score on this train-test partition for these parameters will be set to nan. Details: \n",
      "Traceback (most recent call last):\n",
      "  File \"/Users/raylinsoriano/anaconda3/lib/python3.8/site-packages/sklearn/model_selection/_validation.py\", line 598, in _fit_and_score\n",
      "    estimator.fit(X_train, y_train, **fit_params)\n",
      "  File \"/Users/raylinsoriano/anaconda3/lib/python3.8/site-packages/sklearn/pipeline.py\", line 346, in fit\n",
      "    self._final_estimator.fit(Xt, y, **fit_params_last_step)\n",
      "  File \"/Users/raylinsoriano/anaconda3/lib/python3.8/site-packages/xgboost/core.py\", line 436, in inner_f\n",
      "    return f(**kwargs)\n",
      "  File \"/Users/raylinsoriano/anaconda3/lib/python3.8/site-packages/xgboost/sklearn.py\", line 1176, in fit\n",
      "    self._Booster = train(\n",
      "  File \"/Users/raylinsoriano/anaconda3/lib/python3.8/site-packages/xgboost/training.py\", line 189, in train\n",
      "    bst = _train_internal(params, dtrain,\n",
      "  File \"/Users/raylinsoriano/anaconda3/lib/python3.8/site-packages/xgboost/training.py\", line 81, in _train_internal\n",
      "    bst.update(dtrain, i, obj)\n",
      "  File \"/Users/raylinsoriano/anaconda3/lib/python3.8/site-packages/xgboost/core.py\", line 1499, in update\n",
      "    _check_call(_LIB.XGBoosterUpdateOneIter(self.handle,\n",
      "  File \"/Users/raylinsoriano/anaconda3/lib/python3.8/site-packages/xgboost/core.py\", line 210, in _check_call\n",
      "    raise XGBoostError(py_str(_LIB.XGBGetLastError()))\n",
      "xgboost.core.XGBoostError: value 3 for Parameter colsample_bytree exceed bound [0,1]\n",
      "colsample_bytree: Subsample ratio of columns, resample on each tree construction.\n",
      "\n",
      "  warnings.warn(\"Estimator fit failed. The score on this train-test\"\n"
     ]
    },
    {
     "name": "stdout",
     "output_type": "stream",
     "text": [
      "[CV] END xgb__colsample_bytree=3, xgb__max_depth=10, xgb__min_child_weight=50; total time=   0.0s\n",
      "[CV] END xgb__colsample_bytree=3, xgb__max_depth=10, xgb__min_child_weight=50; total time=   0.0s\n",
      "[CV] END xgb__colsample_bytree=3, xgb__max_depth=15, xgb__min_child_weight=10; total time=   0.0s\n",
      "[CV] END xgb__colsample_bytree=3, xgb__max_depth=15, xgb__min_child_weight=10; total time=   0.0s\n",
      "[CV] END xgb__colsample_bytree=3, xgb__max_depth=15, xgb__min_child_weight=10; total time=   0.0s\n"
     ]
    },
    {
     "name": "stderr",
     "output_type": "stream",
     "text": [
      "/Users/raylinsoriano/anaconda3/lib/python3.8/site-packages/sklearn/model_selection/_validation.py:615: FitFailedWarning: Estimator fit failed. The score on this train-test partition for these parameters will be set to nan. Details: \n",
      "Traceback (most recent call last):\n",
      "  File \"/Users/raylinsoriano/anaconda3/lib/python3.8/site-packages/sklearn/model_selection/_validation.py\", line 598, in _fit_and_score\n",
      "    estimator.fit(X_train, y_train, **fit_params)\n",
      "  File \"/Users/raylinsoriano/anaconda3/lib/python3.8/site-packages/sklearn/pipeline.py\", line 346, in fit\n",
      "    self._final_estimator.fit(Xt, y, **fit_params_last_step)\n",
      "  File \"/Users/raylinsoriano/anaconda3/lib/python3.8/site-packages/xgboost/core.py\", line 436, in inner_f\n",
      "    return f(**kwargs)\n",
      "  File \"/Users/raylinsoriano/anaconda3/lib/python3.8/site-packages/xgboost/sklearn.py\", line 1176, in fit\n",
      "    self._Booster = train(\n",
      "  File \"/Users/raylinsoriano/anaconda3/lib/python3.8/site-packages/xgboost/training.py\", line 189, in train\n",
      "    bst = _train_internal(params, dtrain,\n",
      "  File \"/Users/raylinsoriano/anaconda3/lib/python3.8/site-packages/xgboost/training.py\", line 81, in _train_internal\n",
      "    bst.update(dtrain, i, obj)\n",
      "  File \"/Users/raylinsoriano/anaconda3/lib/python3.8/site-packages/xgboost/core.py\", line 1499, in update\n",
      "    _check_call(_LIB.XGBoosterUpdateOneIter(self.handle,\n",
      "  File \"/Users/raylinsoriano/anaconda3/lib/python3.8/site-packages/xgboost/core.py\", line 210, in _check_call\n",
      "    raise XGBoostError(py_str(_LIB.XGBGetLastError()))\n",
      "xgboost.core.XGBoostError: value 3 for Parameter colsample_bytree exceed bound [0,1]\n",
      "colsample_bytree: Subsample ratio of columns, resample on each tree construction.\n",
      "\n",
      "  warnings.warn(\"Estimator fit failed. The score on this train-test\"\n",
      "/Users/raylinsoriano/anaconda3/lib/python3.8/site-packages/sklearn/model_selection/_validation.py:615: FitFailedWarning: Estimator fit failed. The score on this train-test partition for these parameters will be set to nan. Details: \n",
      "Traceback (most recent call last):\n",
      "  File \"/Users/raylinsoriano/anaconda3/lib/python3.8/site-packages/sklearn/model_selection/_validation.py\", line 598, in _fit_and_score\n",
      "    estimator.fit(X_train, y_train, **fit_params)\n",
      "  File \"/Users/raylinsoriano/anaconda3/lib/python3.8/site-packages/sklearn/pipeline.py\", line 346, in fit\n",
      "    self._final_estimator.fit(Xt, y, **fit_params_last_step)\n",
      "  File \"/Users/raylinsoriano/anaconda3/lib/python3.8/site-packages/xgboost/core.py\", line 436, in inner_f\n",
      "    return f(**kwargs)\n",
      "  File \"/Users/raylinsoriano/anaconda3/lib/python3.8/site-packages/xgboost/sklearn.py\", line 1176, in fit\n",
      "    self._Booster = train(\n",
      "  File \"/Users/raylinsoriano/anaconda3/lib/python3.8/site-packages/xgboost/training.py\", line 189, in train\n",
      "    bst = _train_internal(params, dtrain,\n",
      "  File \"/Users/raylinsoriano/anaconda3/lib/python3.8/site-packages/xgboost/training.py\", line 81, in _train_internal\n",
      "    bst.update(dtrain, i, obj)\n",
      "  File \"/Users/raylinsoriano/anaconda3/lib/python3.8/site-packages/xgboost/core.py\", line 1499, in update\n",
      "    _check_call(_LIB.XGBoosterUpdateOneIter(self.handle,\n",
      "  File \"/Users/raylinsoriano/anaconda3/lib/python3.8/site-packages/xgboost/core.py\", line 210, in _check_call\n",
      "    raise XGBoostError(py_str(_LIB.XGBGetLastError()))\n",
      "xgboost.core.XGBoostError: value 3 for Parameter colsample_bytree exceed bound [0,1]\n",
      "colsample_bytree: Subsample ratio of columns, resample on each tree construction.\n",
      "\n",
      "  warnings.warn(\"Estimator fit failed. The score on this train-test\"\n",
      "/Users/raylinsoriano/anaconda3/lib/python3.8/site-packages/sklearn/model_selection/_validation.py:615: FitFailedWarning: Estimator fit failed. The score on this train-test partition for these parameters will be set to nan. Details: \n",
      "Traceback (most recent call last):\n",
      "  File \"/Users/raylinsoriano/anaconda3/lib/python3.8/site-packages/sklearn/model_selection/_validation.py\", line 598, in _fit_and_score\n",
      "    estimator.fit(X_train, y_train, **fit_params)\n",
      "  File \"/Users/raylinsoriano/anaconda3/lib/python3.8/site-packages/sklearn/pipeline.py\", line 346, in fit\n",
      "    self._final_estimator.fit(Xt, y, **fit_params_last_step)\n",
      "  File \"/Users/raylinsoriano/anaconda3/lib/python3.8/site-packages/xgboost/core.py\", line 436, in inner_f\n",
      "    return f(**kwargs)\n",
      "  File \"/Users/raylinsoriano/anaconda3/lib/python3.8/site-packages/xgboost/sklearn.py\", line 1176, in fit\n",
      "    self._Booster = train(\n",
      "  File \"/Users/raylinsoriano/anaconda3/lib/python3.8/site-packages/xgboost/training.py\", line 189, in train\n",
      "    bst = _train_internal(params, dtrain,\n",
      "  File \"/Users/raylinsoriano/anaconda3/lib/python3.8/site-packages/xgboost/training.py\", line 81, in _train_internal\n",
      "    bst.update(dtrain, i, obj)\n",
      "  File \"/Users/raylinsoriano/anaconda3/lib/python3.8/site-packages/xgboost/core.py\", line 1499, in update\n",
      "    _check_call(_LIB.XGBoosterUpdateOneIter(self.handle,\n",
      "  File \"/Users/raylinsoriano/anaconda3/lib/python3.8/site-packages/xgboost/core.py\", line 210, in _check_call\n",
      "    raise XGBoostError(py_str(_LIB.XGBGetLastError()))\n",
      "xgboost.core.XGBoostError: value 3 for Parameter colsample_bytree exceed bound [0,1]\n",
      "colsample_bytree: Subsample ratio of columns, resample on each tree construction.\n",
      "\n",
      "  warnings.warn(\"Estimator fit failed. The score on this train-test\"\n",
      "/Users/raylinsoriano/anaconda3/lib/python3.8/site-packages/sklearn/model_selection/_validation.py:615: FitFailedWarning: Estimator fit failed. The score on this train-test partition for these parameters will be set to nan. Details: \n",
      "Traceback (most recent call last):\n",
      "  File \"/Users/raylinsoriano/anaconda3/lib/python3.8/site-packages/sklearn/model_selection/_validation.py\", line 598, in _fit_and_score\n",
      "    estimator.fit(X_train, y_train, **fit_params)\n",
      "  File \"/Users/raylinsoriano/anaconda3/lib/python3.8/site-packages/sklearn/pipeline.py\", line 346, in fit\n",
      "    self._final_estimator.fit(Xt, y, **fit_params_last_step)\n",
      "  File \"/Users/raylinsoriano/anaconda3/lib/python3.8/site-packages/xgboost/core.py\", line 436, in inner_f\n",
      "    return f(**kwargs)\n",
      "  File \"/Users/raylinsoriano/anaconda3/lib/python3.8/site-packages/xgboost/sklearn.py\", line 1176, in fit\n",
      "    self._Booster = train(\n",
      "  File \"/Users/raylinsoriano/anaconda3/lib/python3.8/site-packages/xgboost/training.py\", line 189, in train\n",
      "    bst = _train_internal(params, dtrain,\n",
      "  File \"/Users/raylinsoriano/anaconda3/lib/python3.8/site-packages/xgboost/training.py\", line 81, in _train_internal\n",
      "    bst.update(dtrain, i, obj)\n",
      "  File \"/Users/raylinsoriano/anaconda3/lib/python3.8/site-packages/xgboost/core.py\", line 1499, in update\n",
      "    _check_call(_LIB.XGBoosterUpdateOneIter(self.handle,\n",
      "  File \"/Users/raylinsoriano/anaconda3/lib/python3.8/site-packages/xgboost/core.py\", line 210, in _check_call\n",
      "    raise XGBoostError(py_str(_LIB.XGBGetLastError()))\n",
      "xgboost.core.XGBoostError: value 3 for Parameter colsample_bytree exceed bound [0,1]\n",
      "colsample_bytree: Subsample ratio of columns, resample on each tree construction.\n",
      "\n",
      "  warnings.warn(\"Estimator fit failed. The score on this train-test\"\n",
      "/Users/raylinsoriano/anaconda3/lib/python3.8/site-packages/sklearn/model_selection/_validation.py:615: FitFailedWarning: Estimator fit failed. The score on this train-test partition for these parameters will be set to nan. Details: \n",
      "Traceback (most recent call last):\n",
      "  File \"/Users/raylinsoriano/anaconda3/lib/python3.8/site-packages/sklearn/model_selection/_validation.py\", line 598, in _fit_and_score\n",
      "    estimator.fit(X_train, y_train, **fit_params)\n",
      "  File \"/Users/raylinsoriano/anaconda3/lib/python3.8/site-packages/sklearn/pipeline.py\", line 346, in fit\n",
      "    self._final_estimator.fit(Xt, y, **fit_params_last_step)\n",
      "  File \"/Users/raylinsoriano/anaconda3/lib/python3.8/site-packages/xgboost/core.py\", line 436, in inner_f\n",
      "    return f(**kwargs)\n",
      "  File \"/Users/raylinsoriano/anaconda3/lib/python3.8/site-packages/xgboost/sklearn.py\", line 1176, in fit\n",
      "    self._Booster = train(\n",
      "  File \"/Users/raylinsoriano/anaconda3/lib/python3.8/site-packages/xgboost/training.py\", line 189, in train\n",
      "    bst = _train_internal(params, dtrain,\n",
      "  File \"/Users/raylinsoriano/anaconda3/lib/python3.8/site-packages/xgboost/training.py\", line 81, in _train_internal\n",
      "    bst.update(dtrain, i, obj)\n",
      "  File \"/Users/raylinsoriano/anaconda3/lib/python3.8/site-packages/xgboost/core.py\", line 1499, in update\n",
      "    _check_call(_LIB.XGBoosterUpdateOneIter(self.handle,\n",
      "  File \"/Users/raylinsoriano/anaconda3/lib/python3.8/site-packages/xgboost/core.py\", line 210, in _check_call\n",
      "    raise XGBoostError(py_str(_LIB.XGBGetLastError()))\n",
      "xgboost.core.XGBoostError: value 3 for Parameter colsample_bytree exceed bound [0,1]\n",
      "colsample_bytree: Subsample ratio of columns, resample on each tree construction.\n",
      "\n",
      "  warnings.warn(\"Estimator fit failed. The score on this train-test\"\n"
     ]
    },
    {
     "name": "stdout",
     "output_type": "stream",
     "text": [
      "[CV] END xgb__colsample_bytree=3, xgb__max_depth=15, xgb__min_child_weight=10; total time=   0.0s\n",
      "[CV] END xgb__colsample_bytree=3, xgb__max_depth=15, xgb__min_child_weight=10; total time=   0.0s\n",
      "[CV] END xgb__colsample_bytree=3, xgb__max_depth=15, xgb__min_child_weight=25; total time=   0.0s\n",
      "[CV] END xgb__colsample_bytree=3, xgb__max_depth=15, xgb__min_child_weight=25; total time=   0.0s\n",
      "[CV] END xgb__colsample_bytree=3, xgb__max_depth=15, xgb__min_child_weight=25; total time=   0.0s\n"
     ]
    },
    {
     "name": "stderr",
     "output_type": "stream",
     "text": [
      "/Users/raylinsoriano/anaconda3/lib/python3.8/site-packages/sklearn/model_selection/_validation.py:615: FitFailedWarning: Estimator fit failed. The score on this train-test partition for these parameters will be set to nan. Details: \n",
      "Traceback (most recent call last):\n",
      "  File \"/Users/raylinsoriano/anaconda3/lib/python3.8/site-packages/sklearn/model_selection/_validation.py\", line 598, in _fit_and_score\n",
      "    estimator.fit(X_train, y_train, **fit_params)\n",
      "  File \"/Users/raylinsoriano/anaconda3/lib/python3.8/site-packages/sklearn/pipeline.py\", line 346, in fit\n",
      "    self._final_estimator.fit(Xt, y, **fit_params_last_step)\n",
      "  File \"/Users/raylinsoriano/anaconda3/lib/python3.8/site-packages/xgboost/core.py\", line 436, in inner_f\n",
      "    return f(**kwargs)\n",
      "  File \"/Users/raylinsoriano/anaconda3/lib/python3.8/site-packages/xgboost/sklearn.py\", line 1176, in fit\n",
      "    self._Booster = train(\n",
      "  File \"/Users/raylinsoriano/anaconda3/lib/python3.8/site-packages/xgboost/training.py\", line 189, in train\n",
      "    bst = _train_internal(params, dtrain,\n",
      "  File \"/Users/raylinsoriano/anaconda3/lib/python3.8/site-packages/xgboost/training.py\", line 81, in _train_internal\n",
      "    bst.update(dtrain, i, obj)\n",
      "  File \"/Users/raylinsoriano/anaconda3/lib/python3.8/site-packages/xgboost/core.py\", line 1499, in update\n",
      "    _check_call(_LIB.XGBoosterUpdateOneIter(self.handle,\n",
      "  File \"/Users/raylinsoriano/anaconda3/lib/python3.8/site-packages/xgboost/core.py\", line 210, in _check_call\n",
      "    raise XGBoostError(py_str(_LIB.XGBGetLastError()))\n",
      "xgboost.core.XGBoostError: value 3 for Parameter colsample_bytree exceed bound [0,1]\n",
      "colsample_bytree: Subsample ratio of columns, resample on each tree construction.\n",
      "\n",
      "  warnings.warn(\"Estimator fit failed. The score on this train-test\"\n",
      "/Users/raylinsoriano/anaconda3/lib/python3.8/site-packages/sklearn/model_selection/_validation.py:615: FitFailedWarning: Estimator fit failed. The score on this train-test partition for these parameters will be set to nan. Details: \n",
      "Traceback (most recent call last):\n",
      "  File \"/Users/raylinsoriano/anaconda3/lib/python3.8/site-packages/sklearn/model_selection/_validation.py\", line 598, in _fit_and_score\n",
      "    estimator.fit(X_train, y_train, **fit_params)\n",
      "  File \"/Users/raylinsoriano/anaconda3/lib/python3.8/site-packages/sklearn/pipeline.py\", line 346, in fit\n",
      "    self._final_estimator.fit(Xt, y, **fit_params_last_step)\n",
      "  File \"/Users/raylinsoriano/anaconda3/lib/python3.8/site-packages/xgboost/core.py\", line 436, in inner_f\n",
      "    return f(**kwargs)\n",
      "  File \"/Users/raylinsoriano/anaconda3/lib/python3.8/site-packages/xgboost/sklearn.py\", line 1176, in fit\n",
      "    self._Booster = train(\n",
      "  File \"/Users/raylinsoriano/anaconda3/lib/python3.8/site-packages/xgboost/training.py\", line 189, in train\n",
      "    bst = _train_internal(params, dtrain,\n",
      "  File \"/Users/raylinsoriano/anaconda3/lib/python3.8/site-packages/xgboost/training.py\", line 81, in _train_internal\n",
      "    bst.update(dtrain, i, obj)\n",
      "  File \"/Users/raylinsoriano/anaconda3/lib/python3.8/site-packages/xgboost/core.py\", line 1499, in update\n",
      "    _check_call(_LIB.XGBoosterUpdateOneIter(self.handle,\n",
      "  File \"/Users/raylinsoriano/anaconda3/lib/python3.8/site-packages/xgboost/core.py\", line 210, in _check_call\n",
      "    raise XGBoostError(py_str(_LIB.XGBGetLastError()))\n",
      "xgboost.core.XGBoostError: value 3 for Parameter colsample_bytree exceed bound [0,1]\n",
      "colsample_bytree: Subsample ratio of columns, resample on each tree construction.\n",
      "\n",
      "  warnings.warn(\"Estimator fit failed. The score on this train-test\"\n",
      "/Users/raylinsoriano/anaconda3/lib/python3.8/site-packages/sklearn/model_selection/_validation.py:615: FitFailedWarning: Estimator fit failed. The score on this train-test partition for these parameters will be set to nan. Details: \n",
      "Traceback (most recent call last):\n",
      "  File \"/Users/raylinsoriano/anaconda3/lib/python3.8/site-packages/sklearn/model_selection/_validation.py\", line 598, in _fit_and_score\n",
      "    estimator.fit(X_train, y_train, **fit_params)\n",
      "  File \"/Users/raylinsoriano/anaconda3/lib/python3.8/site-packages/sklearn/pipeline.py\", line 346, in fit\n",
      "    self._final_estimator.fit(Xt, y, **fit_params_last_step)\n",
      "  File \"/Users/raylinsoriano/anaconda3/lib/python3.8/site-packages/xgboost/core.py\", line 436, in inner_f\n",
      "    return f(**kwargs)\n",
      "  File \"/Users/raylinsoriano/anaconda3/lib/python3.8/site-packages/xgboost/sklearn.py\", line 1176, in fit\n",
      "    self._Booster = train(\n",
      "  File \"/Users/raylinsoriano/anaconda3/lib/python3.8/site-packages/xgboost/training.py\", line 189, in train\n",
      "    bst = _train_internal(params, dtrain,\n",
      "  File \"/Users/raylinsoriano/anaconda3/lib/python3.8/site-packages/xgboost/training.py\", line 81, in _train_internal\n",
      "    bst.update(dtrain, i, obj)\n",
      "  File \"/Users/raylinsoriano/anaconda3/lib/python3.8/site-packages/xgboost/core.py\", line 1499, in update\n",
      "    _check_call(_LIB.XGBoosterUpdateOneIter(self.handle,\n",
      "  File \"/Users/raylinsoriano/anaconda3/lib/python3.8/site-packages/xgboost/core.py\", line 210, in _check_call\n",
      "    raise XGBoostError(py_str(_LIB.XGBGetLastError()))\n",
      "xgboost.core.XGBoostError: value 3 for Parameter colsample_bytree exceed bound [0,1]\n",
      "colsample_bytree: Subsample ratio of columns, resample on each tree construction.\n",
      "\n",
      "  warnings.warn(\"Estimator fit failed. The score on this train-test\"\n",
      "/Users/raylinsoriano/anaconda3/lib/python3.8/site-packages/sklearn/model_selection/_validation.py:615: FitFailedWarning: Estimator fit failed. The score on this train-test partition for these parameters will be set to nan. Details: \n",
      "Traceback (most recent call last):\n",
      "  File \"/Users/raylinsoriano/anaconda3/lib/python3.8/site-packages/sklearn/model_selection/_validation.py\", line 598, in _fit_and_score\n",
      "    estimator.fit(X_train, y_train, **fit_params)\n",
      "  File \"/Users/raylinsoriano/anaconda3/lib/python3.8/site-packages/sklearn/pipeline.py\", line 346, in fit\n",
      "    self._final_estimator.fit(Xt, y, **fit_params_last_step)\n",
      "  File \"/Users/raylinsoriano/anaconda3/lib/python3.8/site-packages/xgboost/core.py\", line 436, in inner_f\n",
      "    return f(**kwargs)\n",
      "  File \"/Users/raylinsoriano/anaconda3/lib/python3.8/site-packages/xgboost/sklearn.py\", line 1176, in fit\n",
      "    self._Booster = train(\n",
      "  File \"/Users/raylinsoriano/anaconda3/lib/python3.8/site-packages/xgboost/training.py\", line 189, in train\n",
      "    bst = _train_internal(params, dtrain,\n",
      "  File \"/Users/raylinsoriano/anaconda3/lib/python3.8/site-packages/xgboost/training.py\", line 81, in _train_internal\n",
      "    bst.update(dtrain, i, obj)\n",
      "  File \"/Users/raylinsoriano/anaconda3/lib/python3.8/site-packages/xgboost/core.py\", line 1499, in update\n",
      "    _check_call(_LIB.XGBoosterUpdateOneIter(self.handle,\n",
      "  File \"/Users/raylinsoriano/anaconda3/lib/python3.8/site-packages/xgboost/core.py\", line 210, in _check_call\n",
      "    raise XGBoostError(py_str(_LIB.XGBGetLastError()))\n",
      "xgboost.core.XGBoostError: value 3 for Parameter colsample_bytree exceed bound [0,1]\n",
      "colsample_bytree: Subsample ratio of columns, resample on each tree construction.\n",
      "\n",
      "  warnings.warn(\"Estimator fit failed. The score on this train-test\"\n",
      "/Users/raylinsoriano/anaconda3/lib/python3.8/site-packages/sklearn/model_selection/_validation.py:615: FitFailedWarning: Estimator fit failed. The score on this train-test partition for these parameters will be set to nan. Details: \n",
      "Traceback (most recent call last):\n",
      "  File \"/Users/raylinsoriano/anaconda3/lib/python3.8/site-packages/sklearn/model_selection/_validation.py\", line 598, in _fit_and_score\n",
      "    estimator.fit(X_train, y_train, **fit_params)\n",
      "  File \"/Users/raylinsoriano/anaconda3/lib/python3.8/site-packages/sklearn/pipeline.py\", line 346, in fit\n",
      "    self._final_estimator.fit(Xt, y, **fit_params_last_step)\n",
      "  File \"/Users/raylinsoriano/anaconda3/lib/python3.8/site-packages/xgboost/core.py\", line 436, in inner_f\n",
      "    return f(**kwargs)\n",
      "  File \"/Users/raylinsoriano/anaconda3/lib/python3.8/site-packages/xgboost/sklearn.py\", line 1176, in fit\n",
      "    self._Booster = train(\n",
      "  File \"/Users/raylinsoriano/anaconda3/lib/python3.8/site-packages/xgboost/training.py\", line 189, in train\n",
      "    bst = _train_internal(params, dtrain,\n",
      "  File \"/Users/raylinsoriano/anaconda3/lib/python3.8/site-packages/xgboost/training.py\", line 81, in _train_internal\n",
      "    bst.update(dtrain, i, obj)\n",
      "  File \"/Users/raylinsoriano/anaconda3/lib/python3.8/site-packages/xgboost/core.py\", line 1499, in update\n",
      "    _check_call(_LIB.XGBoosterUpdateOneIter(self.handle,\n",
      "  File \"/Users/raylinsoriano/anaconda3/lib/python3.8/site-packages/xgboost/core.py\", line 210, in _check_call\n",
      "    raise XGBoostError(py_str(_LIB.XGBGetLastError()))\n",
      "xgboost.core.XGBoostError: value 3 for Parameter colsample_bytree exceed bound [0,1]\n",
      "colsample_bytree: Subsample ratio of columns, resample on each tree construction.\n",
      "\n",
      "  warnings.warn(\"Estimator fit failed. The score on this train-test\"\n"
     ]
    },
    {
     "name": "stdout",
     "output_type": "stream",
     "text": [
      "[CV] END xgb__colsample_bytree=3, xgb__max_depth=15, xgb__min_child_weight=25; total time=   0.0s\n",
      "[CV] END xgb__colsample_bytree=3, xgb__max_depth=15, xgb__min_child_weight=25; total time=   0.0s\n",
      "[CV] END xgb__colsample_bytree=3, xgb__max_depth=15, xgb__min_child_weight=50; total time=   0.0s\n",
      "[CV] END xgb__colsample_bytree=3, xgb__max_depth=15, xgb__min_child_weight=50; total time=   0.0s\n",
      "[CV] END xgb__colsample_bytree=3, xgb__max_depth=15, xgb__min_child_weight=50; total time=   0.0s\n"
     ]
    },
    {
     "name": "stderr",
     "output_type": "stream",
     "text": [
      "/Users/raylinsoriano/anaconda3/lib/python3.8/site-packages/sklearn/model_selection/_validation.py:615: FitFailedWarning: Estimator fit failed. The score on this train-test partition for these parameters will be set to nan. Details: \n",
      "Traceback (most recent call last):\n",
      "  File \"/Users/raylinsoriano/anaconda3/lib/python3.8/site-packages/sklearn/model_selection/_validation.py\", line 598, in _fit_and_score\n",
      "    estimator.fit(X_train, y_train, **fit_params)\n",
      "  File \"/Users/raylinsoriano/anaconda3/lib/python3.8/site-packages/sklearn/pipeline.py\", line 346, in fit\n",
      "    self._final_estimator.fit(Xt, y, **fit_params_last_step)\n",
      "  File \"/Users/raylinsoriano/anaconda3/lib/python3.8/site-packages/xgboost/core.py\", line 436, in inner_f\n",
      "    return f(**kwargs)\n",
      "  File \"/Users/raylinsoriano/anaconda3/lib/python3.8/site-packages/xgboost/sklearn.py\", line 1176, in fit\n",
      "    self._Booster = train(\n",
      "  File \"/Users/raylinsoriano/anaconda3/lib/python3.8/site-packages/xgboost/training.py\", line 189, in train\n",
      "    bst = _train_internal(params, dtrain,\n",
      "  File \"/Users/raylinsoriano/anaconda3/lib/python3.8/site-packages/xgboost/training.py\", line 81, in _train_internal\n",
      "    bst.update(dtrain, i, obj)\n",
      "  File \"/Users/raylinsoriano/anaconda3/lib/python3.8/site-packages/xgboost/core.py\", line 1499, in update\n",
      "    _check_call(_LIB.XGBoosterUpdateOneIter(self.handle,\n",
      "  File \"/Users/raylinsoriano/anaconda3/lib/python3.8/site-packages/xgboost/core.py\", line 210, in _check_call\n",
      "    raise XGBoostError(py_str(_LIB.XGBGetLastError()))\n",
      "xgboost.core.XGBoostError: value 3 for Parameter colsample_bytree exceed bound [0,1]\n",
      "colsample_bytree: Subsample ratio of columns, resample on each tree construction.\n",
      "\n",
      "  warnings.warn(\"Estimator fit failed. The score on this train-test\"\n",
      "/Users/raylinsoriano/anaconda3/lib/python3.8/site-packages/sklearn/model_selection/_validation.py:615: FitFailedWarning: Estimator fit failed. The score on this train-test partition for these parameters will be set to nan. Details: \n",
      "Traceback (most recent call last):\n",
      "  File \"/Users/raylinsoriano/anaconda3/lib/python3.8/site-packages/sklearn/model_selection/_validation.py\", line 598, in _fit_and_score\n",
      "    estimator.fit(X_train, y_train, **fit_params)\n",
      "  File \"/Users/raylinsoriano/anaconda3/lib/python3.8/site-packages/sklearn/pipeline.py\", line 346, in fit\n",
      "    self._final_estimator.fit(Xt, y, **fit_params_last_step)\n",
      "  File \"/Users/raylinsoriano/anaconda3/lib/python3.8/site-packages/xgboost/core.py\", line 436, in inner_f\n",
      "    return f(**kwargs)\n",
      "  File \"/Users/raylinsoriano/anaconda3/lib/python3.8/site-packages/xgboost/sklearn.py\", line 1176, in fit\n",
      "    self._Booster = train(\n",
      "  File \"/Users/raylinsoriano/anaconda3/lib/python3.8/site-packages/xgboost/training.py\", line 189, in train\n",
      "    bst = _train_internal(params, dtrain,\n",
      "  File \"/Users/raylinsoriano/anaconda3/lib/python3.8/site-packages/xgboost/training.py\", line 81, in _train_internal\n",
      "    bst.update(dtrain, i, obj)\n",
      "  File \"/Users/raylinsoriano/anaconda3/lib/python3.8/site-packages/xgboost/core.py\", line 1499, in update\n",
      "    _check_call(_LIB.XGBoosterUpdateOneIter(self.handle,\n",
      "  File \"/Users/raylinsoriano/anaconda3/lib/python3.8/site-packages/xgboost/core.py\", line 210, in _check_call\n",
      "    raise XGBoostError(py_str(_LIB.XGBGetLastError()))\n",
      "xgboost.core.XGBoostError: value 3 for Parameter colsample_bytree exceed bound [0,1]\n",
      "colsample_bytree: Subsample ratio of columns, resample on each tree construction.\n",
      "\n",
      "  warnings.warn(\"Estimator fit failed. The score on this train-test\"\n",
      "/Users/raylinsoriano/anaconda3/lib/python3.8/site-packages/sklearn/model_selection/_validation.py:615: FitFailedWarning: Estimator fit failed. The score on this train-test partition for these parameters will be set to nan. Details: \n",
      "Traceback (most recent call last):\n",
      "  File \"/Users/raylinsoriano/anaconda3/lib/python3.8/site-packages/sklearn/model_selection/_validation.py\", line 598, in _fit_and_score\n",
      "    estimator.fit(X_train, y_train, **fit_params)\n",
      "  File \"/Users/raylinsoriano/anaconda3/lib/python3.8/site-packages/sklearn/pipeline.py\", line 346, in fit\n",
      "    self._final_estimator.fit(Xt, y, **fit_params_last_step)\n",
      "  File \"/Users/raylinsoriano/anaconda3/lib/python3.8/site-packages/xgboost/core.py\", line 436, in inner_f\n",
      "    return f(**kwargs)\n",
      "  File \"/Users/raylinsoriano/anaconda3/lib/python3.8/site-packages/xgboost/sklearn.py\", line 1176, in fit\n",
      "    self._Booster = train(\n",
      "  File \"/Users/raylinsoriano/anaconda3/lib/python3.8/site-packages/xgboost/training.py\", line 189, in train\n",
      "    bst = _train_internal(params, dtrain,\n",
      "  File \"/Users/raylinsoriano/anaconda3/lib/python3.8/site-packages/xgboost/training.py\", line 81, in _train_internal\n",
      "    bst.update(dtrain, i, obj)\n",
      "  File \"/Users/raylinsoriano/anaconda3/lib/python3.8/site-packages/xgboost/core.py\", line 1499, in update\n",
      "    _check_call(_LIB.XGBoosterUpdateOneIter(self.handle,\n",
      "  File \"/Users/raylinsoriano/anaconda3/lib/python3.8/site-packages/xgboost/core.py\", line 210, in _check_call\n",
      "    raise XGBoostError(py_str(_LIB.XGBGetLastError()))\n",
      "xgboost.core.XGBoostError: value 3 for Parameter colsample_bytree exceed bound [0,1]\n",
      "colsample_bytree: Subsample ratio of columns, resample on each tree construction.\n",
      "\n",
      "  warnings.warn(\"Estimator fit failed. The score on this train-test\"\n",
      "/Users/raylinsoriano/anaconda3/lib/python3.8/site-packages/sklearn/model_selection/_validation.py:615: FitFailedWarning: Estimator fit failed. The score on this train-test partition for these parameters will be set to nan. Details: \n",
      "Traceback (most recent call last):\n",
      "  File \"/Users/raylinsoriano/anaconda3/lib/python3.8/site-packages/sklearn/model_selection/_validation.py\", line 598, in _fit_and_score\n",
      "    estimator.fit(X_train, y_train, **fit_params)\n",
      "  File \"/Users/raylinsoriano/anaconda3/lib/python3.8/site-packages/sklearn/pipeline.py\", line 346, in fit\n",
      "    self._final_estimator.fit(Xt, y, **fit_params_last_step)\n",
      "  File \"/Users/raylinsoriano/anaconda3/lib/python3.8/site-packages/xgboost/core.py\", line 436, in inner_f\n",
      "    return f(**kwargs)\n",
      "  File \"/Users/raylinsoriano/anaconda3/lib/python3.8/site-packages/xgboost/sklearn.py\", line 1176, in fit\n",
      "    self._Booster = train(\n",
      "  File \"/Users/raylinsoriano/anaconda3/lib/python3.8/site-packages/xgboost/training.py\", line 189, in train\n",
      "    bst = _train_internal(params, dtrain,\n",
      "  File \"/Users/raylinsoriano/anaconda3/lib/python3.8/site-packages/xgboost/training.py\", line 81, in _train_internal\n",
      "    bst.update(dtrain, i, obj)\n",
      "  File \"/Users/raylinsoriano/anaconda3/lib/python3.8/site-packages/xgboost/core.py\", line 1499, in update\n",
      "    _check_call(_LIB.XGBoosterUpdateOneIter(self.handle,\n",
      "  File \"/Users/raylinsoriano/anaconda3/lib/python3.8/site-packages/xgboost/core.py\", line 210, in _check_call\n",
      "    raise XGBoostError(py_str(_LIB.XGBGetLastError()))\n",
      "xgboost.core.XGBoostError: value 3 for Parameter colsample_bytree exceed bound [0,1]\n",
      "colsample_bytree: Subsample ratio of columns, resample on each tree construction.\n",
      "\n",
      "  warnings.warn(\"Estimator fit failed. The score on this train-test\"\n",
      "/Users/raylinsoriano/anaconda3/lib/python3.8/site-packages/sklearn/model_selection/_validation.py:615: FitFailedWarning: Estimator fit failed. The score on this train-test partition for these parameters will be set to nan. Details: \n",
      "Traceback (most recent call last):\n",
      "  File \"/Users/raylinsoriano/anaconda3/lib/python3.8/site-packages/sklearn/model_selection/_validation.py\", line 598, in _fit_and_score\n",
      "    estimator.fit(X_train, y_train, **fit_params)\n",
      "  File \"/Users/raylinsoriano/anaconda3/lib/python3.8/site-packages/sklearn/pipeline.py\", line 346, in fit\n",
      "    self._final_estimator.fit(Xt, y, **fit_params_last_step)\n",
      "  File \"/Users/raylinsoriano/anaconda3/lib/python3.8/site-packages/xgboost/core.py\", line 436, in inner_f\n",
      "    return f(**kwargs)\n",
      "  File \"/Users/raylinsoriano/anaconda3/lib/python3.8/site-packages/xgboost/sklearn.py\", line 1176, in fit\n",
      "    self._Booster = train(\n",
      "  File \"/Users/raylinsoriano/anaconda3/lib/python3.8/site-packages/xgboost/training.py\", line 189, in train\n",
      "    bst = _train_internal(params, dtrain,\n",
      "  File \"/Users/raylinsoriano/anaconda3/lib/python3.8/site-packages/xgboost/training.py\", line 81, in _train_internal\n",
      "    bst.update(dtrain, i, obj)\n",
      "  File \"/Users/raylinsoriano/anaconda3/lib/python3.8/site-packages/xgboost/core.py\", line 1499, in update\n",
      "    _check_call(_LIB.XGBoosterUpdateOneIter(self.handle,\n",
      "  File \"/Users/raylinsoriano/anaconda3/lib/python3.8/site-packages/xgboost/core.py\", line 210, in _check_call\n",
      "    raise XGBoostError(py_str(_LIB.XGBGetLastError()))\n",
      "xgboost.core.XGBoostError: value 3 for Parameter colsample_bytree exceed bound [0,1]\n",
      "colsample_bytree: Subsample ratio of columns, resample on each tree construction.\n",
      "\n",
      "  warnings.warn(\"Estimator fit failed. The score on this train-test\"\n"
     ]
    },
    {
     "name": "stdout",
     "output_type": "stream",
     "text": [
      "[CV] END xgb__colsample_bytree=3, xgb__max_depth=15, xgb__min_child_weight=50; total time=   0.0s\n",
      "[CV] END xgb__colsample_bytree=3, xgb__max_depth=15, xgb__min_child_weight=50; total time=   0.0s\n",
      "[CV] END xgb__colsample_bytree=3, xgb__max_depth=20, xgb__min_child_weight=10; total time=   0.0s\n",
      "[CV] END xgb__colsample_bytree=3, xgb__max_depth=20, xgb__min_child_weight=10; total time=   0.0s\n",
      "[CV] END xgb__colsample_bytree=3, xgb__max_depth=20, xgb__min_child_weight=10; total time=   0.0s\n"
     ]
    },
    {
     "name": "stderr",
     "output_type": "stream",
     "text": [
      "/Users/raylinsoriano/anaconda3/lib/python3.8/site-packages/sklearn/model_selection/_validation.py:615: FitFailedWarning: Estimator fit failed. The score on this train-test partition for these parameters will be set to nan. Details: \n",
      "Traceback (most recent call last):\n",
      "  File \"/Users/raylinsoriano/anaconda3/lib/python3.8/site-packages/sklearn/model_selection/_validation.py\", line 598, in _fit_and_score\n",
      "    estimator.fit(X_train, y_train, **fit_params)\n",
      "  File \"/Users/raylinsoriano/anaconda3/lib/python3.8/site-packages/sklearn/pipeline.py\", line 346, in fit\n",
      "    self._final_estimator.fit(Xt, y, **fit_params_last_step)\n",
      "  File \"/Users/raylinsoriano/anaconda3/lib/python3.8/site-packages/xgboost/core.py\", line 436, in inner_f\n",
      "    return f(**kwargs)\n",
      "  File \"/Users/raylinsoriano/anaconda3/lib/python3.8/site-packages/xgboost/sklearn.py\", line 1176, in fit\n",
      "    self._Booster = train(\n",
      "  File \"/Users/raylinsoriano/anaconda3/lib/python3.8/site-packages/xgboost/training.py\", line 189, in train\n",
      "    bst = _train_internal(params, dtrain,\n",
      "  File \"/Users/raylinsoriano/anaconda3/lib/python3.8/site-packages/xgboost/training.py\", line 81, in _train_internal\n",
      "    bst.update(dtrain, i, obj)\n",
      "  File \"/Users/raylinsoriano/anaconda3/lib/python3.8/site-packages/xgboost/core.py\", line 1499, in update\n",
      "    _check_call(_LIB.XGBoosterUpdateOneIter(self.handle,\n",
      "  File \"/Users/raylinsoriano/anaconda3/lib/python3.8/site-packages/xgboost/core.py\", line 210, in _check_call\n",
      "    raise XGBoostError(py_str(_LIB.XGBGetLastError()))\n",
      "xgboost.core.XGBoostError: value 3 for Parameter colsample_bytree exceed bound [0,1]\n",
      "colsample_bytree: Subsample ratio of columns, resample on each tree construction.\n",
      "\n",
      "  warnings.warn(\"Estimator fit failed. The score on this train-test\"\n",
      "/Users/raylinsoriano/anaconda3/lib/python3.8/site-packages/sklearn/model_selection/_validation.py:615: FitFailedWarning: Estimator fit failed. The score on this train-test partition for these parameters will be set to nan. Details: \n",
      "Traceback (most recent call last):\n",
      "  File \"/Users/raylinsoriano/anaconda3/lib/python3.8/site-packages/sklearn/model_selection/_validation.py\", line 598, in _fit_and_score\n",
      "    estimator.fit(X_train, y_train, **fit_params)\n",
      "  File \"/Users/raylinsoriano/anaconda3/lib/python3.8/site-packages/sklearn/pipeline.py\", line 346, in fit\n",
      "    self._final_estimator.fit(Xt, y, **fit_params_last_step)\n",
      "  File \"/Users/raylinsoriano/anaconda3/lib/python3.8/site-packages/xgboost/core.py\", line 436, in inner_f\n",
      "    return f(**kwargs)\n",
      "  File \"/Users/raylinsoriano/anaconda3/lib/python3.8/site-packages/xgboost/sklearn.py\", line 1176, in fit\n",
      "    self._Booster = train(\n",
      "  File \"/Users/raylinsoriano/anaconda3/lib/python3.8/site-packages/xgboost/training.py\", line 189, in train\n",
      "    bst = _train_internal(params, dtrain,\n",
      "  File \"/Users/raylinsoriano/anaconda3/lib/python3.8/site-packages/xgboost/training.py\", line 81, in _train_internal\n",
      "    bst.update(dtrain, i, obj)\n",
      "  File \"/Users/raylinsoriano/anaconda3/lib/python3.8/site-packages/xgboost/core.py\", line 1499, in update\n",
      "    _check_call(_LIB.XGBoosterUpdateOneIter(self.handle,\n",
      "  File \"/Users/raylinsoriano/anaconda3/lib/python3.8/site-packages/xgboost/core.py\", line 210, in _check_call\n",
      "    raise XGBoostError(py_str(_LIB.XGBGetLastError()))\n",
      "xgboost.core.XGBoostError: value 3 for Parameter colsample_bytree exceed bound [0,1]\n",
      "colsample_bytree: Subsample ratio of columns, resample on each tree construction.\n",
      "\n",
      "  warnings.warn(\"Estimator fit failed. The score on this train-test\"\n",
      "/Users/raylinsoriano/anaconda3/lib/python3.8/site-packages/sklearn/model_selection/_validation.py:615: FitFailedWarning: Estimator fit failed. The score on this train-test partition for these parameters will be set to nan. Details: \n",
      "Traceback (most recent call last):\n",
      "  File \"/Users/raylinsoriano/anaconda3/lib/python3.8/site-packages/sklearn/model_selection/_validation.py\", line 598, in _fit_and_score\n",
      "    estimator.fit(X_train, y_train, **fit_params)\n",
      "  File \"/Users/raylinsoriano/anaconda3/lib/python3.8/site-packages/sklearn/pipeline.py\", line 346, in fit\n",
      "    self._final_estimator.fit(Xt, y, **fit_params_last_step)\n",
      "  File \"/Users/raylinsoriano/anaconda3/lib/python3.8/site-packages/xgboost/core.py\", line 436, in inner_f\n",
      "    return f(**kwargs)\n",
      "  File \"/Users/raylinsoriano/anaconda3/lib/python3.8/site-packages/xgboost/sklearn.py\", line 1176, in fit\n",
      "    self._Booster = train(\n",
      "  File \"/Users/raylinsoriano/anaconda3/lib/python3.8/site-packages/xgboost/training.py\", line 189, in train\n",
      "    bst = _train_internal(params, dtrain,\n",
      "  File \"/Users/raylinsoriano/anaconda3/lib/python3.8/site-packages/xgboost/training.py\", line 81, in _train_internal\n",
      "    bst.update(dtrain, i, obj)\n",
      "  File \"/Users/raylinsoriano/anaconda3/lib/python3.8/site-packages/xgboost/core.py\", line 1499, in update\n",
      "    _check_call(_LIB.XGBoosterUpdateOneIter(self.handle,\n",
      "  File \"/Users/raylinsoriano/anaconda3/lib/python3.8/site-packages/xgboost/core.py\", line 210, in _check_call\n",
      "    raise XGBoostError(py_str(_LIB.XGBGetLastError()))\n",
      "xgboost.core.XGBoostError: value 3 for Parameter colsample_bytree exceed bound [0,1]\n",
      "colsample_bytree: Subsample ratio of columns, resample on each tree construction.\n",
      "\n",
      "  warnings.warn(\"Estimator fit failed. The score on this train-test\"\n",
      "/Users/raylinsoriano/anaconda3/lib/python3.8/site-packages/sklearn/model_selection/_validation.py:615: FitFailedWarning: Estimator fit failed. The score on this train-test partition for these parameters will be set to nan. Details: \n",
      "Traceback (most recent call last):\n",
      "  File \"/Users/raylinsoriano/anaconda3/lib/python3.8/site-packages/sklearn/model_selection/_validation.py\", line 598, in _fit_and_score\n",
      "    estimator.fit(X_train, y_train, **fit_params)\n",
      "  File \"/Users/raylinsoriano/anaconda3/lib/python3.8/site-packages/sklearn/pipeline.py\", line 346, in fit\n",
      "    self._final_estimator.fit(Xt, y, **fit_params_last_step)\n",
      "  File \"/Users/raylinsoriano/anaconda3/lib/python3.8/site-packages/xgboost/core.py\", line 436, in inner_f\n",
      "    return f(**kwargs)\n",
      "  File \"/Users/raylinsoriano/anaconda3/lib/python3.8/site-packages/xgboost/sklearn.py\", line 1176, in fit\n",
      "    self._Booster = train(\n",
      "  File \"/Users/raylinsoriano/anaconda3/lib/python3.8/site-packages/xgboost/training.py\", line 189, in train\n",
      "    bst = _train_internal(params, dtrain,\n",
      "  File \"/Users/raylinsoriano/anaconda3/lib/python3.8/site-packages/xgboost/training.py\", line 81, in _train_internal\n",
      "    bst.update(dtrain, i, obj)\n",
      "  File \"/Users/raylinsoriano/anaconda3/lib/python3.8/site-packages/xgboost/core.py\", line 1499, in update\n",
      "    _check_call(_LIB.XGBoosterUpdateOneIter(self.handle,\n",
      "  File \"/Users/raylinsoriano/anaconda3/lib/python3.8/site-packages/xgboost/core.py\", line 210, in _check_call\n",
      "    raise XGBoostError(py_str(_LIB.XGBGetLastError()))\n",
      "xgboost.core.XGBoostError: value 3 for Parameter colsample_bytree exceed bound [0,1]\n",
      "colsample_bytree: Subsample ratio of columns, resample on each tree construction.\n",
      "\n",
      "  warnings.warn(\"Estimator fit failed. The score on this train-test\"\n",
      "/Users/raylinsoriano/anaconda3/lib/python3.8/site-packages/sklearn/model_selection/_validation.py:615: FitFailedWarning: Estimator fit failed. The score on this train-test partition for these parameters will be set to nan. Details: \n",
      "Traceback (most recent call last):\n",
      "  File \"/Users/raylinsoriano/anaconda3/lib/python3.8/site-packages/sklearn/model_selection/_validation.py\", line 598, in _fit_and_score\n",
      "    estimator.fit(X_train, y_train, **fit_params)\n",
      "  File \"/Users/raylinsoriano/anaconda3/lib/python3.8/site-packages/sklearn/pipeline.py\", line 346, in fit\n",
      "    self._final_estimator.fit(Xt, y, **fit_params_last_step)\n",
      "  File \"/Users/raylinsoriano/anaconda3/lib/python3.8/site-packages/xgboost/core.py\", line 436, in inner_f\n",
      "    return f(**kwargs)\n",
      "  File \"/Users/raylinsoriano/anaconda3/lib/python3.8/site-packages/xgboost/sklearn.py\", line 1176, in fit\n",
      "    self._Booster = train(\n",
      "  File \"/Users/raylinsoriano/anaconda3/lib/python3.8/site-packages/xgboost/training.py\", line 189, in train\n",
      "    bst = _train_internal(params, dtrain,\n",
      "  File \"/Users/raylinsoriano/anaconda3/lib/python3.8/site-packages/xgboost/training.py\", line 81, in _train_internal\n",
      "    bst.update(dtrain, i, obj)\n",
      "  File \"/Users/raylinsoriano/anaconda3/lib/python3.8/site-packages/xgboost/core.py\", line 1499, in update\n",
      "    _check_call(_LIB.XGBoosterUpdateOneIter(self.handle,\n",
      "  File \"/Users/raylinsoriano/anaconda3/lib/python3.8/site-packages/xgboost/core.py\", line 210, in _check_call\n",
      "    raise XGBoostError(py_str(_LIB.XGBGetLastError()))\n",
      "xgboost.core.XGBoostError: value 3 for Parameter colsample_bytree exceed bound [0,1]\n",
      "colsample_bytree: Subsample ratio of columns, resample on each tree construction.\n",
      "\n",
      "  warnings.warn(\"Estimator fit failed. The score on this train-test\"\n"
     ]
    },
    {
     "name": "stdout",
     "output_type": "stream",
     "text": [
      "[CV] END xgb__colsample_bytree=3, xgb__max_depth=20, xgb__min_child_weight=10; total time=   0.0s\n",
      "[CV] END xgb__colsample_bytree=3, xgb__max_depth=20, xgb__min_child_weight=10; total time=   0.0s\n",
      "[CV] END xgb__colsample_bytree=3, xgb__max_depth=20, xgb__min_child_weight=25; total time=   0.0s\n",
      "[CV] END xgb__colsample_bytree=3, xgb__max_depth=20, xgb__min_child_weight=25; total time=   0.0s\n",
      "[CV] END xgb__colsample_bytree=3, xgb__max_depth=20, xgb__min_child_weight=25; total time=   0.0s\n"
     ]
    },
    {
     "name": "stderr",
     "output_type": "stream",
     "text": [
      "/Users/raylinsoriano/anaconda3/lib/python3.8/site-packages/sklearn/model_selection/_validation.py:615: FitFailedWarning: Estimator fit failed. The score on this train-test partition for these parameters will be set to nan. Details: \n",
      "Traceback (most recent call last):\n",
      "  File \"/Users/raylinsoriano/anaconda3/lib/python3.8/site-packages/sklearn/model_selection/_validation.py\", line 598, in _fit_and_score\n",
      "    estimator.fit(X_train, y_train, **fit_params)\n",
      "  File \"/Users/raylinsoriano/anaconda3/lib/python3.8/site-packages/sklearn/pipeline.py\", line 346, in fit\n",
      "    self._final_estimator.fit(Xt, y, **fit_params_last_step)\n",
      "  File \"/Users/raylinsoriano/anaconda3/lib/python3.8/site-packages/xgboost/core.py\", line 436, in inner_f\n",
      "    return f(**kwargs)\n",
      "  File \"/Users/raylinsoriano/anaconda3/lib/python3.8/site-packages/xgboost/sklearn.py\", line 1176, in fit\n",
      "    self._Booster = train(\n",
      "  File \"/Users/raylinsoriano/anaconda3/lib/python3.8/site-packages/xgboost/training.py\", line 189, in train\n",
      "    bst = _train_internal(params, dtrain,\n",
      "  File \"/Users/raylinsoriano/anaconda3/lib/python3.8/site-packages/xgboost/training.py\", line 81, in _train_internal\n",
      "    bst.update(dtrain, i, obj)\n",
      "  File \"/Users/raylinsoriano/anaconda3/lib/python3.8/site-packages/xgboost/core.py\", line 1499, in update\n",
      "    _check_call(_LIB.XGBoosterUpdateOneIter(self.handle,\n",
      "  File \"/Users/raylinsoriano/anaconda3/lib/python3.8/site-packages/xgboost/core.py\", line 210, in _check_call\n",
      "    raise XGBoostError(py_str(_LIB.XGBGetLastError()))\n",
      "xgboost.core.XGBoostError: value 3 for Parameter colsample_bytree exceed bound [0,1]\n",
      "colsample_bytree: Subsample ratio of columns, resample on each tree construction.\n",
      "\n",
      "  warnings.warn(\"Estimator fit failed. The score on this train-test\"\n",
      "/Users/raylinsoriano/anaconda3/lib/python3.8/site-packages/sklearn/model_selection/_validation.py:615: FitFailedWarning: Estimator fit failed. The score on this train-test partition for these parameters will be set to nan. Details: \n",
      "Traceback (most recent call last):\n",
      "  File \"/Users/raylinsoriano/anaconda3/lib/python3.8/site-packages/sklearn/model_selection/_validation.py\", line 598, in _fit_and_score\n",
      "    estimator.fit(X_train, y_train, **fit_params)\n",
      "  File \"/Users/raylinsoriano/anaconda3/lib/python3.8/site-packages/sklearn/pipeline.py\", line 346, in fit\n",
      "    self._final_estimator.fit(Xt, y, **fit_params_last_step)\n",
      "  File \"/Users/raylinsoriano/anaconda3/lib/python3.8/site-packages/xgboost/core.py\", line 436, in inner_f\n",
      "    return f(**kwargs)\n",
      "  File \"/Users/raylinsoriano/anaconda3/lib/python3.8/site-packages/xgboost/sklearn.py\", line 1176, in fit\n",
      "    self._Booster = train(\n",
      "  File \"/Users/raylinsoriano/anaconda3/lib/python3.8/site-packages/xgboost/training.py\", line 189, in train\n",
      "    bst = _train_internal(params, dtrain,\n",
      "  File \"/Users/raylinsoriano/anaconda3/lib/python3.8/site-packages/xgboost/training.py\", line 81, in _train_internal\n",
      "    bst.update(dtrain, i, obj)\n",
      "  File \"/Users/raylinsoriano/anaconda3/lib/python3.8/site-packages/xgboost/core.py\", line 1499, in update\n",
      "    _check_call(_LIB.XGBoosterUpdateOneIter(self.handle,\n",
      "  File \"/Users/raylinsoriano/anaconda3/lib/python3.8/site-packages/xgboost/core.py\", line 210, in _check_call\n",
      "    raise XGBoostError(py_str(_LIB.XGBGetLastError()))\n",
      "xgboost.core.XGBoostError: value 3 for Parameter colsample_bytree exceed bound [0,1]\n",
      "colsample_bytree: Subsample ratio of columns, resample on each tree construction.\n",
      "\n",
      "  warnings.warn(\"Estimator fit failed. The score on this train-test\"\n",
      "/Users/raylinsoriano/anaconda3/lib/python3.8/site-packages/sklearn/model_selection/_validation.py:615: FitFailedWarning: Estimator fit failed. The score on this train-test partition for these parameters will be set to nan. Details: \n",
      "Traceback (most recent call last):\n",
      "  File \"/Users/raylinsoriano/anaconda3/lib/python3.8/site-packages/sklearn/model_selection/_validation.py\", line 598, in _fit_and_score\n",
      "    estimator.fit(X_train, y_train, **fit_params)\n",
      "  File \"/Users/raylinsoriano/anaconda3/lib/python3.8/site-packages/sklearn/pipeline.py\", line 346, in fit\n",
      "    self._final_estimator.fit(Xt, y, **fit_params_last_step)\n",
      "  File \"/Users/raylinsoriano/anaconda3/lib/python3.8/site-packages/xgboost/core.py\", line 436, in inner_f\n",
      "    return f(**kwargs)\n",
      "  File \"/Users/raylinsoriano/anaconda3/lib/python3.8/site-packages/xgboost/sklearn.py\", line 1176, in fit\n",
      "    self._Booster = train(\n",
      "  File \"/Users/raylinsoriano/anaconda3/lib/python3.8/site-packages/xgboost/training.py\", line 189, in train\n",
      "    bst = _train_internal(params, dtrain,\n",
      "  File \"/Users/raylinsoriano/anaconda3/lib/python3.8/site-packages/xgboost/training.py\", line 81, in _train_internal\n",
      "    bst.update(dtrain, i, obj)\n",
      "  File \"/Users/raylinsoriano/anaconda3/lib/python3.8/site-packages/xgboost/core.py\", line 1499, in update\n",
      "    _check_call(_LIB.XGBoosterUpdateOneIter(self.handle,\n",
      "  File \"/Users/raylinsoriano/anaconda3/lib/python3.8/site-packages/xgboost/core.py\", line 210, in _check_call\n",
      "    raise XGBoostError(py_str(_LIB.XGBGetLastError()))\n",
      "xgboost.core.XGBoostError: value 3 for Parameter colsample_bytree exceed bound [0,1]\n",
      "colsample_bytree: Subsample ratio of columns, resample on each tree construction.\n",
      "\n",
      "  warnings.warn(\"Estimator fit failed. The score on this train-test\"\n",
      "/Users/raylinsoriano/anaconda3/lib/python3.8/site-packages/sklearn/model_selection/_validation.py:615: FitFailedWarning: Estimator fit failed. The score on this train-test partition for these parameters will be set to nan. Details: \n",
      "Traceback (most recent call last):\n",
      "  File \"/Users/raylinsoriano/anaconda3/lib/python3.8/site-packages/sklearn/model_selection/_validation.py\", line 598, in _fit_and_score\n",
      "    estimator.fit(X_train, y_train, **fit_params)\n",
      "  File \"/Users/raylinsoriano/anaconda3/lib/python3.8/site-packages/sklearn/pipeline.py\", line 346, in fit\n",
      "    self._final_estimator.fit(Xt, y, **fit_params_last_step)\n",
      "  File \"/Users/raylinsoriano/anaconda3/lib/python3.8/site-packages/xgboost/core.py\", line 436, in inner_f\n",
      "    return f(**kwargs)\n",
      "  File \"/Users/raylinsoriano/anaconda3/lib/python3.8/site-packages/xgboost/sklearn.py\", line 1176, in fit\n",
      "    self._Booster = train(\n",
      "  File \"/Users/raylinsoriano/anaconda3/lib/python3.8/site-packages/xgboost/training.py\", line 189, in train\n",
      "    bst = _train_internal(params, dtrain,\n",
      "  File \"/Users/raylinsoriano/anaconda3/lib/python3.8/site-packages/xgboost/training.py\", line 81, in _train_internal\n",
      "    bst.update(dtrain, i, obj)\n",
      "  File \"/Users/raylinsoriano/anaconda3/lib/python3.8/site-packages/xgboost/core.py\", line 1499, in update\n",
      "    _check_call(_LIB.XGBoosterUpdateOneIter(self.handle,\n",
      "  File \"/Users/raylinsoriano/anaconda3/lib/python3.8/site-packages/xgboost/core.py\", line 210, in _check_call\n",
      "    raise XGBoostError(py_str(_LIB.XGBGetLastError()))\n",
      "xgboost.core.XGBoostError: value 3 for Parameter colsample_bytree exceed bound [0,1]\n",
      "colsample_bytree: Subsample ratio of columns, resample on each tree construction.\n",
      "\n",
      "  warnings.warn(\"Estimator fit failed. The score on this train-test\"\n",
      "/Users/raylinsoriano/anaconda3/lib/python3.8/site-packages/sklearn/model_selection/_validation.py:615: FitFailedWarning: Estimator fit failed. The score on this train-test partition for these parameters will be set to nan. Details: \n",
      "Traceback (most recent call last):\n",
      "  File \"/Users/raylinsoriano/anaconda3/lib/python3.8/site-packages/sklearn/model_selection/_validation.py\", line 598, in _fit_and_score\n",
      "    estimator.fit(X_train, y_train, **fit_params)\n",
      "  File \"/Users/raylinsoriano/anaconda3/lib/python3.8/site-packages/sklearn/pipeline.py\", line 346, in fit\n",
      "    self._final_estimator.fit(Xt, y, **fit_params_last_step)\n",
      "  File \"/Users/raylinsoriano/anaconda3/lib/python3.8/site-packages/xgboost/core.py\", line 436, in inner_f\n",
      "    return f(**kwargs)\n",
      "  File \"/Users/raylinsoriano/anaconda3/lib/python3.8/site-packages/xgboost/sklearn.py\", line 1176, in fit\n",
      "    self._Booster = train(\n",
      "  File \"/Users/raylinsoriano/anaconda3/lib/python3.8/site-packages/xgboost/training.py\", line 189, in train\n",
      "    bst = _train_internal(params, dtrain,\n",
      "  File \"/Users/raylinsoriano/anaconda3/lib/python3.8/site-packages/xgboost/training.py\", line 81, in _train_internal\n",
      "    bst.update(dtrain, i, obj)\n",
      "  File \"/Users/raylinsoriano/anaconda3/lib/python3.8/site-packages/xgboost/core.py\", line 1499, in update\n",
      "    _check_call(_LIB.XGBoosterUpdateOneIter(self.handle,\n",
      "  File \"/Users/raylinsoriano/anaconda3/lib/python3.8/site-packages/xgboost/core.py\", line 210, in _check_call\n",
      "    raise XGBoostError(py_str(_LIB.XGBGetLastError()))\n",
      "xgboost.core.XGBoostError: value 3 for Parameter colsample_bytree exceed bound [0,1]\n",
      "colsample_bytree: Subsample ratio of columns, resample on each tree construction.\n",
      "\n",
      "  warnings.warn(\"Estimator fit failed. The score on this train-test\"\n"
     ]
    },
    {
     "name": "stdout",
     "output_type": "stream",
     "text": [
      "[CV] END xgb__colsample_bytree=3, xgb__max_depth=20, xgb__min_child_weight=25; total time=   0.0s\n",
      "[CV] END xgb__colsample_bytree=3, xgb__max_depth=20, xgb__min_child_weight=25; total time=   0.0s\n",
      "[CV] END xgb__colsample_bytree=3, xgb__max_depth=20, xgb__min_child_weight=50; total time=   0.0s\n",
      "[CV] END xgb__colsample_bytree=3, xgb__max_depth=20, xgb__min_child_weight=50; total time=   0.0s\n",
      "[CV] END xgb__colsample_bytree=3, xgb__max_depth=20, xgb__min_child_weight=50; total time=   0.0s\n"
     ]
    },
    {
     "name": "stderr",
     "output_type": "stream",
     "text": [
      "/Users/raylinsoriano/anaconda3/lib/python3.8/site-packages/sklearn/model_selection/_validation.py:615: FitFailedWarning: Estimator fit failed. The score on this train-test partition for these parameters will be set to nan. Details: \n",
      "Traceback (most recent call last):\n",
      "  File \"/Users/raylinsoriano/anaconda3/lib/python3.8/site-packages/sklearn/model_selection/_validation.py\", line 598, in _fit_and_score\n",
      "    estimator.fit(X_train, y_train, **fit_params)\n",
      "  File \"/Users/raylinsoriano/anaconda3/lib/python3.8/site-packages/sklearn/pipeline.py\", line 346, in fit\n",
      "    self._final_estimator.fit(Xt, y, **fit_params_last_step)\n",
      "  File \"/Users/raylinsoriano/anaconda3/lib/python3.8/site-packages/xgboost/core.py\", line 436, in inner_f\n",
      "    return f(**kwargs)\n",
      "  File \"/Users/raylinsoriano/anaconda3/lib/python3.8/site-packages/xgboost/sklearn.py\", line 1176, in fit\n",
      "    self._Booster = train(\n",
      "  File \"/Users/raylinsoriano/anaconda3/lib/python3.8/site-packages/xgboost/training.py\", line 189, in train\n",
      "    bst = _train_internal(params, dtrain,\n",
      "  File \"/Users/raylinsoriano/anaconda3/lib/python3.8/site-packages/xgboost/training.py\", line 81, in _train_internal\n",
      "    bst.update(dtrain, i, obj)\n",
      "  File \"/Users/raylinsoriano/anaconda3/lib/python3.8/site-packages/xgboost/core.py\", line 1499, in update\n",
      "    _check_call(_LIB.XGBoosterUpdateOneIter(self.handle,\n",
      "  File \"/Users/raylinsoriano/anaconda3/lib/python3.8/site-packages/xgboost/core.py\", line 210, in _check_call\n",
      "    raise XGBoostError(py_str(_LIB.XGBGetLastError()))\n",
      "xgboost.core.XGBoostError: value 3 for Parameter colsample_bytree exceed bound [0,1]\n",
      "colsample_bytree: Subsample ratio of columns, resample on each tree construction.\n",
      "\n",
      "  warnings.warn(\"Estimator fit failed. The score on this train-test\"\n",
      "/Users/raylinsoriano/anaconda3/lib/python3.8/site-packages/sklearn/model_selection/_validation.py:615: FitFailedWarning: Estimator fit failed. The score on this train-test partition for these parameters will be set to nan. Details: \n",
      "Traceback (most recent call last):\n",
      "  File \"/Users/raylinsoriano/anaconda3/lib/python3.8/site-packages/sklearn/model_selection/_validation.py\", line 598, in _fit_and_score\n",
      "    estimator.fit(X_train, y_train, **fit_params)\n",
      "  File \"/Users/raylinsoriano/anaconda3/lib/python3.8/site-packages/sklearn/pipeline.py\", line 346, in fit\n",
      "    self._final_estimator.fit(Xt, y, **fit_params_last_step)\n",
      "  File \"/Users/raylinsoriano/anaconda3/lib/python3.8/site-packages/xgboost/core.py\", line 436, in inner_f\n",
      "    return f(**kwargs)\n",
      "  File \"/Users/raylinsoriano/anaconda3/lib/python3.8/site-packages/xgboost/sklearn.py\", line 1176, in fit\n",
      "    self._Booster = train(\n",
      "  File \"/Users/raylinsoriano/anaconda3/lib/python3.8/site-packages/xgboost/training.py\", line 189, in train\n",
      "    bst = _train_internal(params, dtrain,\n",
      "  File \"/Users/raylinsoriano/anaconda3/lib/python3.8/site-packages/xgboost/training.py\", line 81, in _train_internal\n",
      "    bst.update(dtrain, i, obj)\n",
      "  File \"/Users/raylinsoriano/anaconda3/lib/python3.8/site-packages/xgboost/core.py\", line 1499, in update\n",
      "    _check_call(_LIB.XGBoosterUpdateOneIter(self.handle,\n",
      "  File \"/Users/raylinsoriano/anaconda3/lib/python3.8/site-packages/xgboost/core.py\", line 210, in _check_call\n",
      "    raise XGBoostError(py_str(_LIB.XGBGetLastError()))\n",
      "xgboost.core.XGBoostError: value 3 for Parameter colsample_bytree exceed bound [0,1]\n",
      "colsample_bytree: Subsample ratio of columns, resample on each tree construction.\n",
      "\n",
      "  warnings.warn(\"Estimator fit failed. The score on this train-test\"\n",
      "/Users/raylinsoriano/anaconda3/lib/python3.8/site-packages/sklearn/model_selection/_validation.py:615: FitFailedWarning: Estimator fit failed. The score on this train-test partition for these parameters will be set to nan. Details: \n",
      "Traceback (most recent call last):\n",
      "  File \"/Users/raylinsoriano/anaconda3/lib/python3.8/site-packages/sklearn/model_selection/_validation.py\", line 598, in _fit_and_score\n",
      "    estimator.fit(X_train, y_train, **fit_params)\n",
      "  File \"/Users/raylinsoriano/anaconda3/lib/python3.8/site-packages/sklearn/pipeline.py\", line 346, in fit\n",
      "    self._final_estimator.fit(Xt, y, **fit_params_last_step)\n",
      "  File \"/Users/raylinsoriano/anaconda3/lib/python3.8/site-packages/xgboost/core.py\", line 436, in inner_f\n",
      "    return f(**kwargs)\n",
      "  File \"/Users/raylinsoriano/anaconda3/lib/python3.8/site-packages/xgboost/sklearn.py\", line 1176, in fit\n",
      "    self._Booster = train(\n",
      "  File \"/Users/raylinsoriano/anaconda3/lib/python3.8/site-packages/xgboost/training.py\", line 189, in train\n",
      "    bst = _train_internal(params, dtrain,\n",
      "  File \"/Users/raylinsoriano/anaconda3/lib/python3.8/site-packages/xgboost/training.py\", line 81, in _train_internal\n",
      "    bst.update(dtrain, i, obj)\n",
      "  File \"/Users/raylinsoriano/anaconda3/lib/python3.8/site-packages/xgboost/core.py\", line 1499, in update\n",
      "    _check_call(_LIB.XGBoosterUpdateOneIter(self.handle,\n",
      "  File \"/Users/raylinsoriano/anaconda3/lib/python3.8/site-packages/xgboost/core.py\", line 210, in _check_call\n",
      "    raise XGBoostError(py_str(_LIB.XGBGetLastError()))\n",
      "xgboost.core.XGBoostError: value 3 for Parameter colsample_bytree exceed bound [0,1]\n",
      "colsample_bytree: Subsample ratio of columns, resample on each tree construction.\n",
      "\n",
      "  warnings.warn(\"Estimator fit failed. The score on this train-test\"\n",
      "/Users/raylinsoriano/anaconda3/lib/python3.8/site-packages/sklearn/model_selection/_validation.py:615: FitFailedWarning: Estimator fit failed. The score on this train-test partition for these parameters will be set to nan. Details: \n",
      "Traceback (most recent call last):\n",
      "  File \"/Users/raylinsoriano/anaconda3/lib/python3.8/site-packages/sklearn/model_selection/_validation.py\", line 598, in _fit_and_score\n",
      "    estimator.fit(X_train, y_train, **fit_params)\n",
      "  File \"/Users/raylinsoriano/anaconda3/lib/python3.8/site-packages/sklearn/pipeline.py\", line 346, in fit\n",
      "    self._final_estimator.fit(Xt, y, **fit_params_last_step)\n",
      "  File \"/Users/raylinsoriano/anaconda3/lib/python3.8/site-packages/xgboost/core.py\", line 436, in inner_f\n",
      "    return f(**kwargs)\n",
      "  File \"/Users/raylinsoriano/anaconda3/lib/python3.8/site-packages/xgboost/sklearn.py\", line 1176, in fit\n",
      "    self._Booster = train(\n",
      "  File \"/Users/raylinsoriano/anaconda3/lib/python3.8/site-packages/xgboost/training.py\", line 189, in train\n",
      "    bst = _train_internal(params, dtrain,\n",
      "  File \"/Users/raylinsoriano/anaconda3/lib/python3.8/site-packages/xgboost/training.py\", line 81, in _train_internal\n",
      "    bst.update(dtrain, i, obj)\n",
      "  File \"/Users/raylinsoriano/anaconda3/lib/python3.8/site-packages/xgboost/core.py\", line 1499, in update\n",
      "    _check_call(_LIB.XGBoosterUpdateOneIter(self.handle,\n",
      "  File \"/Users/raylinsoriano/anaconda3/lib/python3.8/site-packages/xgboost/core.py\", line 210, in _check_call\n",
      "    raise XGBoostError(py_str(_LIB.XGBGetLastError()))\n",
      "xgboost.core.XGBoostError: value 3 for Parameter colsample_bytree exceed bound [0,1]\n",
      "colsample_bytree: Subsample ratio of columns, resample on each tree construction.\n",
      "\n",
      "  warnings.warn(\"Estimator fit failed. The score on this train-test\"\n",
      "/Users/raylinsoriano/anaconda3/lib/python3.8/site-packages/sklearn/model_selection/_validation.py:615: FitFailedWarning: Estimator fit failed. The score on this train-test partition for these parameters will be set to nan. Details: \n",
      "Traceback (most recent call last):\n",
      "  File \"/Users/raylinsoriano/anaconda3/lib/python3.8/site-packages/sklearn/model_selection/_validation.py\", line 598, in _fit_and_score\n",
      "    estimator.fit(X_train, y_train, **fit_params)\n",
      "  File \"/Users/raylinsoriano/anaconda3/lib/python3.8/site-packages/sklearn/pipeline.py\", line 346, in fit\n",
      "    self._final_estimator.fit(Xt, y, **fit_params_last_step)\n",
      "  File \"/Users/raylinsoriano/anaconda3/lib/python3.8/site-packages/xgboost/core.py\", line 436, in inner_f\n",
      "    return f(**kwargs)\n",
      "  File \"/Users/raylinsoriano/anaconda3/lib/python3.8/site-packages/xgboost/sklearn.py\", line 1176, in fit\n",
      "    self._Booster = train(\n",
      "  File \"/Users/raylinsoriano/anaconda3/lib/python3.8/site-packages/xgboost/training.py\", line 189, in train\n",
      "    bst = _train_internal(params, dtrain,\n",
      "  File \"/Users/raylinsoriano/anaconda3/lib/python3.8/site-packages/xgboost/training.py\", line 81, in _train_internal\n",
      "    bst.update(dtrain, i, obj)\n",
      "  File \"/Users/raylinsoriano/anaconda3/lib/python3.8/site-packages/xgboost/core.py\", line 1499, in update\n",
      "    _check_call(_LIB.XGBoosterUpdateOneIter(self.handle,\n",
      "  File \"/Users/raylinsoriano/anaconda3/lib/python3.8/site-packages/xgboost/core.py\", line 210, in _check_call\n",
      "    raise XGBoostError(py_str(_LIB.XGBGetLastError()))\n",
      "xgboost.core.XGBoostError: value 3 for Parameter colsample_bytree exceed bound [0,1]\n",
      "colsample_bytree: Subsample ratio of columns, resample on each tree construction.\n",
      "\n",
      "  warnings.warn(\"Estimator fit failed. The score on this train-test\"\n"
     ]
    },
    {
     "name": "stdout",
     "output_type": "stream",
     "text": [
      "[CV] END xgb__colsample_bytree=3, xgb__max_depth=20, xgb__min_child_weight=50; total time=   0.0s\n",
      "[CV] END xgb__colsample_bytree=3, xgb__max_depth=20, xgb__min_child_weight=50; total time=   0.0s\n",
      "[CV] END xgb__colsample_bytree=4, xgb__max_depth=10, xgb__min_child_weight=10; total time=   0.0s\n",
      "[CV] END xgb__colsample_bytree=4, xgb__max_depth=10, xgb__min_child_weight=10; total time=   0.0s\n",
      "[CV] END xgb__colsample_bytree=4, xgb__max_depth=10, xgb__min_child_weight=10; total time=   0.0s\n"
     ]
    },
    {
     "name": "stderr",
     "output_type": "stream",
     "text": [
      "/Users/raylinsoriano/anaconda3/lib/python3.8/site-packages/sklearn/model_selection/_validation.py:615: FitFailedWarning: Estimator fit failed. The score on this train-test partition for these parameters will be set to nan. Details: \n",
      "Traceback (most recent call last):\n",
      "  File \"/Users/raylinsoriano/anaconda3/lib/python3.8/site-packages/sklearn/model_selection/_validation.py\", line 598, in _fit_and_score\n",
      "    estimator.fit(X_train, y_train, **fit_params)\n",
      "  File \"/Users/raylinsoriano/anaconda3/lib/python3.8/site-packages/sklearn/pipeline.py\", line 346, in fit\n",
      "    self._final_estimator.fit(Xt, y, **fit_params_last_step)\n",
      "  File \"/Users/raylinsoriano/anaconda3/lib/python3.8/site-packages/xgboost/core.py\", line 436, in inner_f\n",
      "    return f(**kwargs)\n",
      "  File \"/Users/raylinsoriano/anaconda3/lib/python3.8/site-packages/xgboost/sklearn.py\", line 1176, in fit\n",
      "    self._Booster = train(\n",
      "  File \"/Users/raylinsoriano/anaconda3/lib/python3.8/site-packages/xgboost/training.py\", line 189, in train\n",
      "    bst = _train_internal(params, dtrain,\n",
      "  File \"/Users/raylinsoriano/anaconda3/lib/python3.8/site-packages/xgboost/training.py\", line 81, in _train_internal\n",
      "    bst.update(dtrain, i, obj)\n",
      "  File \"/Users/raylinsoriano/anaconda3/lib/python3.8/site-packages/xgboost/core.py\", line 1499, in update\n",
      "    _check_call(_LIB.XGBoosterUpdateOneIter(self.handle,\n",
      "  File \"/Users/raylinsoriano/anaconda3/lib/python3.8/site-packages/xgboost/core.py\", line 210, in _check_call\n",
      "    raise XGBoostError(py_str(_LIB.XGBGetLastError()))\n",
      "xgboost.core.XGBoostError: value 4 for Parameter colsample_bytree exceed bound [0,1]\n",
      "colsample_bytree: Subsample ratio of columns, resample on each tree construction.\n",
      "\n",
      "  warnings.warn(\"Estimator fit failed. The score on this train-test\"\n",
      "/Users/raylinsoriano/anaconda3/lib/python3.8/site-packages/sklearn/model_selection/_validation.py:615: FitFailedWarning: Estimator fit failed. The score on this train-test partition for these parameters will be set to nan. Details: \n",
      "Traceback (most recent call last):\n",
      "  File \"/Users/raylinsoriano/anaconda3/lib/python3.8/site-packages/sklearn/model_selection/_validation.py\", line 598, in _fit_and_score\n",
      "    estimator.fit(X_train, y_train, **fit_params)\n",
      "  File \"/Users/raylinsoriano/anaconda3/lib/python3.8/site-packages/sklearn/pipeline.py\", line 346, in fit\n",
      "    self._final_estimator.fit(Xt, y, **fit_params_last_step)\n",
      "  File \"/Users/raylinsoriano/anaconda3/lib/python3.8/site-packages/xgboost/core.py\", line 436, in inner_f\n",
      "    return f(**kwargs)\n",
      "  File \"/Users/raylinsoriano/anaconda3/lib/python3.8/site-packages/xgboost/sklearn.py\", line 1176, in fit\n",
      "    self._Booster = train(\n",
      "  File \"/Users/raylinsoriano/anaconda3/lib/python3.8/site-packages/xgboost/training.py\", line 189, in train\n",
      "    bst = _train_internal(params, dtrain,\n",
      "  File \"/Users/raylinsoriano/anaconda3/lib/python3.8/site-packages/xgboost/training.py\", line 81, in _train_internal\n",
      "    bst.update(dtrain, i, obj)\n",
      "  File \"/Users/raylinsoriano/anaconda3/lib/python3.8/site-packages/xgboost/core.py\", line 1499, in update\n",
      "    _check_call(_LIB.XGBoosterUpdateOneIter(self.handle,\n",
      "  File \"/Users/raylinsoriano/anaconda3/lib/python3.8/site-packages/xgboost/core.py\", line 210, in _check_call\n",
      "    raise XGBoostError(py_str(_LIB.XGBGetLastError()))\n",
      "xgboost.core.XGBoostError: value 4 for Parameter colsample_bytree exceed bound [0,1]\n",
      "colsample_bytree: Subsample ratio of columns, resample on each tree construction.\n",
      "\n",
      "  warnings.warn(\"Estimator fit failed. The score on this train-test\"\n",
      "/Users/raylinsoriano/anaconda3/lib/python3.8/site-packages/sklearn/model_selection/_validation.py:615: FitFailedWarning: Estimator fit failed. The score on this train-test partition for these parameters will be set to nan. Details: \n",
      "Traceback (most recent call last):\n",
      "  File \"/Users/raylinsoriano/anaconda3/lib/python3.8/site-packages/sklearn/model_selection/_validation.py\", line 598, in _fit_and_score\n",
      "    estimator.fit(X_train, y_train, **fit_params)\n",
      "  File \"/Users/raylinsoriano/anaconda3/lib/python3.8/site-packages/sklearn/pipeline.py\", line 346, in fit\n",
      "    self._final_estimator.fit(Xt, y, **fit_params_last_step)\n",
      "  File \"/Users/raylinsoriano/anaconda3/lib/python3.8/site-packages/xgboost/core.py\", line 436, in inner_f\n",
      "    return f(**kwargs)\n",
      "  File \"/Users/raylinsoriano/anaconda3/lib/python3.8/site-packages/xgboost/sklearn.py\", line 1176, in fit\n",
      "    self._Booster = train(\n",
      "  File \"/Users/raylinsoriano/anaconda3/lib/python3.8/site-packages/xgboost/training.py\", line 189, in train\n",
      "    bst = _train_internal(params, dtrain,\n",
      "  File \"/Users/raylinsoriano/anaconda3/lib/python3.8/site-packages/xgboost/training.py\", line 81, in _train_internal\n",
      "    bst.update(dtrain, i, obj)\n",
      "  File \"/Users/raylinsoriano/anaconda3/lib/python3.8/site-packages/xgboost/core.py\", line 1499, in update\n",
      "    _check_call(_LIB.XGBoosterUpdateOneIter(self.handle,\n",
      "  File \"/Users/raylinsoriano/anaconda3/lib/python3.8/site-packages/xgboost/core.py\", line 210, in _check_call\n",
      "    raise XGBoostError(py_str(_LIB.XGBGetLastError()))\n",
      "xgboost.core.XGBoostError: value 4 for Parameter colsample_bytree exceed bound [0,1]\n",
      "colsample_bytree: Subsample ratio of columns, resample on each tree construction.\n",
      "\n",
      "  warnings.warn(\"Estimator fit failed. The score on this train-test\"\n",
      "/Users/raylinsoriano/anaconda3/lib/python3.8/site-packages/sklearn/model_selection/_validation.py:615: FitFailedWarning: Estimator fit failed. The score on this train-test partition for these parameters will be set to nan. Details: \n",
      "Traceback (most recent call last):\n",
      "  File \"/Users/raylinsoriano/anaconda3/lib/python3.8/site-packages/sklearn/model_selection/_validation.py\", line 598, in _fit_and_score\n",
      "    estimator.fit(X_train, y_train, **fit_params)\n",
      "  File \"/Users/raylinsoriano/anaconda3/lib/python3.8/site-packages/sklearn/pipeline.py\", line 346, in fit\n",
      "    self._final_estimator.fit(Xt, y, **fit_params_last_step)\n",
      "  File \"/Users/raylinsoriano/anaconda3/lib/python3.8/site-packages/xgboost/core.py\", line 436, in inner_f\n",
      "    return f(**kwargs)\n",
      "  File \"/Users/raylinsoriano/anaconda3/lib/python3.8/site-packages/xgboost/sklearn.py\", line 1176, in fit\n",
      "    self._Booster = train(\n",
      "  File \"/Users/raylinsoriano/anaconda3/lib/python3.8/site-packages/xgboost/training.py\", line 189, in train\n",
      "    bst = _train_internal(params, dtrain,\n",
      "  File \"/Users/raylinsoriano/anaconda3/lib/python3.8/site-packages/xgboost/training.py\", line 81, in _train_internal\n",
      "    bst.update(dtrain, i, obj)\n",
      "  File \"/Users/raylinsoriano/anaconda3/lib/python3.8/site-packages/xgboost/core.py\", line 1499, in update\n",
      "    _check_call(_LIB.XGBoosterUpdateOneIter(self.handle,\n",
      "  File \"/Users/raylinsoriano/anaconda3/lib/python3.8/site-packages/xgboost/core.py\", line 210, in _check_call\n",
      "    raise XGBoostError(py_str(_LIB.XGBGetLastError()))\n",
      "xgboost.core.XGBoostError: value 4 for Parameter colsample_bytree exceed bound [0,1]\n",
      "colsample_bytree: Subsample ratio of columns, resample on each tree construction.\n",
      "\n",
      "  warnings.warn(\"Estimator fit failed. The score on this train-test\"\n",
      "/Users/raylinsoriano/anaconda3/lib/python3.8/site-packages/sklearn/model_selection/_validation.py:615: FitFailedWarning: Estimator fit failed. The score on this train-test partition for these parameters will be set to nan. Details: \n",
      "Traceback (most recent call last):\n",
      "  File \"/Users/raylinsoriano/anaconda3/lib/python3.8/site-packages/sklearn/model_selection/_validation.py\", line 598, in _fit_and_score\n",
      "    estimator.fit(X_train, y_train, **fit_params)\n",
      "  File \"/Users/raylinsoriano/anaconda3/lib/python3.8/site-packages/sklearn/pipeline.py\", line 346, in fit\n",
      "    self._final_estimator.fit(Xt, y, **fit_params_last_step)\n",
      "  File \"/Users/raylinsoriano/anaconda3/lib/python3.8/site-packages/xgboost/core.py\", line 436, in inner_f\n",
      "    return f(**kwargs)\n",
      "  File \"/Users/raylinsoriano/anaconda3/lib/python3.8/site-packages/xgboost/sklearn.py\", line 1176, in fit\n",
      "    self._Booster = train(\n",
      "  File \"/Users/raylinsoriano/anaconda3/lib/python3.8/site-packages/xgboost/training.py\", line 189, in train\n",
      "    bst = _train_internal(params, dtrain,\n",
      "  File \"/Users/raylinsoriano/anaconda3/lib/python3.8/site-packages/xgboost/training.py\", line 81, in _train_internal\n",
      "    bst.update(dtrain, i, obj)\n",
      "  File \"/Users/raylinsoriano/anaconda3/lib/python3.8/site-packages/xgboost/core.py\", line 1499, in update\n",
      "    _check_call(_LIB.XGBoosterUpdateOneIter(self.handle,\n",
      "  File \"/Users/raylinsoriano/anaconda3/lib/python3.8/site-packages/xgboost/core.py\", line 210, in _check_call\n",
      "    raise XGBoostError(py_str(_LIB.XGBGetLastError()))\n",
      "xgboost.core.XGBoostError: value 4 for Parameter colsample_bytree exceed bound [0,1]\n",
      "colsample_bytree: Subsample ratio of columns, resample on each tree construction.\n",
      "\n",
      "  warnings.warn(\"Estimator fit failed. The score on this train-test\"\n"
     ]
    },
    {
     "name": "stdout",
     "output_type": "stream",
     "text": [
      "[CV] END xgb__colsample_bytree=4, xgb__max_depth=10, xgb__min_child_weight=10; total time=   0.0s\n",
      "[CV] END xgb__colsample_bytree=4, xgb__max_depth=10, xgb__min_child_weight=10; total time=   0.0s\n",
      "[CV] END xgb__colsample_bytree=4, xgb__max_depth=10, xgb__min_child_weight=25; total time=   0.0s\n",
      "[CV] END xgb__colsample_bytree=4, xgb__max_depth=10, xgb__min_child_weight=25; total time=   0.0s\n",
      "[CV] END xgb__colsample_bytree=4, xgb__max_depth=10, xgb__min_child_weight=25; total time=   0.0s\n"
     ]
    },
    {
     "name": "stderr",
     "output_type": "stream",
     "text": [
      "/Users/raylinsoriano/anaconda3/lib/python3.8/site-packages/sklearn/model_selection/_validation.py:615: FitFailedWarning: Estimator fit failed. The score on this train-test partition for these parameters will be set to nan. Details: \n",
      "Traceback (most recent call last):\n",
      "  File \"/Users/raylinsoriano/anaconda3/lib/python3.8/site-packages/sklearn/model_selection/_validation.py\", line 598, in _fit_and_score\n",
      "    estimator.fit(X_train, y_train, **fit_params)\n",
      "  File \"/Users/raylinsoriano/anaconda3/lib/python3.8/site-packages/sklearn/pipeline.py\", line 346, in fit\n",
      "    self._final_estimator.fit(Xt, y, **fit_params_last_step)\n",
      "  File \"/Users/raylinsoriano/anaconda3/lib/python3.8/site-packages/xgboost/core.py\", line 436, in inner_f\n",
      "    return f(**kwargs)\n",
      "  File \"/Users/raylinsoriano/anaconda3/lib/python3.8/site-packages/xgboost/sklearn.py\", line 1176, in fit\n",
      "    self._Booster = train(\n",
      "  File \"/Users/raylinsoriano/anaconda3/lib/python3.8/site-packages/xgboost/training.py\", line 189, in train\n",
      "    bst = _train_internal(params, dtrain,\n",
      "  File \"/Users/raylinsoriano/anaconda3/lib/python3.8/site-packages/xgboost/training.py\", line 81, in _train_internal\n",
      "    bst.update(dtrain, i, obj)\n",
      "  File \"/Users/raylinsoriano/anaconda3/lib/python3.8/site-packages/xgboost/core.py\", line 1499, in update\n",
      "    _check_call(_LIB.XGBoosterUpdateOneIter(self.handle,\n",
      "  File \"/Users/raylinsoriano/anaconda3/lib/python3.8/site-packages/xgboost/core.py\", line 210, in _check_call\n",
      "    raise XGBoostError(py_str(_LIB.XGBGetLastError()))\n",
      "xgboost.core.XGBoostError: value 4 for Parameter colsample_bytree exceed bound [0,1]\n",
      "colsample_bytree: Subsample ratio of columns, resample on each tree construction.\n",
      "\n",
      "  warnings.warn(\"Estimator fit failed. The score on this train-test\"\n",
      "/Users/raylinsoriano/anaconda3/lib/python3.8/site-packages/sklearn/model_selection/_validation.py:615: FitFailedWarning: Estimator fit failed. The score on this train-test partition for these parameters will be set to nan. Details: \n",
      "Traceback (most recent call last):\n",
      "  File \"/Users/raylinsoriano/anaconda3/lib/python3.8/site-packages/sklearn/model_selection/_validation.py\", line 598, in _fit_and_score\n",
      "    estimator.fit(X_train, y_train, **fit_params)\n",
      "  File \"/Users/raylinsoriano/anaconda3/lib/python3.8/site-packages/sklearn/pipeline.py\", line 346, in fit\n",
      "    self._final_estimator.fit(Xt, y, **fit_params_last_step)\n",
      "  File \"/Users/raylinsoriano/anaconda3/lib/python3.8/site-packages/xgboost/core.py\", line 436, in inner_f\n",
      "    return f(**kwargs)\n",
      "  File \"/Users/raylinsoriano/anaconda3/lib/python3.8/site-packages/xgboost/sklearn.py\", line 1176, in fit\n",
      "    self._Booster = train(\n",
      "  File \"/Users/raylinsoriano/anaconda3/lib/python3.8/site-packages/xgboost/training.py\", line 189, in train\n",
      "    bst = _train_internal(params, dtrain,\n",
      "  File \"/Users/raylinsoriano/anaconda3/lib/python3.8/site-packages/xgboost/training.py\", line 81, in _train_internal\n",
      "    bst.update(dtrain, i, obj)\n",
      "  File \"/Users/raylinsoriano/anaconda3/lib/python3.8/site-packages/xgboost/core.py\", line 1499, in update\n",
      "    _check_call(_LIB.XGBoosterUpdateOneIter(self.handle,\n",
      "  File \"/Users/raylinsoriano/anaconda3/lib/python3.8/site-packages/xgboost/core.py\", line 210, in _check_call\n",
      "    raise XGBoostError(py_str(_LIB.XGBGetLastError()))\n",
      "xgboost.core.XGBoostError: value 4 for Parameter colsample_bytree exceed bound [0,1]\n",
      "colsample_bytree: Subsample ratio of columns, resample on each tree construction.\n",
      "\n",
      "  warnings.warn(\"Estimator fit failed. The score on this train-test\"\n",
      "/Users/raylinsoriano/anaconda3/lib/python3.8/site-packages/sklearn/model_selection/_validation.py:615: FitFailedWarning: Estimator fit failed. The score on this train-test partition for these parameters will be set to nan. Details: \n",
      "Traceback (most recent call last):\n",
      "  File \"/Users/raylinsoriano/anaconda3/lib/python3.8/site-packages/sklearn/model_selection/_validation.py\", line 598, in _fit_and_score\n",
      "    estimator.fit(X_train, y_train, **fit_params)\n",
      "  File \"/Users/raylinsoriano/anaconda3/lib/python3.8/site-packages/sklearn/pipeline.py\", line 346, in fit\n",
      "    self._final_estimator.fit(Xt, y, **fit_params_last_step)\n",
      "  File \"/Users/raylinsoriano/anaconda3/lib/python3.8/site-packages/xgboost/core.py\", line 436, in inner_f\n",
      "    return f(**kwargs)\n",
      "  File \"/Users/raylinsoriano/anaconda3/lib/python3.8/site-packages/xgboost/sklearn.py\", line 1176, in fit\n",
      "    self._Booster = train(\n",
      "  File \"/Users/raylinsoriano/anaconda3/lib/python3.8/site-packages/xgboost/training.py\", line 189, in train\n",
      "    bst = _train_internal(params, dtrain,\n",
      "  File \"/Users/raylinsoriano/anaconda3/lib/python3.8/site-packages/xgboost/training.py\", line 81, in _train_internal\n",
      "    bst.update(dtrain, i, obj)\n",
      "  File \"/Users/raylinsoriano/anaconda3/lib/python3.8/site-packages/xgboost/core.py\", line 1499, in update\n",
      "    _check_call(_LIB.XGBoosterUpdateOneIter(self.handle,\n",
      "  File \"/Users/raylinsoriano/anaconda3/lib/python3.8/site-packages/xgboost/core.py\", line 210, in _check_call\n",
      "    raise XGBoostError(py_str(_LIB.XGBGetLastError()))\n",
      "xgboost.core.XGBoostError: value 4 for Parameter colsample_bytree exceed bound [0,1]\n",
      "colsample_bytree: Subsample ratio of columns, resample on each tree construction.\n",
      "\n",
      "  warnings.warn(\"Estimator fit failed. The score on this train-test\"\n",
      "/Users/raylinsoriano/anaconda3/lib/python3.8/site-packages/sklearn/model_selection/_validation.py:615: FitFailedWarning: Estimator fit failed. The score on this train-test partition for these parameters will be set to nan. Details: \n",
      "Traceback (most recent call last):\n",
      "  File \"/Users/raylinsoriano/anaconda3/lib/python3.8/site-packages/sklearn/model_selection/_validation.py\", line 598, in _fit_and_score\n",
      "    estimator.fit(X_train, y_train, **fit_params)\n",
      "  File \"/Users/raylinsoriano/anaconda3/lib/python3.8/site-packages/sklearn/pipeline.py\", line 346, in fit\n",
      "    self._final_estimator.fit(Xt, y, **fit_params_last_step)\n",
      "  File \"/Users/raylinsoriano/anaconda3/lib/python3.8/site-packages/xgboost/core.py\", line 436, in inner_f\n",
      "    return f(**kwargs)\n",
      "  File \"/Users/raylinsoriano/anaconda3/lib/python3.8/site-packages/xgboost/sklearn.py\", line 1176, in fit\n",
      "    self._Booster = train(\n",
      "  File \"/Users/raylinsoriano/anaconda3/lib/python3.8/site-packages/xgboost/training.py\", line 189, in train\n",
      "    bst = _train_internal(params, dtrain,\n",
      "  File \"/Users/raylinsoriano/anaconda3/lib/python3.8/site-packages/xgboost/training.py\", line 81, in _train_internal\n",
      "    bst.update(dtrain, i, obj)\n",
      "  File \"/Users/raylinsoriano/anaconda3/lib/python3.8/site-packages/xgboost/core.py\", line 1499, in update\n",
      "    _check_call(_LIB.XGBoosterUpdateOneIter(self.handle,\n",
      "  File \"/Users/raylinsoriano/anaconda3/lib/python3.8/site-packages/xgboost/core.py\", line 210, in _check_call\n",
      "    raise XGBoostError(py_str(_LIB.XGBGetLastError()))\n",
      "xgboost.core.XGBoostError: value 4 for Parameter colsample_bytree exceed bound [0,1]\n",
      "colsample_bytree: Subsample ratio of columns, resample on each tree construction.\n",
      "\n",
      "  warnings.warn(\"Estimator fit failed. The score on this train-test\"\n",
      "/Users/raylinsoriano/anaconda3/lib/python3.8/site-packages/sklearn/model_selection/_validation.py:615: FitFailedWarning: Estimator fit failed. The score on this train-test partition for these parameters will be set to nan. Details: \n",
      "Traceback (most recent call last):\n",
      "  File \"/Users/raylinsoriano/anaconda3/lib/python3.8/site-packages/sklearn/model_selection/_validation.py\", line 598, in _fit_and_score\n",
      "    estimator.fit(X_train, y_train, **fit_params)\n",
      "  File \"/Users/raylinsoriano/anaconda3/lib/python3.8/site-packages/sklearn/pipeline.py\", line 346, in fit\n",
      "    self._final_estimator.fit(Xt, y, **fit_params_last_step)\n",
      "  File \"/Users/raylinsoriano/anaconda3/lib/python3.8/site-packages/xgboost/core.py\", line 436, in inner_f\n",
      "    return f(**kwargs)\n",
      "  File \"/Users/raylinsoriano/anaconda3/lib/python3.8/site-packages/xgboost/sklearn.py\", line 1176, in fit\n",
      "    self._Booster = train(\n",
      "  File \"/Users/raylinsoriano/anaconda3/lib/python3.8/site-packages/xgboost/training.py\", line 189, in train\n",
      "    bst = _train_internal(params, dtrain,\n",
      "  File \"/Users/raylinsoriano/anaconda3/lib/python3.8/site-packages/xgboost/training.py\", line 81, in _train_internal\n",
      "    bst.update(dtrain, i, obj)\n",
      "  File \"/Users/raylinsoriano/anaconda3/lib/python3.8/site-packages/xgboost/core.py\", line 1499, in update\n",
      "    _check_call(_LIB.XGBoosterUpdateOneIter(self.handle,\n",
      "  File \"/Users/raylinsoriano/anaconda3/lib/python3.8/site-packages/xgboost/core.py\", line 210, in _check_call\n",
      "    raise XGBoostError(py_str(_LIB.XGBGetLastError()))\n",
      "xgboost.core.XGBoostError: value 4 for Parameter colsample_bytree exceed bound [0,1]\n",
      "colsample_bytree: Subsample ratio of columns, resample on each tree construction.\n",
      "\n",
      "  warnings.warn(\"Estimator fit failed. The score on this train-test\"\n"
     ]
    },
    {
     "name": "stdout",
     "output_type": "stream",
     "text": [
      "[CV] END xgb__colsample_bytree=4, xgb__max_depth=10, xgb__min_child_weight=25; total time=   0.0s\n",
      "[CV] END xgb__colsample_bytree=4, xgb__max_depth=10, xgb__min_child_weight=25; total time=   0.0s\n",
      "[CV] END xgb__colsample_bytree=4, xgb__max_depth=10, xgb__min_child_weight=50; total time=   0.0s\n",
      "[CV] END xgb__colsample_bytree=4, xgb__max_depth=10, xgb__min_child_weight=50; total time=   0.0s\n",
      "[CV] END xgb__colsample_bytree=4, xgb__max_depth=10, xgb__min_child_weight=50; total time=   0.0s\n"
     ]
    },
    {
     "name": "stderr",
     "output_type": "stream",
     "text": [
      "/Users/raylinsoriano/anaconda3/lib/python3.8/site-packages/sklearn/model_selection/_validation.py:615: FitFailedWarning: Estimator fit failed. The score on this train-test partition for these parameters will be set to nan. Details: \n",
      "Traceback (most recent call last):\n",
      "  File \"/Users/raylinsoriano/anaconda3/lib/python3.8/site-packages/sklearn/model_selection/_validation.py\", line 598, in _fit_and_score\n",
      "    estimator.fit(X_train, y_train, **fit_params)\n",
      "  File \"/Users/raylinsoriano/anaconda3/lib/python3.8/site-packages/sklearn/pipeline.py\", line 346, in fit\n",
      "    self._final_estimator.fit(Xt, y, **fit_params_last_step)\n",
      "  File \"/Users/raylinsoriano/anaconda3/lib/python3.8/site-packages/xgboost/core.py\", line 436, in inner_f\n",
      "    return f(**kwargs)\n",
      "  File \"/Users/raylinsoriano/anaconda3/lib/python3.8/site-packages/xgboost/sklearn.py\", line 1176, in fit\n",
      "    self._Booster = train(\n",
      "  File \"/Users/raylinsoriano/anaconda3/lib/python3.8/site-packages/xgboost/training.py\", line 189, in train\n",
      "    bst = _train_internal(params, dtrain,\n",
      "  File \"/Users/raylinsoriano/anaconda3/lib/python3.8/site-packages/xgboost/training.py\", line 81, in _train_internal\n",
      "    bst.update(dtrain, i, obj)\n",
      "  File \"/Users/raylinsoriano/anaconda3/lib/python3.8/site-packages/xgboost/core.py\", line 1499, in update\n",
      "    _check_call(_LIB.XGBoosterUpdateOneIter(self.handle,\n",
      "  File \"/Users/raylinsoriano/anaconda3/lib/python3.8/site-packages/xgboost/core.py\", line 210, in _check_call\n",
      "    raise XGBoostError(py_str(_LIB.XGBGetLastError()))\n",
      "xgboost.core.XGBoostError: value 4 for Parameter colsample_bytree exceed bound [0,1]\n",
      "colsample_bytree: Subsample ratio of columns, resample on each tree construction.\n",
      "\n",
      "  warnings.warn(\"Estimator fit failed. The score on this train-test\"\n",
      "/Users/raylinsoriano/anaconda3/lib/python3.8/site-packages/sklearn/model_selection/_validation.py:615: FitFailedWarning: Estimator fit failed. The score on this train-test partition for these parameters will be set to nan. Details: \n",
      "Traceback (most recent call last):\n",
      "  File \"/Users/raylinsoriano/anaconda3/lib/python3.8/site-packages/sklearn/model_selection/_validation.py\", line 598, in _fit_and_score\n",
      "    estimator.fit(X_train, y_train, **fit_params)\n",
      "  File \"/Users/raylinsoriano/anaconda3/lib/python3.8/site-packages/sklearn/pipeline.py\", line 346, in fit\n",
      "    self._final_estimator.fit(Xt, y, **fit_params_last_step)\n",
      "  File \"/Users/raylinsoriano/anaconda3/lib/python3.8/site-packages/xgboost/core.py\", line 436, in inner_f\n",
      "    return f(**kwargs)\n",
      "  File \"/Users/raylinsoriano/anaconda3/lib/python3.8/site-packages/xgboost/sklearn.py\", line 1176, in fit\n",
      "    self._Booster = train(\n",
      "  File \"/Users/raylinsoriano/anaconda3/lib/python3.8/site-packages/xgboost/training.py\", line 189, in train\n",
      "    bst = _train_internal(params, dtrain,\n",
      "  File \"/Users/raylinsoriano/anaconda3/lib/python3.8/site-packages/xgboost/training.py\", line 81, in _train_internal\n",
      "    bst.update(dtrain, i, obj)\n",
      "  File \"/Users/raylinsoriano/anaconda3/lib/python3.8/site-packages/xgboost/core.py\", line 1499, in update\n",
      "    _check_call(_LIB.XGBoosterUpdateOneIter(self.handle,\n",
      "  File \"/Users/raylinsoriano/anaconda3/lib/python3.8/site-packages/xgboost/core.py\", line 210, in _check_call\n",
      "    raise XGBoostError(py_str(_LIB.XGBGetLastError()))\n",
      "xgboost.core.XGBoostError: value 4 for Parameter colsample_bytree exceed bound [0,1]\n",
      "colsample_bytree: Subsample ratio of columns, resample on each tree construction.\n",
      "\n",
      "  warnings.warn(\"Estimator fit failed. The score on this train-test\"\n",
      "/Users/raylinsoriano/anaconda3/lib/python3.8/site-packages/sklearn/model_selection/_validation.py:615: FitFailedWarning: Estimator fit failed. The score on this train-test partition for these parameters will be set to nan. Details: \n",
      "Traceback (most recent call last):\n",
      "  File \"/Users/raylinsoriano/anaconda3/lib/python3.8/site-packages/sklearn/model_selection/_validation.py\", line 598, in _fit_and_score\n",
      "    estimator.fit(X_train, y_train, **fit_params)\n",
      "  File \"/Users/raylinsoriano/anaconda3/lib/python3.8/site-packages/sklearn/pipeline.py\", line 346, in fit\n",
      "    self._final_estimator.fit(Xt, y, **fit_params_last_step)\n",
      "  File \"/Users/raylinsoriano/anaconda3/lib/python3.8/site-packages/xgboost/core.py\", line 436, in inner_f\n",
      "    return f(**kwargs)\n",
      "  File \"/Users/raylinsoriano/anaconda3/lib/python3.8/site-packages/xgboost/sklearn.py\", line 1176, in fit\n",
      "    self._Booster = train(\n",
      "  File \"/Users/raylinsoriano/anaconda3/lib/python3.8/site-packages/xgboost/training.py\", line 189, in train\n",
      "    bst = _train_internal(params, dtrain,\n",
      "  File \"/Users/raylinsoriano/anaconda3/lib/python3.8/site-packages/xgboost/training.py\", line 81, in _train_internal\n",
      "    bst.update(dtrain, i, obj)\n",
      "  File \"/Users/raylinsoriano/anaconda3/lib/python3.8/site-packages/xgboost/core.py\", line 1499, in update\n",
      "    _check_call(_LIB.XGBoosterUpdateOneIter(self.handle,\n",
      "  File \"/Users/raylinsoriano/anaconda3/lib/python3.8/site-packages/xgboost/core.py\", line 210, in _check_call\n",
      "    raise XGBoostError(py_str(_LIB.XGBGetLastError()))\n",
      "xgboost.core.XGBoostError: value 4 for Parameter colsample_bytree exceed bound [0,1]\n",
      "colsample_bytree: Subsample ratio of columns, resample on each tree construction.\n",
      "\n",
      "  warnings.warn(\"Estimator fit failed. The score on this train-test\"\n",
      "/Users/raylinsoriano/anaconda3/lib/python3.8/site-packages/sklearn/model_selection/_validation.py:615: FitFailedWarning: Estimator fit failed. The score on this train-test partition for these parameters will be set to nan. Details: \n",
      "Traceback (most recent call last):\n",
      "  File \"/Users/raylinsoriano/anaconda3/lib/python3.8/site-packages/sklearn/model_selection/_validation.py\", line 598, in _fit_and_score\n",
      "    estimator.fit(X_train, y_train, **fit_params)\n",
      "  File \"/Users/raylinsoriano/anaconda3/lib/python3.8/site-packages/sklearn/pipeline.py\", line 346, in fit\n",
      "    self._final_estimator.fit(Xt, y, **fit_params_last_step)\n",
      "  File \"/Users/raylinsoriano/anaconda3/lib/python3.8/site-packages/xgboost/core.py\", line 436, in inner_f\n",
      "    return f(**kwargs)\n",
      "  File \"/Users/raylinsoriano/anaconda3/lib/python3.8/site-packages/xgboost/sklearn.py\", line 1176, in fit\n",
      "    self._Booster = train(\n",
      "  File \"/Users/raylinsoriano/anaconda3/lib/python3.8/site-packages/xgboost/training.py\", line 189, in train\n",
      "    bst = _train_internal(params, dtrain,\n",
      "  File \"/Users/raylinsoriano/anaconda3/lib/python3.8/site-packages/xgboost/training.py\", line 81, in _train_internal\n",
      "    bst.update(dtrain, i, obj)\n",
      "  File \"/Users/raylinsoriano/anaconda3/lib/python3.8/site-packages/xgboost/core.py\", line 1499, in update\n",
      "    _check_call(_LIB.XGBoosterUpdateOneIter(self.handle,\n",
      "  File \"/Users/raylinsoriano/anaconda3/lib/python3.8/site-packages/xgboost/core.py\", line 210, in _check_call\n",
      "    raise XGBoostError(py_str(_LIB.XGBGetLastError()))\n",
      "xgboost.core.XGBoostError: value 4 for Parameter colsample_bytree exceed bound [0,1]\n",
      "colsample_bytree: Subsample ratio of columns, resample on each tree construction.\n",
      "\n",
      "  warnings.warn(\"Estimator fit failed. The score on this train-test\"\n",
      "/Users/raylinsoriano/anaconda3/lib/python3.8/site-packages/sklearn/model_selection/_validation.py:615: FitFailedWarning: Estimator fit failed. The score on this train-test partition for these parameters will be set to nan. Details: \n",
      "Traceback (most recent call last):\n",
      "  File \"/Users/raylinsoriano/anaconda3/lib/python3.8/site-packages/sklearn/model_selection/_validation.py\", line 598, in _fit_and_score\n",
      "    estimator.fit(X_train, y_train, **fit_params)\n",
      "  File \"/Users/raylinsoriano/anaconda3/lib/python3.8/site-packages/sklearn/pipeline.py\", line 346, in fit\n",
      "    self._final_estimator.fit(Xt, y, **fit_params_last_step)\n",
      "  File \"/Users/raylinsoriano/anaconda3/lib/python3.8/site-packages/xgboost/core.py\", line 436, in inner_f\n",
      "    return f(**kwargs)\n",
      "  File \"/Users/raylinsoriano/anaconda3/lib/python3.8/site-packages/xgboost/sklearn.py\", line 1176, in fit\n",
      "    self._Booster = train(\n",
      "  File \"/Users/raylinsoriano/anaconda3/lib/python3.8/site-packages/xgboost/training.py\", line 189, in train\n",
      "    bst = _train_internal(params, dtrain,\n",
      "  File \"/Users/raylinsoriano/anaconda3/lib/python3.8/site-packages/xgboost/training.py\", line 81, in _train_internal\n",
      "    bst.update(dtrain, i, obj)\n",
      "  File \"/Users/raylinsoriano/anaconda3/lib/python3.8/site-packages/xgboost/core.py\", line 1499, in update\n",
      "    _check_call(_LIB.XGBoosterUpdateOneIter(self.handle,\n",
      "  File \"/Users/raylinsoriano/anaconda3/lib/python3.8/site-packages/xgboost/core.py\", line 210, in _check_call\n",
      "    raise XGBoostError(py_str(_LIB.XGBGetLastError()))\n",
      "xgboost.core.XGBoostError: value 4 for Parameter colsample_bytree exceed bound [0,1]\n",
      "colsample_bytree: Subsample ratio of columns, resample on each tree construction.\n",
      "\n",
      "  warnings.warn(\"Estimator fit failed. The score on this train-test\"\n"
     ]
    },
    {
     "name": "stdout",
     "output_type": "stream",
     "text": [
      "[CV] END xgb__colsample_bytree=4, xgb__max_depth=10, xgb__min_child_weight=50; total time=   0.0s\n",
      "[CV] END xgb__colsample_bytree=4, xgb__max_depth=10, xgb__min_child_weight=50; total time=   0.0s\n",
      "[CV] END xgb__colsample_bytree=4, xgb__max_depth=15, xgb__min_child_weight=10; total time=   0.0s\n",
      "[CV] END xgb__colsample_bytree=4, xgb__max_depth=15, xgb__min_child_weight=10; total time=   0.0s\n",
      "[CV] END xgb__colsample_bytree=4, xgb__max_depth=15, xgb__min_child_weight=10; total time=   0.0s\n"
     ]
    },
    {
     "name": "stderr",
     "output_type": "stream",
     "text": [
      "/Users/raylinsoriano/anaconda3/lib/python3.8/site-packages/sklearn/model_selection/_validation.py:615: FitFailedWarning: Estimator fit failed. The score on this train-test partition for these parameters will be set to nan. Details: \n",
      "Traceback (most recent call last):\n",
      "  File \"/Users/raylinsoriano/anaconda3/lib/python3.8/site-packages/sklearn/model_selection/_validation.py\", line 598, in _fit_and_score\n",
      "    estimator.fit(X_train, y_train, **fit_params)\n",
      "  File \"/Users/raylinsoriano/anaconda3/lib/python3.8/site-packages/sklearn/pipeline.py\", line 346, in fit\n",
      "    self._final_estimator.fit(Xt, y, **fit_params_last_step)\n",
      "  File \"/Users/raylinsoriano/anaconda3/lib/python3.8/site-packages/xgboost/core.py\", line 436, in inner_f\n",
      "    return f(**kwargs)\n",
      "  File \"/Users/raylinsoriano/anaconda3/lib/python3.8/site-packages/xgboost/sklearn.py\", line 1176, in fit\n",
      "    self._Booster = train(\n",
      "  File \"/Users/raylinsoriano/anaconda3/lib/python3.8/site-packages/xgboost/training.py\", line 189, in train\n",
      "    bst = _train_internal(params, dtrain,\n",
      "  File \"/Users/raylinsoriano/anaconda3/lib/python3.8/site-packages/xgboost/training.py\", line 81, in _train_internal\n",
      "    bst.update(dtrain, i, obj)\n",
      "  File \"/Users/raylinsoriano/anaconda3/lib/python3.8/site-packages/xgboost/core.py\", line 1499, in update\n",
      "    _check_call(_LIB.XGBoosterUpdateOneIter(self.handle,\n",
      "  File \"/Users/raylinsoriano/anaconda3/lib/python3.8/site-packages/xgboost/core.py\", line 210, in _check_call\n",
      "    raise XGBoostError(py_str(_LIB.XGBGetLastError()))\n",
      "xgboost.core.XGBoostError: value 4 for Parameter colsample_bytree exceed bound [0,1]\n",
      "colsample_bytree: Subsample ratio of columns, resample on each tree construction.\n",
      "\n",
      "  warnings.warn(\"Estimator fit failed. The score on this train-test\"\n",
      "/Users/raylinsoriano/anaconda3/lib/python3.8/site-packages/sklearn/model_selection/_validation.py:615: FitFailedWarning: Estimator fit failed. The score on this train-test partition for these parameters will be set to nan. Details: \n",
      "Traceback (most recent call last):\n",
      "  File \"/Users/raylinsoriano/anaconda3/lib/python3.8/site-packages/sklearn/model_selection/_validation.py\", line 598, in _fit_and_score\n",
      "    estimator.fit(X_train, y_train, **fit_params)\n",
      "  File \"/Users/raylinsoriano/anaconda3/lib/python3.8/site-packages/sklearn/pipeline.py\", line 346, in fit\n",
      "    self._final_estimator.fit(Xt, y, **fit_params_last_step)\n",
      "  File \"/Users/raylinsoriano/anaconda3/lib/python3.8/site-packages/xgboost/core.py\", line 436, in inner_f\n",
      "    return f(**kwargs)\n",
      "  File \"/Users/raylinsoriano/anaconda3/lib/python3.8/site-packages/xgboost/sklearn.py\", line 1176, in fit\n",
      "    self._Booster = train(\n",
      "  File \"/Users/raylinsoriano/anaconda3/lib/python3.8/site-packages/xgboost/training.py\", line 189, in train\n",
      "    bst = _train_internal(params, dtrain,\n",
      "  File \"/Users/raylinsoriano/anaconda3/lib/python3.8/site-packages/xgboost/training.py\", line 81, in _train_internal\n",
      "    bst.update(dtrain, i, obj)\n",
      "  File \"/Users/raylinsoriano/anaconda3/lib/python3.8/site-packages/xgboost/core.py\", line 1499, in update\n",
      "    _check_call(_LIB.XGBoosterUpdateOneIter(self.handle,\n",
      "  File \"/Users/raylinsoriano/anaconda3/lib/python3.8/site-packages/xgboost/core.py\", line 210, in _check_call\n",
      "    raise XGBoostError(py_str(_LIB.XGBGetLastError()))\n",
      "xgboost.core.XGBoostError: value 4 for Parameter colsample_bytree exceed bound [0,1]\n",
      "colsample_bytree: Subsample ratio of columns, resample on each tree construction.\n",
      "\n",
      "  warnings.warn(\"Estimator fit failed. The score on this train-test\"\n",
      "/Users/raylinsoriano/anaconda3/lib/python3.8/site-packages/sklearn/model_selection/_validation.py:615: FitFailedWarning: Estimator fit failed. The score on this train-test partition for these parameters will be set to nan. Details: \n",
      "Traceback (most recent call last):\n",
      "  File \"/Users/raylinsoriano/anaconda3/lib/python3.8/site-packages/sklearn/model_selection/_validation.py\", line 598, in _fit_and_score\n",
      "    estimator.fit(X_train, y_train, **fit_params)\n",
      "  File \"/Users/raylinsoriano/anaconda3/lib/python3.8/site-packages/sklearn/pipeline.py\", line 346, in fit\n",
      "    self._final_estimator.fit(Xt, y, **fit_params_last_step)\n",
      "  File \"/Users/raylinsoriano/anaconda3/lib/python3.8/site-packages/xgboost/core.py\", line 436, in inner_f\n",
      "    return f(**kwargs)\n",
      "  File \"/Users/raylinsoriano/anaconda3/lib/python3.8/site-packages/xgboost/sklearn.py\", line 1176, in fit\n",
      "    self._Booster = train(\n",
      "  File \"/Users/raylinsoriano/anaconda3/lib/python3.8/site-packages/xgboost/training.py\", line 189, in train\n",
      "    bst = _train_internal(params, dtrain,\n",
      "  File \"/Users/raylinsoriano/anaconda3/lib/python3.8/site-packages/xgboost/training.py\", line 81, in _train_internal\n",
      "    bst.update(dtrain, i, obj)\n",
      "  File \"/Users/raylinsoriano/anaconda3/lib/python3.8/site-packages/xgboost/core.py\", line 1499, in update\n",
      "    _check_call(_LIB.XGBoosterUpdateOneIter(self.handle,\n",
      "  File \"/Users/raylinsoriano/anaconda3/lib/python3.8/site-packages/xgboost/core.py\", line 210, in _check_call\n",
      "    raise XGBoostError(py_str(_LIB.XGBGetLastError()))\n",
      "xgboost.core.XGBoostError: value 4 for Parameter colsample_bytree exceed bound [0,1]\n",
      "colsample_bytree: Subsample ratio of columns, resample on each tree construction.\n",
      "\n",
      "  warnings.warn(\"Estimator fit failed. The score on this train-test\"\n",
      "/Users/raylinsoriano/anaconda3/lib/python3.8/site-packages/sklearn/model_selection/_validation.py:615: FitFailedWarning: Estimator fit failed. The score on this train-test partition for these parameters will be set to nan. Details: \n",
      "Traceback (most recent call last):\n",
      "  File \"/Users/raylinsoriano/anaconda3/lib/python3.8/site-packages/sklearn/model_selection/_validation.py\", line 598, in _fit_and_score\n",
      "    estimator.fit(X_train, y_train, **fit_params)\n",
      "  File \"/Users/raylinsoriano/anaconda3/lib/python3.8/site-packages/sklearn/pipeline.py\", line 346, in fit\n",
      "    self._final_estimator.fit(Xt, y, **fit_params_last_step)\n",
      "  File \"/Users/raylinsoriano/anaconda3/lib/python3.8/site-packages/xgboost/core.py\", line 436, in inner_f\n",
      "    return f(**kwargs)\n",
      "  File \"/Users/raylinsoriano/anaconda3/lib/python3.8/site-packages/xgboost/sklearn.py\", line 1176, in fit\n",
      "    self._Booster = train(\n",
      "  File \"/Users/raylinsoriano/anaconda3/lib/python3.8/site-packages/xgboost/training.py\", line 189, in train\n",
      "    bst = _train_internal(params, dtrain,\n",
      "  File \"/Users/raylinsoriano/anaconda3/lib/python3.8/site-packages/xgboost/training.py\", line 81, in _train_internal\n",
      "    bst.update(dtrain, i, obj)\n",
      "  File \"/Users/raylinsoriano/anaconda3/lib/python3.8/site-packages/xgboost/core.py\", line 1499, in update\n",
      "    _check_call(_LIB.XGBoosterUpdateOneIter(self.handle,\n",
      "  File \"/Users/raylinsoriano/anaconda3/lib/python3.8/site-packages/xgboost/core.py\", line 210, in _check_call\n",
      "    raise XGBoostError(py_str(_LIB.XGBGetLastError()))\n",
      "xgboost.core.XGBoostError: value 4 for Parameter colsample_bytree exceed bound [0,1]\n",
      "colsample_bytree: Subsample ratio of columns, resample on each tree construction.\n",
      "\n",
      "  warnings.warn(\"Estimator fit failed. The score on this train-test\"\n",
      "/Users/raylinsoriano/anaconda3/lib/python3.8/site-packages/sklearn/model_selection/_validation.py:615: FitFailedWarning: Estimator fit failed. The score on this train-test partition for these parameters will be set to nan. Details: \n",
      "Traceback (most recent call last):\n",
      "  File \"/Users/raylinsoriano/anaconda3/lib/python3.8/site-packages/sklearn/model_selection/_validation.py\", line 598, in _fit_and_score\n",
      "    estimator.fit(X_train, y_train, **fit_params)\n",
      "  File \"/Users/raylinsoriano/anaconda3/lib/python3.8/site-packages/sklearn/pipeline.py\", line 346, in fit\n",
      "    self._final_estimator.fit(Xt, y, **fit_params_last_step)\n",
      "  File \"/Users/raylinsoriano/anaconda3/lib/python3.8/site-packages/xgboost/core.py\", line 436, in inner_f\n",
      "    return f(**kwargs)\n",
      "  File \"/Users/raylinsoriano/anaconda3/lib/python3.8/site-packages/xgboost/sklearn.py\", line 1176, in fit\n",
      "    self._Booster = train(\n",
      "  File \"/Users/raylinsoriano/anaconda3/lib/python3.8/site-packages/xgboost/training.py\", line 189, in train\n",
      "    bst = _train_internal(params, dtrain,\n",
      "  File \"/Users/raylinsoriano/anaconda3/lib/python3.8/site-packages/xgboost/training.py\", line 81, in _train_internal\n",
      "    bst.update(dtrain, i, obj)\n",
      "  File \"/Users/raylinsoriano/anaconda3/lib/python3.8/site-packages/xgboost/core.py\", line 1499, in update\n",
      "    _check_call(_LIB.XGBoosterUpdateOneIter(self.handle,\n",
      "  File \"/Users/raylinsoriano/anaconda3/lib/python3.8/site-packages/xgboost/core.py\", line 210, in _check_call\n",
      "    raise XGBoostError(py_str(_LIB.XGBGetLastError()))\n",
      "xgboost.core.XGBoostError: value 4 for Parameter colsample_bytree exceed bound [0,1]\n",
      "colsample_bytree: Subsample ratio of columns, resample on each tree construction.\n",
      "\n",
      "  warnings.warn(\"Estimator fit failed. The score on this train-test\"\n"
     ]
    },
    {
     "name": "stdout",
     "output_type": "stream",
     "text": [
      "[CV] END xgb__colsample_bytree=4, xgb__max_depth=15, xgb__min_child_weight=10; total time=   0.0s\n",
      "[CV] END xgb__colsample_bytree=4, xgb__max_depth=15, xgb__min_child_weight=10; total time=   0.0s\n",
      "[CV] END xgb__colsample_bytree=4, xgb__max_depth=15, xgb__min_child_weight=25; total time=   0.0s\n",
      "[CV] END xgb__colsample_bytree=4, xgb__max_depth=15, xgb__min_child_weight=25; total time=   0.0s\n",
      "[CV] END xgb__colsample_bytree=4, xgb__max_depth=15, xgb__min_child_weight=25; total time=   0.0s\n"
     ]
    },
    {
     "name": "stderr",
     "output_type": "stream",
     "text": [
      "/Users/raylinsoriano/anaconda3/lib/python3.8/site-packages/sklearn/model_selection/_validation.py:615: FitFailedWarning: Estimator fit failed. The score on this train-test partition for these parameters will be set to nan. Details: \n",
      "Traceback (most recent call last):\n",
      "  File \"/Users/raylinsoriano/anaconda3/lib/python3.8/site-packages/sklearn/model_selection/_validation.py\", line 598, in _fit_and_score\n",
      "    estimator.fit(X_train, y_train, **fit_params)\n",
      "  File \"/Users/raylinsoriano/anaconda3/lib/python3.8/site-packages/sklearn/pipeline.py\", line 346, in fit\n",
      "    self._final_estimator.fit(Xt, y, **fit_params_last_step)\n",
      "  File \"/Users/raylinsoriano/anaconda3/lib/python3.8/site-packages/xgboost/core.py\", line 436, in inner_f\n",
      "    return f(**kwargs)\n",
      "  File \"/Users/raylinsoriano/anaconda3/lib/python3.8/site-packages/xgboost/sklearn.py\", line 1176, in fit\n",
      "    self._Booster = train(\n",
      "  File \"/Users/raylinsoriano/anaconda3/lib/python3.8/site-packages/xgboost/training.py\", line 189, in train\n",
      "    bst = _train_internal(params, dtrain,\n",
      "  File \"/Users/raylinsoriano/anaconda3/lib/python3.8/site-packages/xgboost/training.py\", line 81, in _train_internal\n",
      "    bst.update(dtrain, i, obj)\n",
      "  File \"/Users/raylinsoriano/anaconda3/lib/python3.8/site-packages/xgboost/core.py\", line 1499, in update\n",
      "    _check_call(_LIB.XGBoosterUpdateOneIter(self.handle,\n",
      "  File \"/Users/raylinsoriano/anaconda3/lib/python3.8/site-packages/xgboost/core.py\", line 210, in _check_call\n",
      "    raise XGBoostError(py_str(_LIB.XGBGetLastError()))\n",
      "xgboost.core.XGBoostError: value 4 for Parameter colsample_bytree exceed bound [0,1]\n",
      "colsample_bytree: Subsample ratio of columns, resample on each tree construction.\n",
      "\n",
      "  warnings.warn(\"Estimator fit failed. The score on this train-test\"\n",
      "/Users/raylinsoriano/anaconda3/lib/python3.8/site-packages/sklearn/model_selection/_validation.py:615: FitFailedWarning: Estimator fit failed. The score on this train-test partition for these parameters will be set to nan. Details: \n",
      "Traceback (most recent call last):\n",
      "  File \"/Users/raylinsoriano/anaconda3/lib/python3.8/site-packages/sklearn/model_selection/_validation.py\", line 598, in _fit_and_score\n",
      "    estimator.fit(X_train, y_train, **fit_params)\n",
      "  File \"/Users/raylinsoriano/anaconda3/lib/python3.8/site-packages/sklearn/pipeline.py\", line 346, in fit\n",
      "    self._final_estimator.fit(Xt, y, **fit_params_last_step)\n",
      "  File \"/Users/raylinsoriano/anaconda3/lib/python3.8/site-packages/xgboost/core.py\", line 436, in inner_f\n",
      "    return f(**kwargs)\n",
      "  File \"/Users/raylinsoriano/anaconda3/lib/python3.8/site-packages/xgboost/sklearn.py\", line 1176, in fit\n",
      "    self._Booster = train(\n",
      "  File \"/Users/raylinsoriano/anaconda3/lib/python3.8/site-packages/xgboost/training.py\", line 189, in train\n",
      "    bst = _train_internal(params, dtrain,\n",
      "  File \"/Users/raylinsoriano/anaconda3/lib/python3.8/site-packages/xgboost/training.py\", line 81, in _train_internal\n",
      "    bst.update(dtrain, i, obj)\n",
      "  File \"/Users/raylinsoriano/anaconda3/lib/python3.8/site-packages/xgboost/core.py\", line 1499, in update\n",
      "    _check_call(_LIB.XGBoosterUpdateOneIter(self.handle,\n",
      "  File \"/Users/raylinsoriano/anaconda3/lib/python3.8/site-packages/xgboost/core.py\", line 210, in _check_call\n",
      "    raise XGBoostError(py_str(_LIB.XGBGetLastError()))\n",
      "xgboost.core.XGBoostError: value 4 for Parameter colsample_bytree exceed bound [0,1]\n",
      "colsample_bytree: Subsample ratio of columns, resample on each tree construction.\n",
      "\n",
      "  warnings.warn(\"Estimator fit failed. The score on this train-test\"\n",
      "/Users/raylinsoriano/anaconda3/lib/python3.8/site-packages/sklearn/model_selection/_validation.py:615: FitFailedWarning: Estimator fit failed. The score on this train-test partition for these parameters will be set to nan. Details: \n",
      "Traceback (most recent call last):\n",
      "  File \"/Users/raylinsoriano/anaconda3/lib/python3.8/site-packages/sklearn/model_selection/_validation.py\", line 598, in _fit_and_score\n",
      "    estimator.fit(X_train, y_train, **fit_params)\n",
      "  File \"/Users/raylinsoriano/anaconda3/lib/python3.8/site-packages/sklearn/pipeline.py\", line 346, in fit\n",
      "    self._final_estimator.fit(Xt, y, **fit_params_last_step)\n",
      "  File \"/Users/raylinsoriano/anaconda3/lib/python3.8/site-packages/xgboost/core.py\", line 436, in inner_f\n",
      "    return f(**kwargs)\n",
      "  File \"/Users/raylinsoriano/anaconda3/lib/python3.8/site-packages/xgboost/sklearn.py\", line 1176, in fit\n",
      "    self._Booster = train(\n",
      "  File \"/Users/raylinsoriano/anaconda3/lib/python3.8/site-packages/xgboost/training.py\", line 189, in train\n",
      "    bst = _train_internal(params, dtrain,\n",
      "  File \"/Users/raylinsoriano/anaconda3/lib/python3.8/site-packages/xgboost/training.py\", line 81, in _train_internal\n",
      "    bst.update(dtrain, i, obj)\n",
      "  File \"/Users/raylinsoriano/anaconda3/lib/python3.8/site-packages/xgboost/core.py\", line 1499, in update\n",
      "    _check_call(_LIB.XGBoosterUpdateOneIter(self.handle,\n",
      "  File \"/Users/raylinsoriano/anaconda3/lib/python3.8/site-packages/xgboost/core.py\", line 210, in _check_call\n",
      "    raise XGBoostError(py_str(_LIB.XGBGetLastError()))\n",
      "xgboost.core.XGBoostError: value 4 for Parameter colsample_bytree exceed bound [0,1]\n",
      "colsample_bytree: Subsample ratio of columns, resample on each tree construction.\n",
      "\n",
      "  warnings.warn(\"Estimator fit failed. The score on this train-test\"\n",
      "/Users/raylinsoriano/anaconda3/lib/python3.8/site-packages/sklearn/model_selection/_validation.py:615: FitFailedWarning: Estimator fit failed. The score on this train-test partition for these parameters will be set to nan. Details: \n",
      "Traceback (most recent call last):\n",
      "  File \"/Users/raylinsoriano/anaconda3/lib/python3.8/site-packages/sklearn/model_selection/_validation.py\", line 598, in _fit_and_score\n",
      "    estimator.fit(X_train, y_train, **fit_params)\n",
      "  File \"/Users/raylinsoriano/anaconda3/lib/python3.8/site-packages/sklearn/pipeline.py\", line 346, in fit\n",
      "    self._final_estimator.fit(Xt, y, **fit_params_last_step)\n",
      "  File \"/Users/raylinsoriano/anaconda3/lib/python3.8/site-packages/xgboost/core.py\", line 436, in inner_f\n",
      "    return f(**kwargs)\n",
      "  File \"/Users/raylinsoriano/anaconda3/lib/python3.8/site-packages/xgboost/sklearn.py\", line 1176, in fit\n",
      "    self._Booster = train(\n",
      "  File \"/Users/raylinsoriano/anaconda3/lib/python3.8/site-packages/xgboost/training.py\", line 189, in train\n",
      "    bst = _train_internal(params, dtrain,\n",
      "  File \"/Users/raylinsoriano/anaconda3/lib/python3.8/site-packages/xgboost/training.py\", line 81, in _train_internal\n",
      "    bst.update(dtrain, i, obj)\n",
      "  File \"/Users/raylinsoriano/anaconda3/lib/python3.8/site-packages/xgboost/core.py\", line 1499, in update\n",
      "    _check_call(_LIB.XGBoosterUpdateOneIter(self.handle,\n",
      "  File \"/Users/raylinsoriano/anaconda3/lib/python3.8/site-packages/xgboost/core.py\", line 210, in _check_call\n",
      "    raise XGBoostError(py_str(_LIB.XGBGetLastError()))\n",
      "xgboost.core.XGBoostError: value 4 for Parameter colsample_bytree exceed bound [0,1]\n",
      "colsample_bytree: Subsample ratio of columns, resample on each tree construction.\n",
      "\n",
      "  warnings.warn(\"Estimator fit failed. The score on this train-test\"\n",
      "/Users/raylinsoriano/anaconda3/lib/python3.8/site-packages/sklearn/model_selection/_validation.py:615: FitFailedWarning: Estimator fit failed. The score on this train-test partition for these parameters will be set to nan. Details: \n",
      "Traceback (most recent call last):\n",
      "  File \"/Users/raylinsoriano/anaconda3/lib/python3.8/site-packages/sklearn/model_selection/_validation.py\", line 598, in _fit_and_score\n",
      "    estimator.fit(X_train, y_train, **fit_params)\n",
      "  File \"/Users/raylinsoriano/anaconda3/lib/python3.8/site-packages/sklearn/pipeline.py\", line 346, in fit\n",
      "    self._final_estimator.fit(Xt, y, **fit_params_last_step)\n",
      "  File \"/Users/raylinsoriano/anaconda3/lib/python3.8/site-packages/xgboost/core.py\", line 436, in inner_f\n",
      "    return f(**kwargs)\n",
      "  File \"/Users/raylinsoriano/anaconda3/lib/python3.8/site-packages/xgboost/sklearn.py\", line 1176, in fit\n",
      "    self._Booster = train(\n",
      "  File \"/Users/raylinsoriano/anaconda3/lib/python3.8/site-packages/xgboost/training.py\", line 189, in train\n",
      "    bst = _train_internal(params, dtrain,\n",
      "  File \"/Users/raylinsoriano/anaconda3/lib/python3.8/site-packages/xgboost/training.py\", line 81, in _train_internal\n",
      "    bst.update(dtrain, i, obj)\n",
      "  File \"/Users/raylinsoriano/anaconda3/lib/python3.8/site-packages/xgboost/core.py\", line 1499, in update\n",
      "    _check_call(_LIB.XGBoosterUpdateOneIter(self.handle,\n",
      "  File \"/Users/raylinsoriano/anaconda3/lib/python3.8/site-packages/xgboost/core.py\", line 210, in _check_call\n",
      "    raise XGBoostError(py_str(_LIB.XGBGetLastError()))\n",
      "xgboost.core.XGBoostError: value 4 for Parameter colsample_bytree exceed bound [0,1]\n",
      "colsample_bytree: Subsample ratio of columns, resample on each tree construction.\n",
      "\n",
      "  warnings.warn(\"Estimator fit failed. The score on this train-test\"\n"
     ]
    },
    {
     "name": "stdout",
     "output_type": "stream",
     "text": [
      "[CV] END xgb__colsample_bytree=4, xgb__max_depth=15, xgb__min_child_weight=25; total time=   0.0s\n",
      "[CV] END xgb__colsample_bytree=4, xgb__max_depth=15, xgb__min_child_weight=25; total time=   0.0s\n",
      "[CV] END xgb__colsample_bytree=4, xgb__max_depth=15, xgb__min_child_weight=50; total time=   0.0s\n",
      "[CV] END xgb__colsample_bytree=4, xgb__max_depth=15, xgb__min_child_weight=50; total time=   0.0s\n",
      "[CV] END xgb__colsample_bytree=4, xgb__max_depth=15, xgb__min_child_weight=50; total time=   0.0s\n"
     ]
    },
    {
     "name": "stderr",
     "output_type": "stream",
     "text": [
      "/Users/raylinsoriano/anaconda3/lib/python3.8/site-packages/sklearn/model_selection/_validation.py:615: FitFailedWarning: Estimator fit failed. The score on this train-test partition for these parameters will be set to nan. Details: \n",
      "Traceback (most recent call last):\n",
      "  File \"/Users/raylinsoriano/anaconda3/lib/python3.8/site-packages/sklearn/model_selection/_validation.py\", line 598, in _fit_and_score\n",
      "    estimator.fit(X_train, y_train, **fit_params)\n",
      "  File \"/Users/raylinsoriano/anaconda3/lib/python3.8/site-packages/sklearn/pipeline.py\", line 346, in fit\n",
      "    self._final_estimator.fit(Xt, y, **fit_params_last_step)\n",
      "  File \"/Users/raylinsoriano/anaconda3/lib/python3.8/site-packages/xgboost/core.py\", line 436, in inner_f\n",
      "    return f(**kwargs)\n",
      "  File \"/Users/raylinsoriano/anaconda3/lib/python3.8/site-packages/xgboost/sklearn.py\", line 1176, in fit\n",
      "    self._Booster = train(\n",
      "  File \"/Users/raylinsoriano/anaconda3/lib/python3.8/site-packages/xgboost/training.py\", line 189, in train\n",
      "    bst = _train_internal(params, dtrain,\n",
      "  File \"/Users/raylinsoriano/anaconda3/lib/python3.8/site-packages/xgboost/training.py\", line 81, in _train_internal\n",
      "    bst.update(dtrain, i, obj)\n",
      "  File \"/Users/raylinsoriano/anaconda3/lib/python3.8/site-packages/xgboost/core.py\", line 1499, in update\n",
      "    _check_call(_LIB.XGBoosterUpdateOneIter(self.handle,\n",
      "  File \"/Users/raylinsoriano/anaconda3/lib/python3.8/site-packages/xgboost/core.py\", line 210, in _check_call\n",
      "    raise XGBoostError(py_str(_LIB.XGBGetLastError()))\n",
      "xgboost.core.XGBoostError: value 4 for Parameter colsample_bytree exceed bound [0,1]\n",
      "colsample_bytree: Subsample ratio of columns, resample on each tree construction.\n",
      "\n",
      "  warnings.warn(\"Estimator fit failed. The score on this train-test\"\n",
      "/Users/raylinsoriano/anaconda3/lib/python3.8/site-packages/sklearn/model_selection/_validation.py:615: FitFailedWarning: Estimator fit failed. The score on this train-test partition for these parameters will be set to nan. Details: \n",
      "Traceback (most recent call last):\n",
      "  File \"/Users/raylinsoriano/anaconda3/lib/python3.8/site-packages/sklearn/model_selection/_validation.py\", line 598, in _fit_and_score\n",
      "    estimator.fit(X_train, y_train, **fit_params)\n",
      "  File \"/Users/raylinsoriano/anaconda3/lib/python3.8/site-packages/sklearn/pipeline.py\", line 346, in fit\n",
      "    self._final_estimator.fit(Xt, y, **fit_params_last_step)\n",
      "  File \"/Users/raylinsoriano/anaconda3/lib/python3.8/site-packages/xgboost/core.py\", line 436, in inner_f\n",
      "    return f(**kwargs)\n",
      "  File \"/Users/raylinsoriano/anaconda3/lib/python3.8/site-packages/xgboost/sklearn.py\", line 1176, in fit\n",
      "    self._Booster = train(\n",
      "  File \"/Users/raylinsoriano/anaconda3/lib/python3.8/site-packages/xgboost/training.py\", line 189, in train\n",
      "    bst = _train_internal(params, dtrain,\n",
      "  File \"/Users/raylinsoriano/anaconda3/lib/python3.8/site-packages/xgboost/training.py\", line 81, in _train_internal\n",
      "    bst.update(dtrain, i, obj)\n",
      "  File \"/Users/raylinsoriano/anaconda3/lib/python3.8/site-packages/xgboost/core.py\", line 1499, in update\n",
      "    _check_call(_LIB.XGBoosterUpdateOneIter(self.handle,\n",
      "  File \"/Users/raylinsoriano/anaconda3/lib/python3.8/site-packages/xgboost/core.py\", line 210, in _check_call\n",
      "    raise XGBoostError(py_str(_LIB.XGBGetLastError()))\n",
      "xgboost.core.XGBoostError: value 4 for Parameter colsample_bytree exceed bound [0,1]\n",
      "colsample_bytree: Subsample ratio of columns, resample on each tree construction.\n",
      "\n",
      "  warnings.warn(\"Estimator fit failed. The score on this train-test\"\n",
      "/Users/raylinsoriano/anaconda3/lib/python3.8/site-packages/sklearn/model_selection/_validation.py:615: FitFailedWarning: Estimator fit failed. The score on this train-test partition for these parameters will be set to nan. Details: \n",
      "Traceback (most recent call last):\n",
      "  File \"/Users/raylinsoriano/anaconda3/lib/python3.8/site-packages/sklearn/model_selection/_validation.py\", line 598, in _fit_and_score\n",
      "    estimator.fit(X_train, y_train, **fit_params)\n",
      "  File \"/Users/raylinsoriano/anaconda3/lib/python3.8/site-packages/sklearn/pipeline.py\", line 346, in fit\n",
      "    self._final_estimator.fit(Xt, y, **fit_params_last_step)\n",
      "  File \"/Users/raylinsoriano/anaconda3/lib/python3.8/site-packages/xgboost/core.py\", line 436, in inner_f\n",
      "    return f(**kwargs)\n",
      "  File \"/Users/raylinsoriano/anaconda3/lib/python3.8/site-packages/xgboost/sklearn.py\", line 1176, in fit\n",
      "    self._Booster = train(\n",
      "  File \"/Users/raylinsoriano/anaconda3/lib/python3.8/site-packages/xgboost/training.py\", line 189, in train\n",
      "    bst = _train_internal(params, dtrain,\n",
      "  File \"/Users/raylinsoriano/anaconda3/lib/python3.8/site-packages/xgboost/training.py\", line 81, in _train_internal\n",
      "    bst.update(dtrain, i, obj)\n",
      "  File \"/Users/raylinsoriano/anaconda3/lib/python3.8/site-packages/xgboost/core.py\", line 1499, in update\n",
      "    _check_call(_LIB.XGBoosterUpdateOneIter(self.handle,\n",
      "  File \"/Users/raylinsoriano/anaconda3/lib/python3.8/site-packages/xgboost/core.py\", line 210, in _check_call\n",
      "    raise XGBoostError(py_str(_LIB.XGBGetLastError()))\n",
      "xgboost.core.XGBoostError: value 4 for Parameter colsample_bytree exceed bound [0,1]\n",
      "colsample_bytree: Subsample ratio of columns, resample on each tree construction.\n",
      "\n",
      "  warnings.warn(\"Estimator fit failed. The score on this train-test\"\n",
      "/Users/raylinsoriano/anaconda3/lib/python3.8/site-packages/sklearn/model_selection/_validation.py:615: FitFailedWarning: Estimator fit failed. The score on this train-test partition for these parameters will be set to nan. Details: \n",
      "Traceback (most recent call last):\n",
      "  File \"/Users/raylinsoriano/anaconda3/lib/python3.8/site-packages/sklearn/model_selection/_validation.py\", line 598, in _fit_and_score\n",
      "    estimator.fit(X_train, y_train, **fit_params)\n",
      "  File \"/Users/raylinsoriano/anaconda3/lib/python3.8/site-packages/sklearn/pipeline.py\", line 346, in fit\n",
      "    self._final_estimator.fit(Xt, y, **fit_params_last_step)\n",
      "  File \"/Users/raylinsoriano/anaconda3/lib/python3.8/site-packages/xgboost/core.py\", line 436, in inner_f\n",
      "    return f(**kwargs)\n",
      "  File \"/Users/raylinsoriano/anaconda3/lib/python3.8/site-packages/xgboost/sklearn.py\", line 1176, in fit\n",
      "    self._Booster = train(\n",
      "  File \"/Users/raylinsoriano/anaconda3/lib/python3.8/site-packages/xgboost/training.py\", line 189, in train\n",
      "    bst = _train_internal(params, dtrain,\n",
      "  File \"/Users/raylinsoriano/anaconda3/lib/python3.8/site-packages/xgboost/training.py\", line 81, in _train_internal\n",
      "    bst.update(dtrain, i, obj)\n",
      "  File \"/Users/raylinsoriano/anaconda3/lib/python3.8/site-packages/xgboost/core.py\", line 1499, in update\n",
      "    _check_call(_LIB.XGBoosterUpdateOneIter(self.handle,\n",
      "  File \"/Users/raylinsoriano/anaconda3/lib/python3.8/site-packages/xgboost/core.py\", line 210, in _check_call\n",
      "    raise XGBoostError(py_str(_LIB.XGBGetLastError()))\n",
      "xgboost.core.XGBoostError: value 4 for Parameter colsample_bytree exceed bound [0,1]\n",
      "colsample_bytree: Subsample ratio of columns, resample on each tree construction.\n",
      "\n",
      "  warnings.warn(\"Estimator fit failed. The score on this train-test\"\n",
      "/Users/raylinsoriano/anaconda3/lib/python3.8/site-packages/sklearn/model_selection/_validation.py:615: FitFailedWarning: Estimator fit failed. The score on this train-test partition for these parameters will be set to nan. Details: \n",
      "Traceback (most recent call last):\n",
      "  File \"/Users/raylinsoriano/anaconda3/lib/python3.8/site-packages/sklearn/model_selection/_validation.py\", line 598, in _fit_and_score\n",
      "    estimator.fit(X_train, y_train, **fit_params)\n",
      "  File \"/Users/raylinsoriano/anaconda3/lib/python3.8/site-packages/sklearn/pipeline.py\", line 346, in fit\n",
      "    self._final_estimator.fit(Xt, y, **fit_params_last_step)\n",
      "  File \"/Users/raylinsoriano/anaconda3/lib/python3.8/site-packages/xgboost/core.py\", line 436, in inner_f\n",
      "    return f(**kwargs)\n",
      "  File \"/Users/raylinsoriano/anaconda3/lib/python3.8/site-packages/xgboost/sklearn.py\", line 1176, in fit\n",
      "    self._Booster = train(\n",
      "  File \"/Users/raylinsoriano/anaconda3/lib/python3.8/site-packages/xgboost/training.py\", line 189, in train\n",
      "    bst = _train_internal(params, dtrain,\n",
      "  File \"/Users/raylinsoriano/anaconda3/lib/python3.8/site-packages/xgboost/training.py\", line 81, in _train_internal\n",
      "    bst.update(dtrain, i, obj)\n",
      "  File \"/Users/raylinsoriano/anaconda3/lib/python3.8/site-packages/xgboost/core.py\", line 1499, in update\n",
      "    _check_call(_LIB.XGBoosterUpdateOneIter(self.handle,\n",
      "  File \"/Users/raylinsoriano/anaconda3/lib/python3.8/site-packages/xgboost/core.py\", line 210, in _check_call\n",
      "    raise XGBoostError(py_str(_LIB.XGBGetLastError()))\n",
      "xgboost.core.XGBoostError: value 4 for Parameter colsample_bytree exceed bound [0,1]\n",
      "colsample_bytree: Subsample ratio of columns, resample on each tree construction.\n",
      "\n",
      "  warnings.warn(\"Estimator fit failed. The score on this train-test\"\n"
     ]
    },
    {
     "name": "stdout",
     "output_type": "stream",
     "text": [
      "[CV] END xgb__colsample_bytree=4, xgb__max_depth=15, xgb__min_child_weight=50; total time=   0.0s\n",
      "[CV] END xgb__colsample_bytree=4, xgb__max_depth=15, xgb__min_child_weight=50; total time=   0.0s\n",
      "[CV] END xgb__colsample_bytree=4, xgb__max_depth=20, xgb__min_child_weight=10; total time=   0.0s\n",
      "[CV] END xgb__colsample_bytree=4, xgb__max_depth=20, xgb__min_child_weight=10; total time=   0.0s\n",
      "[CV] END xgb__colsample_bytree=4, xgb__max_depth=20, xgb__min_child_weight=10; total time=   0.0s\n"
     ]
    },
    {
     "name": "stderr",
     "output_type": "stream",
     "text": [
      "/Users/raylinsoriano/anaconda3/lib/python3.8/site-packages/sklearn/model_selection/_validation.py:615: FitFailedWarning: Estimator fit failed. The score on this train-test partition for these parameters will be set to nan. Details: \n",
      "Traceback (most recent call last):\n",
      "  File \"/Users/raylinsoriano/anaconda3/lib/python3.8/site-packages/sklearn/model_selection/_validation.py\", line 598, in _fit_and_score\n",
      "    estimator.fit(X_train, y_train, **fit_params)\n",
      "  File \"/Users/raylinsoriano/anaconda3/lib/python3.8/site-packages/sklearn/pipeline.py\", line 346, in fit\n",
      "    self._final_estimator.fit(Xt, y, **fit_params_last_step)\n",
      "  File \"/Users/raylinsoriano/anaconda3/lib/python3.8/site-packages/xgboost/core.py\", line 436, in inner_f\n",
      "    return f(**kwargs)\n",
      "  File \"/Users/raylinsoriano/anaconda3/lib/python3.8/site-packages/xgboost/sklearn.py\", line 1176, in fit\n",
      "    self._Booster = train(\n",
      "  File \"/Users/raylinsoriano/anaconda3/lib/python3.8/site-packages/xgboost/training.py\", line 189, in train\n",
      "    bst = _train_internal(params, dtrain,\n",
      "  File \"/Users/raylinsoriano/anaconda3/lib/python3.8/site-packages/xgboost/training.py\", line 81, in _train_internal\n",
      "    bst.update(dtrain, i, obj)\n",
      "  File \"/Users/raylinsoriano/anaconda3/lib/python3.8/site-packages/xgboost/core.py\", line 1499, in update\n",
      "    _check_call(_LIB.XGBoosterUpdateOneIter(self.handle,\n",
      "  File \"/Users/raylinsoriano/anaconda3/lib/python3.8/site-packages/xgboost/core.py\", line 210, in _check_call\n",
      "    raise XGBoostError(py_str(_LIB.XGBGetLastError()))\n",
      "xgboost.core.XGBoostError: value 4 for Parameter colsample_bytree exceed bound [0,1]\n",
      "colsample_bytree: Subsample ratio of columns, resample on each tree construction.\n",
      "\n",
      "  warnings.warn(\"Estimator fit failed. The score on this train-test\"\n",
      "/Users/raylinsoriano/anaconda3/lib/python3.8/site-packages/sklearn/model_selection/_validation.py:615: FitFailedWarning: Estimator fit failed. The score on this train-test partition for these parameters will be set to nan. Details: \n",
      "Traceback (most recent call last):\n",
      "  File \"/Users/raylinsoriano/anaconda3/lib/python3.8/site-packages/sklearn/model_selection/_validation.py\", line 598, in _fit_and_score\n",
      "    estimator.fit(X_train, y_train, **fit_params)\n",
      "  File \"/Users/raylinsoriano/anaconda3/lib/python3.8/site-packages/sklearn/pipeline.py\", line 346, in fit\n",
      "    self._final_estimator.fit(Xt, y, **fit_params_last_step)\n",
      "  File \"/Users/raylinsoriano/anaconda3/lib/python3.8/site-packages/xgboost/core.py\", line 436, in inner_f\n",
      "    return f(**kwargs)\n",
      "  File \"/Users/raylinsoriano/anaconda3/lib/python3.8/site-packages/xgboost/sklearn.py\", line 1176, in fit\n",
      "    self._Booster = train(\n",
      "  File \"/Users/raylinsoriano/anaconda3/lib/python3.8/site-packages/xgboost/training.py\", line 189, in train\n",
      "    bst = _train_internal(params, dtrain,\n",
      "  File \"/Users/raylinsoriano/anaconda3/lib/python3.8/site-packages/xgboost/training.py\", line 81, in _train_internal\n",
      "    bst.update(dtrain, i, obj)\n",
      "  File \"/Users/raylinsoriano/anaconda3/lib/python3.8/site-packages/xgboost/core.py\", line 1499, in update\n",
      "    _check_call(_LIB.XGBoosterUpdateOneIter(self.handle,\n",
      "  File \"/Users/raylinsoriano/anaconda3/lib/python3.8/site-packages/xgboost/core.py\", line 210, in _check_call\n",
      "    raise XGBoostError(py_str(_LIB.XGBGetLastError()))\n",
      "xgboost.core.XGBoostError: value 4 for Parameter colsample_bytree exceed bound [0,1]\n",
      "colsample_bytree: Subsample ratio of columns, resample on each tree construction.\n",
      "\n",
      "  warnings.warn(\"Estimator fit failed. The score on this train-test\"\n",
      "/Users/raylinsoriano/anaconda3/lib/python3.8/site-packages/sklearn/model_selection/_validation.py:615: FitFailedWarning: Estimator fit failed. The score on this train-test partition for these parameters will be set to nan. Details: \n",
      "Traceback (most recent call last):\n",
      "  File \"/Users/raylinsoriano/anaconda3/lib/python3.8/site-packages/sklearn/model_selection/_validation.py\", line 598, in _fit_and_score\n",
      "    estimator.fit(X_train, y_train, **fit_params)\n",
      "  File \"/Users/raylinsoriano/anaconda3/lib/python3.8/site-packages/sklearn/pipeline.py\", line 346, in fit\n",
      "    self._final_estimator.fit(Xt, y, **fit_params_last_step)\n",
      "  File \"/Users/raylinsoriano/anaconda3/lib/python3.8/site-packages/xgboost/core.py\", line 436, in inner_f\n",
      "    return f(**kwargs)\n",
      "  File \"/Users/raylinsoriano/anaconda3/lib/python3.8/site-packages/xgboost/sklearn.py\", line 1176, in fit\n",
      "    self._Booster = train(\n",
      "  File \"/Users/raylinsoriano/anaconda3/lib/python3.8/site-packages/xgboost/training.py\", line 189, in train\n",
      "    bst = _train_internal(params, dtrain,\n",
      "  File \"/Users/raylinsoriano/anaconda3/lib/python3.8/site-packages/xgboost/training.py\", line 81, in _train_internal\n",
      "    bst.update(dtrain, i, obj)\n",
      "  File \"/Users/raylinsoriano/anaconda3/lib/python3.8/site-packages/xgboost/core.py\", line 1499, in update\n",
      "    _check_call(_LIB.XGBoosterUpdateOneIter(self.handle,\n",
      "  File \"/Users/raylinsoriano/anaconda3/lib/python3.8/site-packages/xgboost/core.py\", line 210, in _check_call\n",
      "    raise XGBoostError(py_str(_LIB.XGBGetLastError()))\n",
      "xgboost.core.XGBoostError: value 4 for Parameter colsample_bytree exceed bound [0,1]\n",
      "colsample_bytree: Subsample ratio of columns, resample on each tree construction.\n",
      "\n",
      "  warnings.warn(\"Estimator fit failed. The score on this train-test\"\n",
      "/Users/raylinsoriano/anaconda3/lib/python3.8/site-packages/sklearn/model_selection/_validation.py:615: FitFailedWarning: Estimator fit failed. The score on this train-test partition for these parameters will be set to nan. Details: \n",
      "Traceback (most recent call last):\n",
      "  File \"/Users/raylinsoriano/anaconda3/lib/python3.8/site-packages/sklearn/model_selection/_validation.py\", line 598, in _fit_and_score\n",
      "    estimator.fit(X_train, y_train, **fit_params)\n",
      "  File \"/Users/raylinsoriano/anaconda3/lib/python3.8/site-packages/sklearn/pipeline.py\", line 346, in fit\n",
      "    self._final_estimator.fit(Xt, y, **fit_params_last_step)\n",
      "  File \"/Users/raylinsoriano/anaconda3/lib/python3.8/site-packages/xgboost/core.py\", line 436, in inner_f\n",
      "    return f(**kwargs)\n",
      "  File \"/Users/raylinsoriano/anaconda3/lib/python3.8/site-packages/xgboost/sklearn.py\", line 1176, in fit\n",
      "    self._Booster = train(\n",
      "  File \"/Users/raylinsoriano/anaconda3/lib/python3.8/site-packages/xgboost/training.py\", line 189, in train\n",
      "    bst = _train_internal(params, dtrain,\n",
      "  File \"/Users/raylinsoriano/anaconda3/lib/python3.8/site-packages/xgboost/training.py\", line 81, in _train_internal\n",
      "    bst.update(dtrain, i, obj)\n",
      "  File \"/Users/raylinsoriano/anaconda3/lib/python3.8/site-packages/xgboost/core.py\", line 1499, in update\n",
      "    _check_call(_LIB.XGBoosterUpdateOneIter(self.handle,\n",
      "  File \"/Users/raylinsoriano/anaconda3/lib/python3.8/site-packages/xgboost/core.py\", line 210, in _check_call\n",
      "    raise XGBoostError(py_str(_LIB.XGBGetLastError()))\n",
      "xgboost.core.XGBoostError: value 4 for Parameter colsample_bytree exceed bound [0,1]\n",
      "colsample_bytree: Subsample ratio of columns, resample on each tree construction.\n",
      "\n",
      "  warnings.warn(\"Estimator fit failed. The score on this train-test\"\n",
      "/Users/raylinsoriano/anaconda3/lib/python3.8/site-packages/sklearn/model_selection/_validation.py:615: FitFailedWarning: Estimator fit failed. The score on this train-test partition for these parameters will be set to nan. Details: \n",
      "Traceback (most recent call last):\n",
      "  File \"/Users/raylinsoriano/anaconda3/lib/python3.8/site-packages/sklearn/model_selection/_validation.py\", line 598, in _fit_and_score\n",
      "    estimator.fit(X_train, y_train, **fit_params)\n",
      "  File \"/Users/raylinsoriano/anaconda3/lib/python3.8/site-packages/sklearn/pipeline.py\", line 346, in fit\n",
      "    self._final_estimator.fit(Xt, y, **fit_params_last_step)\n",
      "  File \"/Users/raylinsoriano/anaconda3/lib/python3.8/site-packages/xgboost/core.py\", line 436, in inner_f\n",
      "    return f(**kwargs)\n",
      "  File \"/Users/raylinsoriano/anaconda3/lib/python3.8/site-packages/xgboost/sklearn.py\", line 1176, in fit\n",
      "    self._Booster = train(\n",
      "  File \"/Users/raylinsoriano/anaconda3/lib/python3.8/site-packages/xgboost/training.py\", line 189, in train\n",
      "    bst = _train_internal(params, dtrain,\n",
      "  File \"/Users/raylinsoriano/anaconda3/lib/python3.8/site-packages/xgboost/training.py\", line 81, in _train_internal\n",
      "    bst.update(dtrain, i, obj)\n",
      "  File \"/Users/raylinsoriano/anaconda3/lib/python3.8/site-packages/xgboost/core.py\", line 1499, in update\n",
      "    _check_call(_LIB.XGBoosterUpdateOneIter(self.handle,\n",
      "  File \"/Users/raylinsoriano/anaconda3/lib/python3.8/site-packages/xgboost/core.py\", line 210, in _check_call\n",
      "    raise XGBoostError(py_str(_LIB.XGBGetLastError()))\n",
      "xgboost.core.XGBoostError: value 4 for Parameter colsample_bytree exceed bound [0,1]\n",
      "colsample_bytree: Subsample ratio of columns, resample on each tree construction.\n",
      "\n",
      "  warnings.warn(\"Estimator fit failed. The score on this train-test\"\n"
     ]
    },
    {
     "name": "stdout",
     "output_type": "stream",
     "text": [
      "[CV] END xgb__colsample_bytree=4, xgb__max_depth=20, xgb__min_child_weight=10; total time=   0.0s\n",
      "[CV] END xgb__colsample_bytree=4, xgb__max_depth=20, xgb__min_child_weight=10; total time=   0.0s\n",
      "[CV] END xgb__colsample_bytree=4, xgb__max_depth=20, xgb__min_child_weight=25; total time=   0.0s\n",
      "[CV] END xgb__colsample_bytree=4, xgb__max_depth=20, xgb__min_child_weight=25; total time=   0.0s\n",
      "[CV] END xgb__colsample_bytree=4, xgb__max_depth=20, xgb__min_child_weight=25; total time=   0.0s\n"
     ]
    },
    {
     "name": "stderr",
     "output_type": "stream",
     "text": [
      "/Users/raylinsoriano/anaconda3/lib/python3.8/site-packages/sklearn/model_selection/_validation.py:615: FitFailedWarning: Estimator fit failed. The score on this train-test partition for these parameters will be set to nan. Details: \n",
      "Traceback (most recent call last):\n",
      "  File \"/Users/raylinsoriano/anaconda3/lib/python3.8/site-packages/sklearn/model_selection/_validation.py\", line 598, in _fit_and_score\n",
      "    estimator.fit(X_train, y_train, **fit_params)\n",
      "  File \"/Users/raylinsoriano/anaconda3/lib/python3.8/site-packages/sklearn/pipeline.py\", line 346, in fit\n",
      "    self._final_estimator.fit(Xt, y, **fit_params_last_step)\n",
      "  File \"/Users/raylinsoriano/anaconda3/lib/python3.8/site-packages/xgboost/core.py\", line 436, in inner_f\n",
      "    return f(**kwargs)\n",
      "  File \"/Users/raylinsoriano/anaconda3/lib/python3.8/site-packages/xgboost/sklearn.py\", line 1176, in fit\n",
      "    self._Booster = train(\n",
      "  File \"/Users/raylinsoriano/anaconda3/lib/python3.8/site-packages/xgboost/training.py\", line 189, in train\n",
      "    bst = _train_internal(params, dtrain,\n",
      "  File \"/Users/raylinsoriano/anaconda3/lib/python3.8/site-packages/xgboost/training.py\", line 81, in _train_internal\n",
      "    bst.update(dtrain, i, obj)\n",
      "  File \"/Users/raylinsoriano/anaconda3/lib/python3.8/site-packages/xgboost/core.py\", line 1499, in update\n",
      "    _check_call(_LIB.XGBoosterUpdateOneIter(self.handle,\n",
      "  File \"/Users/raylinsoriano/anaconda3/lib/python3.8/site-packages/xgboost/core.py\", line 210, in _check_call\n",
      "    raise XGBoostError(py_str(_LIB.XGBGetLastError()))\n",
      "xgboost.core.XGBoostError: value 4 for Parameter colsample_bytree exceed bound [0,1]\n",
      "colsample_bytree: Subsample ratio of columns, resample on each tree construction.\n",
      "\n",
      "  warnings.warn(\"Estimator fit failed. The score on this train-test\"\n",
      "/Users/raylinsoriano/anaconda3/lib/python3.8/site-packages/sklearn/model_selection/_validation.py:615: FitFailedWarning: Estimator fit failed. The score on this train-test partition for these parameters will be set to nan. Details: \n",
      "Traceback (most recent call last):\n",
      "  File \"/Users/raylinsoriano/anaconda3/lib/python3.8/site-packages/sklearn/model_selection/_validation.py\", line 598, in _fit_and_score\n",
      "    estimator.fit(X_train, y_train, **fit_params)\n",
      "  File \"/Users/raylinsoriano/anaconda3/lib/python3.8/site-packages/sklearn/pipeline.py\", line 346, in fit\n",
      "    self._final_estimator.fit(Xt, y, **fit_params_last_step)\n",
      "  File \"/Users/raylinsoriano/anaconda3/lib/python3.8/site-packages/xgboost/core.py\", line 436, in inner_f\n",
      "    return f(**kwargs)\n",
      "  File \"/Users/raylinsoriano/anaconda3/lib/python3.8/site-packages/xgboost/sklearn.py\", line 1176, in fit\n",
      "    self._Booster = train(\n",
      "  File \"/Users/raylinsoriano/anaconda3/lib/python3.8/site-packages/xgboost/training.py\", line 189, in train\n",
      "    bst = _train_internal(params, dtrain,\n",
      "  File \"/Users/raylinsoriano/anaconda3/lib/python3.8/site-packages/xgboost/training.py\", line 81, in _train_internal\n",
      "    bst.update(dtrain, i, obj)\n",
      "  File \"/Users/raylinsoriano/anaconda3/lib/python3.8/site-packages/xgboost/core.py\", line 1499, in update\n",
      "    _check_call(_LIB.XGBoosterUpdateOneIter(self.handle,\n",
      "  File \"/Users/raylinsoriano/anaconda3/lib/python3.8/site-packages/xgboost/core.py\", line 210, in _check_call\n",
      "    raise XGBoostError(py_str(_LIB.XGBGetLastError()))\n",
      "xgboost.core.XGBoostError: value 4 for Parameter colsample_bytree exceed bound [0,1]\n",
      "colsample_bytree: Subsample ratio of columns, resample on each tree construction.\n",
      "\n",
      "  warnings.warn(\"Estimator fit failed. The score on this train-test\"\n",
      "/Users/raylinsoriano/anaconda3/lib/python3.8/site-packages/sklearn/model_selection/_validation.py:615: FitFailedWarning: Estimator fit failed. The score on this train-test partition for these parameters will be set to nan. Details: \n",
      "Traceback (most recent call last):\n",
      "  File \"/Users/raylinsoriano/anaconda3/lib/python3.8/site-packages/sklearn/model_selection/_validation.py\", line 598, in _fit_and_score\n",
      "    estimator.fit(X_train, y_train, **fit_params)\n",
      "  File \"/Users/raylinsoriano/anaconda3/lib/python3.8/site-packages/sklearn/pipeline.py\", line 346, in fit\n",
      "    self._final_estimator.fit(Xt, y, **fit_params_last_step)\n",
      "  File \"/Users/raylinsoriano/anaconda3/lib/python3.8/site-packages/xgboost/core.py\", line 436, in inner_f\n",
      "    return f(**kwargs)\n",
      "  File \"/Users/raylinsoriano/anaconda3/lib/python3.8/site-packages/xgboost/sklearn.py\", line 1176, in fit\n",
      "    self._Booster = train(\n",
      "  File \"/Users/raylinsoriano/anaconda3/lib/python3.8/site-packages/xgboost/training.py\", line 189, in train\n",
      "    bst = _train_internal(params, dtrain,\n",
      "  File \"/Users/raylinsoriano/anaconda3/lib/python3.8/site-packages/xgboost/training.py\", line 81, in _train_internal\n",
      "    bst.update(dtrain, i, obj)\n",
      "  File \"/Users/raylinsoriano/anaconda3/lib/python3.8/site-packages/xgboost/core.py\", line 1499, in update\n",
      "    _check_call(_LIB.XGBoosterUpdateOneIter(self.handle,\n",
      "  File \"/Users/raylinsoriano/anaconda3/lib/python3.8/site-packages/xgboost/core.py\", line 210, in _check_call\n",
      "    raise XGBoostError(py_str(_LIB.XGBGetLastError()))\n",
      "xgboost.core.XGBoostError: value 4 for Parameter colsample_bytree exceed bound [0,1]\n",
      "colsample_bytree: Subsample ratio of columns, resample on each tree construction.\n",
      "\n",
      "  warnings.warn(\"Estimator fit failed. The score on this train-test\"\n",
      "/Users/raylinsoriano/anaconda3/lib/python3.8/site-packages/sklearn/model_selection/_validation.py:615: FitFailedWarning: Estimator fit failed. The score on this train-test partition for these parameters will be set to nan. Details: \n",
      "Traceback (most recent call last):\n",
      "  File \"/Users/raylinsoriano/anaconda3/lib/python3.8/site-packages/sklearn/model_selection/_validation.py\", line 598, in _fit_and_score\n",
      "    estimator.fit(X_train, y_train, **fit_params)\n",
      "  File \"/Users/raylinsoriano/anaconda3/lib/python3.8/site-packages/sklearn/pipeline.py\", line 346, in fit\n",
      "    self._final_estimator.fit(Xt, y, **fit_params_last_step)\n",
      "  File \"/Users/raylinsoriano/anaconda3/lib/python3.8/site-packages/xgboost/core.py\", line 436, in inner_f\n",
      "    return f(**kwargs)\n",
      "  File \"/Users/raylinsoriano/anaconda3/lib/python3.8/site-packages/xgboost/sklearn.py\", line 1176, in fit\n",
      "    self._Booster = train(\n",
      "  File \"/Users/raylinsoriano/anaconda3/lib/python3.8/site-packages/xgboost/training.py\", line 189, in train\n",
      "    bst = _train_internal(params, dtrain,\n",
      "  File \"/Users/raylinsoriano/anaconda3/lib/python3.8/site-packages/xgboost/training.py\", line 81, in _train_internal\n",
      "    bst.update(dtrain, i, obj)\n",
      "  File \"/Users/raylinsoriano/anaconda3/lib/python3.8/site-packages/xgboost/core.py\", line 1499, in update\n",
      "    _check_call(_LIB.XGBoosterUpdateOneIter(self.handle,\n",
      "  File \"/Users/raylinsoriano/anaconda3/lib/python3.8/site-packages/xgboost/core.py\", line 210, in _check_call\n",
      "    raise XGBoostError(py_str(_LIB.XGBGetLastError()))\n",
      "xgboost.core.XGBoostError: value 4 for Parameter colsample_bytree exceed bound [0,1]\n",
      "colsample_bytree: Subsample ratio of columns, resample on each tree construction.\n",
      "\n",
      "  warnings.warn(\"Estimator fit failed. The score on this train-test\"\n",
      "/Users/raylinsoriano/anaconda3/lib/python3.8/site-packages/sklearn/model_selection/_validation.py:615: FitFailedWarning: Estimator fit failed. The score on this train-test partition for these parameters will be set to nan. Details: \n",
      "Traceback (most recent call last):\n",
      "  File \"/Users/raylinsoriano/anaconda3/lib/python3.8/site-packages/sklearn/model_selection/_validation.py\", line 598, in _fit_and_score\n",
      "    estimator.fit(X_train, y_train, **fit_params)\n",
      "  File \"/Users/raylinsoriano/anaconda3/lib/python3.8/site-packages/sklearn/pipeline.py\", line 346, in fit\n",
      "    self._final_estimator.fit(Xt, y, **fit_params_last_step)\n",
      "  File \"/Users/raylinsoriano/anaconda3/lib/python3.8/site-packages/xgboost/core.py\", line 436, in inner_f\n",
      "    return f(**kwargs)\n",
      "  File \"/Users/raylinsoriano/anaconda3/lib/python3.8/site-packages/xgboost/sklearn.py\", line 1176, in fit\n",
      "    self._Booster = train(\n",
      "  File \"/Users/raylinsoriano/anaconda3/lib/python3.8/site-packages/xgboost/training.py\", line 189, in train\n",
      "    bst = _train_internal(params, dtrain,\n",
      "  File \"/Users/raylinsoriano/anaconda3/lib/python3.8/site-packages/xgboost/training.py\", line 81, in _train_internal\n",
      "    bst.update(dtrain, i, obj)\n",
      "  File \"/Users/raylinsoriano/anaconda3/lib/python3.8/site-packages/xgboost/core.py\", line 1499, in update\n",
      "    _check_call(_LIB.XGBoosterUpdateOneIter(self.handle,\n",
      "  File \"/Users/raylinsoriano/anaconda3/lib/python3.8/site-packages/xgboost/core.py\", line 210, in _check_call\n",
      "    raise XGBoostError(py_str(_LIB.XGBGetLastError()))\n",
      "xgboost.core.XGBoostError: value 4 for Parameter colsample_bytree exceed bound [0,1]\n",
      "colsample_bytree: Subsample ratio of columns, resample on each tree construction.\n",
      "\n",
      "  warnings.warn(\"Estimator fit failed. The score on this train-test\"\n"
     ]
    },
    {
     "name": "stdout",
     "output_type": "stream",
     "text": [
      "[CV] END xgb__colsample_bytree=4, xgb__max_depth=20, xgb__min_child_weight=25; total time=   0.0s\n",
      "[CV] END xgb__colsample_bytree=4, xgb__max_depth=20, xgb__min_child_weight=25; total time=   0.0s\n",
      "[CV] END xgb__colsample_bytree=4, xgb__max_depth=20, xgb__min_child_weight=50; total time=   0.1s\n",
      "[CV] END xgb__colsample_bytree=4, xgb__max_depth=20, xgb__min_child_weight=50; total time=   0.0s\n"
     ]
    },
    {
     "name": "stderr",
     "output_type": "stream",
     "text": [
      "/Users/raylinsoriano/anaconda3/lib/python3.8/site-packages/sklearn/model_selection/_validation.py:615: FitFailedWarning: Estimator fit failed. The score on this train-test partition for these parameters will be set to nan. Details: \n",
      "Traceback (most recent call last):\n",
      "  File \"/Users/raylinsoriano/anaconda3/lib/python3.8/site-packages/sklearn/model_selection/_validation.py\", line 598, in _fit_and_score\n",
      "    estimator.fit(X_train, y_train, **fit_params)\n",
      "  File \"/Users/raylinsoriano/anaconda3/lib/python3.8/site-packages/sklearn/pipeline.py\", line 346, in fit\n",
      "    self._final_estimator.fit(Xt, y, **fit_params_last_step)\n",
      "  File \"/Users/raylinsoriano/anaconda3/lib/python3.8/site-packages/xgboost/core.py\", line 436, in inner_f\n",
      "    return f(**kwargs)\n",
      "  File \"/Users/raylinsoriano/anaconda3/lib/python3.8/site-packages/xgboost/sklearn.py\", line 1176, in fit\n",
      "    self._Booster = train(\n",
      "  File \"/Users/raylinsoriano/anaconda3/lib/python3.8/site-packages/xgboost/training.py\", line 189, in train\n",
      "    bst = _train_internal(params, dtrain,\n",
      "  File \"/Users/raylinsoriano/anaconda3/lib/python3.8/site-packages/xgboost/training.py\", line 81, in _train_internal\n",
      "    bst.update(dtrain, i, obj)\n",
      "  File \"/Users/raylinsoriano/anaconda3/lib/python3.8/site-packages/xgboost/core.py\", line 1499, in update\n",
      "    _check_call(_LIB.XGBoosterUpdateOneIter(self.handle,\n",
      "  File \"/Users/raylinsoriano/anaconda3/lib/python3.8/site-packages/xgboost/core.py\", line 210, in _check_call\n",
      "    raise XGBoostError(py_str(_LIB.XGBGetLastError()))\n",
      "xgboost.core.XGBoostError: value 4 for Parameter colsample_bytree exceed bound [0,1]\n",
      "colsample_bytree: Subsample ratio of columns, resample on each tree construction.\n",
      "\n",
      "  warnings.warn(\"Estimator fit failed. The score on this train-test\"\n",
      "/Users/raylinsoriano/anaconda3/lib/python3.8/site-packages/sklearn/model_selection/_validation.py:615: FitFailedWarning: Estimator fit failed. The score on this train-test partition for these parameters will be set to nan. Details: \n",
      "Traceback (most recent call last):\n",
      "  File \"/Users/raylinsoriano/anaconda3/lib/python3.8/site-packages/sklearn/model_selection/_validation.py\", line 598, in _fit_and_score\n",
      "    estimator.fit(X_train, y_train, **fit_params)\n",
      "  File \"/Users/raylinsoriano/anaconda3/lib/python3.8/site-packages/sklearn/pipeline.py\", line 346, in fit\n",
      "    self._final_estimator.fit(Xt, y, **fit_params_last_step)\n",
      "  File \"/Users/raylinsoriano/anaconda3/lib/python3.8/site-packages/xgboost/core.py\", line 436, in inner_f\n",
      "    return f(**kwargs)\n",
      "  File \"/Users/raylinsoriano/anaconda3/lib/python3.8/site-packages/xgboost/sklearn.py\", line 1176, in fit\n",
      "    self._Booster = train(\n",
      "  File \"/Users/raylinsoriano/anaconda3/lib/python3.8/site-packages/xgboost/training.py\", line 189, in train\n",
      "    bst = _train_internal(params, dtrain,\n",
      "  File \"/Users/raylinsoriano/anaconda3/lib/python3.8/site-packages/xgboost/training.py\", line 81, in _train_internal\n",
      "    bst.update(dtrain, i, obj)\n",
      "  File \"/Users/raylinsoriano/anaconda3/lib/python3.8/site-packages/xgboost/core.py\", line 1499, in update\n",
      "    _check_call(_LIB.XGBoosterUpdateOneIter(self.handle,\n",
      "  File \"/Users/raylinsoriano/anaconda3/lib/python3.8/site-packages/xgboost/core.py\", line 210, in _check_call\n",
      "    raise XGBoostError(py_str(_LIB.XGBGetLastError()))\n",
      "xgboost.core.XGBoostError: value 4 for Parameter colsample_bytree exceed bound [0,1]\n",
      "colsample_bytree: Subsample ratio of columns, resample on each tree construction.\n",
      "\n",
      "  warnings.warn(\"Estimator fit failed. The score on this train-test\"\n",
      "/Users/raylinsoriano/anaconda3/lib/python3.8/site-packages/sklearn/model_selection/_validation.py:615: FitFailedWarning: Estimator fit failed. The score on this train-test partition for these parameters will be set to nan. Details: \n",
      "Traceback (most recent call last):\n",
      "  File \"/Users/raylinsoriano/anaconda3/lib/python3.8/site-packages/sklearn/model_selection/_validation.py\", line 598, in _fit_and_score\n",
      "    estimator.fit(X_train, y_train, **fit_params)\n",
      "  File \"/Users/raylinsoriano/anaconda3/lib/python3.8/site-packages/sklearn/pipeline.py\", line 346, in fit\n",
      "    self._final_estimator.fit(Xt, y, **fit_params_last_step)\n",
      "  File \"/Users/raylinsoriano/anaconda3/lib/python3.8/site-packages/xgboost/core.py\", line 436, in inner_f\n",
      "    return f(**kwargs)\n",
      "  File \"/Users/raylinsoriano/anaconda3/lib/python3.8/site-packages/xgboost/sklearn.py\", line 1176, in fit\n",
      "    self._Booster = train(\n",
      "  File \"/Users/raylinsoriano/anaconda3/lib/python3.8/site-packages/xgboost/training.py\", line 189, in train\n",
      "    bst = _train_internal(params, dtrain,\n",
      "  File \"/Users/raylinsoriano/anaconda3/lib/python3.8/site-packages/xgboost/training.py\", line 81, in _train_internal\n",
      "    bst.update(dtrain, i, obj)\n",
      "  File \"/Users/raylinsoriano/anaconda3/lib/python3.8/site-packages/xgboost/core.py\", line 1499, in update\n",
      "    _check_call(_LIB.XGBoosterUpdateOneIter(self.handle,\n",
      "  File \"/Users/raylinsoriano/anaconda3/lib/python3.8/site-packages/xgboost/core.py\", line 210, in _check_call\n",
      "    raise XGBoostError(py_str(_LIB.XGBGetLastError()))\n",
      "xgboost.core.XGBoostError: value 4 for Parameter colsample_bytree exceed bound [0,1]\n",
      "colsample_bytree: Subsample ratio of columns, resample on each tree construction.\n",
      "\n",
      "  warnings.warn(\"Estimator fit failed. The score on this train-test\"\n",
      "/Users/raylinsoriano/anaconda3/lib/python3.8/site-packages/sklearn/model_selection/_validation.py:615: FitFailedWarning: Estimator fit failed. The score on this train-test partition for these parameters will be set to nan. Details: \n",
      "Traceback (most recent call last):\n",
      "  File \"/Users/raylinsoriano/anaconda3/lib/python3.8/site-packages/sklearn/model_selection/_validation.py\", line 598, in _fit_and_score\n",
      "    estimator.fit(X_train, y_train, **fit_params)\n",
      "  File \"/Users/raylinsoriano/anaconda3/lib/python3.8/site-packages/sklearn/pipeline.py\", line 346, in fit\n",
      "    self._final_estimator.fit(Xt, y, **fit_params_last_step)\n",
      "  File \"/Users/raylinsoriano/anaconda3/lib/python3.8/site-packages/xgboost/core.py\", line 436, in inner_f\n",
      "    return f(**kwargs)\n",
      "  File \"/Users/raylinsoriano/anaconda3/lib/python3.8/site-packages/xgboost/sklearn.py\", line 1176, in fit\n",
      "    self._Booster = train(\n",
      "  File \"/Users/raylinsoriano/anaconda3/lib/python3.8/site-packages/xgboost/training.py\", line 189, in train\n",
      "    bst = _train_internal(params, dtrain,\n",
      "  File \"/Users/raylinsoriano/anaconda3/lib/python3.8/site-packages/xgboost/training.py\", line 81, in _train_internal\n",
      "    bst.update(dtrain, i, obj)\n",
      "  File \"/Users/raylinsoriano/anaconda3/lib/python3.8/site-packages/xgboost/core.py\", line 1499, in update\n",
      "    _check_call(_LIB.XGBoosterUpdateOneIter(self.handle,\n",
      "  File \"/Users/raylinsoriano/anaconda3/lib/python3.8/site-packages/xgboost/core.py\", line 210, in _check_call\n",
      "    raise XGBoostError(py_str(_LIB.XGBGetLastError()))\n",
      "xgboost.core.XGBoostError: value 4 for Parameter colsample_bytree exceed bound [0,1]\n",
      "colsample_bytree: Subsample ratio of columns, resample on each tree construction.\n",
      "\n",
      "  warnings.warn(\"Estimator fit failed. The score on this train-test\"\n",
      "/Users/raylinsoriano/anaconda3/lib/python3.8/site-packages/sklearn/model_selection/_validation.py:615: FitFailedWarning: Estimator fit failed. The score on this train-test partition for these parameters will be set to nan. Details: \n",
      "Traceback (most recent call last):\n",
      "  File \"/Users/raylinsoriano/anaconda3/lib/python3.8/site-packages/sklearn/model_selection/_validation.py\", line 598, in _fit_and_score\n",
      "    estimator.fit(X_train, y_train, **fit_params)\n",
      "  File \"/Users/raylinsoriano/anaconda3/lib/python3.8/site-packages/sklearn/pipeline.py\", line 346, in fit\n",
      "    self._final_estimator.fit(Xt, y, **fit_params_last_step)\n",
      "  File \"/Users/raylinsoriano/anaconda3/lib/python3.8/site-packages/xgboost/core.py\", line 436, in inner_f\n",
      "    return f(**kwargs)\n",
      "  File \"/Users/raylinsoriano/anaconda3/lib/python3.8/site-packages/xgboost/sklearn.py\", line 1176, in fit\n",
      "    self._Booster = train(\n",
      "  File \"/Users/raylinsoriano/anaconda3/lib/python3.8/site-packages/xgboost/training.py\", line 189, in train\n",
      "    bst = _train_internal(params, dtrain,\n",
      "  File \"/Users/raylinsoriano/anaconda3/lib/python3.8/site-packages/xgboost/training.py\", line 81, in _train_internal\n",
      "    bst.update(dtrain, i, obj)\n",
      "  File \"/Users/raylinsoriano/anaconda3/lib/python3.8/site-packages/xgboost/core.py\", line 1499, in update\n",
      "    _check_call(_LIB.XGBoosterUpdateOneIter(self.handle,\n",
      "  File \"/Users/raylinsoriano/anaconda3/lib/python3.8/site-packages/xgboost/core.py\", line 210, in _check_call\n",
      "    raise XGBoostError(py_str(_LIB.XGBGetLastError()))\n",
      "xgboost.core.XGBoostError: value 4 for Parameter colsample_bytree exceed bound [0,1]\n",
      "colsample_bytree: Subsample ratio of columns, resample on each tree construction.\n",
      "\n",
      "  warnings.warn(\"Estimator fit failed. The score on this train-test\"\n",
      "/Users/raylinsoriano/anaconda3/lib/python3.8/site-packages/sklearn/model_selection/_search.py:922: UserWarning: One or more of the test scores are non-finite: [0.43710239 0.48467276 0.48960993 0.43837058 0.46841057 0.48510165\n",
      " 0.43718599 0.47158661 0.48510165        nan        nan        nan\n",
      "        nan        nan        nan        nan        nan        nan\n",
      "        nan        nan        nan        nan        nan        nan\n",
      "        nan        nan        nan        nan        nan        nan\n",
      "        nan        nan        nan        nan        nan        nan]\n",
      "  warnings.warn(\n",
      "/Users/raylinsoriano/anaconda3/lib/python3.8/site-packages/sklearn/model_selection/_search.py:922: UserWarning: One or more of the train scores are non-finite: [0.96287735 0.90661877 0.82619509 0.99108007 0.94196288 0.82691597\n",
      " 0.99803402 0.94470511 0.82691597        nan        nan        nan\n",
      "        nan        nan        nan        nan        nan        nan\n",
      "        nan        nan        nan        nan        nan        nan\n",
      "        nan        nan        nan        nan        nan        nan\n",
      "        nan        nan        nan        nan        nan        nan]\n",
      "  warnings.warn(\n"
     ]
    },
    {
     "name": "stdout",
     "output_type": "stream",
     "text": [
      "[CV] END xgb__colsample_bytree=4, xgb__max_depth=20, xgb__min_child_weight=50; total time=   0.0s\n",
      "[CV] END xgb__colsample_bytree=4, xgb__max_depth=20, xgb__min_child_weight=50; total time=   0.0s\n",
      "[CV] END xgb__colsample_bytree=4, xgb__max_depth=20, xgb__min_child_weight=50; total time=   0.0s\n"
     ]
    },
    {
     "data": {
      "text/plain": [
       "GridSearchCV(estimator=Pipeline(steps=[('xgb',\n",
       "                                        XGBClassifier(base_score=0.5,\n",
       "                                                      booster='gbtree',\n",
       "                                                      colsample_bylevel=1,\n",
       "                                                      colsample_bynode=1,\n",
       "                                                      colsample_bytree=1,\n",
       "                                                      eval_metric='logloss',\n",
       "                                                      gamma=0, gpu_id=-1,\n",
       "                                                      importance_type='gain',\n",
       "                                                      interaction_constraints='',\n",
       "                                                      learning_rate=0.300000012,\n",
       "                                                      max_delta_step=0,\n",
       "                                                      max_depth=6,\n",
       "                                                      min_child_weight=1,\n",
       "                                                      missing=nan,\n",
       "                                                      monotone_constraints='()',\n",
       "                                                      n_estimators=100,\n",
       "                                                      n_jobs=4,\n",
       "                                                      num_parallel_tree=1,\n",
       "                                                      random_state=0,\n",
       "                                                      reg_alpha=0, reg_lambda=1,\n",
       "                                                      scale_pos_weight=1,\n",
       "                                                      subsample=1,\n",
       "                                                      tree_method='exact',\n",
       "                                                      use_label_encoder=False,\n",
       "                                                      validate_parameters=1,\n",
       "                                                      verbosity=None))]),\n",
       "             param_grid={'xgb__colsample_bytree': [1, 2, 3, 4],\n",
       "                         'xgb__max_depth': [10, 15, 20],\n",
       "                         'xgb__min_child_weight': [10, 25, 50]},\n",
       "             return_train_score=True, scoring='precision', verbose=2)"
      ]
     },
     "execution_count": 84,
     "metadata": {},
     "output_type": "execute_result"
    }
   ],
   "source": [
    "gridsearch3.fit(df_train, y_train)\n"
   ]
  },
  {
   "cell_type": "code",
   "execution_count": 86,
   "id": "17950785",
   "metadata": {},
   "outputs": [
    {
     "name": "stdout",
     "output_type": "stream",
     "text": [
      "gridsearch best parameters: {'xgb__colsample_bytree': 1, 'xgb__max_depth': 10, 'xgb__min_child_weight': 50}\n",
      "gridsearch best score: 0.4896099266152742\n"
     ]
    }
   ],
   "source": [
    "print('gridsearch best parameters: {}'.format(gridsearch3.best_params_))\n",
    "print('gridsearch best score: {}'.format(gridsearch3.best_score_))"
   ]
  },
  {
   "cell_type": "code",
   "execution_count": 87,
   "id": "96ed45ae",
   "metadata": {},
   "outputs": [
    {
     "data": {
      "text/plain": [
       "Pipeline(steps=[('xgb',\n",
       "                 XGBClassifier(base_score=0.5, booster='gbtree',\n",
       "                               colsample_bylevel=1, colsample_bynode=1,\n",
       "                               colsample_bytree=1, eval_metric='logloss',\n",
       "                               gamma=0, gpu_id=-1, importance_type='gain',\n",
       "                               interaction_constraints='',\n",
       "                               learning_rate=0.300000012, max_delta_step=0,\n",
       "                               max_depth=10, min_child_weight=50, missing=nan,\n",
       "                               monotone_constraints='()', n_estimators=100,\n",
       "                               n_jobs=4, num_parallel_tree=1, random_state=0,\n",
       "                               reg_alpha=0, reg_lambda=1, scale_pos_weight=1,\n",
       "                               subsample=1, tree_method='exact',\n",
       "                               use_label_encoder=False, validate_parameters=1,\n",
       "                               verbosity=None))])"
      ]
     },
     "execution_count": 87,
     "metadata": {},
     "output_type": "execute_result"
    }
   ],
   "source": [
    "xgb_pipe2 = Pipeline([('xgb', XGBClassifier(colsample_bytree= 1, max_depth= 10, min_child_weight= 50, \n",
    "                                            eval_metric='logloss', use_label_encoder=False))\n",
    "                    ])\n",
    "\n",
    "\n",
    "xgb_pipe2.fit(df_train, y_train)"
   ]
  },
  {
   "cell_type": "code",
   "execution_count": 88,
   "id": "a63c5535",
   "metadata": {},
   "outputs": [
    {
     "name": "stdout",
     "output_type": "stream",
     "text": [
      "[0.95869634 0.95810951 0.95919473 0.95955584 0.95878848]\n",
      "Training Accuracy 0.9588689790182379\n",
      "##############\n",
      "Cross_Val Accuracy 0.9588689790182379\n",
      "##############\n",
      "Training Precision: 0.826195092889465\n",
      "##############\n",
      "Training  Recall: 0.3644461004691165\n",
      "##############\n",
      "Training  F1: 0.5056639206183315\n"
     ]
    }
   ],
   "source": [
    "print_cv_scores(xgb_pipe2, df_train, y_train)\n"
   ]
  },
  {
   "cell_type": "markdown",
   "id": "5b136369",
   "metadata": {},
   "source": [
    "Using the parameters from the gridsearch, the model preformed very well with an accuracy score of 95% and a precision score of 83%. This is an 20% increase from my best logisitc regression model. "
   ]
  },
  {
   "cell_type": "markdown",
   "id": "3fd86ee3",
   "metadata": {},
   "source": [
    "#### XGBoost with Standard Scaler"
   ]
  },
  {
   "cell_type": "code",
   "execution_count": 159,
   "id": "4141fcc8",
   "metadata": {},
   "outputs": [
    {
     "data": {
      "text/plain": [
       "Pipeline(steps=[('ss', StandardScaler()),\n",
       "                ('xgb',\n",
       "                 XGBClassifier(base_score=0.5, booster='gbtree',\n",
       "                               colsample_bylevel=1, colsample_bynode=1,\n",
       "                               colsample_bytree=1, eval_metric='logloss',\n",
       "                               gamma=0, gpu_id=-1, importance_type='gain',\n",
       "                               interaction_constraints='',\n",
       "                               learning_rate=0.300000012, max_delta_step=0,\n",
       "                               max_depth=10, min_child_weight=50, missing=nan,\n",
       "                               monotone_constraints='()', n_estimators=100,\n",
       "                               n_jobs=4, num_parallel_tree=1, random_state=0,\n",
       "                               reg_alpha=0, reg_lambda=1, scale_pos_weight=1,\n",
       "                               subsample=1, tree_method='exact',\n",
       "                               use_label_encoder=False, validate_parameters=1,\n",
       "                               verbosity=None))])"
      ]
     },
     "execution_count": 159,
     "metadata": {},
     "output_type": "execute_result"
    }
   ],
   "source": [
    "xgb_pipe_ss = Pipeline([('ss', StandardScaler()),\n",
    "                        ('xgb', XGBClassifier(objective='binary:logistic',use_label_encoder=False, \n",
    "                                              eval_metric='logloss', colsample_bytree= 1, max_depth= 10, \n",
    "                                              min_child_weight= 50,))\n",
    "                    ])\n",
    "xgb_pipe_ss.fit(df_train,y_train)"
   ]
  },
  {
   "cell_type": "code",
   "execution_count": 160,
   "id": "cdbf3d3c",
   "metadata": {},
   "outputs": [
    {
     "name": "stdout",
     "output_type": "stream",
     "text": [
      "[0.95869634 0.95810951 0.95919473 0.95955584 0.95878848]\n",
      "Training Accuracy 0.9588689790182379\n",
      "##############\n",
      "Cross_Val Accuracy 0.9588689790182379\n",
      "##############\n",
      "Training Precision: 0.826195092889465\n",
      "##############\n",
      "Training  Recall: 0.3644461004691165\n",
      "##############\n",
      "Training  F1: 0.5056639206183315\n"
     ]
    }
   ],
   "source": [
    "print_cv_scores(xgb_pipe_ss, df_train, y_train)"
   ]
  },
  {
   "cell_type": "markdown",
   "id": "5744d684",
   "metadata": {},
   "source": [
    "Using standard scaler did not change the scores for the model."
   ]
  },
  {
   "cell_type": "markdown",
   "id": "eea74dc2",
   "metadata": {},
   "source": [
    "#### XGBoost with SMOTE"
   ]
  },
  {
   "cell_type": "code",
   "execution_count": 91,
   "id": "70869492",
   "metadata": {},
   "outputs": [
    {
     "data": {
      "text/plain": [
       "Pipeline(steps=[('smote', SMOTE()),\n",
       "                ('xgb',\n",
       "                 XGBClassifier(base_score=0.5, booster='gbtree',\n",
       "                               colsample_bylevel=1, colsample_bynode=1,\n",
       "                               colsample_bytree=1, eval_metric='logloss',\n",
       "                               gamma=0, gpu_id=-1, importance_type='gain',\n",
       "                               interaction_constraints='',\n",
       "                               learning_rate=0.300000012, max_delta_step=0,\n",
       "                               max_depth=10, min_child_weight=25, missing=nan,\n",
       "                               monotone_constraints='()', n_estimators=100,\n",
       "                               n_jobs=4, num_parallel_tree=1, random_state=0,\n",
       "                               reg_alpha=0, reg_lambda=1, scale_pos_weight=1,\n",
       "                               subsample=1, tree_method='exact',\n",
       "                               use_label_encoder=False, validate_parameters=1,\n",
       "                               verbosity=None))])"
      ]
     },
     "execution_count": 91,
     "metadata": {},
     "output_type": "execute_result"
    }
   ],
   "source": [
    "xgb_sm_pipe = imbpipe([('smote', SMOTE()),\n",
    "                        ('xgb', XGBClassifier(colsample_bytree= 1, max_depth= 10, min_child_weight= 25, \n",
    "                                            eval_metric='logloss', use_label_encoder=False))\n",
    "                    ])\n",
    "\n",
    "xgb_sm_pipe.fit(df_train,y_train)"
   ]
  },
  {
   "cell_type": "code",
   "execution_count": 92,
   "id": "4d6d2b66",
   "metadata": {},
   "outputs": [
    {
     "name": "stdout",
     "output_type": "stream",
     "text": [
      "[0.97512752 0.97431499 0.97404532 0.97395504 0.97381963]\n",
      "Training Accuracy 0.9742525001581063\n",
      "##############\n",
      "Cross_Val Accuracy 0.9742525001581063\n",
      "##############\n",
      "Training Precision: 0.857122735805444\n",
      "##############\n",
      "Training  Recall: 0.6651048182173573\n",
      "##############\n",
      "Training  F1: 0.7489260449913646\n"
     ]
    }
   ],
   "source": [
    "print_cv_scores(xgb_sm_pipe,df_train,y_train)\n"
   ]
  },
  {
   "cell_type": "markdown",
   "id": "53f83eed",
   "metadata": {},
   "source": [
    "Using SMOTE increased the model preformance for accuracy to a 97% and a precision score of 86%."
   ]
  },
  {
   "cell_type": "markdown",
   "id": "c26bba12",
   "metadata": {},
   "source": [
    "#### XGBoost with SMOTE and Standard Scaler"
   ]
  },
  {
   "cell_type": "code",
   "execution_count": 93,
   "id": "51e7fd87",
   "metadata": {},
   "outputs": [
    {
     "data": {
      "text/plain": [
       "Pipeline(steps=[('ss', StandardScaler()), ('smote', SMOTE()),\n",
       "                ('xgb',\n",
       "                 XGBClassifier(base_score=0.5, booster='gbtree',\n",
       "                               colsample_bylevel=1, colsample_bynode=1,\n",
       "                               colsample_bytree=1, eval_metric='logloss',\n",
       "                               gamma=0, gpu_id=-1, importance_type='gain',\n",
       "                               interaction_constraints='',\n",
       "                               learning_rate=0.300000012, max_delta_step=0,\n",
       "                               max_depth=10, min_child_weight=25, missing=nan,\n",
       "                               monotone_constraints='()', n_estimators=100,\n",
       "                               n_jobs=4, num_parallel_tree=1, random_state=0,\n",
       "                               reg_alpha=0, reg_lambda=1, scale_pos_weight=1,\n",
       "                               subsample=1, tree_method='exact',\n",
       "                               use_label_encoder=False, validate_parameters=1,\n",
       "                               verbosity=None))])"
      ]
     },
     "execution_count": 93,
     "metadata": {},
     "output_type": "execute_result"
    }
   ],
   "source": [
    "xgb_sm_pipe_sc = imbpipe([('ss', StandardScaler()),\n",
    "                        ('smote', SMOTE()),\n",
    "                        ('xgb', XGBClassifier(colsample_bytree= 1, max_depth= 10, min_child_weight= 25, \n",
    "                                            eval_metric='logloss', use_label_encoder=False))\n",
    "                    ])\n",
    "\n",
    "xgb_sm_pipe_sc.fit(df_train,y_train)"
   ]
  },
  {
   "cell_type": "code",
   "execution_count": 94,
   "id": "8f7a344b",
   "metadata": {},
   "outputs": [
    {
     "name": "stdout",
     "output_type": "stream",
     "text": [
      "[0.97571435 0.97512752 0.97774668 0.97558003 0.97517378]\n",
      "Training Accuracy 0.9758684737913914\n",
      "##############\n",
      "Cross_Val Accuracy 0.9758684737913914\n",
      "##############\n",
      "Training Precision: 0.8744171492110345\n",
      "##############\n",
      "Training  Recall: 0.6797967161845191\n",
      "##############\n",
      "Training  F1: 0.7648467360607344\n"
     ]
    }
   ],
   "source": [
    "print_cv_scores(xgb_sm_pipe_sc,df_train,y_train)\n"
   ]
  },
  {
   "cell_type": "markdown",
   "id": "c52e5201",
   "metadata": {},
   "source": [
    "Using SMOTE and standard scaling the model scores increased even more with accuracy at 97% and precision at 87%."
   ]
  },
  {
   "cell_type": "markdown",
   "id": "99c1a998",
   "metadata": {},
   "source": [
    "## Random Forest Models"
   ]
  },
  {
   "cell_type": "markdown",
   "id": "1dbafe0b",
   "metadata": {},
   "source": [
    "Now I will be running Random Forest models and see how well the preform."
   ]
  },
  {
   "cell_type": "code",
   "execution_count": 95,
   "id": "c2b0195b",
   "metadata": {},
   "outputs": [
    {
     "data": {
      "text/plain": [
       "Pipeline(steps=[('rf', RandomForestClassifier())])"
      ]
     },
     "execution_count": 95,
     "metadata": {},
     "output_type": "execute_result"
    }
   ],
   "source": [
    "rf_pipe = Pipeline([('rf', RandomForestClassifier())\n",
    "                    ])\n",
    "rf_pipe.fit(df_train, y_train)"
   ]
  },
  {
   "cell_type": "code",
   "execution_count": 96,
   "id": "a40d4444",
   "metadata": {},
   "outputs": [
    {
     "name": "stdout",
     "output_type": "stream",
     "text": [
      "[0.99995486 0.99995486 1.         1.         1.        ]\n",
      "Training Accuracy 0.9999819437547963\n",
      "##############\n",
      "Cross_Val Accuracy 0.9999819437547963\n",
      "##############\n",
      "Training Precision: 1.0\n",
      "##############\n",
      "Training  Recall: 0.9996872556684909\n",
      "##############\n",
      "Training  F1: 0.9998435666797029\n"
     ]
    }
   ],
   "source": [
    "print_cv_scores(rf_pipe, df_train, y_train)\n"
   ]
  },
  {
   "cell_type": "markdown",
   "id": "c3500c81",
   "metadata": {},
   "source": [
    "This model seems like it is scoring perfectly but that is mostly due to overfitting. I will run a gridsearch to see what the best parameters to help with overfitting."
   ]
  },
  {
   "cell_type": "markdown",
   "id": "b137ed17",
   "metadata": {},
   "source": [
    "#### Random Forest Gridsearch"
   ]
  },
  {
   "cell_type": "code",
   "execution_count": 97,
   "id": "f5bb1629",
   "metadata": {},
   "outputs": [],
   "source": [
    "grid2 = {\"rf__class_weight\": [None, 'balanced'],\n",
    "        \"rf__n_estimators\": [10,25 , 50], \n",
    "        \"rf__max_depth\" : [10, 15, 20], \n",
    "        \"rf__min_samples_leaf\" : [1, 2, 3]\n",
    "       \n",
    "       \n",
    "       }\n",
    "\n",
    "gridsearch2 = GridSearchCV(rf_pipe, grid2, return_train_score=True, scoring='precision',verbose=2)"
   ]
  },
  {
   "cell_type": "code",
   "execution_count": 98,
   "id": "a7baf2c3",
   "metadata": {
    "scrolled": true
   },
   "outputs": [
    {
     "name": "stdout",
     "output_type": "stream",
     "text": [
      "Fitting 5 folds for each of 54 candidates, totalling 270 fits\n",
      "[CV] END rf__class_weight=None, rf__max_depth=10, rf__min_samples_leaf=1, rf__n_estimators=10; total time=   0.4s\n",
      "[CV] END rf__class_weight=None, rf__max_depth=10, rf__min_samples_leaf=1, rf__n_estimators=10; total time=   0.4s\n",
      "[CV] END rf__class_weight=None, rf__max_depth=10, rf__min_samples_leaf=1, rf__n_estimators=10; total time=   0.5s\n",
      "[CV] END rf__class_weight=None, rf__max_depth=10, rf__min_samples_leaf=1, rf__n_estimators=10; total time=   0.4s\n",
      "[CV] END rf__class_weight=None, rf__max_depth=10, rf__min_samples_leaf=1, rf__n_estimators=10; total time=   0.4s\n",
      "[CV] END rf__class_weight=None, rf__max_depth=10, rf__min_samples_leaf=1, rf__n_estimators=25; total time=   1.1s\n",
      "[CV] END rf__class_weight=None, rf__max_depth=10, rf__min_samples_leaf=1, rf__n_estimators=25; total time=   1.1s\n",
      "[CV] END rf__class_weight=None, rf__max_depth=10, rf__min_samples_leaf=1, rf__n_estimators=25; total time=   1.1s\n",
      "[CV] END rf__class_weight=None, rf__max_depth=10, rf__min_samples_leaf=1, rf__n_estimators=25; total time=   1.0s\n",
      "[CV] END rf__class_weight=None, rf__max_depth=10, rf__min_samples_leaf=1, rf__n_estimators=25; total time=   0.9s\n",
      "[CV] END rf__class_weight=None, rf__max_depth=10, rf__min_samples_leaf=1, rf__n_estimators=50; total time=   1.8s\n",
      "[CV] END rf__class_weight=None, rf__max_depth=10, rf__min_samples_leaf=1, rf__n_estimators=50; total time=   1.8s\n",
      "[CV] END rf__class_weight=None, rf__max_depth=10, rf__min_samples_leaf=1, rf__n_estimators=50; total time=   1.8s\n",
      "[CV] END rf__class_weight=None, rf__max_depth=10, rf__min_samples_leaf=1, rf__n_estimators=50; total time=   1.7s\n",
      "[CV] END rf__class_weight=None, rf__max_depth=10, rf__min_samples_leaf=1, rf__n_estimators=50; total time=   1.8s\n",
      "[CV] END rf__class_weight=None, rf__max_depth=10, rf__min_samples_leaf=2, rf__n_estimators=10; total time=   0.4s\n",
      "[CV] END rf__class_weight=None, rf__max_depth=10, rf__min_samples_leaf=2, rf__n_estimators=10; total time=   0.4s\n",
      "[CV] END rf__class_weight=None, rf__max_depth=10, rf__min_samples_leaf=2, rf__n_estimators=10; total time=   0.4s\n",
      "[CV] END rf__class_weight=None, rf__max_depth=10, rf__min_samples_leaf=2, rf__n_estimators=10; total time=   0.4s\n",
      "[CV] END rf__class_weight=None, rf__max_depth=10, rf__min_samples_leaf=2, rf__n_estimators=10; total time=   0.4s\n",
      "[CV] END rf__class_weight=None, rf__max_depth=10, rf__min_samples_leaf=2, rf__n_estimators=25; total time=   0.9s\n",
      "[CV] END rf__class_weight=None, rf__max_depth=10, rf__min_samples_leaf=2, rf__n_estimators=25; total time=   0.9s\n",
      "[CV] END rf__class_weight=None, rf__max_depth=10, rf__min_samples_leaf=2, rf__n_estimators=25; total time=   0.9s\n",
      "[CV] END rf__class_weight=None, rf__max_depth=10, rf__min_samples_leaf=2, rf__n_estimators=25; total time=   0.9s\n",
      "[CV] END rf__class_weight=None, rf__max_depth=10, rf__min_samples_leaf=2, rf__n_estimators=25; total time=   0.9s\n",
      "[CV] END rf__class_weight=None, rf__max_depth=10, rf__min_samples_leaf=2, rf__n_estimators=50; total time=   1.8s\n",
      "[CV] END rf__class_weight=None, rf__max_depth=10, rf__min_samples_leaf=2, rf__n_estimators=50; total time=   1.8s\n",
      "[CV] END rf__class_weight=None, rf__max_depth=10, rf__min_samples_leaf=2, rf__n_estimators=50; total time=   1.8s\n",
      "[CV] END rf__class_weight=None, rf__max_depth=10, rf__min_samples_leaf=2, rf__n_estimators=50; total time=   1.7s\n",
      "[CV] END rf__class_weight=None, rf__max_depth=10, rf__min_samples_leaf=2, rf__n_estimators=50; total time=   1.8s\n",
      "[CV] END rf__class_weight=None, rf__max_depth=10, rf__min_samples_leaf=3, rf__n_estimators=10; total time=   0.4s\n",
      "[CV] END rf__class_weight=None, rf__max_depth=10, rf__min_samples_leaf=3, rf__n_estimators=10; total time=   0.4s\n",
      "[CV] END rf__class_weight=None, rf__max_depth=10, rf__min_samples_leaf=3, rf__n_estimators=10; total time=   0.4s\n",
      "[CV] END rf__class_weight=None, rf__max_depth=10, rf__min_samples_leaf=3, rf__n_estimators=10; total time=   0.4s\n",
      "[CV] END rf__class_weight=None, rf__max_depth=10, rf__min_samples_leaf=3, rf__n_estimators=10; total time=   0.5s\n",
      "[CV] END rf__class_weight=None, rf__max_depth=10, rf__min_samples_leaf=3, rf__n_estimators=25; total time=   1.0s\n",
      "[CV] END rf__class_weight=None, rf__max_depth=10, rf__min_samples_leaf=3, rf__n_estimators=25; total time=   0.9s\n",
      "[CV] END rf__class_weight=None, rf__max_depth=10, rf__min_samples_leaf=3, rf__n_estimators=25; total time=   0.9s\n",
      "[CV] END rf__class_weight=None, rf__max_depth=10, rf__min_samples_leaf=3, rf__n_estimators=25; total time=   0.9s\n"
     ]
    },
    {
     "name": "stderr",
     "output_type": "stream",
     "text": [
      "/Users/raylinsoriano/anaconda3/lib/python3.8/site-packages/sklearn/metrics/_classification.py:1248: UndefinedMetricWarning: Precision is ill-defined and being set to 0.0 due to no predicted samples. Use `zero_division` parameter to control this behavior.\n",
      "  _warn_prf(average, modifier, msg_start, len(result))\n"
     ]
    },
    {
     "name": "stdout",
     "output_type": "stream",
     "text": [
      "[CV] END rf__class_weight=None, rf__max_depth=10, rf__min_samples_leaf=3, rf__n_estimators=25; total time=   0.9s\n",
      "[CV] END rf__class_weight=None, rf__max_depth=10, rf__min_samples_leaf=3, rf__n_estimators=50; total time=   1.8s\n",
      "[CV] END rf__class_weight=None, rf__max_depth=10, rf__min_samples_leaf=3, rf__n_estimators=50; total time=   2.2s\n",
      "[CV] END rf__class_weight=None, rf__max_depth=10, rf__min_samples_leaf=3, rf__n_estimators=50; total time=   2.2s\n",
      "[CV] END rf__class_weight=None, rf__max_depth=10, rf__min_samples_leaf=3, rf__n_estimators=50; total time=   2.1s\n"
     ]
    },
    {
     "name": "stderr",
     "output_type": "stream",
     "text": [
      "/Users/raylinsoriano/anaconda3/lib/python3.8/site-packages/sklearn/metrics/_classification.py:1248: UndefinedMetricWarning: Precision is ill-defined and being set to 0.0 due to no predicted samples. Use `zero_division` parameter to control this behavior.\n",
      "  _warn_prf(average, modifier, msg_start, len(result))\n"
     ]
    },
    {
     "name": "stdout",
     "output_type": "stream",
     "text": [
      "[CV] END rf__class_weight=None, rf__max_depth=10, rf__min_samples_leaf=3, rf__n_estimators=50; total time=   1.9s\n",
      "[CV] END rf__class_weight=None, rf__max_depth=15, rf__min_samples_leaf=1, rf__n_estimators=10; total time=   0.7s\n",
      "[CV] END rf__class_weight=None, rf__max_depth=15, rf__min_samples_leaf=1, rf__n_estimators=10; total time=   0.9s\n",
      "[CV] END rf__class_weight=None, rf__max_depth=15, rf__min_samples_leaf=1, rf__n_estimators=10; total time=   0.6s\n",
      "[CV] END rf__class_weight=None, rf__max_depth=15, rf__min_samples_leaf=1, rf__n_estimators=10; total time=   0.6s\n",
      "[CV] END rf__class_weight=None, rf__max_depth=15, rf__min_samples_leaf=1, rf__n_estimators=10; total time=   0.6s\n",
      "[CV] END rf__class_weight=None, rf__max_depth=15, rf__min_samples_leaf=1, rf__n_estimators=25; total time=   1.1s\n",
      "[CV] END rf__class_weight=None, rf__max_depth=15, rf__min_samples_leaf=1, rf__n_estimators=25; total time=   1.1s\n",
      "[CV] END rf__class_weight=None, rf__max_depth=15, rf__min_samples_leaf=1, rf__n_estimators=25; total time=   1.1s\n",
      "[CV] END rf__class_weight=None, rf__max_depth=15, rf__min_samples_leaf=1, rf__n_estimators=25; total time=   1.1s\n",
      "[CV] END rf__class_weight=None, rf__max_depth=15, rf__min_samples_leaf=1, rf__n_estimators=25; total time=   1.1s\n",
      "[CV] END rf__class_weight=None, rf__max_depth=15, rf__min_samples_leaf=1, rf__n_estimators=50; total time=   2.1s\n",
      "[CV] END rf__class_weight=None, rf__max_depth=15, rf__min_samples_leaf=1, rf__n_estimators=50; total time=   2.3s\n",
      "[CV] END rf__class_weight=None, rf__max_depth=15, rf__min_samples_leaf=1, rf__n_estimators=50; total time=   2.1s\n",
      "[CV] END rf__class_weight=None, rf__max_depth=15, rf__min_samples_leaf=1, rf__n_estimators=50; total time=   2.1s\n",
      "[CV] END rf__class_weight=None, rf__max_depth=15, rf__min_samples_leaf=1, rf__n_estimators=50; total time=   2.1s\n",
      "[CV] END rf__class_weight=None, rf__max_depth=15, rf__min_samples_leaf=2, rf__n_estimators=10; total time=   0.4s\n",
      "[CV] END rf__class_weight=None, rf__max_depth=15, rf__min_samples_leaf=2, rf__n_estimators=10; total time=   0.5s\n",
      "[CV] END rf__class_weight=None, rf__max_depth=15, rf__min_samples_leaf=2, rf__n_estimators=10; total time=   0.5s\n",
      "[CV] END rf__class_weight=None, rf__max_depth=15, rf__min_samples_leaf=2, rf__n_estimators=10; total time=   0.6s\n",
      "[CV] END rf__class_weight=None, rf__max_depth=15, rf__min_samples_leaf=2, rf__n_estimators=10; total time=   0.6s\n",
      "[CV] END rf__class_weight=None, rf__max_depth=15, rf__min_samples_leaf=2, rf__n_estimators=25; total time=   1.0s\n",
      "[CV] END rf__class_weight=None, rf__max_depth=15, rf__min_samples_leaf=2, rf__n_estimators=25; total time=   1.1s\n",
      "[CV] END rf__class_weight=None, rf__max_depth=15, rf__min_samples_leaf=2, rf__n_estimators=25; total time=   1.0s\n",
      "[CV] END rf__class_weight=None, rf__max_depth=15, rf__min_samples_leaf=2, rf__n_estimators=25; total time=   1.1s\n",
      "[CV] END rf__class_weight=None, rf__max_depth=15, rf__min_samples_leaf=2, rf__n_estimators=25; total time=   1.0s\n",
      "[CV] END rf__class_weight=None, rf__max_depth=15, rf__min_samples_leaf=2, rf__n_estimators=50; total time=   2.1s\n",
      "[CV] END rf__class_weight=None, rf__max_depth=15, rf__min_samples_leaf=2, rf__n_estimators=50; total time=   2.1s\n",
      "[CV] END rf__class_weight=None, rf__max_depth=15, rf__min_samples_leaf=2, rf__n_estimators=50; total time=   2.1s\n",
      "[CV] END rf__class_weight=None, rf__max_depth=15, rf__min_samples_leaf=2, rf__n_estimators=50; total time=   2.2s\n",
      "[CV] END rf__class_weight=None, rf__max_depth=15, rf__min_samples_leaf=2, rf__n_estimators=50; total time=   2.1s\n",
      "[CV] END rf__class_weight=None, rf__max_depth=15, rf__min_samples_leaf=3, rf__n_estimators=10; total time=   0.5s\n",
      "[CV] END rf__class_weight=None, rf__max_depth=15, rf__min_samples_leaf=3, rf__n_estimators=10; total time=   0.5s\n",
      "[CV] END rf__class_weight=None, rf__max_depth=15, rf__min_samples_leaf=3, rf__n_estimators=10; total time=   0.4s\n",
      "[CV] END rf__class_weight=None, rf__max_depth=15, rf__min_samples_leaf=3, rf__n_estimators=10; total time=   0.5s\n",
      "[CV] END rf__class_weight=None, rf__max_depth=15, rf__min_samples_leaf=3, rf__n_estimators=10; total time=   0.4s\n",
      "[CV] END rf__class_weight=None, rf__max_depth=15, rf__min_samples_leaf=3, rf__n_estimators=25; total time=   1.2s\n",
      "[CV] END rf__class_weight=None, rf__max_depth=15, rf__min_samples_leaf=3, rf__n_estimators=25; total time=   1.1s\n",
      "[CV] END rf__class_weight=None, rf__max_depth=15, rf__min_samples_leaf=3, rf__n_estimators=25; total time=   1.1s\n",
      "[CV] END rf__class_weight=None, rf__max_depth=15, rf__min_samples_leaf=3, rf__n_estimators=25; total time=   1.1s\n",
      "[CV] END rf__class_weight=None, rf__max_depth=15, rf__min_samples_leaf=3, rf__n_estimators=25; total time=   1.1s\n",
      "[CV] END rf__class_weight=None, rf__max_depth=15, rf__min_samples_leaf=3, rf__n_estimators=50; total time=   2.1s\n",
      "[CV] END rf__class_weight=None, rf__max_depth=15, rf__min_samples_leaf=3, rf__n_estimators=50; total time=   2.1s\n",
      "[CV] END rf__class_weight=None, rf__max_depth=15, rf__min_samples_leaf=3, rf__n_estimators=50; total time=   2.1s\n",
      "[CV] END rf__class_weight=None, rf__max_depth=15, rf__min_samples_leaf=3, rf__n_estimators=50; total time=   2.1s\n",
      "[CV] END rf__class_weight=None, rf__max_depth=15, rf__min_samples_leaf=3, rf__n_estimators=50; total time=   2.1s\n",
      "[CV] END rf__class_weight=None, rf__max_depth=20, rf__min_samples_leaf=1, rf__n_estimators=10; total time=   0.5s\n",
      "[CV] END rf__class_weight=None, rf__max_depth=20, rf__min_samples_leaf=1, rf__n_estimators=10; total time=   0.5s\n",
      "[CV] END rf__class_weight=None, rf__max_depth=20, rf__min_samples_leaf=1, rf__n_estimators=10; total time=   0.5s\n",
      "[CV] END rf__class_weight=None, rf__max_depth=20, rf__min_samples_leaf=1, rf__n_estimators=10; total time=   0.5s\n",
      "[CV] END rf__class_weight=None, rf__max_depth=20, rf__min_samples_leaf=1, rf__n_estimators=10; total time=   0.5s\n",
      "[CV] END rf__class_weight=None, rf__max_depth=20, rf__min_samples_leaf=1, rf__n_estimators=25; total time=   1.2s\n",
      "[CV] END rf__class_weight=None, rf__max_depth=20, rf__min_samples_leaf=1, rf__n_estimators=25; total time=   1.2s\n",
      "[CV] END rf__class_weight=None, rf__max_depth=20, rf__min_samples_leaf=1, rf__n_estimators=25; total time=   1.2s\n",
      "[CV] END rf__class_weight=None, rf__max_depth=20, rf__min_samples_leaf=1, rf__n_estimators=25; total time=   1.2s\n",
      "[CV] END rf__class_weight=None, rf__max_depth=20, rf__min_samples_leaf=1, rf__n_estimators=25; total time=   1.2s\n",
      "[CV] END rf__class_weight=None, rf__max_depth=20, rf__min_samples_leaf=1, rf__n_estimators=50; total time=   2.3s\n",
      "[CV] END rf__class_weight=None, rf__max_depth=20, rf__min_samples_leaf=1, rf__n_estimators=50; total time=   2.4s\n",
      "[CV] END rf__class_weight=None, rf__max_depth=20, rf__min_samples_leaf=1, rf__n_estimators=50; total time=   2.2s\n",
      "[CV] END rf__class_weight=None, rf__max_depth=20, rf__min_samples_leaf=1, rf__n_estimators=50; total time=   2.2s\n",
      "[CV] END rf__class_weight=None, rf__max_depth=20, rf__min_samples_leaf=1, rf__n_estimators=50; total time=   2.3s\n",
      "[CV] END rf__class_weight=None, rf__max_depth=20, rf__min_samples_leaf=2, rf__n_estimators=10; total time=   0.5s\n",
      "[CV] END rf__class_weight=None, rf__max_depth=20, rf__min_samples_leaf=2, rf__n_estimators=10; total time=   0.5s\n",
      "[CV] END rf__class_weight=None, rf__max_depth=20, rf__min_samples_leaf=2, rf__n_estimators=10; total time=   0.5s\n",
      "[CV] END rf__class_weight=None, rf__max_depth=20, rf__min_samples_leaf=2, rf__n_estimators=10; total time=   0.5s\n",
      "[CV] END rf__class_weight=None, rf__max_depth=20, rf__min_samples_leaf=2, rf__n_estimators=10; total time=   0.5s\n",
      "[CV] END rf__class_weight=None, rf__max_depth=20, rf__min_samples_leaf=2, rf__n_estimators=25; total time=   1.2s\n",
      "[CV] END rf__class_weight=None, rf__max_depth=20, rf__min_samples_leaf=2, rf__n_estimators=25; total time=   1.1s\n",
      "[CV] END rf__class_weight=None, rf__max_depth=20, rf__min_samples_leaf=2, rf__n_estimators=25; total time=   1.6s\n",
      "[CV] END rf__class_weight=None, rf__max_depth=20, rf__min_samples_leaf=2, rf__n_estimators=25; total time=   1.6s\n",
      "[CV] END rf__class_weight=None, rf__max_depth=20, rf__min_samples_leaf=2, rf__n_estimators=25; total time=   1.3s\n",
      "[CV] END rf__class_weight=None, rf__max_depth=20, rf__min_samples_leaf=2, rf__n_estimators=50; total time=   2.3s\n"
     ]
    },
    {
     "name": "stdout",
     "output_type": "stream",
     "text": [
      "[CV] END rf__class_weight=None, rf__max_depth=20, rf__min_samples_leaf=2, rf__n_estimators=50; total time=   2.4s\n",
      "[CV] END rf__class_weight=None, rf__max_depth=20, rf__min_samples_leaf=2, rf__n_estimators=50; total time=   2.2s\n",
      "[CV] END rf__class_weight=None, rf__max_depth=20, rf__min_samples_leaf=2, rf__n_estimators=50; total time=   3.0s\n",
      "[CV] END rf__class_weight=None, rf__max_depth=20, rf__min_samples_leaf=2, rf__n_estimators=50; total time=   2.7s\n",
      "[CV] END rf__class_weight=None, rf__max_depth=20, rf__min_samples_leaf=3, rf__n_estimators=10; total time=   0.5s\n",
      "[CV] END rf__class_weight=None, rf__max_depth=20, rf__min_samples_leaf=3, rf__n_estimators=10; total time=   0.5s\n",
      "[CV] END rf__class_weight=None, rf__max_depth=20, rf__min_samples_leaf=3, rf__n_estimators=10; total time=   0.5s\n",
      "[CV] END rf__class_weight=None, rf__max_depth=20, rf__min_samples_leaf=3, rf__n_estimators=10; total time=   0.5s\n",
      "[CV] END rf__class_weight=None, rf__max_depth=20, rf__min_samples_leaf=3, rf__n_estimators=10; total time=   0.5s\n",
      "[CV] END rf__class_weight=None, rf__max_depth=20, rf__min_samples_leaf=3, rf__n_estimators=25; total time=   1.1s\n",
      "[CV] END rf__class_weight=None, rf__max_depth=20, rf__min_samples_leaf=3, rf__n_estimators=25; total time=   1.2s\n",
      "[CV] END rf__class_weight=None, rf__max_depth=20, rf__min_samples_leaf=3, rf__n_estimators=25; total time=   1.2s\n",
      "[CV] END rf__class_weight=None, rf__max_depth=20, rf__min_samples_leaf=3, rf__n_estimators=25; total time=   1.5s\n",
      "[CV] END rf__class_weight=None, rf__max_depth=20, rf__min_samples_leaf=3, rf__n_estimators=25; total time=   1.4s\n",
      "[CV] END rf__class_weight=None, rf__max_depth=20, rf__min_samples_leaf=3, rf__n_estimators=50; total time=   5.8s\n",
      "[CV] END rf__class_weight=None, rf__max_depth=20, rf__min_samples_leaf=3, rf__n_estimators=50; total time=   7.4s\n",
      "[CV] END rf__class_weight=None, rf__max_depth=20, rf__min_samples_leaf=3, rf__n_estimators=50; total time=   4.2s\n",
      "[CV] END rf__class_weight=None, rf__max_depth=20, rf__min_samples_leaf=3, rf__n_estimators=50; total time=   5.9s\n",
      "[CV] END rf__class_weight=None, rf__max_depth=20, rf__min_samples_leaf=3, rf__n_estimators=50; total time=   5.6s\n",
      "[CV] END rf__class_weight=balanced, rf__max_depth=10, rf__min_samples_leaf=1, rf__n_estimators=10; total time=   0.5s\n",
      "[CV] END rf__class_weight=balanced, rf__max_depth=10, rf__min_samples_leaf=1, rf__n_estimators=10; total time=   0.7s\n",
      "[CV] END rf__class_weight=balanced, rf__max_depth=10, rf__min_samples_leaf=1, rf__n_estimators=10; total time=   0.6s\n",
      "[CV] END rf__class_weight=balanced, rf__max_depth=10, rf__min_samples_leaf=1, rf__n_estimators=10; total time=   0.6s\n",
      "[CV] END rf__class_weight=balanced, rf__max_depth=10, rf__min_samples_leaf=1, rf__n_estimators=10; total time=   0.5s\n",
      "[CV] END rf__class_weight=balanced, rf__max_depth=10, rf__min_samples_leaf=1, rf__n_estimators=25; total time=   1.5s\n",
      "[CV] END rf__class_weight=balanced, rf__max_depth=10, rf__min_samples_leaf=1, rf__n_estimators=25; total time=   1.0s\n",
      "[CV] END rf__class_weight=balanced, rf__max_depth=10, rf__min_samples_leaf=1, rf__n_estimators=25; total time=   0.9s\n",
      "[CV] END rf__class_weight=balanced, rf__max_depth=10, rf__min_samples_leaf=1, rf__n_estimators=25; total time=   1.8s\n",
      "[CV] END rf__class_weight=balanced, rf__max_depth=10, rf__min_samples_leaf=1, rf__n_estimators=25; total time=   1.6s\n",
      "[CV] END rf__class_weight=balanced, rf__max_depth=10, rf__min_samples_leaf=1, rf__n_estimators=50; total time=   2.4s\n",
      "[CV] END rf__class_weight=balanced, rf__max_depth=10, rf__min_samples_leaf=1, rf__n_estimators=50; total time=   2.7s\n",
      "[CV] END rf__class_weight=balanced, rf__max_depth=10, rf__min_samples_leaf=1, rf__n_estimators=50; total time=   4.0s\n",
      "[CV] END rf__class_weight=balanced, rf__max_depth=10, rf__min_samples_leaf=1, rf__n_estimators=50; total time=   3.9s\n",
      "[CV] END rf__class_weight=balanced, rf__max_depth=10, rf__min_samples_leaf=1, rf__n_estimators=50; total time=   2.9s\n",
      "[CV] END rf__class_weight=balanced, rf__max_depth=10, rf__min_samples_leaf=2, rf__n_estimators=10; total time=   0.4s\n",
      "[CV] END rf__class_weight=balanced, rf__max_depth=10, rf__min_samples_leaf=2, rf__n_estimators=10; total time=   0.4s\n",
      "[CV] END rf__class_weight=balanced, rf__max_depth=10, rf__min_samples_leaf=2, rf__n_estimators=10; total time=   0.4s\n",
      "[CV] END rf__class_weight=balanced, rf__max_depth=10, rf__min_samples_leaf=2, rf__n_estimators=10; total time=   0.5s\n",
      "[CV] END rf__class_weight=balanced, rf__max_depth=10, rf__min_samples_leaf=2, rf__n_estimators=10; total time=   0.4s\n",
      "[CV] END rf__class_weight=balanced, rf__max_depth=10, rf__min_samples_leaf=2, rf__n_estimators=25; total time=   1.0s\n",
      "[CV] END rf__class_weight=balanced, rf__max_depth=10, rf__min_samples_leaf=2, rf__n_estimators=25; total time=   1.2s\n",
      "[CV] END rf__class_weight=balanced, rf__max_depth=10, rf__min_samples_leaf=2, rf__n_estimators=25; total time=   1.0s\n",
      "[CV] END rf__class_weight=balanced, rf__max_depth=10, rf__min_samples_leaf=2, rf__n_estimators=25; total time=   1.0s\n",
      "[CV] END rf__class_weight=balanced, rf__max_depth=10, rf__min_samples_leaf=2, rf__n_estimators=25; total time=   1.0s\n",
      "[CV] END rf__class_weight=balanced, rf__max_depth=10, rf__min_samples_leaf=2, rf__n_estimators=50; total time=   1.9s\n",
      "[CV] END rf__class_weight=balanced, rf__max_depth=10, rf__min_samples_leaf=2, rf__n_estimators=50; total time=   2.0s\n",
      "[CV] END rf__class_weight=balanced, rf__max_depth=10, rf__min_samples_leaf=2, rf__n_estimators=50; total time=   1.8s\n",
      "[CV] END rf__class_weight=balanced, rf__max_depth=10, rf__min_samples_leaf=2, rf__n_estimators=50; total time=   1.9s\n",
      "[CV] END rf__class_weight=balanced, rf__max_depth=10, rf__min_samples_leaf=2, rf__n_estimators=50; total time=   2.2s\n",
      "[CV] END rf__class_weight=balanced, rf__max_depth=10, rf__min_samples_leaf=3, rf__n_estimators=10; total time=   0.6s\n",
      "[CV] END rf__class_weight=balanced, rf__max_depth=10, rf__min_samples_leaf=3, rf__n_estimators=10; total time=   0.5s\n",
      "[CV] END rf__class_weight=balanced, rf__max_depth=10, rf__min_samples_leaf=3, rf__n_estimators=10; total time=   0.5s\n",
      "[CV] END rf__class_weight=balanced, rf__max_depth=10, rf__min_samples_leaf=3, rf__n_estimators=10; total time=   0.5s\n",
      "[CV] END rf__class_weight=balanced, rf__max_depth=10, rf__min_samples_leaf=3, rf__n_estimators=10; total time=   0.5s\n",
      "[CV] END rf__class_weight=balanced, rf__max_depth=10, rf__min_samples_leaf=3, rf__n_estimators=25; total time=   1.1s\n",
      "[CV] END rf__class_weight=balanced, rf__max_depth=10, rf__min_samples_leaf=3, rf__n_estimators=25; total time=   1.0s\n",
      "[CV] END rf__class_weight=balanced, rf__max_depth=10, rf__min_samples_leaf=3, rf__n_estimators=25; total time=   0.9s\n",
      "[CV] END rf__class_weight=balanced, rf__max_depth=10, rf__min_samples_leaf=3, rf__n_estimators=25; total time=   1.0s\n",
      "[CV] END rf__class_weight=balanced, rf__max_depth=10, rf__min_samples_leaf=3, rf__n_estimators=25; total time=   1.0s\n",
      "[CV] END rf__class_weight=balanced, rf__max_depth=10, rf__min_samples_leaf=3, rf__n_estimators=50; total time=   2.1s\n",
      "[CV] END rf__class_weight=balanced, rf__max_depth=10, rf__min_samples_leaf=3, rf__n_estimators=50; total time=   1.9s\n",
      "[CV] END rf__class_weight=balanced, rf__max_depth=10, rf__min_samples_leaf=3, rf__n_estimators=50; total time=   2.0s\n",
      "[CV] END rf__class_weight=balanced, rf__max_depth=10, rf__min_samples_leaf=3, rf__n_estimators=50; total time=   1.8s\n",
      "[CV] END rf__class_weight=balanced, rf__max_depth=10, rf__min_samples_leaf=3, rf__n_estimators=50; total time=   1.9s\n",
      "[CV] END rf__class_weight=balanced, rf__max_depth=15, rf__min_samples_leaf=1, rf__n_estimators=10; total time=   0.5s\n",
      "[CV] END rf__class_weight=balanced, rf__max_depth=15, rf__min_samples_leaf=1, rf__n_estimators=10; total time=   0.5s\n",
      "[CV] END rf__class_weight=balanced, rf__max_depth=15, rf__min_samples_leaf=1, rf__n_estimators=10; total time=   0.5s\n",
      "[CV] END rf__class_weight=balanced, rf__max_depth=15, rf__min_samples_leaf=1, rf__n_estimators=10; total time=   0.5s\n",
      "[CV] END rf__class_weight=balanced, rf__max_depth=15, rf__min_samples_leaf=1, rf__n_estimators=10; total time=   0.5s\n",
      "[CV] END rf__class_weight=balanced, rf__max_depth=15, rf__min_samples_leaf=1, rf__n_estimators=25; total time=   1.2s\n",
      "[CV] END rf__class_weight=balanced, rf__max_depth=15, rf__min_samples_leaf=1, rf__n_estimators=25; total time=   1.2s\n"
     ]
    },
    {
     "name": "stdout",
     "output_type": "stream",
     "text": [
      "[CV] END rf__class_weight=balanced, rf__max_depth=15, rf__min_samples_leaf=1, rf__n_estimators=25; total time=   1.2s\n",
      "[CV] END rf__class_weight=balanced, rf__max_depth=15, rf__min_samples_leaf=1, rf__n_estimators=25; total time=   1.2s\n",
      "[CV] END rf__class_weight=balanced, rf__max_depth=15, rf__min_samples_leaf=1, rf__n_estimators=25; total time=   1.1s\n",
      "[CV] END rf__class_weight=balanced, rf__max_depth=15, rf__min_samples_leaf=1, rf__n_estimators=50; total time=   2.3s\n",
      "[CV] END rf__class_weight=balanced, rf__max_depth=15, rf__min_samples_leaf=1, rf__n_estimators=50; total time=   2.4s\n",
      "[CV] END rf__class_weight=balanced, rf__max_depth=15, rf__min_samples_leaf=1, rf__n_estimators=50; total time=   2.3s\n",
      "[CV] END rf__class_weight=balanced, rf__max_depth=15, rf__min_samples_leaf=1, rf__n_estimators=50; total time=   2.9s\n",
      "[CV] END rf__class_weight=balanced, rf__max_depth=15, rf__min_samples_leaf=1, rf__n_estimators=50; total time=   3.2s\n",
      "[CV] END rf__class_weight=balanced, rf__max_depth=15, rf__min_samples_leaf=2, rf__n_estimators=10; total time=   0.6s\n",
      "[CV] END rf__class_weight=balanced, rf__max_depth=15, rf__min_samples_leaf=2, rf__n_estimators=10; total time=   1.0s\n",
      "[CV] END rf__class_weight=balanced, rf__max_depth=15, rf__min_samples_leaf=2, rf__n_estimators=10; total time=   0.9s\n",
      "[CV] END rf__class_weight=balanced, rf__max_depth=15, rf__min_samples_leaf=2, rf__n_estimators=10; total time=   1.2s\n",
      "[CV] END rf__class_weight=balanced, rf__max_depth=15, rf__min_samples_leaf=2, rf__n_estimators=10; total time=   1.9s\n",
      "[CV] END rf__class_weight=balanced, rf__max_depth=15, rf__min_samples_leaf=2, rf__n_estimators=25; total time=   2.7s\n",
      "[CV] END rf__class_weight=balanced, rf__max_depth=15, rf__min_samples_leaf=2, rf__n_estimators=25; total time=   2.9s\n",
      "[CV] END rf__class_weight=balanced, rf__max_depth=15, rf__min_samples_leaf=2, rf__n_estimators=25; total time=   1.9s\n",
      "[CV] END rf__class_weight=balanced, rf__max_depth=15, rf__min_samples_leaf=2, rf__n_estimators=25; total time=   1.2s\n",
      "[CV] END rf__class_weight=balanced, rf__max_depth=15, rf__min_samples_leaf=2, rf__n_estimators=25; total time=   1.3s\n",
      "[CV] END rf__class_weight=balanced, rf__max_depth=15, rf__min_samples_leaf=2, rf__n_estimators=50; total time=   3.6s\n",
      "[CV] END rf__class_weight=balanced, rf__max_depth=15, rf__min_samples_leaf=2, rf__n_estimators=50; total time=   3.4s\n",
      "[CV] END rf__class_weight=balanced, rf__max_depth=15, rf__min_samples_leaf=2, rf__n_estimators=50; total time=   3.0s\n",
      "[CV] END rf__class_weight=balanced, rf__max_depth=15, rf__min_samples_leaf=2, rf__n_estimators=50; total time=   4.5s\n",
      "[CV] END rf__class_weight=balanced, rf__max_depth=15, rf__min_samples_leaf=2, rf__n_estimators=50; total time=   4.7s\n",
      "[CV] END rf__class_weight=balanced, rf__max_depth=15, rf__min_samples_leaf=3, rf__n_estimators=10; total time=   1.0s\n",
      "[CV] END rf__class_weight=balanced, rf__max_depth=15, rf__min_samples_leaf=3, rf__n_estimators=10; total time=   0.6s\n",
      "[CV] END rf__class_weight=balanced, rf__max_depth=15, rf__min_samples_leaf=3, rf__n_estimators=10; total time=   0.6s\n",
      "[CV] END rf__class_weight=balanced, rf__max_depth=15, rf__min_samples_leaf=3, rf__n_estimators=10; total time=   0.6s\n",
      "[CV] END rf__class_weight=balanced, rf__max_depth=15, rf__min_samples_leaf=3, rf__n_estimators=10; total time=   0.6s\n",
      "[CV] END rf__class_weight=balanced, rf__max_depth=15, rf__min_samples_leaf=3, rf__n_estimators=25; total time=   1.2s\n",
      "[CV] END rf__class_weight=balanced, rf__max_depth=15, rf__min_samples_leaf=3, rf__n_estimators=25; total time=   2.7s\n",
      "[CV] END rf__class_weight=balanced, rf__max_depth=15, rf__min_samples_leaf=3, rf__n_estimators=25; total time=   1.7s\n",
      "[CV] END rf__class_weight=balanced, rf__max_depth=15, rf__min_samples_leaf=3, rf__n_estimators=25; total time=   1.4s\n",
      "[CV] END rf__class_weight=balanced, rf__max_depth=15, rf__min_samples_leaf=3, rf__n_estimators=25; total time=   1.2s\n",
      "[CV] END rf__class_weight=balanced, rf__max_depth=15, rf__min_samples_leaf=3, rf__n_estimators=50; total time=   2.3s\n",
      "[CV] END rf__class_weight=balanced, rf__max_depth=15, rf__min_samples_leaf=3, rf__n_estimators=50; total time=   2.4s\n",
      "[CV] END rf__class_weight=balanced, rf__max_depth=15, rf__min_samples_leaf=3, rf__n_estimators=50; total time=   2.4s\n",
      "[CV] END rf__class_weight=balanced, rf__max_depth=15, rf__min_samples_leaf=3, rf__n_estimators=50; total time=   2.5s\n",
      "[CV] END rf__class_weight=balanced, rf__max_depth=15, rf__min_samples_leaf=3, rf__n_estimators=50; total time=   2.2s\n",
      "[CV] END rf__class_weight=balanced, rf__max_depth=20, rf__min_samples_leaf=1, rf__n_estimators=10; total time=   0.6s\n",
      "[CV] END rf__class_weight=balanced, rf__max_depth=20, rf__min_samples_leaf=1, rf__n_estimators=10; total time=   0.6s\n",
      "[CV] END rf__class_weight=balanced, rf__max_depth=20, rf__min_samples_leaf=1, rf__n_estimators=10; total time=   0.5s\n",
      "[CV] END rf__class_weight=balanced, rf__max_depth=20, rf__min_samples_leaf=1, rf__n_estimators=10; total time=   0.5s\n",
      "[CV] END rf__class_weight=balanced, rf__max_depth=20, rf__min_samples_leaf=1, rf__n_estimators=10; total time=   0.5s\n",
      "[CV] END rf__class_weight=balanced, rf__max_depth=20, rf__min_samples_leaf=1, rf__n_estimators=25; total time=   1.6s\n",
      "[CV] END rf__class_weight=balanced, rf__max_depth=20, rf__min_samples_leaf=1, rf__n_estimators=25; total time=   1.7s\n",
      "[CV] END rf__class_weight=balanced, rf__max_depth=20, rf__min_samples_leaf=1, rf__n_estimators=25; total time=   1.5s\n",
      "[CV] END rf__class_weight=balanced, rf__max_depth=20, rf__min_samples_leaf=1, rf__n_estimators=25; total time=   1.3s\n",
      "[CV] END rf__class_weight=balanced, rf__max_depth=20, rf__min_samples_leaf=1, rf__n_estimators=25; total time=   1.3s\n",
      "[CV] END rf__class_weight=balanced, rf__max_depth=20, rf__min_samples_leaf=1, rf__n_estimators=50; total time=   2.6s\n",
      "[CV] END rf__class_weight=balanced, rf__max_depth=20, rf__min_samples_leaf=1, rf__n_estimators=50; total time=   2.9s\n",
      "[CV] END rf__class_weight=balanced, rf__max_depth=20, rf__min_samples_leaf=1, rf__n_estimators=50; total time=   2.4s\n",
      "[CV] END rf__class_weight=balanced, rf__max_depth=20, rf__min_samples_leaf=1, rf__n_estimators=50; total time=   2.5s\n",
      "[CV] END rf__class_weight=balanced, rf__max_depth=20, rf__min_samples_leaf=1, rf__n_estimators=50; total time=   2.5s\n",
      "[CV] END rf__class_weight=balanced, rf__max_depth=20, rf__min_samples_leaf=2, rf__n_estimators=10; total time=   0.6s\n",
      "[CV] END rf__class_weight=balanced, rf__max_depth=20, rf__min_samples_leaf=2, rf__n_estimators=10; total time=   0.5s\n",
      "[CV] END rf__class_weight=balanced, rf__max_depth=20, rf__min_samples_leaf=2, rf__n_estimators=10; total time=   0.5s\n",
      "[CV] END rf__class_weight=balanced, rf__max_depth=20, rf__min_samples_leaf=2, rf__n_estimators=10; total time=   0.5s\n",
      "[CV] END rf__class_weight=balanced, rf__max_depth=20, rf__min_samples_leaf=2, rf__n_estimators=10; total time=   0.5s\n",
      "[CV] END rf__class_weight=balanced, rf__max_depth=20, rf__min_samples_leaf=2, rf__n_estimators=25; total time=   1.3s\n",
      "[CV] END rf__class_weight=balanced, rf__max_depth=20, rf__min_samples_leaf=2, rf__n_estimators=25; total time=   1.3s\n",
      "[CV] END rf__class_weight=balanced, rf__max_depth=20, rf__min_samples_leaf=2, rf__n_estimators=25; total time=   1.2s\n",
      "[CV] END rf__class_weight=balanced, rf__max_depth=20, rf__min_samples_leaf=2, rf__n_estimators=25; total time=   1.3s\n",
      "[CV] END rf__class_weight=balanced, rf__max_depth=20, rf__min_samples_leaf=2, rf__n_estimators=25; total time=   1.3s\n",
      "[CV] END rf__class_weight=balanced, rf__max_depth=20, rf__min_samples_leaf=2, rf__n_estimators=50; total time=   2.5s\n",
      "[CV] END rf__class_weight=balanced, rf__max_depth=20, rf__min_samples_leaf=2, rf__n_estimators=50; total time=   2.6s\n",
      "[CV] END rf__class_weight=balanced, rf__max_depth=20, rf__min_samples_leaf=2, rf__n_estimators=50; total time=   2.4s\n",
      "[CV] END rf__class_weight=balanced, rf__max_depth=20, rf__min_samples_leaf=2, rf__n_estimators=50; total time=   2.4s\n",
      "[CV] END rf__class_weight=balanced, rf__max_depth=20, rf__min_samples_leaf=2, rf__n_estimators=50; total time=   2.5s\n",
      "[CV] END rf__class_weight=balanced, rf__max_depth=20, rf__min_samples_leaf=3, rf__n_estimators=10; total time=   0.5s\n",
      "[CV] END rf__class_weight=balanced, rf__max_depth=20, rf__min_samples_leaf=3, rf__n_estimators=10; total time=   0.7s\n"
     ]
    },
    {
     "name": "stdout",
     "output_type": "stream",
     "text": [
      "[CV] END rf__class_weight=balanced, rf__max_depth=20, rf__min_samples_leaf=3, rf__n_estimators=10; total time=   0.5s\n",
      "[CV] END rf__class_weight=balanced, rf__max_depth=20, rf__min_samples_leaf=3, rf__n_estimators=10; total time=   0.5s\n",
      "[CV] END rf__class_weight=balanced, rf__max_depth=20, rf__min_samples_leaf=3, rf__n_estimators=10; total time=   0.5s\n",
      "[CV] END rf__class_weight=balanced, rf__max_depth=20, rf__min_samples_leaf=3, rf__n_estimators=25; total time=   1.3s\n",
      "[CV] END rf__class_weight=balanced, rf__max_depth=20, rf__min_samples_leaf=3, rf__n_estimators=25; total time=   1.3s\n",
      "[CV] END rf__class_weight=balanced, rf__max_depth=20, rf__min_samples_leaf=3, rf__n_estimators=25; total time=   1.2s\n",
      "[CV] END rf__class_weight=balanced, rf__max_depth=20, rf__min_samples_leaf=3, rf__n_estimators=25; total time=   1.3s\n",
      "[CV] END rf__class_weight=balanced, rf__max_depth=20, rf__min_samples_leaf=3, rf__n_estimators=25; total time=   1.3s\n",
      "[CV] END rf__class_weight=balanced, rf__max_depth=20, rf__min_samples_leaf=3, rf__n_estimators=50; total time=   2.9s\n",
      "[CV] END rf__class_weight=balanced, rf__max_depth=20, rf__min_samples_leaf=3, rf__n_estimators=50; total time=   2.7s\n",
      "[CV] END rf__class_weight=balanced, rf__max_depth=20, rf__min_samples_leaf=3, rf__n_estimators=50; total time=   2.4s\n",
      "[CV] END rf__class_weight=balanced, rf__max_depth=20, rf__min_samples_leaf=3, rf__n_estimators=50; total time=   2.6s\n",
      "[CV] END rf__class_weight=balanced, rf__max_depth=20, rf__min_samples_leaf=3, rf__n_estimators=50; total time=   2.5s\n"
     ]
    },
    {
     "data": {
      "text/plain": [
       "GridSearchCV(estimator=Pipeline(steps=[('rf', RandomForestClassifier())]),\n",
       "             param_grid={'rf__class_weight': [None, 'balanced'],\n",
       "                         'rf__max_depth': [10, 15, 20],\n",
       "                         'rf__min_samples_leaf': [1, 2, 3],\n",
       "                         'rf__n_estimators': [10, 25, 50]},\n",
       "             return_train_score=True, scoring='precision', verbose=2)"
      ]
     },
     "execution_count": 98,
     "metadata": {},
     "output_type": "execute_result"
    }
   ],
   "source": [
    "gridsearch2.fit(df_train, y_train)\n"
   ]
  },
  {
   "cell_type": "code",
   "execution_count": 99,
   "id": "aad7a56a",
   "metadata": {},
   "outputs": [
    {
     "name": "stdout",
     "output_type": "stream",
     "text": [
      "gridsearch best parameters: {'rf__class_weight': None, 'rf__max_depth': 10, 'rf__min_samples_leaf': 3, 'rf__n_estimators': 10}\n",
      "gridsearch best score: 0.7928571428571429\n"
     ]
    }
   ],
   "source": [
    "print('gridsearch best parameters: {}'.format(gridsearch2.best_params_))\n",
    "print('gridsearch best score: {}'.format(gridsearch2.best_score_))"
   ]
  },
  {
   "cell_type": "code",
   "execution_count": 103,
   "id": "d02ecf6a",
   "metadata": {},
   "outputs": [
    {
     "data": {
      "text/plain": [
       "Pipeline(steps=[('rf',\n",
       "                 RandomForestClassifier(max_depth=10, min_samples_leaf=3,\n",
       "                                        n_estimators=10))])"
      ]
     },
     "execution_count": 103,
     "metadata": {},
     "output_type": "execute_result"
    }
   ],
   "source": [
    "rf_pipe2 = Pipeline([('rf', RandomForestClassifier(n_estimators=10, max_depth=10, min_samples_leaf=3))\n",
    "                    ])\n",
    "rf_pipe2.fit(df_train,y_train)\n"
   ]
  },
  {
   "cell_type": "code",
   "execution_count": 104,
   "id": "1e9a1c6b",
   "metadata": {},
   "outputs": [
    {
     "name": "stdout",
     "output_type": "stream",
     "text": [
      "[0.94465761 0.94370966 0.94479552 0.944299   0.94326081]\n",
      "Training Accuracy 0.9441445189786405\n",
      "##############\n",
      "Cross_Val Accuracy 0.9441445189786405\n",
      "##############\n",
      "Training Precision: 0.8942518128102221\n",
      "##############\n",
      "Training  Recall: 0.03736476250977326\n",
      "##############\n",
      "Training  F1: 0.07140126980572656\n"
     ]
    }
   ],
   "source": [
    "print_cv_scores(rf_pipe2, df_train, y_train)\n"
   ]
  },
  {
   "cell_type": "markdown",
   "id": "f459caca",
   "metadata": {},
   "source": [
    "#### Random Forest with Standard Scaler"
   ]
  },
  {
   "cell_type": "code",
   "execution_count": 194,
   "id": "523b3946",
   "metadata": {},
   "outputs": [
    {
     "data": {
      "text/plain": [
       "Pipeline(steps=[('ss', StandardScaler()),\n",
       "                ('rf', RandomForestClassifier(min_samples_leaf=3))])"
      ]
     },
     "execution_count": 194,
     "metadata": {},
     "output_type": "execute_result"
    }
   ],
   "source": [
    "rf_pipe_scaled = Pipeline([('ss', StandardScaler()),\n",
    "                    ('rf', RandomForestClassifier(min_samples_leaf=3))\n",
    "                    ])\n",
    "rf_pipe_scaled.fit(df_train, y_train)"
   ]
  },
  {
   "cell_type": "code",
   "execution_count": 195,
   "id": "98237179",
   "metadata": {},
   "outputs": [
    {
     "name": "stdout",
     "output_type": "stream",
     "text": [
      "[0.97900961 0.9776554  0.98090638 0.98027444 0.98004875]\n",
      "Training Accuracy 0.9795789172610952\n",
      "##############\n",
      "Cross_Val Accuracy 0.9795789172610952\n",
      "##############\n",
      "Training Precision: 0.999492385786802\n",
      "##############\n",
      "Training  Recall: 0.6466505815089914\n",
      "##############\n",
      "Training  F1: 0.7850985490051003\n"
     ]
    }
   ],
   "source": [
    "print_cv_scores(rf_pipe_scaled, df_train, y_train)\n"
   ]
  },
  {
   "cell_type": "markdown",
   "id": "38dbceb2",
   "metadata": {},
   "source": [
    "Using standard scaler is looks like the model is preforming extremely well but that it due to most likey to overfitting."
   ]
  },
  {
   "cell_type": "markdown",
   "id": "dcbd699c",
   "metadata": {},
   "source": [
    "#### Random Forest with SMOTE"
   ]
  },
  {
   "cell_type": "code",
   "execution_count": 192,
   "id": "ac3a10c5",
   "metadata": {},
   "outputs": [
    {
     "data": {
      "text/plain": [
       "Pipeline(steps=[('smote', SMOTE()),\n",
       "                ('rf',\n",
       "                 RandomForestClassifier(max_depth=10, min_samples_leaf=3,\n",
       "                                        n_estimators=10))])"
      ]
     },
     "execution_count": 192,
     "metadata": {},
     "output_type": "execute_result"
    }
   ],
   "source": [
    "rf_pipe_sm = imbpipe([('smote', SMOTE()),\n",
    "                    ('rf', RandomForestClassifier(n_estimators=10, max_depth=10, min_samples_leaf=3))\n",
    "                    ])\n",
    "\n",
    "rf_pipe_sm.fit(df_train, y_train)"
   ]
  },
  {
   "cell_type": "code",
   "execution_count": 193,
   "id": "982e7378",
   "metadata": {},
   "outputs": [
    {
     "name": "stdout",
     "output_type": "stream",
     "text": [
      "[0.88579425 0.88516228 0.87790015 0.88322651 0.87875779]\n",
      "Training Accuracy 0.8821681949673159\n",
      "##############\n",
      "Cross_Val Accuracy 0.8821681949673159\n",
      "##############\n",
      "Training Precision: 0.3088453854363222\n",
      "##############\n",
      "Training  Recall: 0.8397402756059421\n",
      "##############\n",
      "Training  F1: 0.4515072370919267\n"
     ]
    }
   ],
   "source": [
    "print_cv_scores(rf_pipe_sm, df_train, y_train)\n"
   ]
  },
  {
   "cell_type": "markdown",
   "id": "854d9893",
   "metadata": {},
   "source": [
    "Using SMOTE the model preformed worse with a precision score of 31% and accuracy score of 88%"
   ]
  },
  {
   "cell_type": "markdown",
   "id": "cc262ab2",
   "metadata": {},
   "source": [
    "#### Random Forest with SMOTE and Standard Scaler"
   ]
  },
  {
   "cell_type": "code",
   "execution_count": 113,
   "id": "d55c8eeb",
   "metadata": {},
   "outputs": [
    {
     "data": {
      "text/plain": [
       "Pipeline(steps=[('ss', StandardScaler()), ('smote', SMOTE()),\n",
       "                ('rf',\n",
       "                 RandomForestClassifier(max_depth=10, min_samples_leaf=3,\n",
       "                                        n_estimators=10))])"
      ]
     },
     "execution_count": 113,
     "metadata": {},
     "output_type": "execute_result"
    }
   ],
   "source": [
    "rf_pipe_sm_sc = imbpipe([('ss', StandardScaler()),\n",
    "                    ('smote', SMOTE()),\n",
    "                    ('rf', RandomForestClassifier(n_estimators=10, max_depth=10, min_samples_leaf=3))\n",
    "                    ])\n",
    "\n",
    "rf_pipe_sm_sc.fit(df_train, y_train)"
   ]
  },
  {
   "cell_type": "code",
   "execution_count": 114,
   "id": "6f2324f0",
   "metadata": {},
   "outputs": [
    {
     "name": "stdout",
     "output_type": "stream",
     "text": [
      "[0.86624836 0.87261319 0.86973007 0.86927869 0.86611899]\n",
      "Training Accuracy 0.8687978591816714\n",
      "##############\n",
      "Cross_Val Accuracy 0.8687978591816714\n",
      "##############\n",
      "Training Precision: 0.29330491538132264\n",
      "##############\n",
      "Training  Recall: 0.9022838887802971\n",
      "##############\n",
      "Training  F1: 0.44267995977696517\n"
     ]
    }
   ],
   "source": [
    "print_cv_scores(rf_pipe_sm_sc,df_train, y_train )\n"
   ]
  },
  {
   "cell_type": "markdown",
   "id": "33c06d21",
   "metadata": {},
   "source": [
    "Using SMOTE and standard scaling did even worse with an precision score of 29% and accuracy slightly improved since the SMOTE model with a score of 86%."
   ]
  },
  {
   "cell_type": "markdown",
   "id": "9e459110",
   "metadata": {},
   "source": [
    "## Final Model"
   ]
  },
  {
   "cell_type": "markdown",
   "id": "3b1479d7",
   "metadata": {},
   "source": [
    "For my final model I will be using Random Forest. I will be using the model pipline that had the best parameters from the gridsearch and had a precision score of 89% and accuracy score of 94%. So now I will be using for unseen data."
   ]
  },
  {
   "cell_type": "code",
   "execution_count": 362,
   "id": "76cba0cf",
   "metadata": {},
   "outputs": [
    {
     "data": {
      "text/plain": [
       "0.9430180912143863"
      ]
     },
     "execution_count": 362,
     "metadata": {},
     "output_type": "execute_result"
    }
   ],
   "source": [
    "rf_pipe2.score(df_test, y_test)"
   ]
  },
  {
   "cell_type": "code",
   "execution_count": 363,
   "id": "69a8ba9f",
   "metadata": {},
   "outputs": [],
   "source": [
    "y_pred = rf_pipe2.predict(df_test)\n"
   ]
  },
  {
   "cell_type": "code",
   "execution_count": 364,
   "id": "bc0e76d1",
   "metadata": {},
   "outputs": [
    {
     "data": {
      "text/plain": [
       "0.7692307692307693"
      ]
     },
     "execution_count": 364,
     "metadata": {},
     "output_type": "execute_result"
    }
   ],
   "source": [
    "precision_score(y_test, y_pred)\n"
   ]
  },
  {
   "cell_type": "code",
   "execution_count": 396,
   "id": "205f8738",
   "metadata": {},
   "outputs": [
    {
     "data": {
      "image/png": "[encoded data removed]",
      "text/plain": [
       "<Figure size 432x288 with 2 Axes>"
      ]
     },
     "metadata": {
      "needs_background": "light"
     },
     "output_type": "display_data"
    }
   ],
   "source": [
    "display_labels= ['Has Availability', 'No Availability']\n",
    "plot_confusion_matrix(rf_pipe2, df_test, y_test, normalize = 'pred', display_labels=display_labels)\n",
    "plt.grid(None)\n"
   ]
  },
  {
   "cell_type": "markdown",
   "id": "7046b0f5",
   "metadata": {},
   "source": [
    "Looking at the confusion matrix this model struggled at predicting listings that didn't have availablity when it actually did."
   ]
  },
  {
   "cell_type": "code",
   "execution_count": 196,
   "id": "bc9a9211",
   "metadata": {},
   "outputs": [
    {
     "data": {
      "text/html": [
       "<div>\n",
       "<style scoped>\n",
       "    .dataframe tbody tr th:only-of-type {\n",
       "        vertical-align: middle;\n",
       "    }\n",
       "\n",
       "    .dataframe tbody tr th {\n",
       "        vertical-align: top;\n",
       "    }\n",
       "\n",
       "    .dataframe thead th {\n",
       "        text-align: right;\n",
       "    }\n",
       "</style>\n",
       "<table border=\"1\" class=\"dataframe\">\n",
       "  <thead>\n",
       "    <tr style=\"text-align: right;\">\n",
       "      <th></th>\n",
       "      <th>0</th>\n",
       "      <th>1</th>\n",
       "    </tr>\n",
       "  </thead>\n",
       "  <tbody>\n",
       "    <tr>\n",
       "      <th>0</th>\n",
       "      <td>71.738259</td>\n",
       "      <td>28.261741</td>\n",
       "    </tr>\n",
       "    <tr>\n",
       "      <th>1</th>\n",
       "      <td>100.000000</td>\n",
       "      <td>0.000000</td>\n",
       "    </tr>\n",
       "    <tr>\n",
       "      <th>2</th>\n",
       "      <td>79.580056</td>\n",
       "      <td>20.419944</td>\n",
       "    </tr>\n",
       "    <tr>\n",
       "      <th>3</th>\n",
       "      <td>88.582539</td>\n",
       "      <td>11.417461</td>\n",
       "    </tr>\n",
       "    <tr>\n",
       "      <th>4</th>\n",
       "      <td>99.495650</td>\n",
       "      <td>0.504350</td>\n",
       "    </tr>\n",
       "    <tr>\n",
       "      <th>...</th>\n",
       "      <td>...</td>\n",
       "      <td>...</td>\n",
       "    </tr>\n",
       "    <tr>\n",
       "      <th>9226</th>\n",
       "      <td>82.605958</td>\n",
       "      <td>17.394042</td>\n",
       "    </tr>\n",
       "    <tr>\n",
       "      <th>9227</th>\n",
       "      <td>98.858093</td>\n",
       "      <td>1.141907</td>\n",
       "    </tr>\n",
       "    <tr>\n",
       "      <th>9228</th>\n",
       "      <td>100.000000</td>\n",
       "      <td>0.000000</td>\n",
       "    </tr>\n",
       "    <tr>\n",
       "      <th>9229</th>\n",
       "      <td>100.000000</td>\n",
       "      <td>0.000000</td>\n",
       "    </tr>\n",
       "    <tr>\n",
       "      <th>9230</th>\n",
       "      <td>76.977874</td>\n",
       "      <td>23.022126</td>\n",
       "    </tr>\n",
       "  </tbody>\n",
       "</table>\n",
       "<p>9231 rows × 2 columns</p>\n",
       "</div>"
      ],
      "text/plain": [
       "               0          1\n",
       "0      71.738259  28.261741\n",
       "1     100.000000   0.000000\n",
       "2      79.580056  20.419944\n",
       "3      88.582539  11.417461\n",
       "4      99.495650   0.504350\n",
       "...          ...        ...\n",
       "9226   82.605958  17.394042\n",
       "9227   98.858093   1.141907\n",
       "9228  100.000000   0.000000\n",
       "9229  100.000000   0.000000\n",
       "9230   76.977874  23.022126\n",
       "\n",
       "[9231 rows x 2 columns]"
      ]
     },
     "execution_count": 196,
     "metadata": {},
     "output_type": "execute_result"
    }
   ],
   "source": [
    "pd.DataFrame(rf_pipe2.predict_proba(df_test)*100, columns=rf_pipe2.classes_)"
   ]
  },
  {
   "cell_type": "markdown",
   "id": "7f9089ad",
   "metadata": {},
   "source": [
    "Here is a dataframe that has the probabilities of wither a listing will be booked or not. Zero meaning it will be avaible to be booked and One meaning the probablility of not having avaliablity to be booked. "
   ]
  },
  {
   "cell_type": "code",
   "execution_count": 398,
   "id": "fab89bdb",
   "metadata": {},
   "outputs": [
    {
     "data": {
      "text/plain": [
       "array([1.30764859e-04, 9.44524910e-06, 5.02872286e-04, 2.56832190e-02,\n",
       "       1.19241171e-03, 2.89269179e-04, 1.16293521e-02, 5.23715501e-03,\n",
       "       2.01724933e-03, 1.87371212e-03, 0.00000000e+00, 3.64846454e-04,\n",
       "       6.23775735e-04, 3.62466834e-04, 1.73445282e-04, 9.37406981e-03,\n",
       "       0.00000000e+00, 1.25713118e-02, 7.10776553e-04, 6.42146000e-02,\n",
       "       5.32512988e-02, 0.00000000e+00, 2.14572636e-05, 2.72374481e-02,\n",
       "       1.65087783e-02, 2.09527416e-02, 7.89478466e-04, 1.21825029e-03,\n",
       "       2.13225520e-04, 1.06505283e-02, 3.72061497e-02, 1.34069742e-02,\n",
       "       4.92665545e-02, 4.37835131e-02, 5.68243596e-02, 8.22618260e-02,\n",
       "       3.56871166e-02, 3.18151452e-02, 1.26158451e-02, 9.38741903e-03,\n",
       "       7.42453161e-03, 1.43668776e-02, 6.46171403e-03, 8.86436759e-03,\n",
       "       1.53085220e-02, 1.93024809e-02, 1.61878342e-03, 1.41031691e-02,\n",
       "       5.72057164e-03, 5.85273979e-02, 4.49773710e-03, 4.96215961e-03,\n",
       "       5.14792856e-03, 5.71929427e-03, 2.41690029e-03, 3.98061232e-03,\n",
       "       3.36342283e-03, 5.65053717e-03, 2.42695616e-03, 3.52584504e-03,\n",
       "       9.57033495e-03, 4.18603294e-03, 5.68826039e-03, 5.21272264e-03,\n",
       "       4.50022428e-03, 1.00002711e-02, 5.75029515e-03, 2.08469095e-03,\n",
       "       3.17409991e-03, 8.89723764e-03, 2.27881729e-03, 7.03711631e-03,\n",
       "       3.15313278e-03, 2.42096506e-03, 4.79635050e-03, 5.23456946e-03,\n",
       "       6.91997617e-03, 3.23604027e-03, 1.10313800e-02, 1.72668428e-03,\n",
       "       1.66990278e-03, 5.43781959e-03, 5.28825580e-03, 2.95501180e-03,\n",
       "       5.54053500e-03, 4.67078966e-03, 5.47094986e-03, 9.11627912e-03,\n",
       "       4.52938785e-03, 2.44875360e-03, 4.49677260e-03, 2.61041124e-03,\n",
       "       5.41726692e-03])"
      ]
     },
     "execution_count": 398,
     "metadata": {},
     "output_type": "execute_result"
    }
   ],
   "source": [
    "# Lookimg at feature importance\n",
    "rf_pipe2[0].feature_importances_"
   ]
  },
  {
   "cell_type": "code",
   "execution_count": 399,
   "id": "0dfbdbf7",
   "metadata": {},
   "outputs": [],
   "source": [
    "feats = {} # a dict to hold feature_name: feature_importance\n",
    "for feature, importance in zip(df_train.columns, rf_pipe2[0].feature_importances_):\n",
    "    feats[feature] = importance #add the name/value pair"
   ]
  },
  {
   "cell_type": "code",
   "execution_count": 397,
   "id": "71bfed9e",
   "metadata": {},
   "outputs": [
    {
     "data": {
      "text/plain": [
       "{'host_response_time_a few days or more': 0.00013076485939479205,\n",
       " 'host_response_time_within a day': 9.445249098055673e-06,\n",
       " 'host_response_time_within a few hours': 0.0005028722863576098,\n",
       " 'host_response_time_within an hour': 0.02568321895461324,\n",
       " 'host_has_profile_pic_f': 0.001192411713387027,\n",
       " 'host_has_profile_pic_t': 0.00028926917915325824,\n",
       " 'host_identity_verified_f': 0.011629352107071826,\n",
       " 'host_identity_verified_t': 0.005237155012865067,\n",
       " 'host_is_superhost_f': 0.0020172493251871754,\n",
       " 'host_is_superhost_t': 0.0018737121179117414,\n",
       " 'neighbourhood_group_cleansed_Bronx': 0.0,\n",
       " 'neighbourhood_group_cleansed_Brooklyn': 0.00036484645445376325,\n",
       " 'neighbourhood_group_cleansed_Manhattan': 0.0006237757351283423,\n",
       " 'neighbourhood_group_cleansed_Queens': 0.0003624668335808277,\n",
       " 'neighbourhood_group_cleansed_Staten Island': 0.00017344528200617925,\n",
       " 'room_type_Entire home/apt': 0.009374069812721939,\n",
       " 'room_type_Hotel room': 0.0,\n",
       " 'room_type_Private room': 0.012571311806117494,\n",
       " 'room_type_Shared room': 0.0007107765528223967,\n",
       " 'instant_bookable_f': 0.06421459996223651,\n",
       " 'instant_bookable_t': 0.05325129880514795,\n",
       " 'Condition_In': 0.0,\n",
       " 'Condition_Out': 2.145726359004069e-05,\n",
       " 'host_listings_count': 0.02723744807391055,\n",
       " 'host_total_listings_count': 0.016508778255464564,\n",
       " 'accommodates': 0.020952741597295023,\n",
       " 'bathrooms_text': 0.0007894784661881527,\n",
       " 'bedrooms': 0.0012182502854308286,\n",
       " 'beds': 0.00021322551972688606,\n",
       " 'price': 0.010650528264315928,\n",
       " 'minimum_nights': 0.037206149693700015,\n",
       " 'maximum_nights': 0.013406974237848448,\n",
       " 'availability_30': 0.049266554523689485,\n",
       " 'availability_60': 0.0437835131194446,\n",
       " 'availability_90': 0.056824359596946775,\n",
       " 'availability_365': 0.08226182602202321,\n",
       " 'number_of_reviews': 0.035687116643290266,\n",
       " 'review_scores_rating': 0.03181514518213659,\n",
       " 'review_scores_accuracy': 0.01261584508250877,\n",
       " 'review_scores_cleanliness': 0.009387419027551027,\n",
       " 'review_scores_checkin': 0.007424531610320012,\n",
       " 'review_scores_communication': 0.014366877633964572,\n",
       " 'review_scores_location': 0.006461714032036469,\n",
       " 'calculated_host_listings_count': 0.00886436759437437,\n",
       " 'calculated_host_listings_count_entire_homes': 0.015308521973806777,\n",
       " 'calculated_host_listings_count_private_rooms': 0.01930248094716852,\n",
       " 'calculated_host_listings_count_shared_rooms': 0.0016187834152315565,\n",
       " 'years_been_host': 0.01410316909285649,\n",
       " 'number_of_verifications': 0.005720571642048475,\n",
       " 'number_of_amenities': 0.05852739794768928,\n",
       " 'Action Center To End World Hunger': 0.004497737104435517,\n",
       " 'Circle Line Downtown': 0.0049621596064345,\n",
       " '3 Legged Dog, Inc.': 0.005147928555987891,\n",
       " 'Church of Our Lady of the Rosary': 0.0057192942689845636,\n",
       " 'Trinity Church': 0.0024169002887286196,\n",
       " 'Museum of American Finance': 0.003980612318687527,\n",
       " 'Bodies The Exhibition': 0.0033634228307193397,\n",
       " 'The Skyscraper Museum': 0.0056505371711769396,\n",
       " 'Museum of Jewish Heritage-A Living Memorial to the Holocaust': 0.002426956163767779,\n",
       " 'Intercoastal Adventures': 0.0035258450359789825,\n",
       " 'Lower Manhattan Community Church': 0.009570334950055218,\n",
       " 'NYSE Euronext': 0.004186032938308345,\n",
       " 'South Street Seaport': 0.005688260392079265,\n",
       " \"St. Paul's Chapel\": 0.005212722644482943,\n",
       " 'World Financial Center Arts & Events Program': 0.0045002242842148415,\n",
       " 'Gray Line Double Decker Bus Tours': 0.010000271050392785,\n",
       " 'Schimmel Center for the Arts': 0.005750295148653451,\n",
       " \"Messiah's Reformed Fellowship\": 0.0020846909456973635,\n",
       " 'Battery Park Synagogue': 0.003174099906841997,\n",
       " 'New York Public Library': 0.008897237636716338,\n",
       " 'Shooting Star Theater': 0.0022788172937389397,\n",
       " 'African Burial Ground National Memorial': 0.007037116314074264,\n",
       " 'Fraunces Tavern Museum': 0.003153132784270057,\n",
       " 'John Street United Methodist Church': 0.0024209650575213746,\n",
       " 'Our Lady of Victory Church': 0.004796350501373237,\n",
       " \"St. Peter's Roman Catholic Church\": 0.005234569464805092,\n",
       " 'Wall Street Helicopter Tours': 0.006919976166882678,\n",
       " 'National Museum of the American Indian': 0.0032360402686006707,\n",
       " 'Regal Battery Park': 0.011031380013625606,\n",
       " 'New York City Police Museum': 0.0017266842834828228,\n",
       " 'Federal Hall National Memorial': 0.0016699027769751043,\n",
       " '9/11 Memorial Preview Site': 0.005437819592623605,\n",
       " 'African American Art Gallery': 0.005288255802494227,\n",
       " 'Tribute WTC': 0.0029550117991944697,\n",
       " 'Center for Castle Garden Immigration': 0.005540534996839981,\n",
       " 'Wall Street Synagogue': 0.004670789659156032,\n",
       " 'Manhattan By Sail': 0.005470949863465053,\n",
       " 'Poets House': 0.009116279116986759,\n",
       " 'South Street Seaport Museum': 0.0045293878501334855,\n",
       " \"Cannon's Walk\": 0.0024487536000320385,\n",
       " 'The River Vineyard Christian Fellowship': 0.004496772595835928,\n",
       " 'Bike & Roll Bike Rentals': 0.0026104112447434295,\n",
       " 'NY Waterway Tours': 0.005417266916988019}"
      ]
     },
     "execution_count": 397,
     "metadata": {},
     "output_type": "execute_result"
    }
   ],
   "source": [
    "feats"
   ]
  },
  {
   "cell_type": "markdown",
   "id": "a10f9f5c",
   "metadata": {},
   "source": [
    "# Conclusion"
   ]
  },
  {
   "cell_type": "markdown",
   "id": "4b92c395",
   "metadata": {},
   "source": [
    "In conclusion, my best model for predicting the probabilty of whether a listing would be booked or not was Random Forest. This model is could also be useful for other airbnb listings in other cities. This model could also be useful for airbnb host to help figure out what features could help improve there listing to be booked."
   ]
  },
  {
   "cell_type": "markdown",
   "id": "b28017b7",
   "metadata": {},
   "source": [
    "# Future Steps"
   ]
  },
  {
   "cell_type": "markdown",
   "id": "a4737123",
   "metadata": {},
   "source": [
    "1. Include data from other cities and comapre it to NYC\n",
    "\n",
    "2. Look for more data with more features. For example, the date of when a listing was booked to see how maybe holidays could effecting booking"
   ]
  }
 ],
 "metadata": {
  "kernelspec": {
   "display_name": "Python 3 (ipykernel)",
   "language": "python",
   "name": "python3"
  },
  "language_info": {
   "codemirror_mode": {
    "name": "ipython",
    "version": 3
   },
   "file_extension": ".py",
   "mimetype": "text/x-python",
   "name": "python",
   "nbconvert_exporter": "python",
   "pygments_lexer": "ipython3",
   "version": "3.8.11"
  }
 },
 "nbformat": 4,
 "nbformat_minor": 5
}

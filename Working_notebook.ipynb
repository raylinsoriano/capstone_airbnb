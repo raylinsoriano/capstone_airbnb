{
 "cells": [
  {
   "cell_type": "code",
   "execution_count": 644,
   "id": "8291eb6e",
   "metadata": {},
   "outputs": [],
   "source": [
    "import pandas as pd\n",
    "import numpy as np\n",
    "import matplotlib.pyplot as plt\n",
    "import seaborn as sns\n",
    "\n",
    "from sklearn.preprocessing import OneHotEncoder\n",
    "from sklearn.model_selection import train_test_split, cross_validate, GridSearchCV, ShuffleSplit\n",
    "from sklearn.pipeline import Pipeline\n",
    "from sklearn.preprocessing import FunctionTransformer, StandardScaler\n",
    "from sklearn.feature_extraction.text import CountVectorizer, TfidfVectorizer\n",
    "from sklearn.naive_bayes import MultinomialNB\n",
    "from sklearn.linear_model import LogisticRegression, LassoCV, RidgeClassifier, Ridge\n",
    "from sklearn.ensemble import RandomForestClassifier\n",
    "from imblearn.over_sampling import SMOTE\n",
    "from imblearn.pipeline import Pipeline as imbpipe\n",
    "from sklearn.metrics import mean_absolute_error, mean_squared_error, r2_score\n",
    "\n",
    "from imblearn.over_sampling import SMOTE\n",
    "from imblearn.pipeline import Pipeline as imbpipe\n",
    "\n",
    "from sklearn.metrics import ConfusionMatrixDisplay, confusion_matrix, \\\n",
    "classification_report, accuracy_score, precision_score, plot_confusion_matrix"
   ]
  },
  {
   "cell_type": "code",
   "execution_count": 645,
   "id": "e70edf84",
   "metadata": {},
   "outputs": [],
   "source": [
    "#conda install -c conda-forge xgboost"
   ]
  },
  {
   "cell_type": "code",
   "execution_count": 646,
   "id": "45c59e55",
   "metadata": {},
   "outputs": [],
   "source": [
    "from xgboost import XGBClassifier"
   ]
  },
  {
   "cell_type": "code",
   "execution_count": 647,
   "id": "240f9c0b",
   "metadata": {},
   "outputs": [
    {
     "name": "stdout",
     "output_type": "stream",
     "text": [
      "Requirement already satisfied: xgboost in /Users/raylinsoriano/anaconda3/lib/python3.8/site-packages (1.4.2)\n",
      "Requirement already satisfied: numpy in /Users/raylinsoriano/anaconda3/lib/python3.8/site-packages (from xgboost) (1.20.3)\n",
      "Requirement already satisfied: scipy in /Users/raylinsoriano/anaconda3/lib/python3.8/site-packages (from xgboost) (1.7.1)\n",
      "Note: you may need to restart the kernel to use updated packages.\n"
     ]
    }
   ],
   "source": [
    "pip install xgboost"
   ]
  },
  {
   "cell_type": "markdown",
   "id": "201f08aa",
   "metadata": {},
   "source": [
    "### Loading the data"
   ]
  },
  {
   "cell_type": "code",
   "execution_count": 648,
   "id": "51c73d19",
   "metadata": {},
   "outputs": [
    {
     "name": "stdout",
     "output_type": "stream",
     "text": [
      "Final_notebook.ipynb    README.md               Working_notebook.ipynb\r\n"
     ]
    }
   ],
   "source": [
    "ls"
   ]
  },
  {
   "cell_type": "code",
   "execution_count": 649,
   "id": "cd6e10f6",
   "metadata": {},
   "outputs": [],
   "source": [
    "df = pd.read_csv('/Users/raylinsoriano/Documents/Flatiron/capstone/data/listings (1).csv')"
   ]
  },
  {
   "cell_type": "code",
   "execution_count": 650,
   "id": "e3db8434",
   "metadata": {},
   "outputs": [
    {
     "data": {
      "text/html": [
       "<div>\n",
       "<style scoped>\n",
       "    .dataframe tbody tr th:only-of-type {\n",
       "        vertical-align: middle;\n",
       "    }\n",
       "\n",
       "    .dataframe tbody tr th {\n",
       "        vertical-align: top;\n",
       "    }\n",
       "\n",
       "    .dataframe thead th {\n",
       "        text-align: right;\n",
       "    }\n",
       "</style>\n",
       "<table border=\"1\" class=\"dataframe\">\n",
       "  <thead>\n",
       "    <tr style=\"text-align: right;\">\n",
       "      <th></th>\n",
       "      <th>id</th>\n",
       "      <th>listing_url</th>\n",
       "      <th>scrape_id</th>\n",
       "      <th>last_scraped</th>\n",
       "      <th>name</th>\n",
       "      <th>description</th>\n",
       "      <th>neighborhood_overview</th>\n",
       "      <th>picture_url</th>\n",
       "      <th>host_id</th>\n",
       "      <th>host_url</th>\n",
       "      <th>...</th>\n",
       "      <th>review_scores_communication</th>\n",
       "      <th>review_scores_location</th>\n",
       "      <th>review_scores_value</th>\n",
       "      <th>license</th>\n",
       "      <th>instant_bookable</th>\n",
       "      <th>calculated_host_listings_count</th>\n",
       "      <th>calculated_host_listings_count_entire_homes</th>\n",
       "      <th>calculated_host_listings_count_private_rooms</th>\n",
       "      <th>calculated_host_listings_count_shared_rooms</th>\n",
       "      <th>reviews_per_month</th>\n",
       "    </tr>\n",
       "  </thead>\n",
       "  <tbody>\n",
       "    <tr>\n",
       "      <th>0</th>\n",
       "      <td>2595</td>\n",
       "      <td>https://www.airbnb.com/rooms/2595</td>\n",
       "      <td>20210901220703</td>\n",
       "      <td>2021-09-02</td>\n",
       "      <td>Skylit Midtown Castle</td>\n",
       "      <td>Beautiful, spacious skylit studio in the heart...</td>\n",
       "      <td>Centrally located in the heart of Manhattan ju...</td>\n",
       "      <td>https://a0.muscache.com/pictures/f0813a11-40b2...</td>\n",
       "      <td>2845</td>\n",
       "      <td>https://www.airbnb.com/users/show/2845</td>\n",
       "      <td>...</td>\n",
       "      <td>4.79</td>\n",
       "      <td>4.86</td>\n",
       "      <td>4.41</td>\n",
       "      <td>NaN</td>\n",
       "      <td>f</td>\n",
       "      <td>3</td>\n",
       "      <td>3</td>\n",
       "      <td>0</td>\n",
       "      <td>0</td>\n",
       "      <td>0.33</td>\n",
       "    </tr>\n",
       "    <tr>\n",
       "      <th>1</th>\n",
       "      <td>3831</td>\n",
       "      <td>https://www.airbnb.com/rooms/3831</td>\n",
       "      <td>20210901220703</td>\n",
       "      <td>2021-09-02</td>\n",
       "      <td>Whole flr w/private bdrm, bath &amp; kitchen(pls r...</td>\n",
       "      <td>Enjoy 500 s.f. top floor in 1899 brownstone, w...</td>\n",
       "      <td>Just the right mix of urban center and local n...</td>\n",
       "      <td>https://a0.muscache.com/pictures/e49999c2-9fd5...</td>\n",
       "      <td>4869</td>\n",
       "      <td>https://www.airbnb.com/users/show/4869</td>\n",
       "      <td>...</td>\n",
       "      <td>4.81</td>\n",
       "      <td>4.72</td>\n",
       "      <td>4.65</td>\n",
       "      <td>NaN</td>\n",
       "      <td>f</td>\n",
       "      <td>1</td>\n",
       "      <td>1</td>\n",
       "      <td>0</td>\n",
       "      <td>0</td>\n",
       "      <td>5.03</td>\n",
       "    </tr>\n",
       "    <tr>\n",
       "      <th>2</th>\n",
       "      <td>5121</td>\n",
       "      <td>https://www.airbnb.com/rooms/5121</td>\n",
       "      <td>20210901220703</td>\n",
       "      <td>2021-09-02</td>\n",
       "      <td>BlissArtsSpace!</td>\n",
       "      <td>&lt;b&gt;The space&lt;/b&gt;&lt;br /&gt;HELLO EVERYONE AND THANK...</td>\n",
       "      <td>NaN</td>\n",
       "      <td>https://a0.muscache.com/pictures/2090980c-b68e...</td>\n",
       "      <td>7356</td>\n",
       "      <td>https://www.airbnb.com/users/show/7356</td>\n",
       "      <td>...</td>\n",
       "      <td>4.91</td>\n",
       "      <td>4.47</td>\n",
       "      <td>4.52</td>\n",
       "      <td>NaN</td>\n",
       "      <td>f</td>\n",
       "      <td>1</td>\n",
       "      <td>0</td>\n",
       "      <td>1</td>\n",
       "      <td>0</td>\n",
       "      <td>0.54</td>\n",
       "    </tr>\n",
       "    <tr>\n",
       "      <th>3</th>\n",
       "      <td>5136</td>\n",
       "      <td>https://www.airbnb.com/rooms/5136</td>\n",
       "      <td>20210901220703</td>\n",
       "      <td>2021-09-02</td>\n",
       "      <td>Spacious Brooklyn Duplex, Patio + Garden</td>\n",
       "      <td>We welcome you to stay in our lovely 2 br dupl...</td>\n",
       "      <td>NaN</td>\n",
       "      <td>https://a0.muscache.com/pictures/miso/Hosting-...</td>\n",
       "      <td>7378</td>\n",
       "      <td>https://www.airbnb.com/users/show/7378</td>\n",
       "      <td>...</td>\n",
       "      <td>5.00</td>\n",
       "      <td>4.50</td>\n",
       "      <td>5.00</td>\n",
       "      <td>NaN</td>\n",
       "      <td>f</td>\n",
       "      <td>1</td>\n",
       "      <td>1</td>\n",
       "      <td>0</td>\n",
       "      <td>0</td>\n",
       "      <td>0.02</td>\n",
       "    </tr>\n",
       "    <tr>\n",
       "      <th>4</th>\n",
       "      <td>5178</td>\n",
       "      <td>https://www.airbnb.com/rooms/5178</td>\n",
       "      <td>20210901220703</td>\n",
       "      <td>2021-09-02</td>\n",
       "      <td>Large Furnished Room Near B'way</td>\n",
       "      <td>Please don’t expect the luxury here just a bas...</td>\n",
       "      <td>Theater district, many restaurants around here.</td>\n",
       "      <td>https://a0.muscache.com/pictures/12065/f070997...</td>\n",
       "      <td>8967</td>\n",
       "      <td>https://www.airbnb.com/users/show/8967</td>\n",
       "      <td>...</td>\n",
       "      <td>4.40</td>\n",
       "      <td>4.86</td>\n",
       "      <td>4.36</td>\n",
       "      <td>NaN</td>\n",
       "      <td>f</td>\n",
       "      <td>1</td>\n",
       "      <td>0</td>\n",
       "      <td>1</td>\n",
       "      <td>0</td>\n",
       "      <td>3.64</td>\n",
       "    </tr>\n",
       "    <tr>\n",
       "      <th>...</th>\n",
       "      <td>...</td>\n",
       "      <td>...</td>\n",
       "      <td>...</td>\n",
       "      <td>...</td>\n",
       "      <td>...</td>\n",
       "      <td>...</td>\n",
       "      <td>...</td>\n",
       "      <td>...</td>\n",
       "      <td>...</td>\n",
       "      <td>...</td>\n",
       "      <td>...</td>\n",
       "      <td>...</td>\n",
       "      <td>...</td>\n",
       "      <td>...</td>\n",
       "      <td>...</td>\n",
       "      <td>...</td>\n",
       "      <td>...</td>\n",
       "      <td>...</td>\n",
       "      <td>...</td>\n",
       "      <td>...</td>\n",
       "      <td>...</td>\n",
       "    </tr>\n",
       "    <tr>\n",
       "      <th>36918</th>\n",
       "      <td>52002317</td>\n",
       "      <td>https://www.airbnb.com/rooms/52002317</td>\n",
       "      <td>20210901220703</td>\n",
       "      <td>2021-09-02</td>\n",
       "      <td>HUGE ROOM IN IDEAL LES SPOT</td>\n",
       "      <td>Extremely Huge Room in the IDEAL Lower East Si...</td>\n",
       "      <td>NaN</td>\n",
       "      <td>https://a0.muscache.com/pictures/40bc2a16-7609...</td>\n",
       "      <td>283057520</td>\n",
       "      <td>https://www.airbnb.com/users/show/283057520</td>\n",
       "      <td>...</td>\n",
       "      <td>NaN</td>\n",
       "      <td>NaN</td>\n",
       "      <td>NaN</td>\n",
       "      <td>NaN</td>\n",
       "      <td>t</td>\n",
       "      <td>4</td>\n",
       "      <td>0</td>\n",
       "      <td>4</td>\n",
       "      <td>0</td>\n",
       "      <td>NaN</td>\n",
       "    </tr>\n",
       "    <tr>\n",
       "      <th>36919</th>\n",
       "      <td>52004427</td>\n",
       "      <td>https://www.airbnb.com/rooms/52004427</td>\n",
       "      <td>20210901220703</td>\n",
       "      <td>2021-09-02</td>\n",
       "      <td>Furnished Cozy Bedroom in East Village Location</td>\n",
       "      <td>Full room in a 4 bedroom, 2 bathroom shared ho...</td>\n",
       "      <td>NaN</td>\n",
       "      <td>https://a0.muscache.com/pictures/361bd18b-3f23...</td>\n",
       "      <td>305240193</td>\n",
       "      <td>https://www.airbnb.com/users/show/305240193</td>\n",
       "      <td>...</td>\n",
       "      <td>NaN</td>\n",
       "      <td>NaN</td>\n",
       "      <td>NaN</td>\n",
       "      <td>NaN</td>\n",
       "      <td>f</td>\n",
       "      <td>307</td>\n",
       "      <td>56</td>\n",
       "      <td>251</td>\n",
       "      <td>0</td>\n",
       "      <td>NaN</td>\n",
       "    </tr>\n",
       "    <tr>\n",
       "      <th>36920</th>\n",
       "      <td>52005507</td>\n",
       "      <td>https://www.airbnb.com/rooms/52005507</td>\n",
       "      <td>20210901220703</td>\n",
       "      <td>2021-09-03</td>\n",
       "      <td>Bedroom Near Train w/ Washer Dryer</td>\n",
       "      <td>Bedroom Near Train w/ Washer Dryer</td>\n",
       "      <td>NaN</td>\n",
       "      <td>https://a0.muscache.com/pictures/miso/Hosting-...</td>\n",
       "      <td>9372363</td>\n",
       "      <td>https://www.airbnb.com/users/show/9372363</td>\n",
       "      <td>...</td>\n",
       "      <td>NaN</td>\n",
       "      <td>NaN</td>\n",
       "      <td>NaN</td>\n",
       "      <td>NaN</td>\n",
       "      <td>f</td>\n",
       "      <td>3</td>\n",
       "      <td>0</td>\n",
       "      <td>3</td>\n",
       "      <td>0</td>\n",
       "      <td>NaN</td>\n",
       "    </tr>\n",
       "    <tr>\n",
       "      <th>36921</th>\n",
       "      <td>52005691</td>\n",
       "      <td>https://www.airbnb.com/rooms/52005691</td>\n",
       "      <td>20210901220703</td>\n",
       "      <td>2021-09-02</td>\n",
       "      <td>Furnished Cozy Bedroom in East Village Location</td>\n",
       "      <td>Full room in a 3 bedroom, 1 bathroom shared ho...</td>\n",
       "      <td>NaN</td>\n",
       "      <td>https://a0.muscache.com/pictures/958369fa-05c1...</td>\n",
       "      <td>305240193</td>\n",
       "      <td>https://www.airbnb.com/users/show/305240193</td>\n",
       "      <td>...</td>\n",
       "      <td>NaN</td>\n",
       "      <td>NaN</td>\n",
       "      <td>NaN</td>\n",
       "      <td>NaN</td>\n",
       "      <td>f</td>\n",
       "      <td>307</td>\n",
       "      <td>56</td>\n",
       "      <td>251</td>\n",
       "      <td>0</td>\n",
       "      <td>NaN</td>\n",
       "    </tr>\n",
       "    <tr>\n",
       "      <th>36922</th>\n",
       "      <td>52006978</td>\n",
       "      <td>https://www.airbnb.com/rooms/52006978</td>\n",
       "      <td>20210901220703</td>\n",
       "      <td>2021-09-02</td>\n",
       "      <td>Luxury Private ROOM in Midtown</td>\n",
       "      <td>Cassa Studios and Residences powered by Outpos...</td>\n",
       "      <td>Walk out of the Cassa  and you’ll immediately ...</td>\n",
       "      <td>https://a0.muscache.com/pictures/97df2011-610f...</td>\n",
       "      <td>367484028</td>\n",
       "      <td>https://www.airbnb.com/users/show/367484028</td>\n",
       "      <td>...</td>\n",
       "      <td>NaN</td>\n",
       "      <td>NaN</td>\n",
       "      <td>NaN</td>\n",
       "      <td>NaN</td>\n",
       "      <td>f</td>\n",
       "      <td>12</td>\n",
       "      <td>0</td>\n",
       "      <td>12</td>\n",
       "      <td>0</td>\n",
       "      <td>NaN</td>\n",
       "    </tr>\n",
       "  </tbody>\n",
       "</table>\n",
       "<p>36923 rows × 74 columns</p>\n",
       "</div>"
      ],
      "text/plain": [
       "             id                            listing_url       scrape_id  \\\n",
       "0          2595      https://www.airbnb.com/rooms/2595  20210901220703   \n",
       "1          3831      https://www.airbnb.com/rooms/3831  20210901220703   \n",
       "2          5121      https://www.airbnb.com/rooms/5121  20210901220703   \n",
       "3          5136      https://www.airbnb.com/rooms/5136  20210901220703   \n",
       "4          5178      https://www.airbnb.com/rooms/5178  20210901220703   \n",
       "...         ...                                    ...             ...   \n",
       "36918  52002317  https://www.airbnb.com/rooms/52002317  20210901220703   \n",
       "36919  52004427  https://www.airbnb.com/rooms/52004427  20210901220703   \n",
       "36920  52005507  https://www.airbnb.com/rooms/52005507  20210901220703   \n",
       "36921  52005691  https://www.airbnb.com/rooms/52005691  20210901220703   \n",
       "36922  52006978  https://www.airbnb.com/rooms/52006978  20210901220703   \n",
       "\n",
       "      last_scraped                                               name  \\\n",
       "0       2021-09-02                              Skylit Midtown Castle   \n",
       "1       2021-09-02  Whole flr w/private bdrm, bath & kitchen(pls r...   \n",
       "2       2021-09-02                                    BlissArtsSpace!   \n",
       "3       2021-09-02           Spacious Brooklyn Duplex, Patio + Garden   \n",
       "4       2021-09-02                   Large Furnished Room Near B'way　   \n",
       "...            ...                                                ...   \n",
       "36918   2021-09-02                        HUGE ROOM IN IDEAL LES SPOT   \n",
       "36919   2021-09-02    Furnished Cozy Bedroom in East Village Location   \n",
       "36920   2021-09-03                 Bedroom Near Train w/ Washer Dryer   \n",
       "36921   2021-09-02    Furnished Cozy Bedroom in East Village Location   \n",
       "36922   2021-09-02                     Luxury Private ROOM in Midtown   \n",
       "\n",
       "                                             description  \\\n",
       "0      Beautiful, spacious skylit studio in the heart...   \n",
       "1      Enjoy 500 s.f. top floor in 1899 brownstone, w...   \n",
       "2      <b>The space</b><br />HELLO EVERYONE AND THANK...   \n",
       "3      We welcome you to stay in our lovely 2 br dupl...   \n",
       "4      Please don’t expect the luxury here just a bas...   \n",
       "...                                                  ...   \n",
       "36918  Extremely Huge Room in the IDEAL Lower East Si...   \n",
       "36919  Full room in a 4 bedroom, 2 bathroom shared ho...   \n",
       "36920                 Bedroom Near Train w/ Washer Dryer   \n",
       "36921  Full room in a 3 bedroom, 1 bathroom shared ho...   \n",
       "36922  Cassa Studios and Residences powered by Outpos...   \n",
       "\n",
       "                                   neighborhood_overview  \\\n",
       "0      Centrally located in the heart of Manhattan ju...   \n",
       "1      Just the right mix of urban center and local n...   \n",
       "2                                                    NaN   \n",
       "3                                                    NaN   \n",
       "4        Theater district, many restaurants around here.   \n",
       "...                                                  ...   \n",
       "36918                                                NaN   \n",
       "36919                                                NaN   \n",
       "36920                                                NaN   \n",
       "36921                                                NaN   \n",
       "36922  Walk out of the Cassa  and you’ll immediately ...   \n",
       "\n",
       "                                             picture_url    host_id  \\\n",
       "0      https://a0.muscache.com/pictures/f0813a11-40b2...       2845   \n",
       "1      https://a0.muscache.com/pictures/e49999c2-9fd5...       4869   \n",
       "2      https://a0.muscache.com/pictures/2090980c-b68e...       7356   \n",
       "3      https://a0.muscache.com/pictures/miso/Hosting-...       7378   \n",
       "4      https://a0.muscache.com/pictures/12065/f070997...       8967   \n",
       "...                                                  ...        ...   \n",
       "36918  https://a0.muscache.com/pictures/40bc2a16-7609...  283057520   \n",
       "36919  https://a0.muscache.com/pictures/361bd18b-3f23...  305240193   \n",
       "36920  https://a0.muscache.com/pictures/miso/Hosting-...    9372363   \n",
       "36921  https://a0.muscache.com/pictures/958369fa-05c1...  305240193   \n",
       "36922  https://a0.muscache.com/pictures/97df2011-610f...  367484028   \n",
       "\n",
       "                                          host_url  ...  \\\n",
       "0           https://www.airbnb.com/users/show/2845  ...   \n",
       "1           https://www.airbnb.com/users/show/4869  ...   \n",
       "2           https://www.airbnb.com/users/show/7356  ...   \n",
       "3           https://www.airbnb.com/users/show/7378  ...   \n",
       "4           https://www.airbnb.com/users/show/8967  ...   \n",
       "...                                            ...  ...   \n",
       "36918  https://www.airbnb.com/users/show/283057520  ...   \n",
       "36919  https://www.airbnb.com/users/show/305240193  ...   \n",
       "36920    https://www.airbnb.com/users/show/9372363  ...   \n",
       "36921  https://www.airbnb.com/users/show/305240193  ...   \n",
       "36922  https://www.airbnb.com/users/show/367484028  ...   \n",
       "\n",
       "      review_scores_communication review_scores_location review_scores_value  \\\n",
       "0                            4.79                   4.86                4.41   \n",
       "1                            4.81                   4.72                4.65   \n",
       "2                            4.91                   4.47                4.52   \n",
       "3                            5.00                   4.50                5.00   \n",
       "4                            4.40                   4.86                4.36   \n",
       "...                           ...                    ...                 ...   \n",
       "36918                         NaN                    NaN                 NaN   \n",
       "36919                         NaN                    NaN                 NaN   \n",
       "36920                         NaN                    NaN                 NaN   \n",
       "36921                         NaN                    NaN                 NaN   \n",
       "36922                         NaN                    NaN                 NaN   \n",
       "\n",
       "      license instant_bookable calculated_host_listings_count  \\\n",
       "0         NaN                f                              3   \n",
       "1         NaN                f                              1   \n",
       "2         NaN                f                              1   \n",
       "3         NaN                f                              1   \n",
       "4         NaN                f                              1   \n",
       "...       ...              ...                            ...   \n",
       "36918     NaN                t                              4   \n",
       "36919     NaN                f                            307   \n",
       "36920     NaN                f                              3   \n",
       "36921     NaN                f                            307   \n",
       "36922     NaN                f                             12   \n",
       "\n",
       "      calculated_host_listings_count_entire_homes  \\\n",
       "0                                               3   \n",
       "1                                               1   \n",
       "2                                               0   \n",
       "3                                               1   \n",
       "4                                               0   \n",
       "...                                           ...   \n",
       "36918                                           0   \n",
       "36919                                          56   \n",
       "36920                                           0   \n",
       "36921                                          56   \n",
       "36922                                           0   \n",
       "\n",
       "      calculated_host_listings_count_private_rooms  \\\n",
       "0                                                0   \n",
       "1                                                0   \n",
       "2                                                1   \n",
       "3                                                0   \n",
       "4                                                1   \n",
       "...                                            ...   \n",
       "36918                                            4   \n",
       "36919                                          251   \n",
       "36920                                            3   \n",
       "36921                                          251   \n",
       "36922                                           12   \n",
       "\n",
       "      calculated_host_listings_count_shared_rooms reviews_per_month  \n",
       "0                                               0              0.33  \n",
       "1                                               0              5.03  \n",
       "2                                               0              0.54  \n",
       "3                                               0              0.02  \n",
       "4                                               0              3.64  \n",
       "...                                           ...               ...  \n",
       "36918                                           0               NaN  \n",
       "36919                                           0               NaN  \n",
       "36920                                           0               NaN  \n",
       "36921                                           0               NaN  \n",
       "36922                                           0               NaN  \n",
       "\n",
       "[36923 rows x 74 columns]"
      ]
     },
     "execution_count": 650,
     "metadata": {},
     "output_type": "execute_result"
    }
   ],
   "source": [
    "df"
   ]
  },
  {
   "cell_type": "code",
   "execution_count": 651,
   "id": "ec03dc77",
   "metadata": {},
   "outputs": [],
   "source": [
    "#df_reviews = pd.read_csv('/Users/raylinsoriano/Documents/Flatiron/capstone/data/reviews (1).csv')"
   ]
  },
  {
   "cell_type": "code",
   "execution_count": 652,
   "id": "f4c2dd04",
   "metadata": {},
   "outputs": [],
   "source": [
    "#df_reviews"
   ]
  },
  {
   "cell_type": "code",
   "execution_count": 653,
   "id": "bf5f92c5",
   "metadata": {},
   "outputs": [
    {
     "data": {
      "text/plain": [
       "(36923, 74)"
      ]
     },
     "execution_count": 653,
     "metadata": {},
     "output_type": "execute_result"
    }
   ],
   "source": [
    "df.shape"
   ]
  },
  {
   "cell_type": "code",
   "execution_count": 654,
   "id": "21927fbc",
   "metadata": {},
   "outputs": [
    {
     "name": "stdout",
     "output_type": "stream",
     "text": [
      "<class 'pandas.core.frame.DataFrame'>\n",
      "RangeIndex: 36923 entries, 0 to 36922\n",
      "Data columns (total 74 columns):\n",
      " #   Column                                        Non-Null Count  Dtype  \n",
      "---  ------                                        --------------  -----  \n",
      " 0   id                                            36923 non-null  int64  \n",
      " 1   listing_url                                   36923 non-null  object \n",
      " 2   scrape_id                                     36923 non-null  int64  \n",
      " 3   last_scraped                                  36923 non-null  object \n",
      " 4   name                                          36910 non-null  object \n",
      " 5   description                                   35710 non-null  object \n",
      " 6   neighborhood_overview                         22510 non-null  object \n",
      " 7   picture_url                                   36923 non-null  object \n",
      " 8   host_id                                       36923 non-null  int64  \n",
      " 9   host_url                                      36923 non-null  object \n",
      " 10  host_name                                     36812 non-null  object \n",
      " 11  host_since                                    36812 non-null  object \n",
      " 12  host_location                                 36714 non-null  object \n",
      " 13  host_about                                    21636 non-null  object \n",
      " 14  host_response_time                            21180 non-null  object \n",
      " 15  host_response_rate                            21180 non-null  object \n",
      " 16  host_acceptance_rate                          21821 non-null  object \n",
      " 17  host_is_superhost                             36812 non-null  object \n",
      " 18  host_thumbnail_url                            36812 non-null  object \n",
      " 19  host_picture_url                              36812 non-null  object \n",
      " 20  host_neighbourhood                            29726 non-null  object \n",
      " 21  host_listings_count                           36812 non-null  float64\n",
      " 22  host_total_listings_count                     36812 non-null  float64\n",
      " 23  host_verifications                            36923 non-null  object \n",
      " 24  host_has_profile_pic                          36812 non-null  object \n",
      " 25  host_identity_verified                        36812 non-null  object \n",
      " 26  neighbourhood                                 22511 non-null  object \n",
      " 27  neighbourhood_cleansed                        36923 non-null  object \n",
      " 28  neighbourhood_group_cleansed                  36923 non-null  object \n",
      " 29  latitude                                      36923 non-null  float64\n",
      " 30  longitude                                     36923 non-null  float64\n",
      " 31  property_type                                 36923 non-null  object \n",
      " 32  room_type                                     36923 non-null  object \n",
      " 33  accommodates                                  36923 non-null  int64  \n",
      " 34  bathrooms                                     0 non-null      float64\n",
      " 35  bathrooms_text                                36818 non-null  object \n",
      " 36  bedrooms                                      32987 non-null  float64\n",
      " 37  beds                                          36312 non-null  float64\n",
      " 38  amenities                                     36923 non-null  object \n",
      " 39  price                                         36923 non-null  object \n",
      " 40  minimum_nights                                36923 non-null  int64  \n",
      " 41  maximum_nights                                36923 non-null  int64  \n",
      " 42  minimum_minimum_nights                        36906 non-null  float64\n",
      " 43  maximum_minimum_nights                        36906 non-null  float64\n",
      " 44  minimum_maximum_nights                        36906 non-null  float64\n",
      " 45  maximum_maximum_nights                        36906 non-null  float64\n",
      " 46  minimum_nights_avg_ntm                        36906 non-null  float64\n",
      " 47  maximum_nights_avg_ntm                        36906 non-null  float64\n",
      " 48  calendar_updated                              0 non-null      float64\n",
      " 49  has_availability                              36923 non-null  object \n",
      " 50  availability_30                               36923 non-null  int64  \n",
      " 51  availability_60                               36923 non-null  int64  \n",
      " 52  availability_90                               36923 non-null  int64  \n",
      " 53  availability_365                              36923 non-null  int64  \n",
      " 54  calendar_last_scraped                         36923 non-null  object \n",
      " 55  number_of_reviews                             36923 non-null  int64  \n",
      " 56  number_of_reviews_ltm                         36923 non-null  int64  \n",
      " 57  number_of_reviews_l30d                        36923 non-null  int64  \n",
      " 58  first_review                                  27627 non-null  object \n",
      " 59  last_review                                   27627 non-null  object \n",
      " 60  review_scores_rating                          27627 non-null  float64\n",
      " 61  review_scores_accuracy                        26998 non-null  float64\n",
      " 62  review_scores_cleanliness                     27009 non-null  float64\n",
      " 63  review_scores_checkin                         26991 non-null  float64\n",
      " 64  review_scores_communication                   27002 non-null  float64\n",
      " 65  review_scores_location                        26987 non-null  float64\n",
      " 66  review_scores_value                           26987 non-null  float64\n",
      " 67  license                                       0 non-null      float64\n",
      " 68  instant_bookable                              36923 non-null  object \n",
      " 69  calculated_host_listings_count                36923 non-null  int64  \n",
      " 70  calculated_host_listings_count_entire_homes   36923 non-null  int64  \n",
      " 71  calculated_host_listings_count_private_rooms  36923 non-null  int64  \n",
      " 72  calculated_host_listings_count_shared_rooms   36923 non-null  int64  \n",
      " 73  reviews_per_month                             27627 non-null  float64\n",
      "dtypes: float64(23), int64(17), object(34)\n",
      "memory usage: 20.8+ MB\n"
     ]
    }
   ],
   "source": [
    "df.info()"
   ]
  },
  {
   "cell_type": "code",
   "execution_count": 655,
   "id": "c416174f",
   "metadata": {},
   "outputs": [],
   "source": [
    "pd.options.display.max_rows = 4000"
   ]
  },
  {
   "cell_type": "code",
   "execution_count": 656,
   "id": "1fa8f334",
   "metadata": {},
   "outputs": [
    {
     "data": {
      "text/plain": [
       "0"
      ]
     },
     "execution_count": 656,
     "metadata": {},
     "output_type": "execute_result"
    }
   ],
   "source": [
    "df.duplicated().sum()"
   ]
  },
  {
   "cell_type": "code",
   "execution_count": 657,
   "id": "a6d27290",
   "metadata": {},
   "outputs": [
    {
     "data": {
      "text/plain": [
       "(36923, 74)"
      ]
     },
     "execution_count": 657,
     "metadata": {},
     "output_type": "execute_result"
    }
   ],
   "source": [
    "df.shape"
   ]
  },
  {
   "cell_type": "code",
   "execution_count": 658,
   "id": "903de2d1",
   "metadata": {
    "scrolled": true
   },
   "outputs": [
    {
     "data": {
      "text/plain": [
       "id                                                  0\n",
       "listing_url                                         0\n",
       "scrape_id                                           0\n",
       "last_scraped                                        0\n",
       "name                                               13\n",
       "description                                      1213\n",
       "neighborhood_overview                           14413\n",
       "picture_url                                         0\n",
       "host_id                                             0\n",
       "host_url                                            0\n",
       "host_name                                         111\n",
       "host_since                                        111\n",
       "host_location                                     209\n",
       "host_about                                      15287\n",
       "host_response_time                              15743\n",
       "host_response_rate                              15743\n",
       "host_acceptance_rate                            15102\n",
       "host_is_superhost                                 111\n",
       "host_thumbnail_url                                111\n",
       "host_picture_url                                  111\n",
       "host_neighbourhood                               7197\n",
       "host_listings_count                               111\n",
       "host_total_listings_count                         111\n",
       "host_verifications                                  0\n",
       "host_has_profile_pic                              111\n",
       "host_identity_verified                            111\n",
       "neighbourhood                                   14412\n",
       "neighbourhood_cleansed                              0\n",
       "neighbourhood_group_cleansed                        0\n",
       "latitude                                            0\n",
       "longitude                                           0\n",
       "property_type                                       0\n",
       "room_type                                           0\n",
       "accommodates                                        0\n",
       "bathrooms                                       36923\n",
       "bathrooms_text                                    105\n",
       "bedrooms                                         3936\n",
       "beds                                              611\n",
       "amenities                                           0\n",
       "price                                               0\n",
       "minimum_nights                                      0\n",
       "maximum_nights                                      0\n",
       "minimum_minimum_nights                             17\n",
       "maximum_minimum_nights                             17\n",
       "minimum_maximum_nights                             17\n",
       "maximum_maximum_nights                             17\n",
       "minimum_nights_avg_ntm                             17\n",
       "maximum_nights_avg_ntm                             17\n",
       "calendar_updated                                36923\n",
       "has_availability                                    0\n",
       "availability_30                                     0\n",
       "availability_60                                     0\n",
       "availability_90                                     0\n",
       "availability_365                                    0\n",
       "calendar_last_scraped                               0\n",
       "number_of_reviews                                   0\n",
       "number_of_reviews_ltm                               0\n",
       "number_of_reviews_l30d                              0\n",
       "first_review                                     9296\n",
       "last_review                                      9296\n",
       "review_scores_rating                             9296\n",
       "review_scores_accuracy                           9925\n",
       "review_scores_cleanliness                        9914\n",
       "review_scores_checkin                            9932\n",
       "review_scores_communication                      9921\n",
       "review_scores_location                           9936\n",
       "review_scores_value                              9936\n",
       "license                                         36923\n",
       "instant_bookable                                    0\n",
       "calculated_host_listings_count                      0\n",
       "calculated_host_listings_count_entire_homes         0\n",
       "calculated_host_listings_count_private_rooms        0\n",
       "calculated_host_listings_count_shared_rooms         0\n",
       "reviews_per_month                                9296\n",
       "dtype: int64"
      ]
     },
     "execution_count": 658,
     "metadata": {},
     "output_type": "execute_result"
    }
   ],
   "source": [
    "df.isna().sum()"
   ]
  },
  {
   "cell_type": "code",
   "execution_count": 659,
   "id": "5a8600ef",
   "metadata": {},
   "outputs": [
    {
     "name": "stdout",
     "output_type": "stream",
     "text": [
      "<class 'pandas.core.frame.DataFrame'>\n",
      "RangeIndex: 36923 entries, 0 to 36922\n",
      "Data columns (total 74 columns):\n",
      " #   Column                                        Non-Null Count  Dtype  \n",
      "---  ------                                        --------------  -----  \n",
      " 0   id                                            36923 non-null  int64  \n",
      " 1   listing_url                                   36923 non-null  object \n",
      " 2   scrape_id                                     36923 non-null  int64  \n",
      " 3   last_scraped                                  36923 non-null  object \n",
      " 4   name                                          36910 non-null  object \n",
      " 5   description                                   35710 non-null  object \n",
      " 6   neighborhood_overview                         22510 non-null  object \n",
      " 7   picture_url                                   36923 non-null  object \n",
      " 8   host_id                                       36923 non-null  int64  \n",
      " 9   host_url                                      36923 non-null  object \n",
      " 10  host_name                                     36812 non-null  object \n",
      " 11  host_since                                    36812 non-null  object \n",
      " 12  host_location                                 36714 non-null  object \n",
      " 13  host_about                                    21636 non-null  object \n",
      " 14  host_response_time                            21180 non-null  object \n",
      " 15  host_response_rate                            21180 non-null  object \n",
      " 16  host_acceptance_rate                          21821 non-null  object \n",
      " 17  host_is_superhost                             36812 non-null  object \n",
      " 18  host_thumbnail_url                            36812 non-null  object \n",
      " 19  host_picture_url                              36812 non-null  object \n",
      " 20  host_neighbourhood                            29726 non-null  object \n",
      " 21  host_listings_count                           36812 non-null  float64\n",
      " 22  host_total_listings_count                     36812 non-null  float64\n",
      " 23  host_verifications                            36923 non-null  object \n",
      " 24  host_has_profile_pic                          36812 non-null  object \n",
      " 25  host_identity_verified                        36812 non-null  object \n",
      " 26  neighbourhood                                 22511 non-null  object \n",
      " 27  neighbourhood_cleansed                        36923 non-null  object \n",
      " 28  neighbourhood_group_cleansed                  36923 non-null  object \n",
      " 29  latitude                                      36923 non-null  float64\n",
      " 30  longitude                                     36923 non-null  float64\n",
      " 31  property_type                                 36923 non-null  object \n",
      " 32  room_type                                     36923 non-null  object \n",
      " 33  accommodates                                  36923 non-null  int64  \n",
      " 34  bathrooms                                     0 non-null      float64\n",
      " 35  bathrooms_text                                36818 non-null  object \n",
      " 36  bedrooms                                      32987 non-null  float64\n",
      " 37  beds                                          36312 non-null  float64\n",
      " 38  amenities                                     36923 non-null  object \n",
      " 39  price                                         36923 non-null  object \n",
      " 40  minimum_nights                                36923 non-null  int64  \n",
      " 41  maximum_nights                                36923 non-null  int64  \n",
      " 42  minimum_minimum_nights                        36906 non-null  float64\n",
      " 43  maximum_minimum_nights                        36906 non-null  float64\n",
      " 44  minimum_maximum_nights                        36906 non-null  float64\n",
      " 45  maximum_maximum_nights                        36906 non-null  float64\n",
      " 46  minimum_nights_avg_ntm                        36906 non-null  float64\n",
      " 47  maximum_nights_avg_ntm                        36906 non-null  float64\n",
      " 48  calendar_updated                              0 non-null      float64\n",
      " 49  has_availability                              36923 non-null  object \n",
      " 50  availability_30                               36923 non-null  int64  \n",
      " 51  availability_60                               36923 non-null  int64  \n",
      " 52  availability_90                               36923 non-null  int64  \n",
      " 53  availability_365                              36923 non-null  int64  \n",
      " 54  calendar_last_scraped                         36923 non-null  object \n",
      " 55  number_of_reviews                             36923 non-null  int64  \n",
      " 56  number_of_reviews_ltm                         36923 non-null  int64  \n",
      " 57  number_of_reviews_l30d                        36923 non-null  int64  \n",
      " 58  first_review                                  27627 non-null  object \n",
      " 59  last_review                                   27627 non-null  object \n",
      " 60  review_scores_rating                          27627 non-null  float64\n",
      " 61  review_scores_accuracy                        26998 non-null  float64\n",
      " 62  review_scores_cleanliness                     27009 non-null  float64\n",
      " 63  review_scores_checkin                         26991 non-null  float64\n",
      " 64  review_scores_communication                   27002 non-null  float64\n",
      " 65  review_scores_location                        26987 non-null  float64\n",
      " 66  review_scores_value                           26987 non-null  float64\n",
      " 67  license                                       0 non-null      float64\n",
      " 68  instant_bookable                              36923 non-null  object \n",
      " 69  calculated_host_listings_count                36923 non-null  int64  \n",
      " 70  calculated_host_listings_count_entire_homes   36923 non-null  int64  \n",
      " 71  calculated_host_listings_count_private_rooms  36923 non-null  int64  \n",
      " 72  calculated_host_listings_count_shared_rooms   36923 non-null  int64  \n",
      " 73  reviews_per_month                             27627 non-null  float64\n",
      "dtypes: float64(23), int64(17), object(34)\n",
      "memory usage: 20.8+ MB\n"
     ]
    }
   ],
   "source": [
    "df.info()"
   ]
  },
  {
   "cell_type": "code",
   "execution_count": 660,
   "id": "19da4765",
   "metadata": {},
   "outputs": [
    {
     "data": {
      "text/plain": [
       "(36923, 74)"
      ]
     },
     "execution_count": 660,
     "metadata": {},
     "output_type": "execute_result"
    }
   ],
   "source": [
    "df.shape"
   ]
  },
  {
   "cell_type": "code",
   "execution_count": 661,
   "id": "7bd621ce",
   "metadata": {},
   "outputs": [
    {
     "data": {
      "text/plain": [
       "id                                                  0\n",
       "listing_url                                         0\n",
       "scrape_id                                           0\n",
       "last_scraped                                        0\n",
       "name                                               13\n",
       "description                                      1213\n",
       "neighborhood_overview                           14413\n",
       "picture_url                                         0\n",
       "host_id                                             0\n",
       "host_url                                            0\n",
       "host_name                                         111\n",
       "host_since                                        111\n",
       "host_location                                     209\n",
       "host_about                                      15287\n",
       "host_response_time                              15743\n",
       "host_response_rate                              15743\n",
       "host_acceptance_rate                            15102\n",
       "host_is_superhost                                 111\n",
       "host_thumbnail_url                                111\n",
       "host_picture_url                                  111\n",
       "host_neighbourhood                               7197\n",
       "host_listings_count                               111\n",
       "host_total_listings_count                         111\n",
       "host_verifications                                  0\n",
       "host_has_profile_pic                              111\n",
       "host_identity_verified                            111\n",
       "neighbourhood                                   14412\n",
       "neighbourhood_cleansed                              0\n",
       "neighbourhood_group_cleansed                        0\n",
       "latitude                                            0\n",
       "longitude                                           0\n",
       "property_type                                       0\n",
       "room_type                                           0\n",
       "accommodates                                        0\n",
       "bathrooms                                       36923\n",
       "bathrooms_text                                    105\n",
       "bedrooms                                         3936\n",
       "beds                                              611\n",
       "amenities                                           0\n",
       "price                                               0\n",
       "minimum_nights                                      0\n",
       "maximum_nights                                      0\n",
       "minimum_minimum_nights                             17\n",
       "maximum_minimum_nights                             17\n",
       "minimum_maximum_nights                             17\n",
       "maximum_maximum_nights                             17\n",
       "minimum_nights_avg_ntm                             17\n",
       "maximum_nights_avg_ntm                             17\n",
       "calendar_updated                                36923\n",
       "has_availability                                    0\n",
       "availability_30                                     0\n",
       "availability_60                                     0\n",
       "availability_90                                     0\n",
       "availability_365                                    0\n",
       "calendar_last_scraped                               0\n",
       "number_of_reviews                                   0\n",
       "number_of_reviews_ltm                               0\n",
       "number_of_reviews_l30d                              0\n",
       "first_review                                     9296\n",
       "last_review                                      9296\n",
       "review_scores_rating                             9296\n",
       "review_scores_accuracy                           9925\n",
       "review_scores_cleanliness                        9914\n",
       "review_scores_checkin                            9932\n",
       "review_scores_communication                      9921\n",
       "review_scores_location                           9936\n",
       "review_scores_value                              9936\n",
       "license                                         36923\n",
       "instant_bookable                                    0\n",
       "calculated_host_listings_count                      0\n",
       "calculated_host_listings_count_entire_homes         0\n",
       "calculated_host_listings_count_private_rooms        0\n",
       "calculated_host_listings_count_shared_rooms         0\n",
       "reviews_per_month                                9296\n",
       "dtype: int64"
      ]
     },
     "execution_count": 661,
     "metadata": {},
     "output_type": "execute_result"
    }
   ],
   "source": [
    "df.isna().sum()"
   ]
  },
  {
   "cell_type": "code",
   "execution_count": 662,
   "id": "6519ade2",
   "metadata": {},
   "outputs": [
    {
     "data": {
      "text/plain": [
       "(36923, 74)"
      ]
     },
     "execution_count": 662,
     "metadata": {},
     "output_type": "execute_result"
    }
   ],
   "source": [
    "df.shape"
   ]
  },
  {
   "cell_type": "markdown",
   "id": "78daa5f9",
   "metadata": {},
   "source": [
    "#### Creating new columns"
   ]
  },
  {
   "cell_type": "code",
   "execution_count": 663,
   "id": "4b3bf034",
   "metadata": {},
   "outputs": [],
   "source": [
    "# Created a column for how many years the airbnb has been a host\n",
    "df['host_since'] = pd.to_datetime(df['host_since'])\n",
    "df['year'] = df['host_since'].apply(lambda date: date.year)\n",
    "\n",
    "df['years_been_host'] = max(df['year']) - df['year']"
   ]
  },
  {
   "cell_type": "code",
   "execution_count": 664,
   "id": "95da3334",
   "metadata": {},
   "outputs": [],
   "source": [
    "#Created a column of how many verifications each host has\n",
    "df['number_of_verifications'] = df.host_verifications.str.count(',')+1"
   ]
  },
  {
   "cell_type": "code",
   "execution_count": 665,
   "id": "c9061ed8",
   "metadata": {},
   "outputs": [],
   "source": [
    "#Created a column of how many amenities each host has\n",
    "df['number_of_amenities'] = df.amenities.str.count(',')+1"
   ]
  },
  {
   "cell_type": "code",
   "execution_count": 666,
   "id": "04eb31a5",
   "metadata": {},
   "outputs": [],
   "source": [
    "#df['amenities'].str.split(\",\", n = 49, expand = True)"
   ]
  },
  {
   "cell_type": "code",
   "execution_count": 667,
   "id": "bd43cd74",
   "metadata": {},
   "outputs": [],
   "source": [
    "median = df.filter(['review_scores_rating', 'review_scores_accuracy', 'review_scores_cleanliness', 'review_scores_checkin',\n",
    "        'review_scores_communication', 'review_scores_location','host_listings_count','host_total_listings_count',\n",
    "        'beds', 'bedrooms','years_been_host','accommodates']).median()\n",
    "\n"
   ]
  },
  {
   "cell_type": "code",
   "execution_count": 668,
   "id": "37b99691",
   "metadata": {},
   "outputs": [],
   "source": [
    "cols = ['review_scores_rating', 'review_scores_accuracy', 'review_scores_cleanliness', 'review_scores_checkin',\n",
    "        'review_scores_communication', 'review_scores_location','host_listings_count','host_total_listings_count',\n",
    "        'beds', 'bedrooms','years_been_host','accommodates']                          \n",
    "df[cols]=df[cols].fillna(median)"
   ]
  },
  {
   "cell_type": "code",
   "execution_count": null,
   "id": "965d597f",
   "metadata": {},
   "outputs": [],
   "source": []
  },
  {
   "cell_type": "markdown",
   "id": "75550985",
   "metadata": {},
   "source": [
    "#### removing rows not needed"
   ]
  },
  {
   "cell_type": "code",
   "execution_count": 669,
   "id": "f17fc614",
   "metadata": {},
   "outputs": [],
   "source": [
    "df = df.drop(['host_url','listing_url', 'picture_url','host_thumbnail_url', 'host_picture_url','neighbourhood'\n",
    "              ,'host_neighbourhood','property_type','bathrooms', 'minimum_minimum_nights', 'maximum_minimum_nights'\n",
    "             ,'minimum_maximum_nights','maximum_maximum_nights', 'minimum_nights_avg_ntm','maximum_nights_avg_ntm'\n",
    "             ,'calendar_updated','calendar_last_scraped', 'number_of_reviews_ltm', 'number_of_reviews_l30d'\n",
    "             ,'first_review','last_review', 'review_scores_value','license','reviews_per_month', 'neighborhood_overview'\n",
    "             ,'host_response_rate', 'host_acceptance_rate','host_about', 'host_location', 'scrape_id','last_scraped'\n",
    "             ,'host_since','year', 'neighbourhood_cleansed', 'amenities','host_name', 'name', 'host_id', 'description'], axis=1)\n",
    "\n"
   ]
  },
  {
   "cell_type": "code",
   "execution_count": 670,
   "id": "4a188d2d",
   "metadata": {},
   "outputs": [
    {
     "data": {
      "text/plain": [
       "(36923, 39)"
      ]
     },
     "execution_count": 670,
     "metadata": {},
     "output_type": "execute_result"
    }
   ],
   "source": [
    "df.shape"
   ]
  },
  {
   "cell_type": "code",
   "execution_count": 671,
   "id": "d5274e5d",
   "metadata": {},
   "outputs": [],
   "source": [
    "labels = ['host_response_time','host_is_superhost','host_has_profile_pic','host_identity_verified']"
   ]
  },
  {
   "cell_type": "code",
   "execution_count": 672,
   "id": "9bea24b8",
   "metadata": {},
   "outputs": [],
   "source": [
    "df= df.fillna(df.mode().iloc[0])"
   ]
  },
  {
   "cell_type": "code",
   "execution_count": 673,
   "id": "a8936da8",
   "metadata": {},
   "outputs": [
    {
     "data": {
      "text/plain": [
       "id                                              0\n",
       "host_response_time                              0\n",
       "host_is_superhost                               0\n",
       "host_listings_count                             0\n",
       "host_total_listings_count                       0\n",
       "host_verifications                              0\n",
       "host_has_profile_pic                            0\n",
       "host_identity_verified                          0\n",
       "neighbourhood_group_cleansed                    0\n",
       "latitude                                        0\n",
       "longitude                                       0\n",
       "room_type                                       0\n",
       "accommodates                                    0\n",
       "bathrooms_text                                  0\n",
       "bedrooms                                        0\n",
       "beds                                            0\n",
       "price                                           0\n",
       "minimum_nights                                  0\n",
       "maximum_nights                                  0\n",
       "has_availability                                0\n",
       "availability_30                                 0\n",
       "availability_60                                 0\n",
       "availability_90                                 0\n",
       "availability_365                                0\n",
       "number_of_reviews                               0\n",
       "review_scores_rating                            0\n",
       "review_scores_accuracy                          0\n",
       "review_scores_cleanliness                       0\n",
       "review_scores_checkin                           0\n",
       "review_scores_communication                     0\n",
       "review_scores_location                          0\n",
       "instant_bookable                                0\n",
       "calculated_host_listings_count                  0\n",
       "calculated_host_listings_count_entire_homes     0\n",
       "calculated_host_listings_count_private_rooms    0\n",
       "calculated_host_listings_count_shared_rooms     0\n",
       "years_been_host                                 0\n",
       "number_of_verifications                         0\n",
       "number_of_amenities                             0\n",
       "dtype: int64"
      ]
     },
     "execution_count": 673,
     "metadata": {},
     "output_type": "execute_result"
    }
   ],
   "source": [
    "df.isna().sum()"
   ]
  },
  {
   "cell_type": "code",
   "execution_count": 674,
   "id": "e0643ac2",
   "metadata": {},
   "outputs": [
    {
     "name": "stderr",
     "output_type": "stream",
     "text": [
      "/Users/raylinsoriano/anaconda3/lib/python3.8/site-packages/seaborn/_decorators.py:36: FutureWarning: Pass the following variable as a keyword arg: x. From version 0.12, the only valid positional argument will be `data`, and passing other arguments without an explicit keyword will result in an error or misinterpretation.\n",
      "  warnings.warn(\n"
     ]
    },
    {
     "data": {
      "image/png": "[encoded data removed]",
      "text/plain": [
       "<Figure size 936x504 with 1 Axes>"
      ]
     },
     "metadata": {
      "needs_background": "light"
     },
     "output_type": "display_data"
    }
   ],
   "source": [
    "plt.figure(figsize=(13,7))\n",
    "plt.title(\"Counts of Airbnb per Neighbourhood\")\n",
    "sns.countplot(df.neighbourhood_group_cleansed, palette=\"muted\")\n",
    "fig = plt.gcf()\n",
    "plt.show()"
   ]
  },
  {
   "cell_type": "code",
   "execution_count": 675,
   "id": "b6c6a740",
   "metadata": {},
   "outputs": [],
   "source": [
    "# import nums_from_string\n",
    "# numbers = []\n",
    "# for word in df.bathrooms_text.str.split():\n",
    "#     if word is isdigit():\n",
    "#         numbers.append(int(word))\n",
    "\n",
    "# print(numbers)\n",
    "#numbers = [int(word) for word in a_string.split() if word.isdigit()]\n",
    "\n",
    "#df['bt'] = df['bathrooms_text'].apply(nums_from_string.get_nums(df['bathrooms_text'].to_string()))\n",
    "#df['bt'] = df['bathrooms_text'].apply([i for i in nums_from_string.get_nums(df['bathrooms_text'].to_string())])\n",
    "\n",
    "# for a in nums_from_string.get_nums(df['bathrooms_text'].to_string()):\n",
    "#                                    numbers.append(a)\n",
    "#type(df.bathrooms_text.to_string)\n",
    "#nums_from_string.get_nums(df['bathrooms_text'].to_string())"
   ]
  },
  {
   "cell_type": "markdown",
   "id": "2051c15a",
   "metadata": {},
   "source": [
    "#### Imbalanced Target"
   ]
  },
  {
   "cell_type": "code",
   "execution_count": null,
   "id": "340d20d6",
   "metadata": {},
   "outputs": [],
   "source": []
  },
  {
   "cell_type": "code",
   "execution_count": 676,
   "id": "10b75aa5",
   "metadata": {},
   "outputs": [],
   "source": [
    "df['has_availability'] = df['has_availability'].map({'t': 0,\n",
    "                                     'f': 1,})"
   ]
  },
  {
   "cell_type": "code",
   "execution_count": 677,
   "id": "57ce367a",
   "metadata": {},
   "outputs": [
    {
     "data": {
      "text/plain": [
       "0    34791\n",
       "1     2132\n",
       "Name: has_availability, dtype: int64"
      ]
     },
     "execution_count": 677,
     "metadata": {},
     "output_type": "execute_result"
    }
   ],
   "source": [
    "df['has_availability'].value_counts()"
   ]
  },
  {
   "cell_type": "markdown",
   "id": "f656fc43",
   "metadata": {},
   "source": [
    "## Modeling"
   ]
  },
  {
   "cell_type": "markdown",
   "id": "673d7d52",
   "metadata": {},
   "source": [
    "### Train/Test Split"
   ]
  },
  {
   "cell_type": "code",
   "execution_count": 678,
   "id": "8a7eee66",
   "metadata": {},
   "outputs": [],
   "source": [
    "X= df.drop([\"has_availability\",'id', 'latitude','longitude'],axis=1)\n",
    "y= df[\"has_availability\"]\n",
    "\n",
    "X_train, X_test, y_train, y_test= train_test_split(X, y, stratify=y)"
   ]
  },
  {
   "cell_type": "markdown",
   "id": "e9c7e73d",
   "metadata": {},
   "source": [
    "### One Hot Encoded"
   ]
  },
  {
   "cell_type": "code",
   "execution_count": 679,
   "id": "26a520c0",
   "metadata": {},
   "outputs": [],
   "source": [
    "#Categorical variables to use\n",
    "categorical_vars = [\"host_response_time\",\"host_has_profile_pic\",\"host_identity_verified\",\"host_is_superhost\"\n",
    "            ,\"neighbourhood_group_cleansed\",\"room_type\",\"instant_bookable\", \"bathrooms_text\"]\n",
    "\n",
    "# Numerical Variables to use\n",
    "# num_vars = ['price','minimum_nights','bedrooms', 'beds', \"reviews_per_month\",\"host_listings_count\",\n",
    "#            \"calculated_host_listings_count_shared_rooms\", \"host_response_rate\", \"host_acceptance_rate\",\n",
    "#            \"review_scores_cleanliness\",\"review_scores_value\",\"review_scores_rating\", \"number_of_reviews\"]"
   ]
  },
  {
   "cell_type": "code",
   "execution_count": 680,
   "id": "afe3b8b0",
   "metadata": {},
   "outputs": [],
   "source": [
    "train = X_train[categorical_vars]\n",
    "\n",
    "# Create OneHotEncoder object to create dummies\n",
    "ohe = OneHotEncoder(handle_unknown='ignore')\n",
    "enc = ohe.fit(train)\n",
    "train_dummies_trans = enc.transform(train)\n",
    "\n",
    "# Dummies values in matrix form\n",
    "train_data = train_dummies_trans.todense()\n",
    "\n",
    "# New dummy column names\n",
    "names = ohe.get_feature_names(categorical_vars)\n",
    "\n",
    "# Make them into Dataframe\n",
    "train_dummies_trans_df = pd.DataFrame(train_data, columns=names,index = X_train.index)"
   ]
  },
  {
   "cell_type": "code",
   "execution_count": 681,
   "id": "eca51597",
   "metadata": {},
   "outputs": [],
   "source": [
    "# test_dummies = X_test[categorical_vars]\n",
    "# Create OneHotEncoder object to create dummies\n",
    "# ohe = OneHotEncoder(handle_unknown='ignore')\n",
    "\n",
    "# # Transform the dataset into dummies matrix\n",
    "# enc = ohe.fit(test_dummies)\n",
    "# test_dummies_trans = enc.transform(test_dummies)\n",
    "\n",
    "# # Dummies values in matrix form\n",
    "# test_data = test_dummies_trans.todense()\n",
    "\n",
    "# # New dummy column names\n",
    "# names = ohe.get_feature_names(categorical_vars)\n",
    "\n",
    "# # Make them into Dataframe\n",
    "# test_dummies_trans_df = pd.DataFrame(test_data, columns=names,index = X_test.index)"
   ]
  },
  {
   "cell_type": "code",
   "execution_count": 682,
   "id": "6e39ffbe",
   "metadata": {},
   "outputs": [],
   "source": [
    "numerical = (X_train.select_dtypes(exclude='object'))\n",
    "numerical = pd.DataFrame(numerical, index = X_train.index)\n",
    "df_train = train_dummies_trans_df.merge(numerical, left_index = True , right_index=True)"
   ]
  },
  {
   "cell_type": "code",
   "execution_count": 683,
   "id": "53ca5139",
   "metadata": {},
   "outputs": [],
   "source": [
    "# numerical = (X_train.select_dtypes(exclude='object'))\n",
    "# numerical = pd.DataFrame(numerical, index = X_train.index)\n",
    "# text = X_train['description']\n",
    "# text = pd.DataFrame(text, index = X_train.index)\n",
    "# text_and_numerical = text.merge(numerical, left_index = True , right_index=True)\n",
    "# df_train = train_dummies_trans_df.merge(text_and_numerical, left_index = True , right_index=True)"
   ]
  },
  {
   "cell_type": "code",
   "execution_count": 684,
   "id": "2000f50f",
   "metadata": {},
   "outputs": [
    {
     "data": {
      "text/html": [
       "<div>\n",
       "<style scoped>\n",
       "    .dataframe tbody tr th:only-of-type {\n",
       "        vertical-align: middle;\n",
       "    }\n",
       "\n",
       "    .dataframe tbody tr th {\n",
       "        vertical-align: top;\n",
       "    }\n",
       "\n",
       "    .dataframe thead th {\n",
       "        text-align: right;\n",
       "    }\n",
       "</style>\n",
       "<table border=\"1\" class=\"dataframe\">\n",
       "  <thead>\n",
       "    <tr style=\"text-align: right;\">\n",
       "      <th></th>\n",
       "      <th>host_response_time_a few days or more</th>\n",
       "      <th>host_response_time_within a day</th>\n",
       "      <th>host_response_time_within a few hours</th>\n",
       "      <th>host_response_time_within an hour</th>\n",
       "      <th>host_has_profile_pic_f</th>\n",
       "      <th>host_has_profile_pic_t</th>\n",
       "      <th>host_identity_verified_f</th>\n",
       "      <th>host_identity_verified_t</th>\n",
       "      <th>host_is_superhost_f</th>\n",
       "      <th>host_is_superhost_t</th>\n",
       "      <th>...</th>\n",
       "      <th>review_scores_checkin</th>\n",
       "      <th>review_scores_communication</th>\n",
       "      <th>review_scores_location</th>\n",
       "      <th>calculated_host_listings_count</th>\n",
       "      <th>calculated_host_listings_count_entire_homes</th>\n",
       "      <th>calculated_host_listings_count_private_rooms</th>\n",
       "      <th>calculated_host_listings_count_shared_rooms</th>\n",
       "      <th>years_been_host</th>\n",
       "      <th>number_of_verifications</th>\n",
       "      <th>number_of_amenities</th>\n",
       "    </tr>\n",
       "  </thead>\n",
       "  <tbody>\n",
       "    <tr>\n",
       "      <th>18048</th>\n",
       "      <td>0.0</td>\n",
       "      <td>0.0</td>\n",
       "      <td>1.0</td>\n",
       "      <td>0.0</td>\n",
       "      <td>0.0</td>\n",
       "      <td>1.0</td>\n",
       "      <td>0.0</td>\n",
       "      <td>1.0</td>\n",
       "      <td>1.0</td>\n",
       "      <td>0.0</td>\n",
       "      <td>...</td>\n",
       "      <td>5.00</td>\n",
       "      <td>5.00</td>\n",
       "      <td>5.00</td>\n",
       "      <td>1</td>\n",
       "      <td>0</td>\n",
       "      <td>1</td>\n",
       "      <td>0</td>\n",
       "      <td>3.0</td>\n",
       "      <td>2</td>\n",
       "      <td>23</td>\n",
       "    </tr>\n",
       "    <tr>\n",
       "      <th>1273</th>\n",
       "      <td>0.0</td>\n",
       "      <td>0.0</td>\n",
       "      <td>0.0</td>\n",
       "      <td>1.0</td>\n",
       "      <td>0.0</td>\n",
       "      <td>1.0</td>\n",
       "      <td>0.0</td>\n",
       "      <td>1.0</td>\n",
       "      <td>1.0</td>\n",
       "      <td>0.0</td>\n",
       "      <td>...</td>\n",
       "      <td>5.00</td>\n",
       "      <td>5.00</td>\n",
       "      <td>5.00</td>\n",
       "      <td>1</td>\n",
       "      <td>1</td>\n",
       "      <td>0</td>\n",
       "      <td>0</td>\n",
       "      <td>9.0</td>\n",
       "      <td>4</td>\n",
       "      <td>6</td>\n",
       "    </tr>\n",
       "    <tr>\n",
       "      <th>10649</th>\n",
       "      <td>0.0</td>\n",
       "      <td>0.0</td>\n",
       "      <td>0.0</td>\n",
       "      <td>1.0</td>\n",
       "      <td>0.0</td>\n",
       "      <td>1.0</td>\n",
       "      <td>0.0</td>\n",
       "      <td>1.0</td>\n",
       "      <td>1.0</td>\n",
       "      <td>0.0</td>\n",
       "      <td>...</td>\n",
       "      <td>5.00</td>\n",
       "      <td>5.00</td>\n",
       "      <td>5.00</td>\n",
       "      <td>1</td>\n",
       "      <td>0</td>\n",
       "      <td>1</td>\n",
       "      <td>0</td>\n",
       "      <td>5.0</td>\n",
       "      <td>5</td>\n",
       "      <td>6</td>\n",
       "    </tr>\n",
       "    <tr>\n",
       "      <th>1422</th>\n",
       "      <td>0.0</td>\n",
       "      <td>0.0</td>\n",
       "      <td>0.0</td>\n",
       "      <td>1.0</td>\n",
       "      <td>0.0</td>\n",
       "      <td>1.0</td>\n",
       "      <td>0.0</td>\n",
       "      <td>1.0</td>\n",
       "      <td>0.0</td>\n",
       "      <td>1.0</td>\n",
       "      <td>...</td>\n",
       "      <td>5.00</td>\n",
       "      <td>5.00</td>\n",
       "      <td>5.00</td>\n",
       "      <td>1</td>\n",
       "      <td>1</td>\n",
       "      <td>0</td>\n",
       "      <td>0</td>\n",
       "      <td>9.0</td>\n",
       "      <td>8</td>\n",
       "      <td>25</td>\n",
       "    </tr>\n",
       "    <tr>\n",
       "      <th>19498</th>\n",
       "      <td>0.0</td>\n",
       "      <td>0.0</td>\n",
       "      <td>0.0</td>\n",
       "      <td>1.0</td>\n",
       "      <td>0.0</td>\n",
       "      <td>1.0</td>\n",
       "      <td>0.0</td>\n",
       "      <td>1.0</td>\n",
       "      <td>1.0</td>\n",
       "      <td>0.0</td>\n",
       "      <td>...</td>\n",
       "      <td>4.96</td>\n",
       "      <td>4.98</td>\n",
       "      <td>4.88</td>\n",
       "      <td>297</td>\n",
       "      <td>297</td>\n",
       "      <td>0</td>\n",
       "      <td>0</td>\n",
       "      <td>5.0</td>\n",
       "      <td>9</td>\n",
       "      <td>29</td>\n",
       "    </tr>\n",
       "    <tr>\n",
       "      <th>...</th>\n",
       "      <td>...</td>\n",
       "      <td>...</td>\n",
       "      <td>...</td>\n",
       "      <td>...</td>\n",
       "      <td>...</td>\n",
       "      <td>...</td>\n",
       "      <td>...</td>\n",
       "      <td>...</td>\n",
       "      <td>...</td>\n",
       "      <td>...</td>\n",
       "      <td>...</td>\n",
       "      <td>...</td>\n",
       "      <td>...</td>\n",
       "      <td>...</td>\n",
       "      <td>...</td>\n",
       "      <td>...</td>\n",
       "      <td>...</td>\n",
       "      <td>...</td>\n",
       "      <td>...</td>\n",
       "      <td>...</td>\n",
       "      <td>...</td>\n",
       "    </tr>\n",
       "    <tr>\n",
       "      <th>32852</th>\n",
       "      <td>0.0</td>\n",
       "      <td>0.0</td>\n",
       "      <td>0.0</td>\n",
       "      <td>1.0</td>\n",
       "      <td>0.0</td>\n",
       "      <td>1.0</td>\n",
       "      <td>0.0</td>\n",
       "      <td>1.0</td>\n",
       "      <td>1.0</td>\n",
       "      <td>0.0</td>\n",
       "      <td>...</td>\n",
       "      <td>4.55</td>\n",
       "      <td>4.27</td>\n",
       "      <td>4.91</td>\n",
       "      <td>3</td>\n",
       "      <td>0</td>\n",
       "      <td>3</td>\n",
       "      <td>0</td>\n",
       "      <td>2.0</td>\n",
       "      <td>6</td>\n",
       "      <td>14</td>\n",
       "    </tr>\n",
       "    <tr>\n",
       "      <th>34265</th>\n",
       "      <td>0.0</td>\n",
       "      <td>0.0</td>\n",
       "      <td>0.0</td>\n",
       "      <td>1.0</td>\n",
       "      <td>0.0</td>\n",
       "      <td>1.0</td>\n",
       "      <td>0.0</td>\n",
       "      <td>1.0</td>\n",
       "      <td>1.0</td>\n",
       "      <td>0.0</td>\n",
       "      <td>...</td>\n",
       "      <td>1.00</td>\n",
       "      <td>1.00</td>\n",
       "      <td>5.00</td>\n",
       "      <td>24</td>\n",
       "      <td>7</td>\n",
       "      <td>17</td>\n",
       "      <td>0</td>\n",
       "      <td>1.0</td>\n",
       "      <td>7</td>\n",
       "      <td>13</td>\n",
       "    </tr>\n",
       "    <tr>\n",
       "      <th>25284</th>\n",
       "      <td>0.0</td>\n",
       "      <td>1.0</td>\n",
       "      <td>0.0</td>\n",
       "      <td>0.0</td>\n",
       "      <td>0.0</td>\n",
       "      <td>1.0</td>\n",
       "      <td>0.0</td>\n",
       "      <td>1.0</td>\n",
       "      <td>1.0</td>\n",
       "      <td>0.0</td>\n",
       "      <td>...</td>\n",
       "      <td>5.00</td>\n",
       "      <td>5.00</td>\n",
       "      <td>5.00</td>\n",
       "      <td>2</td>\n",
       "      <td>0</td>\n",
       "      <td>2</td>\n",
       "      <td>0</td>\n",
       "      <td>7.0</td>\n",
       "      <td>6</td>\n",
       "      <td>30</td>\n",
       "    </tr>\n",
       "    <tr>\n",
       "      <th>21007</th>\n",
       "      <td>0.0</td>\n",
       "      <td>0.0</td>\n",
       "      <td>0.0</td>\n",
       "      <td>1.0</td>\n",
       "      <td>0.0</td>\n",
       "      <td>1.0</td>\n",
       "      <td>0.0</td>\n",
       "      <td>1.0</td>\n",
       "      <td>0.0</td>\n",
       "      <td>1.0</td>\n",
       "      <td>...</td>\n",
       "      <td>4.88</td>\n",
       "      <td>4.88</td>\n",
       "      <td>4.13</td>\n",
       "      <td>2</td>\n",
       "      <td>0</td>\n",
       "      <td>2</td>\n",
       "      <td>0</td>\n",
       "      <td>5.0</td>\n",
       "      <td>6</td>\n",
       "      <td>16</td>\n",
       "    </tr>\n",
       "    <tr>\n",
       "      <th>31149</th>\n",
       "      <td>1.0</td>\n",
       "      <td>0.0</td>\n",
       "      <td>0.0</td>\n",
       "      <td>0.0</td>\n",
       "      <td>0.0</td>\n",
       "      <td>1.0</td>\n",
       "      <td>0.0</td>\n",
       "      <td>1.0</td>\n",
       "      <td>1.0</td>\n",
       "      <td>0.0</td>\n",
       "      <td>...</td>\n",
       "      <td>3.00</td>\n",
       "      <td>2.00</td>\n",
       "      <td>3.00</td>\n",
       "      <td>1</td>\n",
       "      <td>0</td>\n",
       "      <td>1</td>\n",
       "      <td>0</td>\n",
       "      <td>0.0</td>\n",
       "      <td>6</td>\n",
       "      <td>16</td>\n",
       "    </tr>\n",
       "  </tbody>\n",
       "</table>\n",
       "<p>27692 rows × 76 columns</p>\n",
       "</div>"
      ],
      "text/plain": [
       "       host_response_time_a few days or more  host_response_time_within a day  \\\n",
       "18048                                    0.0                              0.0   \n",
       "1273                                     0.0                              0.0   \n",
       "10649                                    0.0                              0.0   \n",
       "1422                                     0.0                              0.0   \n",
       "19498                                    0.0                              0.0   \n",
       "...                                      ...                              ...   \n",
       "32852                                    0.0                              0.0   \n",
       "34265                                    0.0                              0.0   \n",
       "25284                                    0.0                              1.0   \n",
       "21007                                    0.0                              0.0   \n",
       "31149                                    1.0                              0.0   \n",
       "\n",
       "       host_response_time_within a few hours  \\\n",
       "18048                                    1.0   \n",
       "1273                                     0.0   \n",
       "10649                                    0.0   \n",
       "1422                                     0.0   \n",
       "19498                                    0.0   \n",
       "...                                      ...   \n",
       "32852                                    0.0   \n",
       "34265                                    0.0   \n",
       "25284                                    0.0   \n",
       "21007                                    0.0   \n",
       "31149                                    0.0   \n",
       "\n",
       "       host_response_time_within an hour  host_has_profile_pic_f  \\\n",
       "18048                                0.0                     0.0   \n",
       "1273                                 1.0                     0.0   \n",
       "10649                                1.0                     0.0   \n",
       "1422                                 1.0                     0.0   \n",
       "19498                                1.0                     0.0   \n",
       "...                                  ...                     ...   \n",
       "32852                                1.0                     0.0   \n",
       "34265                                1.0                     0.0   \n",
       "25284                                0.0                     0.0   \n",
       "21007                                1.0                     0.0   \n",
       "31149                                0.0                     0.0   \n",
       "\n",
       "       host_has_profile_pic_t  host_identity_verified_f  \\\n",
       "18048                     1.0                       0.0   \n",
       "1273                      1.0                       0.0   \n",
       "10649                     1.0                       0.0   \n",
       "1422                      1.0                       0.0   \n",
       "19498                     1.0                       0.0   \n",
       "...                       ...                       ...   \n",
       "32852                     1.0                       0.0   \n",
       "34265                     1.0                       0.0   \n",
       "25284                     1.0                       0.0   \n",
       "21007                     1.0                       0.0   \n",
       "31149                     1.0                       0.0   \n",
       "\n",
       "       host_identity_verified_t  host_is_superhost_f  host_is_superhost_t  \\\n",
       "18048                       1.0                  1.0                  0.0   \n",
       "1273                        1.0                  1.0                  0.0   \n",
       "10649                       1.0                  1.0                  0.0   \n",
       "1422                        1.0                  0.0                  1.0   \n",
       "19498                       1.0                  1.0                  0.0   \n",
       "...                         ...                  ...                  ...   \n",
       "32852                       1.0                  1.0                  0.0   \n",
       "34265                       1.0                  1.0                  0.0   \n",
       "25284                       1.0                  1.0                  0.0   \n",
       "21007                       1.0                  0.0                  1.0   \n",
       "31149                       1.0                  1.0                  0.0   \n",
       "\n",
       "       ...  review_scores_checkin  review_scores_communication  \\\n",
       "18048  ...                   5.00                         5.00   \n",
       "1273   ...                   5.00                         5.00   \n",
       "10649  ...                   5.00                         5.00   \n",
       "1422   ...                   5.00                         5.00   \n",
       "19498  ...                   4.96                         4.98   \n",
       "...    ...                    ...                          ...   \n",
       "32852  ...                   4.55                         4.27   \n",
       "34265  ...                   1.00                         1.00   \n",
       "25284  ...                   5.00                         5.00   \n",
       "21007  ...                   4.88                         4.88   \n",
       "31149  ...                   3.00                         2.00   \n",
       "\n",
       "       review_scores_location  calculated_host_listings_count  \\\n",
       "18048                    5.00                               1   \n",
       "1273                     5.00                               1   \n",
       "10649                    5.00                               1   \n",
       "1422                     5.00                               1   \n",
       "19498                    4.88                             297   \n",
       "...                       ...                             ...   \n",
       "32852                    4.91                               3   \n",
       "34265                    5.00                              24   \n",
       "25284                    5.00                               2   \n",
       "21007                    4.13                               2   \n",
       "31149                    3.00                               1   \n",
       "\n",
       "       calculated_host_listings_count_entire_homes  \\\n",
       "18048                                            0   \n",
       "1273                                             1   \n",
       "10649                                            0   \n",
       "1422                                             1   \n",
       "19498                                          297   \n",
       "...                                            ...   \n",
       "32852                                            0   \n",
       "34265                                            7   \n",
       "25284                                            0   \n",
       "21007                                            0   \n",
       "31149                                            0   \n",
       "\n",
       "       calculated_host_listings_count_private_rooms  \\\n",
       "18048                                             1   \n",
       "1273                                              0   \n",
       "10649                                             1   \n",
       "1422                                              0   \n",
       "19498                                             0   \n",
       "...                                             ...   \n",
       "32852                                             3   \n",
       "34265                                            17   \n",
       "25284                                             2   \n",
       "21007                                             2   \n",
       "31149                                             1   \n",
       "\n",
       "       calculated_host_listings_count_shared_rooms  years_been_host  \\\n",
       "18048                                            0              3.0   \n",
       "1273                                             0              9.0   \n",
       "10649                                            0              5.0   \n",
       "1422                                             0              9.0   \n",
       "19498                                            0              5.0   \n",
       "...                                            ...              ...   \n",
       "32852                                            0              2.0   \n",
       "34265                                            0              1.0   \n",
       "25284                                            0              7.0   \n",
       "21007                                            0              5.0   \n",
       "31149                                            0              0.0   \n",
       "\n",
       "       number_of_verifications  number_of_amenities  \n",
       "18048                        2                   23  \n",
       "1273                         4                    6  \n",
       "10649                        5                    6  \n",
       "1422                         8                   25  \n",
       "19498                        9                   29  \n",
       "...                        ...                  ...  \n",
       "32852                        6                   14  \n",
       "34265                        7                   13  \n",
       "25284                        6                   30  \n",
       "21007                        6                   16  \n",
       "31149                        6                   16  \n",
       "\n",
       "[27692 rows x 76 columns]"
      ]
     },
     "execution_count": 684,
     "metadata": {},
     "output_type": "execute_result"
    }
   ],
   "source": [
    "df_train"
   ]
  },
  {
   "cell_type": "code",
   "execution_count": 685,
   "id": "fbbec0da",
   "metadata": {},
   "outputs": [
    {
     "data": {
      "text/plain": [
       "(27692, 76)"
      ]
     },
     "execution_count": 685,
     "metadata": {},
     "output_type": "execute_result"
    }
   ],
   "source": [
    "df_train.shape"
   ]
  },
  {
   "cell_type": "code",
   "execution_count": 686,
   "id": "8fee98cc",
   "metadata": {},
   "outputs": [
    {
     "data": {
      "text/html": [
       "<div>\n",
       "<style scoped>\n",
       "    .dataframe tbody tr th:only-of-type {\n",
       "        vertical-align: middle;\n",
       "    }\n",
       "\n",
       "    .dataframe tbody tr th {\n",
       "        vertical-align: top;\n",
       "    }\n",
       "\n",
       "    .dataframe thead th {\n",
       "        text-align: right;\n",
       "    }\n",
       "</style>\n",
       "<table border=\"1\" class=\"dataframe\">\n",
       "  <thead>\n",
       "    <tr style=\"text-align: right;\">\n",
       "      <th></th>\n",
       "      <th>host_response_time_a few days or more</th>\n",
       "      <th>host_response_time_within a day</th>\n",
       "      <th>host_response_time_within a few hours</th>\n",
       "      <th>host_response_time_within an hour</th>\n",
       "      <th>host_has_profile_pic_f</th>\n",
       "      <th>host_has_profile_pic_t</th>\n",
       "      <th>host_identity_verified_f</th>\n",
       "      <th>host_identity_verified_t</th>\n",
       "      <th>host_is_superhost_f</th>\n",
       "      <th>host_is_superhost_t</th>\n",
       "      <th>...</th>\n",
       "      <th>review_scores_checkin</th>\n",
       "      <th>review_scores_communication</th>\n",
       "      <th>review_scores_location</th>\n",
       "      <th>calculated_host_listings_count</th>\n",
       "      <th>calculated_host_listings_count_entire_homes</th>\n",
       "      <th>calculated_host_listings_count_private_rooms</th>\n",
       "      <th>calculated_host_listings_count_shared_rooms</th>\n",
       "      <th>years_been_host</th>\n",
       "      <th>number_of_verifications</th>\n",
       "      <th>number_of_amenities</th>\n",
       "    </tr>\n",
       "  </thead>\n",
       "  <tbody>\n",
       "    <tr>\n",
       "      <th>18048</th>\n",
       "      <td>0.0</td>\n",
       "      <td>0.0</td>\n",
       "      <td>1.0</td>\n",
       "      <td>0.0</td>\n",
       "      <td>0.0</td>\n",
       "      <td>1.0</td>\n",
       "      <td>0.0</td>\n",
       "      <td>1.0</td>\n",
       "      <td>1.0</td>\n",
       "      <td>0.0</td>\n",
       "      <td>...</td>\n",
       "      <td>5.00</td>\n",
       "      <td>5.00</td>\n",
       "      <td>5.00</td>\n",
       "      <td>1</td>\n",
       "      <td>0</td>\n",
       "      <td>1</td>\n",
       "      <td>0</td>\n",
       "      <td>3.0</td>\n",
       "      <td>2</td>\n",
       "      <td>23</td>\n",
       "    </tr>\n",
       "    <tr>\n",
       "      <th>1273</th>\n",
       "      <td>0.0</td>\n",
       "      <td>0.0</td>\n",
       "      <td>0.0</td>\n",
       "      <td>1.0</td>\n",
       "      <td>0.0</td>\n",
       "      <td>1.0</td>\n",
       "      <td>0.0</td>\n",
       "      <td>1.0</td>\n",
       "      <td>1.0</td>\n",
       "      <td>0.0</td>\n",
       "      <td>...</td>\n",
       "      <td>5.00</td>\n",
       "      <td>5.00</td>\n",
       "      <td>5.00</td>\n",
       "      <td>1</td>\n",
       "      <td>1</td>\n",
       "      <td>0</td>\n",
       "      <td>0</td>\n",
       "      <td>9.0</td>\n",
       "      <td>4</td>\n",
       "      <td>6</td>\n",
       "    </tr>\n",
       "    <tr>\n",
       "      <th>10649</th>\n",
       "      <td>0.0</td>\n",
       "      <td>0.0</td>\n",
       "      <td>0.0</td>\n",
       "      <td>1.0</td>\n",
       "      <td>0.0</td>\n",
       "      <td>1.0</td>\n",
       "      <td>0.0</td>\n",
       "      <td>1.0</td>\n",
       "      <td>1.0</td>\n",
       "      <td>0.0</td>\n",
       "      <td>...</td>\n",
       "      <td>5.00</td>\n",
       "      <td>5.00</td>\n",
       "      <td>5.00</td>\n",
       "      <td>1</td>\n",
       "      <td>0</td>\n",
       "      <td>1</td>\n",
       "      <td>0</td>\n",
       "      <td>5.0</td>\n",
       "      <td>5</td>\n",
       "      <td>6</td>\n",
       "    </tr>\n",
       "    <tr>\n",
       "      <th>1422</th>\n",
       "      <td>0.0</td>\n",
       "      <td>0.0</td>\n",
       "      <td>0.0</td>\n",
       "      <td>1.0</td>\n",
       "      <td>0.0</td>\n",
       "      <td>1.0</td>\n",
       "      <td>0.0</td>\n",
       "      <td>1.0</td>\n",
       "      <td>0.0</td>\n",
       "      <td>1.0</td>\n",
       "      <td>...</td>\n",
       "      <td>5.00</td>\n",
       "      <td>5.00</td>\n",
       "      <td>5.00</td>\n",
       "      <td>1</td>\n",
       "      <td>1</td>\n",
       "      <td>0</td>\n",
       "      <td>0</td>\n",
       "      <td>9.0</td>\n",
       "      <td>8</td>\n",
       "      <td>25</td>\n",
       "    </tr>\n",
       "    <tr>\n",
       "      <th>19498</th>\n",
       "      <td>0.0</td>\n",
       "      <td>0.0</td>\n",
       "      <td>0.0</td>\n",
       "      <td>1.0</td>\n",
       "      <td>0.0</td>\n",
       "      <td>1.0</td>\n",
       "      <td>0.0</td>\n",
       "      <td>1.0</td>\n",
       "      <td>1.0</td>\n",
       "      <td>0.0</td>\n",
       "      <td>...</td>\n",
       "      <td>4.96</td>\n",
       "      <td>4.98</td>\n",
       "      <td>4.88</td>\n",
       "      <td>297</td>\n",
       "      <td>297</td>\n",
       "      <td>0</td>\n",
       "      <td>0</td>\n",
       "      <td>5.0</td>\n",
       "      <td>9</td>\n",
       "      <td>29</td>\n",
       "    </tr>\n",
       "  </tbody>\n",
       "</table>\n",
       "<p>5 rows × 76 columns</p>\n",
       "</div>"
      ],
      "text/plain": [
       "       host_response_time_a few days or more  host_response_time_within a day  \\\n",
       "18048                                    0.0                              0.0   \n",
       "1273                                     0.0                              0.0   \n",
       "10649                                    0.0                              0.0   \n",
       "1422                                     0.0                              0.0   \n",
       "19498                                    0.0                              0.0   \n",
       "\n",
       "       host_response_time_within a few hours  \\\n",
       "18048                                    1.0   \n",
       "1273                                     0.0   \n",
       "10649                                    0.0   \n",
       "1422                                     0.0   \n",
       "19498                                    0.0   \n",
       "\n",
       "       host_response_time_within an hour  host_has_profile_pic_f  \\\n",
       "18048                                0.0                     0.0   \n",
       "1273                                 1.0                     0.0   \n",
       "10649                                1.0                     0.0   \n",
       "1422                                 1.0                     0.0   \n",
       "19498                                1.0                     0.0   \n",
       "\n",
       "       host_has_profile_pic_t  host_identity_verified_f  \\\n",
       "18048                     1.0                       0.0   \n",
       "1273                      1.0                       0.0   \n",
       "10649                     1.0                       0.0   \n",
       "1422                      1.0                       0.0   \n",
       "19498                     1.0                       0.0   \n",
       "\n",
       "       host_identity_verified_t  host_is_superhost_f  host_is_superhost_t  \\\n",
       "18048                       1.0                  1.0                  0.0   \n",
       "1273                        1.0                  1.0                  0.0   \n",
       "10649                       1.0                  1.0                  0.0   \n",
       "1422                        1.0                  0.0                  1.0   \n",
       "19498                       1.0                  1.0                  0.0   \n",
       "\n",
       "       ...  review_scores_checkin  review_scores_communication  \\\n",
       "18048  ...                   5.00                         5.00   \n",
       "1273   ...                   5.00                         5.00   \n",
       "10649  ...                   5.00                         5.00   \n",
       "1422   ...                   5.00                         5.00   \n",
       "19498  ...                   4.96                         4.98   \n",
       "\n",
       "       review_scores_location  calculated_host_listings_count  \\\n",
       "18048                    5.00                               1   \n",
       "1273                     5.00                               1   \n",
       "10649                    5.00                               1   \n",
       "1422                     5.00                               1   \n",
       "19498                    4.88                             297   \n",
       "\n",
       "       calculated_host_listings_count_entire_homes  \\\n",
       "18048                                            0   \n",
       "1273                                             1   \n",
       "10649                                            0   \n",
       "1422                                             1   \n",
       "19498                                          297   \n",
       "\n",
       "       calculated_host_listings_count_private_rooms  \\\n",
       "18048                                             1   \n",
       "1273                                              0   \n",
       "10649                                             1   \n",
       "1422                                              0   \n",
       "19498                                             0   \n",
       "\n",
       "       calculated_host_listings_count_shared_rooms  years_been_host  \\\n",
       "18048                                            0              3.0   \n",
       "1273                                             0              9.0   \n",
       "10649                                            0              5.0   \n",
       "1422                                             0              9.0   \n",
       "19498                                            0              5.0   \n",
       "\n",
       "       number_of_verifications  number_of_amenities  \n",
       "18048                        2                   23  \n",
       "1273                         4                    6  \n",
       "10649                        5                    6  \n",
       "1422                         8                   25  \n",
       "19498                        9                   29  \n",
       "\n",
       "[5 rows x 76 columns]"
      ]
     },
     "execution_count": 686,
     "metadata": {},
     "output_type": "execute_result"
    }
   ],
   "source": [
    "df_train.head()"
   ]
  },
  {
   "cell_type": "markdown",
   "id": "4a6cbc3f",
   "metadata": {},
   "source": [
    "#### Creating a function that prints out validation score"
   ]
  },
  {
   "cell_type": "code",
   "execution_count": 687,
   "id": "bb1ba517",
   "metadata": {},
   "outputs": [],
   "source": [
    "def print_cv_scores(pipe, X, y):\n",
    "    '''\n",
    "    Runs cross_validate on given feature and class target arrays using given pipeline, \n",
    "    printing the scoring results for both training and cross_val.\n",
    "    '''\n",
    "    scoring = ['accuracy','precision', 'recall', 'f1']\n",
    "    \n",
    "    results = cross_validate(pipe, X, \n",
    "                                   y, \n",
    "                                   return_train_score=True, scoring=scoring, cv=2)\n",
    "    \n",
    "    print(results['train_accuracy'])\n",
    "    print('Training Accuracy', results['train_accuracy'].mean())\n",
    "    #print('##############')\n",
    "    #print(results['test_accuracy'])\n",
    "    #print('Cross_Val Accuracy', results['test_accuracy'].mean())\n",
    "    print('##############')\n",
    "    print('Training Precision:', results['train_precision'].mean())\n",
    "    #print('Cross_Val Precision:', results['test_precision_macro'].mean())\n",
    "    print('##############')\n",
    "    print('Training  Recall:', results['train_recall'].mean())\n",
    "    #print('Cross_Val Recall:', results['test_recall_macro'].mean())\n",
    "    print('##############')\n",
    "    print('Training  F1:', results['train_f1'].mean())\n",
    "    #print('Cross_Val  F1:', results['test_f1_macro'].mean())"
   ]
  },
  {
   "cell_type": "markdown",
   "id": "3677b83b",
   "metadata": {},
   "source": [
    "### First Simple Model (baseline)"
   ]
  },
  {
   "cell_type": "code",
   "execution_count": 639,
   "id": "ff178607",
   "metadata": {},
   "outputs": [],
   "source": [
    "from nltk.corpus import stopwords\n",
    "sw= stopwords.words('english')"
   ]
  },
  {
   "cell_type": "code",
   "execution_count": 688,
   "id": "a7a56f4a",
   "metadata": {},
   "outputs": [],
   "source": [
    "fsm_pip = Pipeline([('nb', MultinomialNB())\n",
    "                    ])"
   ]
  },
  {
   "cell_type": "code",
   "execution_count": 689,
   "id": "49a9e7cf",
   "metadata": {},
   "outputs": [
    {
     "data": {
      "text/plain": [
       "(27692, 76)"
      ]
     },
     "execution_count": 689,
     "metadata": {},
     "output_type": "execute_result"
    }
   ],
   "source": [
    "df_train.shape"
   ]
  },
  {
   "cell_type": "code",
   "execution_count": 690,
   "id": "90cf7cb5",
   "metadata": {},
   "outputs": [
    {
     "data": {
      "text/plain": [
       "(27692,)"
      ]
     },
     "execution_count": 690,
     "metadata": {},
     "output_type": "execute_result"
    }
   ],
   "source": [
    "y_train.shape"
   ]
  },
  {
   "cell_type": "code",
   "execution_count": 691,
   "id": "cc66369b",
   "metadata": {
    "scrolled": true
   },
   "outputs": [
    {
     "data": {
      "text/plain": [
       "Pipeline(steps=[('nb', MultinomialNB())])"
      ]
     },
     "execution_count": 691,
     "metadata": {},
     "output_type": "execute_result"
    }
   ],
   "source": [
    "fsm_pip.fit(df_train, y_train)"
   ]
  },
  {
   "cell_type": "code",
   "execution_count": 382,
   "id": "d13843fa",
   "metadata": {},
   "outputs": [
    {
     "name": "stdout",
     "output_type": "stream",
     "text": [
      "[0.66098512 0.72121912]\n",
      "Training Accuracy 0.6911021233569261\n",
      "##############\n",
      "Training Precision: 0.15303671777428096\n",
      "##############\n",
      "Training  Recall: 0.95244211514393\n",
      "##############\n",
      "Training  F1: 0.2634028844397738\n"
     ]
    }
   ],
   "source": [
    "print_cv_scores(fsm_pip, df_train, y_train)"
   ]
  },
  {
   "cell_type": "code",
   "execution_count": 483,
   "id": "b3f6562f",
   "metadata": {},
   "outputs": [],
   "source": [
    "#clf.steps[0][1].get_feature_names()\n",
    "#fsm_pip.get_predict_proba()"
   ]
  },
  {
   "cell_type": "markdown",
   "id": "09161d31",
   "metadata": {},
   "source": [
    "#### Logistic Regression"
   ]
  },
  {
   "cell_type": "code",
   "execution_count": 442,
   "id": "78af6724",
   "metadata": {},
   "outputs": [],
   "source": [
    "log_pipe = Pipeline([('lg', LogisticRegression(solver='liblinear',max_iter=100000000))\n",
    "                    ])\n",
    "\n"
   ]
  },
  {
   "cell_type": "code",
   "execution_count": 443,
   "id": "cf24ec57",
   "metadata": {},
   "outputs": [
    {
     "data": {
      "text/plain": [
       "Pipeline(steps=[('lg',\n",
       "                 LogisticRegression(max_iter=100000000, solver='liblinear'))])"
      ]
     },
     "execution_count": 443,
     "metadata": {},
     "output_type": "execute_result"
    }
   ],
   "source": [
    "log_pipe.fit(df_train,  y_train)"
   ]
  },
  {
   "cell_type": "code",
   "execution_count": 444,
   "id": "46eba2af",
   "metadata": {},
   "outputs": [
    {
     "name": "stdout",
     "output_type": "stream",
     "text": [
      "[0.94251047 0.94388271]\n",
      "Training Accuracy 0.9431965910732342\n",
      "##############\n",
      "Training Precision: 0.5813157894736842\n",
      "##############\n",
      "Training  Recall: 0.05129771589486858\n",
      "##############\n",
      "Training  F1: 0.09291283606022072\n"
     ]
    }
   ],
   "source": [
    "print_cv_scores(log_pipe, df_train, y_train)"
   ]
  },
  {
   "cell_type": "code",
   "execution_count": 503,
   "id": "ac22e98d",
   "metadata": {},
   "outputs": [],
   "source": [
    "#prediction_of_probability = log_pipe.predict_proba(df_train)\n"
   ]
  },
  {
   "cell_type": "code",
   "execution_count": 518,
   "id": "9231a212",
   "metadata": {},
   "outputs": [
    {
     "data": {
      "image/png": "[encoded data removed]",
      "text/plain": [
       "<Figure size 432x288 with 2 Axes>"
      ]
     },
     "metadata": {
      "needs_background": "light"
     },
     "output_type": "display_data"
    }
   ],
   "source": [
    "plot_confusion_matrix(log_pipe, df_train, y_train,normalize = 'pred');"
   ]
  },
  {
   "cell_type": "code",
   "execution_count": 502,
   "id": "0ff9c151",
   "metadata": {},
   "outputs": [
    {
     "data": {
      "text/html": [
       "<div>\n",
       "<style scoped>\n",
       "    .dataframe tbody tr th:only-of-type {\n",
       "        vertical-align: middle;\n",
       "    }\n",
       "\n",
       "    .dataframe tbody tr th {\n",
       "        vertical-align: top;\n",
       "    }\n",
       "\n",
       "    .dataframe thead th {\n",
       "        text-align: right;\n",
       "    }\n",
       "</style>\n",
       "<table border=\"1\" class=\"dataframe\">\n",
       "  <thead>\n",
       "    <tr style=\"text-align: right;\">\n",
       "      <th></th>\n",
       "      <th>0</th>\n",
       "      <th>1</th>\n",
       "    </tr>\n",
       "  </thead>\n",
       "  <tbody>\n",
       "    <tr>\n",
       "      <th>0</th>\n",
       "      <td>1.000000</td>\n",
       "      <td>7.002989e-14</td>\n",
       "    </tr>\n",
       "    <tr>\n",
       "      <th>1</th>\n",
       "      <td>1.000000</td>\n",
       "      <td>1.910595e-109</td>\n",
       "    </tr>\n",
       "    <tr>\n",
       "      <th>2</th>\n",
       "      <td>0.705562</td>\n",
       "      <td>2.944381e-01</td>\n",
       "    </tr>\n",
       "    <tr>\n",
       "      <th>3</th>\n",
       "      <td>0.674919</td>\n",
       "      <td>3.250810e-01</td>\n",
       "    </tr>\n",
       "    <tr>\n",
       "      <th>4</th>\n",
       "      <td>0.650479</td>\n",
       "      <td>3.495209e-01</td>\n",
       "    </tr>\n",
       "    <tr>\n",
       "      <th>...</th>\n",
       "      <td>...</td>\n",
       "      <td>...</td>\n",
       "    </tr>\n",
       "    <tr>\n",
       "      <th>27687</th>\n",
       "      <td>0.963196</td>\n",
       "      <td>3.680393e-02</td>\n",
       "    </tr>\n",
       "    <tr>\n",
       "      <th>27688</th>\n",
       "      <td>1.000000</td>\n",
       "      <td>1.521208e-48</td>\n",
       "    </tr>\n",
       "    <tr>\n",
       "      <th>27689</th>\n",
       "      <td>1.000000</td>\n",
       "      <td>1.752277e-125</td>\n",
       "    </tr>\n",
       "    <tr>\n",
       "      <th>27690</th>\n",
       "      <td>0.998994</td>\n",
       "      <td>1.005886e-03</td>\n",
       "    </tr>\n",
       "    <tr>\n",
       "      <th>27691</th>\n",
       "      <td>1.000000</td>\n",
       "      <td>1.345159e-147</td>\n",
       "    </tr>\n",
       "  </tbody>\n",
       "</table>\n",
       "<p>27692 rows × 2 columns</p>\n",
       "</div>"
      ],
      "text/plain": [
       "              0              1\n",
       "0      1.000000   7.002989e-14\n",
       "1      1.000000  1.910595e-109\n",
       "2      0.705562   2.944381e-01\n",
       "3      0.674919   3.250810e-01\n",
       "4      0.650479   3.495209e-01\n",
       "...         ...            ...\n",
       "27687  0.963196   3.680393e-02\n",
       "27688  1.000000   1.521208e-48\n",
       "27689  1.000000  1.752277e-125\n",
       "27690  0.998994   1.005886e-03\n",
       "27691  1.000000  1.345159e-147\n",
       "\n",
       "[27692 rows x 2 columns]"
      ]
     },
     "execution_count": 502,
     "metadata": {},
     "output_type": "execute_result"
    }
   ],
   "source": [
    "pd.DataFrame(log_pipe.predict_proba(df_train), columns=log_pipe.classes_)\n"
   ]
  },
  {
   "cell_type": "markdown",
   "id": "b3e29d19",
   "metadata": {},
   "source": [
    "This is saying the probably of the listing whether it would have availability to book or not."
   ]
  },
  {
   "cell_type": "code",
   "execution_count": 445,
   "id": "ad82b928",
   "metadata": {},
   "outputs": [],
   "source": [
    "grid = {'lg__class_weight': [None, 'balanced'], \n",
    "         'lg__tol': [0.0001, 0.01, 0.1],\n",
    "         'lg__C' : [0.0001,0.001,0.01],\n",
    "         'lg__penalty': ['l1', 'l2']\n",
    "        }"
   ]
  },
  {
   "cell_type": "code",
   "execution_count": 705,
   "id": "0d4a5be4",
   "metadata": {
    "scrolled": true
   },
   "outputs": [
    {
     "name": "stdout",
     "output_type": "stream",
     "text": [
      "Fitting 5 folds for each of 36 candidates, totalling 180 fits\n"
     ]
    },
    {
     "name": "stderr",
     "output_type": "stream",
     "text": [
      "/Users/raylinsoriano/anaconda3/lib/python3.8/site-packages/sklearn/metrics/_classification.py:1248: UndefinedMetricWarning: Precision is ill-defined and being set to 0.0 due to no predicted samples. Use `zero_division` parameter to control this behavior.\n",
      "  _warn_prf(average, modifier, msg_start, len(result))\n",
      "/Users/raylinsoriano/anaconda3/lib/python3.8/site-packages/sklearn/metrics/_classification.py:1248: UndefinedMetricWarning: Precision is ill-defined and being set to 0.0 due to no predicted samples. Use `zero_division` parameter to control this behavior.\n",
      "  _warn_prf(average, modifier, msg_start, len(result))\n"
     ]
    },
    {
     "name": "stdout",
     "output_type": "stream",
     "text": [
      "[CV] END lg__C=0.0001, lg__class_weight=None, lg__penalty=l1, lg__tol=0.0001; total time=   0.4s\n"
     ]
    },
    {
     "name": "stderr",
     "output_type": "stream",
     "text": [
      "/Users/raylinsoriano/anaconda3/lib/python3.8/site-packages/sklearn/metrics/_classification.py:1248: UndefinedMetricWarning: Precision is ill-defined and being set to 0.0 due to no predicted samples. Use `zero_division` parameter to control this behavior.\n",
      "  _warn_prf(average, modifier, msg_start, len(result))\n",
      "/Users/raylinsoriano/anaconda3/lib/python3.8/site-packages/sklearn/metrics/_classification.py:1248: UndefinedMetricWarning: Precision is ill-defined and being set to 0.0 due to no predicted samples. Use `zero_division` parameter to control this behavior.\n",
      "  _warn_prf(average, modifier, msg_start, len(result))\n"
     ]
    },
    {
     "name": "stdout",
     "output_type": "stream",
     "text": [
      "[CV] END lg__C=0.0001, lg__class_weight=None, lg__penalty=l1, lg__tol=0.0001; total time=   0.2s\n"
     ]
    },
    {
     "name": "stderr",
     "output_type": "stream",
     "text": [
      "/Users/raylinsoriano/anaconda3/lib/python3.8/site-packages/sklearn/metrics/_classification.py:1248: UndefinedMetricWarning: Precision is ill-defined and being set to 0.0 due to no predicted samples. Use `zero_division` parameter to control this behavior.\n",
      "  _warn_prf(average, modifier, msg_start, len(result))\n",
      "/Users/raylinsoriano/anaconda3/lib/python3.8/site-packages/sklearn/metrics/_classification.py:1248: UndefinedMetricWarning: Precision is ill-defined and being set to 0.0 due to no predicted samples. Use `zero_division` parameter to control this behavior.\n",
      "  _warn_prf(average, modifier, msg_start, len(result))\n"
     ]
    },
    {
     "name": "stdout",
     "output_type": "stream",
     "text": [
      "[CV] END lg__C=0.0001, lg__class_weight=None, lg__penalty=l1, lg__tol=0.0001; total time=   0.2s\n"
     ]
    },
    {
     "name": "stderr",
     "output_type": "stream",
     "text": [
      "/Users/raylinsoriano/anaconda3/lib/python3.8/site-packages/sklearn/metrics/_classification.py:1248: UndefinedMetricWarning: Precision is ill-defined and being set to 0.0 due to no predicted samples. Use `zero_division` parameter to control this behavior.\n",
      "  _warn_prf(average, modifier, msg_start, len(result))\n",
      "/Users/raylinsoriano/anaconda3/lib/python3.8/site-packages/sklearn/metrics/_classification.py:1248: UndefinedMetricWarning: Precision is ill-defined and being set to 0.0 due to no predicted samples. Use `zero_division` parameter to control this behavior.\n",
      "  _warn_prf(average, modifier, msg_start, len(result))\n"
     ]
    },
    {
     "name": "stdout",
     "output_type": "stream",
     "text": [
      "[CV] END lg__C=0.0001, lg__class_weight=None, lg__penalty=l1, lg__tol=0.0001; total time=   0.3s\n"
     ]
    },
    {
     "name": "stderr",
     "output_type": "stream",
     "text": [
      "/Users/raylinsoriano/anaconda3/lib/python3.8/site-packages/sklearn/metrics/_classification.py:1248: UndefinedMetricWarning: Precision is ill-defined and being set to 0.0 due to no predicted samples. Use `zero_division` parameter to control this behavior.\n",
      "  _warn_prf(average, modifier, msg_start, len(result))\n",
      "/Users/raylinsoriano/anaconda3/lib/python3.8/site-packages/sklearn/metrics/_classification.py:1248: UndefinedMetricWarning: Precision is ill-defined and being set to 0.0 due to no predicted samples. Use `zero_division` parameter to control this behavior.\n",
      "  _warn_prf(average, modifier, msg_start, len(result))\n"
     ]
    },
    {
     "name": "stdout",
     "output_type": "stream",
     "text": [
      "[CV] END lg__C=0.0001, lg__class_weight=None, lg__penalty=l1, lg__tol=0.0001; total time=   0.2s\n"
     ]
    },
    {
     "name": "stderr",
     "output_type": "stream",
     "text": [
      "/Users/raylinsoriano/anaconda3/lib/python3.8/site-packages/sklearn/metrics/_classification.py:1248: UndefinedMetricWarning: Precision is ill-defined and being set to 0.0 due to no predicted samples. Use `zero_division` parameter to control this behavior.\n",
      "  _warn_prf(average, modifier, msg_start, len(result))\n",
      "/Users/raylinsoriano/anaconda3/lib/python3.8/site-packages/sklearn/metrics/_classification.py:1248: UndefinedMetricWarning: Precision is ill-defined and being set to 0.0 due to no predicted samples. Use `zero_division` parameter to control this behavior.\n",
      "  _warn_prf(average, modifier, msg_start, len(result))\n"
     ]
    },
    {
     "name": "stdout",
     "output_type": "stream",
     "text": [
      "[CV] END lg__C=0.0001, lg__class_weight=None, lg__penalty=l1, lg__tol=0.01; total time=   0.2s\n"
     ]
    },
    {
     "name": "stderr",
     "output_type": "stream",
     "text": [
      "/Users/raylinsoriano/anaconda3/lib/python3.8/site-packages/sklearn/metrics/_classification.py:1248: UndefinedMetricWarning: Precision is ill-defined and being set to 0.0 due to no predicted samples. Use `zero_division` parameter to control this behavior.\n",
      "  _warn_prf(average, modifier, msg_start, len(result))\n",
      "/Users/raylinsoriano/anaconda3/lib/python3.8/site-packages/sklearn/metrics/_classification.py:1248: UndefinedMetricWarning: Precision is ill-defined and being set to 0.0 due to no predicted samples. Use `zero_division` parameter to control this behavior.\n",
      "  _warn_prf(average, modifier, msg_start, len(result))\n"
     ]
    },
    {
     "name": "stdout",
     "output_type": "stream",
     "text": [
      "[CV] END lg__C=0.0001, lg__class_weight=None, lg__penalty=l1, lg__tol=0.01; total time=   0.2s\n"
     ]
    },
    {
     "name": "stderr",
     "output_type": "stream",
     "text": [
      "/Users/raylinsoriano/anaconda3/lib/python3.8/site-packages/sklearn/metrics/_classification.py:1248: UndefinedMetricWarning: Precision is ill-defined and being set to 0.0 due to no predicted samples. Use `zero_division` parameter to control this behavior.\n",
      "  _warn_prf(average, modifier, msg_start, len(result))\n",
      "/Users/raylinsoriano/anaconda3/lib/python3.8/site-packages/sklearn/metrics/_classification.py:1248: UndefinedMetricWarning: Precision is ill-defined and being set to 0.0 due to no predicted samples. Use `zero_division` parameter to control this behavior.\n",
      "  _warn_prf(average, modifier, msg_start, len(result))\n"
     ]
    },
    {
     "name": "stdout",
     "output_type": "stream",
     "text": [
      "[CV] END lg__C=0.0001, lg__class_weight=None, lg__penalty=l1, lg__tol=0.01; total time=   0.3s\n"
     ]
    },
    {
     "name": "stderr",
     "output_type": "stream",
     "text": [
      "/Users/raylinsoriano/anaconda3/lib/python3.8/site-packages/sklearn/metrics/_classification.py:1248: UndefinedMetricWarning: Precision is ill-defined and being set to 0.0 due to no predicted samples. Use `zero_division` parameter to control this behavior.\n",
      "  _warn_prf(average, modifier, msg_start, len(result))\n",
      "/Users/raylinsoriano/anaconda3/lib/python3.8/site-packages/sklearn/metrics/_classification.py:1248: UndefinedMetricWarning: Precision is ill-defined and being set to 0.0 due to no predicted samples. Use `zero_division` parameter to control this behavior.\n",
      "  _warn_prf(average, modifier, msg_start, len(result))\n"
     ]
    },
    {
     "name": "stdout",
     "output_type": "stream",
     "text": [
      "[CV] END lg__C=0.0001, lg__class_weight=None, lg__penalty=l1, lg__tol=0.01; total time=   0.3s\n"
     ]
    },
    {
     "name": "stderr",
     "output_type": "stream",
     "text": [
      "/Users/raylinsoriano/anaconda3/lib/python3.8/site-packages/sklearn/metrics/_classification.py:1248: UndefinedMetricWarning: Precision is ill-defined and being set to 0.0 due to no predicted samples. Use `zero_division` parameter to control this behavior.\n",
      "  _warn_prf(average, modifier, msg_start, len(result))\n",
      "/Users/raylinsoriano/anaconda3/lib/python3.8/site-packages/sklearn/metrics/_classification.py:1248: UndefinedMetricWarning: Precision is ill-defined and being set to 0.0 due to no predicted samples. Use `zero_division` parameter to control this behavior.\n",
      "  _warn_prf(average, modifier, msg_start, len(result))\n"
     ]
    },
    {
     "name": "stdout",
     "output_type": "stream",
     "text": [
      "[CV] END lg__C=0.0001, lg__class_weight=None, lg__penalty=l1, lg__tol=0.01; total time=   0.3s\n"
     ]
    },
    {
     "name": "stderr",
     "output_type": "stream",
     "text": [
      "/Users/raylinsoriano/anaconda3/lib/python3.8/site-packages/sklearn/metrics/_classification.py:1248: UndefinedMetricWarning: Precision is ill-defined and being set to 0.0 due to no predicted samples. Use `zero_division` parameter to control this behavior.\n",
      "  _warn_prf(average, modifier, msg_start, len(result))\n",
      "/Users/raylinsoriano/anaconda3/lib/python3.8/site-packages/sklearn/metrics/_classification.py:1248: UndefinedMetricWarning: Precision is ill-defined and being set to 0.0 due to no predicted samples. Use `zero_division` parameter to control this behavior.\n",
      "  _warn_prf(average, modifier, msg_start, len(result))\n"
     ]
    },
    {
     "name": "stdout",
     "output_type": "stream",
     "text": [
      "[CV] END lg__C=0.0001, lg__class_weight=None, lg__penalty=l1, lg__tol=0.1; total time=   0.2s\n"
     ]
    },
    {
     "name": "stderr",
     "output_type": "stream",
     "text": [
      "/Users/raylinsoriano/anaconda3/lib/python3.8/site-packages/sklearn/metrics/_classification.py:1248: UndefinedMetricWarning: Precision is ill-defined and being set to 0.0 due to no predicted samples. Use `zero_division` parameter to control this behavior.\n",
      "  _warn_prf(average, modifier, msg_start, len(result))\n",
      "/Users/raylinsoriano/anaconda3/lib/python3.8/site-packages/sklearn/metrics/_classification.py:1248: UndefinedMetricWarning: Precision is ill-defined and being set to 0.0 due to no predicted samples. Use `zero_division` parameter to control this behavior.\n",
      "  _warn_prf(average, modifier, msg_start, len(result))\n"
     ]
    },
    {
     "name": "stdout",
     "output_type": "stream",
     "text": [
      "[CV] END lg__C=0.0001, lg__class_weight=None, lg__penalty=l1, lg__tol=0.1; total time=   0.4s\n"
     ]
    },
    {
     "name": "stderr",
     "output_type": "stream",
     "text": [
      "/Users/raylinsoriano/anaconda3/lib/python3.8/site-packages/sklearn/metrics/_classification.py:1248: UndefinedMetricWarning: Precision is ill-defined and being set to 0.0 due to no predicted samples. Use `zero_division` parameter to control this behavior.\n",
      "  _warn_prf(average, modifier, msg_start, len(result))\n",
      "/Users/raylinsoriano/anaconda3/lib/python3.8/site-packages/sklearn/metrics/_classification.py:1248: UndefinedMetricWarning: Precision is ill-defined and being set to 0.0 due to no predicted samples. Use `zero_division` parameter to control this behavior.\n",
      "  _warn_prf(average, modifier, msg_start, len(result))\n"
     ]
    },
    {
     "name": "stdout",
     "output_type": "stream",
     "text": [
      "[CV] END lg__C=0.0001, lg__class_weight=None, lg__penalty=l1, lg__tol=0.1; total time=   0.4s\n"
     ]
    },
    {
     "name": "stderr",
     "output_type": "stream",
     "text": [
      "/Users/raylinsoriano/anaconda3/lib/python3.8/site-packages/sklearn/metrics/_classification.py:1248: UndefinedMetricWarning: Precision is ill-defined and being set to 0.0 due to no predicted samples. Use `zero_division` parameter to control this behavior.\n",
      "  _warn_prf(average, modifier, msg_start, len(result))\n",
      "/Users/raylinsoriano/anaconda3/lib/python3.8/site-packages/sklearn/metrics/_classification.py:1248: UndefinedMetricWarning: Precision is ill-defined and being set to 0.0 due to no predicted samples. Use `zero_division` parameter to control this behavior.\n",
      "  _warn_prf(average, modifier, msg_start, len(result))\n",
      "/Users/raylinsoriano/anaconda3/lib/python3.8/site-packages/sklearn/metrics/_classification.py:1248: UndefinedMetricWarning: Precision is ill-defined and being set to 0.0 due to no predicted samples. Use `zero_division` parameter to control this behavior.\n",
      "  _warn_prf(average, modifier, msg_start, len(result))\n",
      "/Users/raylinsoriano/anaconda3/lib/python3.8/site-packages/sklearn/metrics/_classification.py:1248: UndefinedMetricWarning: Precision is ill-defined and being set to 0.0 due to no predicted samples. Use `zero_division` parameter to control this behavior.\n",
      "  _warn_prf(average, modifier, msg_start, len(result))\n"
     ]
    },
    {
     "name": "stdout",
     "output_type": "stream",
     "text": [
      "[CV] END lg__C=0.0001, lg__class_weight=None, lg__penalty=l1, lg__tol=0.1; total time=   0.3s\n",
      "[CV] END lg__C=0.0001, lg__class_weight=None, lg__penalty=l1, lg__tol=0.1; total time=   0.2s\n",
      "[CV] END lg__C=0.0001, lg__class_weight=None, lg__penalty=l2, lg__tol=0.0001; total time=   1.7s\n",
      "[CV] END lg__C=0.0001, lg__class_weight=None, lg__penalty=l2, lg__tol=0.0001; total time=   0.6s\n",
      "[CV] END lg__C=0.0001, lg__class_weight=None, lg__penalty=l2, lg__tol=0.0001; total time=   1.7s\n",
      "[CV] END lg__C=0.0001, lg__class_weight=None, lg__penalty=l2, lg__tol=0.0001; total time=   0.7s\n",
      "[CV] END lg__C=0.0001, lg__class_weight=None, lg__penalty=l2, lg__tol=0.0001; total time=   1.4s\n",
      "[CV] END lg__C=0.0001, lg__class_weight=None, lg__penalty=l2, lg__tol=0.01; total time=   0.3s\n",
      "[CV] END lg__C=0.0001, lg__class_weight=None, lg__penalty=l2, lg__tol=0.01; total time=   0.3s\n"
     ]
    },
    {
     "name": "stderr",
     "output_type": "stream",
     "text": [
      "/Users/raylinsoriano/anaconda3/lib/python3.8/site-packages/sklearn/metrics/_classification.py:1248: UndefinedMetricWarning: Precision is ill-defined and being set to 0.0 due to no predicted samples. Use `zero_division` parameter to control this behavior.\n",
      "  _warn_prf(average, modifier, msg_start, len(result))\n",
      "/Users/raylinsoriano/anaconda3/lib/python3.8/site-packages/sklearn/metrics/_classification.py:1248: UndefinedMetricWarning: Precision is ill-defined and being set to 0.0 due to no predicted samples. Use `zero_division` parameter to control this behavior.\n",
      "  _warn_prf(average, modifier, msg_start, len(result))\n"
     ]
    },
    {
     "name": "stdout",
     "output_type": "stream",
     "text": [
      "[CV] END lg__C=0.0001, lg__class_weight=None, lg__penalty=l2, lg__tol=0.01; total time=   0.2s\n",
      "[CV] END lg__C=0.0001, lg__class_weight=None, lg__penalty=l2, lg__tol=0.01; total time=   0.3s\n",
      "[CV] END lg__C=0.0001, lg__class_weight=None, lg__penalty=l2, lg__tol=0.01; total time=   0.2s\n"
     ]
    },
    {
     "name": "stderr",
     "output_type": "stream",
     "text": [
      "/Users/raylinsoriano/anaconda3/lib/python3.8/site-packages/sklearn/metrics/_classification.py:1248: UndefinedMetricWarning: Precision is ill-defined and being set to 0.0 due to no predicted samples. Use `zero_division` parameter to control this behavior.\n",
      "  _warn_prf(average, modifier, msg_start, len(result))\n",
      "/Users/raylinsoriano/anaconda3/lib/python3.8/site-packages/sklearn/metrics/_classification.py:1248: UndefinedMetricWarning: Precision is ill-defined and being set to 0.0 due to no predicted samples. Use `zero_division` parameter to control this behavior.\n",
      "  _warn_prf(average, modifier, msg_start, len(result))\n",
      "/Users/raylinsoriano/anaconda3/lib/python3.8/site-packages/sklearn/metrics/_classification.py:1248: UndefinedMetricWarning: Precision is ill-defined and being set to 0.0 due to no predicted samples. Use `zero_division` parameter to control this behavior.\n",
      "  _warn_prf(average, modifier, msg_start, len(result))\n",
      "/Users/raylinsoriano/anaconda3/lib/python3.8/site-packages/sklearn/metrics/_classification.py:1248: UndefinedMetricWarning: Precision is ill-defined and being set to 0.0 due to no predicted samples. Use `zero_division` parameter to control this behavior.\n",
      "  _warn_prf(average, modifier, msg_start, len(result))\n"
     ]
    },
    {
     "name": "stdout",
     "output_type": "stream",
     "text": [
      "[CV] END lg__C=0.0001, lg__class_weight=None, lg__penalty=l2, lg__tol=0.1; total time=   0.1s\n"
     ]
    },
    {
     "name": "stderr",
     "output_type": "stream",
     "text": [
      "/Users/raylinsoriano/anaconda3/lib/python3.8/site-packages/sklearn/metrics/_classification.py:1248: UndefinedMetricWarning: Precision is ill-defined and being set to 0.0 due to no predicted samples. Use `zero_division` parameter to control this behavior.\n",
      "  _warn_prf(average, modifier, msg_start, len(result))\n",
      "/Users/raylinsoriano/anaconda3/lib/python3.8/site-packages/sklearn/metrics/_classification.py:1248: UndefinedMetricWarning: Precision is ill-defined and being set to 0.0 due to no predicted samples. Use `zero_division` parameter to control this behavior.\n",
      "  _warn_prf(average, modifier, msg_start, len(result))\n"
     ]
    },
    {
     "name": "stdout",
     "output_type": "stream",
     "text": [
      "[CV] END lg__C=0.0001, lg__class_weight=None, lg__penalty=l2, lg__tol=0.1; total time=   0.2s\n"
     ]
    },
    {
     "name": "stderr",
     "output_type": "stream",
     "text": [
      "/Users/raylinsoriano/anaconda3/lib/python3.8/site-packages/sklearn/metrics/_classification.py:1248: UndefinedMetricWarning: Precision is ill-defined and being set to 0.0 due to no predicted samples. Use `zero_division` parameter to control this behavior.\n",
      "  _warn_prf(average, modifier, msg_start, len(result))\n",
      "/Users/raylinsoriano/anaconda3/lib/python3.8/site-packages/sklearn/metrics/_classification.py:1248: UndefinedMetricWarning: Precision is ill-defined and being set to 0.0 due to no predicted samples. Use `zero_division` parameter to control this behavior.\n",
      "  _warn_prf(average, modifier, msg_start, len(result))\n",
      "/Users/raylinsoriano/anaconda3/lib/python3.8/site-packages/sklearn/metrics/_classification.py:1248: UndefinedMetricWarning: Precision is ill-defined and being set to 0.0 due to no predicted samples. Use `zero_division` parameter to control this behavior.\n",
      "  _warn_prf(average, modifier, msg_start, len(result))\n",
      "/Users/raylinsoriano/anaconda3/lib/python3.8/site-packages/sklearn/metrics/_classification.py:1248: UndefinedMetricWarning: Precision is ill-defined and being set to 0.0 due to no predicted samples. Use `zero_division` parameter to control this behavior.\n",
      "  _warn_prf(average, modifier, msg_start, len(result))\n"
     ]
    },
    {
     "name": "stdout",
     "output_type": "stream",
     "text": [
      "[CV] END lg__C=0.0001, lg__class_weight=None, lg__penalty=l2, lg__tol=0.1; total time=   0.2s\n",
      "[CV] END lg__C=0.0001, lg__class_weight=None, lg__penalty=l2, lg__tol=0.1; total time=   0.2s\n"
     ]
    },
    {
     "name": "stderr",
     "output_type": "stream",
     "text": [
      "/Users/raylinsoriano/anaconda3/lib/python3.8/site-packages/sklearn/metrics/_classification.py:1248: UndefinedMetricWarning: Precision is ill-defined and being set to 0.0 due to no predicted samples. Use `zero_division` parameter to control this behavior.\n",
      "  _warn_prf(average, modifier, msg_start, len(result))\n",
      "/Users/raylinsoriano/anaconda3/lib/python3.8/site-packages/sklearn/metrics/_classification.py:1248: UndefinedMetricWarning: Precision is ill-defined and being set to 0.0 due to no predicted samples. Use `zero_division` parameter to control this behavior.\n",
      "  _warn_prf(average, modifier, msg_start, len(result))\n"
     ]
    },
    {
     "name": "stdout",
     "output_type": "stream",
     "text": [
      "[CV] END lg__C=0.0001, lg__class_weight=None, lg__penalty=l2, lg__tol=0.1; total time=   0.7s\n",
      "[CV] END lg__C=0.0001, lg__class_weight=balanced, lg__penalty=l1, lg__tol=0.0001; total time=   0.4s\n",
      "[CV] END lg__C=0.0001, lg__class_weight=balanced, lg__penalty=l1, lg__tol=0.0001; total time=   0.4s\n",
      "[CV] END lg__C=0.0001, lg__class_weight=balanced, lg__penalty=l1, lg__tol=0.0001; total time=   1.3s\n",
      "[CV] END lg__C=0.0001, lg__class_weight=balanced, lg__penalty=l1, lg__tol=0.0001; total time=   0.2s\n",
      "[CV] END lg__C=0.0001, lg__class_weight=balanced, lg__penalty=l1, lg__tol=0.0001; total time=   0.2s\n",
      "[CV] END lg__C=0.0001, lg__class_weight=balanced, lg__penalty=l1, lg__tol=0.01; total time=   0.1s\n",
      "[CV] END lg__C=0.0001, lg__class_weight=balanced, lg__penalty=l1, lg__tol=0.01; total time=   0.2s\n",
      "[CV] END lg__C=0.0001, lg__class_weight=balanced, lg__penalty=l1, lg__tol=0.01; total time=   0.1s\n",
      "[CV] END lg__C=0.0001, lg__class_weight=balanced, lg__penalty=l1, lg__tol=0.01; total time=   0.2s\n",
      "[CV] END lg__C=0.0001, lg__class_weight=balanced, lg__penalty=l1, lg__tol=0.01; total time=   0.2s\n",
      "[CV] END lg__C=0.0001, lg__class_weight=balanced, lg__penalty=l1, lg__tol=0.1; total time=   0.1s\n",
      "[CV] END lg__C=0.0001, lg__class_weight=balanced, lg__penalty=l1, lg__tol=0.1; total time=   0.2s\n",
      "[CV] END lg__C=0.0001, lg__class_weight=balanced, lg__penalty=l1, lg__tol=0.1; total time=   0.1s\n",
      "[CV] END lg__C=0.0001, lg__class_weight=balanced, lg__penalty=l1, lg__tol=0.1; total time=   0.1s\n",
      "[CV] END lg__C=0.0001, lg__class_weight=balanced, lg__penalty=l1, lg__tol=0.1; total time=   0.1s\n",
      "[CV] END lg__C=0.0001, lg__class_weight=balanced, lg__penalty=l2, lg__tol=0.0001; total time=   0.6s\n",
      "[CV] END lg__C=0.0001, lg__class_weight=balanced, lg__penalty=l2, lg__tol=0.0001; total time=   0.7s\n",
      "[CV] END lg__C=0.0001, lg__class_weight=balanced, lg__penalty=l2, lg__tol=0.0001; total time=   0.4s\n",
      "[CV] END lg__C=0.0001, lg__class_weight=balanced, lg__penalty=l2, lg__tol=0.0001; total time=   0.5s\n",
      "[CV] END lg__C=0.0001, lg__class_weight=balanced, lg__penalty=l2, lg__tol=0.0001; total time=   0.8s\n",
      "[CV] END lg__C=0.0001, lg__class_weight=balanced, lg__penalty=l2, lg__tol=0.01; total time=   0.7s\n",
      "[CV] END lg__C=0.0001, lg__class_weight=balanced, lg__penalty=l2, lg__tol=0.01; total time=   0.5s\n",
      "[CV] END lg__C=0.0001, lg__class_weight=balanced, lg__penalty=l2, lg__tol=0.01; total time=   0.4s\n",
      "[CV] END lg__C=0.0001, lg__class_weight=balanced, lg__penalty=l2, lg__tol=0.01; total time=   0.4s\n",
      "[CV] END lg__C=0.0001, lg__class_weight=balanced, lg__penalty=l2, lg__tol=0.01; total time=   0.5s\n",
      "[CV] END lg__C=0.0001, lg__class_weight=balanced, lg__penalty=l2, lg__tol=0.1; total time=   0.4s\n",
      "[CV] END lg__C=0.0001, lg__class_weight=balanced, lg__penalty=l2, lg__tol=0.1; total time=   0.1s\n",
      "[CV] END lg__C=0.0001, lg__class_weight=balanced, lg__penalty=l2, lg__tol=0.1; total time=   0.2s\n",
      "[CV] END lg__C=0.0001, lg__class_weight=balanced, lg__penalty=l2, lg__tol=0.1; total time=   0.2s\n",
      "[CV] END lg__C=0.0001, lg__class_weight=balanced, lg__penalty=l2, lg__tol=0.1; total time=   0.4s\n",
      "[CV] END lg__C=0.001, lg__class_weight=None, lg__penalty=l1, lg__tol=0.0001; total time=   0.1s\n"
     ]
    },
    {
     "name": "stderr",
     "output_type": "stream",
     "text": [
      "/Users/raylinsoriano/anaconda3/lib/python3.8/site-packages/sklearn/metrics/_classification.py:1248: UndefinedMetricWarning: Precision is ill-defined and being set to 0.0 due to no predicted samples. Use `zero_division` parameter to control this behavior.\n",
      "  _warn_prf(average, modifier, msg_start, len(result))\n"
     ]
    },
    {
     "name": "stdout",
     "output_type": "stream",
     "text": [
      "[CV] END lg__C=0.001, lg__class_weight=None, lg__penalty=l1, lg__tol=0.0001; total time=   0.1s\n",
      "[CV] END lg__C=0.001, lg__class_weight=None, lg__penalty=l1, lg__tol=0.0001; total time=   0.1s\n"
     ]
    },
    {
     "name": "stderr",
     "output_type": "stream",
     "text": [
      "/Users/raylinsoriano/anaconda3/lib/python3.8/site-packages/sklearn/metrics/_classification.py:1248: UndefinedMetricWarning: Precision is ill-defined and being set to 0.0 due to no predicted samples. Use `zero_division` parameter to control this behavior.\n",
      "  _warn_prf(average, modifier, msg_start, len(result))\n",
      "/Users/raylinsoriano/anaconda3/lib/python3.8/site-packages/sklearn/metrics/_classification.py:1248: UndefinedMetricWarning: Precision is ill-defined and being set to 0.0 due to no predicted samples. Use `zero_division` parameter to control this behavior.\n",
      "  _warn_prf(average, modifier, msg_start, len(result))\n"
     ]
    },
    {
     "name": "stdout",
     "output_type": "stream",
     "text": [
      "[CV] END lg__C=0.001, lg__class_weight=None, lg__penalty=l1, lg__tol=0.0001; total time=   0.1s\n",
      "[CV] END lg__C=0.001, lg__class_weight=None, lg__penalty=l1, lg__tol=0.0001; total time=   0.1s\n",
      "[CV] END lg__C=0.001, lg__class_weight=None, lg__penalty=l1, lg__tol=0.01; total time=   0.1s\n",
      "[CV] END lg__C=0.001, lg__class_weight=None, lg__penalty=l1, lg__tol=0.01; total time=   0.1s\n"
     ]
    },
    {
     "name": "stderr",
     "output_type": "stream",
     "text": [
      "/Users/raylinsoriano/anaconda3/lib/python3.8/site-packages/sklearn/metrics/_classification.py:1248: UndefinedMetricWarning: Precision is ill-defined and being set to 0.0 due to no predicted samples. Use `zero_division` parameter to control this behavior.\n",
      "  _warn_prf(average, modifier, msg_start, len(result))\n",
      "/Users/raylinsoriano/anaconda3/lib/python3.8/site-packages/sklearn/metrics/_classification.py:1248: UndefinedMetricWarning: Precision is ill-defined and being set to 0.0 due to no predicted samples. Use `zero_division` parameter to control this behavior.\n",
      "  _warn_prf(average, modifier, msg_start, len(result))\n",
      "/Users/raylinsoriano/anaconda3/lib/python3.8/site-packages/sklearn/metrics/_classification.py:1248: UndefinedMetricWarning: Precision is ill-defined and being set to 0.0 due to no predicted samples. Use `zero_division` parameter to control this behavior.\n",
      "  _warn_prf(average, modifier, msg_start, len(result))\n"
     ]
    },
    {
     "name": "stdout",
     "output_type": "stream",
     "text": [
      "[CV] END lg__C=0.001, lg__class_weight=None, lg__penalty=l1, lg__tol=0.01; total time=   0.1s\n",
      "[CV] END lg__C=0.001, lg__class_weight=None, lg__penalty=l1, lg__tol=0.01; total time=   0.1s\n"
     ]
    },
    {
     "name": "stderr",
     "output_type": "stream",
     "text": [
      "/Users/raylinsoriano/anaconda3/lib/python3.8/site-packages/sklearn/metrics/_classification.py:1248: UndefinedMetricWarning: Precision is ill-defined and being set to 0.0 due to no predicted samples. Use `zero_division` parameter to control this behavior.\n",
      "  _warn_prf(average, modifier, msg_start, len(result))\n",
      "/Users/raylinsoriano/anaconda3/lib/python3.8/site-packages/sklearn/metrics/_classification.py:1248: UndefinedMetricWarning: Precision is ill-defined and being set to 0.0 due to no predicted samples. Use `zero_division` parameter to control this behavior.\n",
      "  _warn_prf(average, modifier, msg_start, len(result))\n",
      "/Users/raylinsoriano/anaconda3/lib/python3.8/site-packages/sklearn/metrics/_classification.py:1248: UndefinedMetricWarning: Precision is ill-defined and being set to 0.0 due to no predicted samples. Use `zero_division` parameter to control this behavior.\n",
      "  _warn_prf(average, modifier, msg_start, len(result))\n"
     ]
    },
    {
     "name": "stdout",
     "output_type": "stream",
     "text": [
      "[CV] END lg__C=0.001, lg__class_weight=None, lg__penalty=l1, lg__tol=0.01; total time=   0.1s\n",
      "[CV] END lg__C=0.001, lg__class_weight=None, lg__penalty=l1, lg__tol=0.1; total time=   0.1s\n"
     ]
    },
    {
     "name": "stderr",
     "output_type": "stream",
     "text": [
      "/Users/raylinsoriano/anaconda3/lib/python3.8/site-packages/sklearn/metrics/_classification.py:1248: UndefinedMetricWarning: Precision is ill-defined and being set to 0.0 due to no predicted samples. Use `zero_division` parameter to control this behavior.\n",
      "  _warn_prf(average, modifier, msg_start, len(result))\n",
      "/Users/raylinsoriano/anaconda3/lib/python3.8/site-packages/sklearn/metrics/_classification.py:1248: UndefinedMetricWarning: Precision is ill-defined and being set to 0.0 due to no predicted samples. Use `zero_division` parameter to control this behavior.\n",
      "  _warn_prf(average, modifier, msg_start, len(result))\n"
     ]
    },
    {
     "name": "stdout",
     "output_type": "stream",
     "text": [
      "[CV] END lg__C=0.001, lg__class_weight=None, lg__penalty=l1, lg__tol=0.1; total time=   0.1s\n",
      "[CV] END lg__C=0.001, lg__class_weight=None, lg__penalty=l1, lg__tol=0.1; total time=   0.1s\n"
     ]
    },
    {
     "name": "stderr",
     "output_type": "stream",
     "text": [
      "/Users/raylinsoriano/anaconda3/lib/python3.8/site-packages/sklearn/metrics/_classification.py:1248: UndefinedMetricWarning: Precision is ill-defined and being set to 0.0 due to no predicted samples. Use `zero_division` parameter to control this behavior.\n",
      "  _warn_prf(average, modifier, msg_start, len(result))\n",
      "/Users/raylinsoriano/anaconda3/lib/python3.8/site-packages/sklearn/metrics/_classification.py:1248: UndefinedMetricWarning: Precision is ill-defined and being set to 0.0 due to no predicted samples. Use `zero_division` parameter to control this behavior.\n",
      "  _warn_prf(average, modifier, msg_start, len(result))\n",
      "/Users/raylinsoriano/anaconda3/lib/python3.8/site-packages/sklearn/metrics/_classification.py:1248: UndefinedMetricWarning: Precision is ill-defined and being set to 0.0 due to no predicted samples. Use `zero_division` parameter to control this behavior.\n",
      "  _warn_prf(average, modifier, msg_start, len(result))\n"
     ]
    },
    {
     "name": "stdout",
     "output_type": "stream",
     "text": [
      "[CV] END lg__C=0.001, lg__class_weight=None, lg__penalty=l1, lg__tol=0.1; total time=   0.1s\n",
      "[CV] END lg__C=0.001, lg__class_weight=None, lg__penalty=l1, lg__tol=0.1; total time=   0.1s\n",
      "[CV] END lg__C=0.001, lg__class_weight=None, lg__penalty=l2, lg__tol=0.0001; total time=   0.7s\n",
      "[CV] END lg__C=0.001, lg__class_weight=None, lg__penalty=l2, lg__tol=0.0001; total time=   0.7s\n",
      "[CV] END lg__C=0.001, lg__class_weight=None, lg__penalty=l2, lg__tol=0.0001; total time=   0.7s\n",
      "[CV] END lg__C=0.001, lg__class_weight=None, lg__penalty=l2, lg__tol=0.0001; total time=   2.2s\n",
      "[CV] END lg__C=0.001, lg__class_weight=None, lg__penalty=l2, lg__tol=0.0001; total time=   2.0s\n",
      "[CV] END lg__C=0.001, lg__class_weight=None, lg__penalty=l2, lg__tol=0.01; total time=   0.2s\n",
      "[CV] END lg__C=0.001, lg__class_weight=None, lg__penalty=l2, lg__tol=0.01; total time=   0.3s\n"
     ]
    },
    {
     "name": "stderr",
     "output_type": "stream",
     "text": [
      "/Users/raylinsoriano/anaconda3/lib/python3.8/site-packages/sklearn/metrics/_classification.py:1248: UndefinedMetricWarning: Precision is ill-defined and being set to 0.0 due to no predicted samples. Use `zero_division` parameter to control this behavior.\n",
      "  _warn_prf(average, modifier, msg_start, len(result))\n",
      "/Users/raylinsoriano/anaconda3/lib/python3.8/site-packages/sklearn/metrics/_classification.py:1248: UndefinedMetricWarning: Precision is ill-defined and being set to 0.0 due to no predicted samples. Use `zero_division` parameter to control this behavior.\n",
      "  _warn_prf(average, modifier, msg_start, len(result))\n"
     ]
    },
    {
     "name": "stdout",
     "output_type": "stream",
     "text": [
      "[CV] END lg__C=0.001, lg__class_weight=None, lg__penalty=l2, lg__tol=0.01; total time=   0.2s\n"
     ]
    },
    {
     "name": "stderr",
     "output_type": "stream",
     "text": [
      "/Users/raylinsoriano/anaconda3/lib/python3.8/site-packages/sklearn/metrics/_classification.py:1248: UndefinedMetricWarning: Precision is ill-defined and being set to 0.0 due to no predicted samples. Use `zero_division` parameter to control this behavior.\n",
      "  _warn_prf(average, modifier, msg_start, len(result))\n",
      "/Users/raylinsoriano/anaconda3/lib/python3.8/site-packages/sklearn/metrics/_classification.py:1248: UndefinedMetricWarning: Precision is ill-defined and being set to 0.0 due to no predicted samples. Use `zero_division` parameter to control this behavior.\n",
      "  _warn_prf(average, modifier, msg_start, len(result))\n",
      "/Users/raylinsoriano/anaconda3/lib/python3.8/site-packages/sklearn/metrics/_classification.py:1248: UndefinedMetricWarning: Precision is ill-defined and being set to 0.0 due to no predicted samples. Use `zero_division` parameter to control this behavior.\n",
      "  _warn_prf(average, modifier, msg_start, len(result))\n"
     ]
    },
    {
     "name": "stdout",
     "output_type": "stream",
     "text": [
      "[CV] END lg__C=0.001, lg__class_weight=None, lg__penalty=l2, lg__tol=0.01; total time=   0.2s\n",
      "[CV] END lg__C=0.001, lg__class_weight=None, lg__penalty=l2, lg__tol=0.01; total time=   0.2s\n"
     ]
    },
    {
     "name": "stderr",
     "output_type": "stream",
     "text": [
      "/Users/raylinsoriano/anaconda3/lib/python3.8/site-packages/sklearn/metrics/_classification.py:1248: UndefinedMetricWarning: Precision is ill-defined and being set to 0.0 due to no predicted samples. Use `zero_division` parameter to control this behavior.\n",
      "  _warn_prf(average, modifier, msg_start, len(result))\n",
      "/Users/raylinsoriano/anaconda3/lib/python3.8/site-packages/sklearn/metrics/_classification.py:1248: UndefinedMetricWarning: Precision is ill-defined and being set to 0.0 due to no predicted samples. Use `zero_division` parameter to control this behavior.\n",
      "  _warn_prf(average, modifier, msg_start, len(result))\n",
      "/Users/raylinsoriano/anaconda3/lib/python3.8/site-packages/sklearn/metrics/_classification.py:1248: UndefinedMetricWarning: Precision is ill-defined and being set to 0.0 due to no predicted samples. Use `zero_division` parameter to control this behavior.\n",
      "  _warn_prf(average, modifier, msg_start, len(result))\n"
     ]
    },
    {
     "name": "stdout",
     "output_type": "stream",
     "text": [
      "[CV] END lg__C=0.001, lg__class_weight=None, lg__penalty=l2, lg__tol=0.1; total time=   0.1s\n",
      "[CV] END lg__C=0.001, lg__class_weight=None, lg__penalty=l2, lg__tol=0.1; total time=   0.1s\n"
     ]
    },
    {
     "name": "stderr",
     "output_type": "stream",
     "text": [
      "/Users/raylinsoriano/anaconda3/lib/python3.8/site-packages/sklearn/metrics/_classification.py:1248: UndefinedMetricWarning: Precision is ill-defined and being set to 0.0 due to no predicted samples. Use `zero_division` parameter to control this behavior.\n",
      "  _warn_prf(average, modifier, msg_start, len(result))\n",
      "/Users/raylinsoriano/anaconda3/lib/python3.8/site-packages/sklearn/metrics/_classification.py:1248: UndefinedMetricWarning: Precision is ill-defined and being set to 0.0 due to no predicted samples. Use `zero_division` parameter to control this behavior.\n",
      "  _warn_prf(average, modifier, msg_start, len(result))\n",
      "/Users/raylinsoriano/anaconda3/lib/python3.8/site-packages/sklearn/metrics/_classification.py:1248: UndefinedMetricWarning: Precision is ill-defined and being set to 0.0 due to no predicted samples. Use `zero_division` parameter to control this behavior.\n",
      "  _warn_prf(average, modifier, msg_start, len(result))\n",
      "/Users/raylinsoriano/anaconda3/lib/python3.8/site-packages/sklearn/metrics/_classification.py:1248: UndefinedMetricWarning: Precision is ill-defined and being set to 0.0 due to no predicted samples. Use `zero_division` parameter to control this behavior.\n",
      "  _warn_prf(average, modifier, msg_start, len(result))\n"
     ]
    },
    {
     "name": "stdout",
     "output_type": "stream",
     "text": [
      "[CV] END lg__C=0.001, lg__class_weight=None, lg__penalty=l2, lg__tol=0.1; total time=   0.1s\n",
      "[CV] END lg__C=0.001, lg__class_weight=None, lg__penalty=l2, lg__tol=0.1; total time=   0.1s\n"
     ]
    },
    {
     "name": "stderr",
     "output_type": "stream",
     "text": [
      "/Users/raylinsoriano/anaconda3/lib/python3.8/site-packages/sklearn/metrics/_classification.py:1248: UndefinedMetricWarning: Precision is ill-defined and being set to 0.0 due to no predicted samples. Use `zero_division` parameter to control this behavior.\n",
      "  _warn_prf(average, modifier, msg_start, len(result))\n",
      "/Users/raylinsoriano/anaconda3/lib/python3.8/site-packages/sklearn/metrics/_classification.py:1248: UndefinedMetricWarning: Precision is ill-defined and being set to 0.0 due to no predicted samples. Use `zero_division` parameter to control this behavior.\n",
      "  _warn_prf(average, modifier, msg_start, len(result))\n",
      "/Users/raylinsoriano/anaconda3/lib/python3.8/site-packages/sklearn/metrics/_classification.py:1248: UndefinedMetricWarning: Precision is ill-defined and being set to 0.0 due to no predicted samples. Use `zero_division` parameter to control this behavior.\n",
      "  _warn_prf(average, modifier, msg_start, len(result))\n",
      "/Users/raylinsoriano/anaconda3/lib/python3.8/site-packages/sklearn/metrics/_classification.py:1248: UndefinedMetricWarning: Precision is ill-defined and being set to 0.0 due to no predicted samples. Use `zero_division` parameter to control this behavior.\n",
      "  _warn_prf(average, modifier, msg_start, len(result))\n"
     ]
    },
    {
     "name": "stdout",
     "output_type": "stream",
     "text": [
      "[CV] END lg__C=0.001, lg__class_weight=None, lg__penalty=l2, lg__tol=0.1; total time=   0.1s\n",
      "[CV] END lg__C=0.001, lg__class_weight=balanced, lg__penalty=l1, lg__tol=0.0001; total time=   0.3s\n",
      "[CV] END lg__C=0.001, lg__class_weight=balanced, lg__penalty=l1, lg__tol=0.0001; total time=   0.6s\n",
      "[CV] END lg__C=0.001, lg__class_weight=balanced, lg__penalty=l1, lg__tol=0.0001; total time=   0.5s\n",
      "[CV] END lg__C=0.001, lg__class_weight=balanced, lg__penalty=l1, lg__tol=0.0001; total time=   0.7s\n",
      "[CV] END lg__C=0.001, lg__class_weight=balanced, lg__penalty=l1, lg__tol=0.0001; total time=   0.2s\n",
      "[CV] END lg__C=0.001, lg__class_weight=balanced, lg__penalty=l1, lg__tol=0.01; total time=   0.1s\n",
      "[CV] END lg__C=0.001, lg__class_weight=balanced, lg__penalty=l1, lg__tol=0.01; total time=   0.2s\n",
      "[CV] END lg__C=0.001, lg__class_weight=balanced, lg__penalty=l1, lg__tol=0.01; total time=   0.1s\n",
      "[CV] END lg__C=0.001, lg__class_weight=balanced, lg__penalty=l1, lg__tol=0.01; total time=   0.1s\n",
      "[CV] END lg__C=0.001, lg__class_weight=balanced, lg__penalty=l1, lg__tol=0.01; total time=   0.1s\n",
      "[CV] END lg__C=0.001, lg__class_weight=balanced, lg__penalty=l1, lg__tol=0.1; total time=   0.1s\n",
      "[CV] END lg__C=0.001, lg__class_weight=balanced, lg__penalty=l1, lg__tol=0.1; total time=   0.2s\n",
      "[CV] END lg__C=0.001, lg__class_weight=balanced, lg__penalty=l1, lg__tol=0.1; total time=   0.2s\n",
      "[CV] END lg__C=0.001, lg__class_weight=balanced, lg__penalty=l1, lg__tol=0.1; total time=   0.1s\n",
      "[CV] END lg__C=0.001, lg__class_weight=balanced, lg__penalty=l1, lg__tol=0.1; total time=   0.1s\n",
      "[CV] END lg__C=0.001, lg__class_weight=balanced, lg__penalty=l2, lg__tol=0.0001; total time=   1.5s\n",
      "[CV] END lg__C=0.001, lg__class_weight=balanced, lg__penalty=l2, lg__tol=0.0001; total time=   1.1s\n",
      "[CV] END lg__C=0.001, lg__class_weight=balanced, lg__penalty=l2, lg__tol=0.0001; total time=   0.8s\n",
      "[CV] END lg__C=0.001, lg__class_weight=balanced, lg__penalty=l2, lg__tol=0.0001; total time=   1.4s\n",
      "[CV] END lg__C=0.001, lg__class_weight=balanced, lg__penalty=l2, lg__tol=0.0001; total time=   1.0s\n",
      "[CV] END lg__C=0.001, lg__class_weight=balanced, lg__penalty=l2, lg__tol=0.01; total time=   0.7s\n",
      "[CV] END lg__C=0.001, lg__class_weight=balanced, lg__penalty=l2, lg__tol=0.01; total time=   0.8s\n",
      "[CV] END lg__C=0.001, lg__class_weight=balanced, lg__penalty=l2, lg__tol=0.01; total time=   0.5s\n",
      "[CV] END lg__C=0.001, lg__class_weight=balanced, lg__penalty=l2, lg__tol=0.01; total time=   0.5s\n",
      "[CV] END lg__C=0.001, lg__class_weight=balanced, lg__penalty=l2, lg__tol=0.01; total time=   0.5s\n",
      "[CV] END lg__C=0.001, lg__class_weight=balanced, lg__penalty=l2, lg__tol=0.1; total time=   0.6s\n",
      "[CV] END lg__C=0.001, lg__class_weight=balanced, lg__penalty=l2, lg__tol=0.1; total time=   0.1s\n",
      "[CV] END lg__C=0.001, lg__class_weight=balanced, lg__penalty=l2, lg__tol=0.1; total time=   0.2s\n",
      "[CV] END lg__C=0.001, lg__class_weight=balanced, lg__penalty=l2, lg__tol=0.1; total time=   0.3s\n",
      "[CV] END lg__C=0.001, lg__class_weight=balanced, lg__penalty=l2, lg__tol=0.1; total time=   0.6s\n",
      "[CV] END lg__C=0.01, lg__class_weight=None, lg__penalty=l1, lg__tol=0.0001; total time=   0.1s\n",
      "[CV] END lg__C=0.01, lg__class_weight=None, lg__penalty=l1, lg__tol=0.0001; total time=   0.2s\n",
      "[CV] END lg__C=0.01, lg__class_weight=None, lg__penalty=l1, lg__tol=0.0001; total time=   0.2s\n",
      "[CV] END lg__C=0.01, lg__class_weight=None, lg__penalty=l1, lg__tol=0.0001; total time=   0.2s\n",
      "[CV] END lg__C=0.01, lg__class_weight=None, lg__penalty=l1, lg__tol=0.0001; total time=   0.2s\n",
      "[CV] END lg__C=0.01, lg__class_weight=None, lg__penalty=l1, lg__tol=0.01; total time=   0.2s\n",
      "[CV] END lg__C=0.01, lg__class_weight=None, lg__penalty=l1, lg__tol=0.01; total time=   0.3s\n",
      "[CV] END lg__C=0.01, lg__class_weight=None, lg__penalty=l1, lg__tol=0.01; total time=   0.1s\n",
      "[CV] END lg__C=0.01, lg__class_weight=None, lg__penalty=l1, lg__tol=0.01; total time=   0.1s\n",
      "[CV] END lg__C=0.01, lg__class_weight=None, lg__penalty=l1, lg__tol=0.01; total time=   0.1s\n",
      "[CV] END lg__C=0.01, lg__class_weight=None, lg__penalty=l1, lg__tol=0.1; total time=   0.1s\n",
      "[CV] END lg__C=0.01, lg__class_weight=None, lg__penalty=l1, lg__tol=0.1; total time=   0.1s\n",
      "[CV] END lg__C=0.01, lg__class_weight=None, lg__penalty=l1, lg__tol=0.1; total time=   0.1s\n"
     ]
    },
    {
     "name": "stderr",
     "output_type": "stream",
     "text": [
      "/Users/raylinsoriano/anaconda3/lib/python3.8/site-packages/sklearn/metrics/_classification.py:1248: UndefinedMetricWarning: Precision is ill-defined and being set to 0.0 due to no predicted samples. Use `zero_division` parameter to control this behavior.\n",
      "  _warn_prf(average, modifier, msg_start, len(result))\n"
     ]
    },
    {
     "name": "stdout",
     "output_type": "stream",
     "text": [
      "[CV] END lg__C=0.01, lg__class_weight=None, lg__penalty=l1, lg__tol=0.1; total time=   0.1s\n",
      "[CV] END lg__C=0.01, lg__class_weight=None, lg__penalty=l1, lg__tol=0.1; total time=   0.1s\n",
      "[CV] END lg__C=0.01, lg__class_weight=None, lg__penalty=l2, lg__tol=0.0001; total time=   1.9s\n",
      "[CV] END lg__C=0.01, lg__class_weight=None, lg__penalty=l2, lg__tol=0.0001; total time=   4.0s\n",
      "[CV] END lg__C=0.01, lg__class_weight=None, lg__penalty=l2, lg__tol=0.0001; total time=   2.1s\n",
      "[CV] END lg__C=0.01, lg__class_weight=None, lg__penalty=l2, lg__tol=0.0001; total time=   1.5s\n",
      "[CV] END lg__C=0.01, lg__class_weight=None, lg__penalty=l2, lg__tol=0.0001; total time=   2.0s\n",
      "[CV] END lg__C=0.01, lg__class_weight=None, lg__penalty=l2, lg__tol=0.01; total time=   0.2s\n",
      "[CV] END lg__C=0.01, lg__class_weight=None, lg__penalty=l2, lg__tol=0.01; total time=   0.2s\n",
      "[CV] END lg__C=0.01, lg__class_weight=None, lg__penalty=l2, lg__tol=0.01; total time=   0.2s\n"
     ]
    },
    {
     "name": "stderr",
     "output_type": "stream",
     "text": [
      "/Users/raylinsoriano/anaconda3/lib/python3.8/site-packages/sklearn/metrics/_classification.py:1248: UndefinedMetricWarning: Precision is ill-defined and being set to 0.0 due to no predicted samples. Use `zero_division` parameter to control this behavior.\n",
      "  _warn_prf(average, modifier, msg_start, len(result))\n",
      "/Users/raylinsoriano/anaconda3/lib/python3.8/site-packages/sklearn/metrics/_classification.py:1248: UndefinedMetricWarning: Precision is ill-defined and being set to 0.0 due to no predicted samples. Use `zero_division` parameter to control this behavior.\n",
      "  _warn_prf(average, modifier, msg_start, len(result))\n",
      "/Users/raylinsoriano/anaconda3/lib/python3.8/site-packages/sklearn/metrics/_classification.py:1248: UndefinedMetricWarning: Precision is ill-defined and being set to 0.0 due to no predicted samples. Use `zero_division` parameter to control this behavior.\n",
      "  _warn_prf(average, modifier, msg_start, len(result))\n",
      "/Users/raylinsoriano/anaconda3/lib/python3.8/site-packages/sklearn/metrics/_classification.py:1248: UndefinedMetricWarning: Precision is ill-defined and being set to 0.0 due to no predicted samples. Use `zero_division` parameter to control this behavior.\n",
      "  _warn_prf(average, modifier, msg_start, len(result))\n",
      "/Users/raylinsoriano/anaconda3/lib/python3.8/site-packages/sklearn/metrics/_classification.py:1248: UndefinedMetricWarning: Precision is ill-defined and being set to 0.0 due to no predicted samples. Use `zero_division` parameter to control this behavior.\n",
      "  _warn_prf(average, modifier, msg_start, len(result))\n",
      "/Users/raylinsoriano/anaconda3/lib/python3.8/site-packages/sklearn/metrics/_classification.py:1248: UndefinedMetricWarning: Precision is ill-defined and being set to 0.0 due to no predicted samples. Use `zero_division` parameter to control this behavior.\n",
      "  _warn_prf(average, modifier, msg_start, len(result))\n"
     ]
    },
    {
     "name": "stdout",
     "output_type": "stream",
     "text": [
      "[CV] END lg__C=0.01, lg__class_weight=None, lg__penalty=l2, lg__tol=0.01; total time=   0.2s\n",
      "[CV] END lg__C=0.01, lg__class_weight=None, lg__penalty=l2, lg__tol=0.01; total time=   0.2s\n"
     ]
    },
    {
     "name": "stderr",
     "output_type": "stream",
     "text": [
      "/Users/raylinsoriano/anaconda3/lib/python3.8/site-packages/sklearn/metrics/_classification.py:1248: UndefinedMetricWarning: Precision is ill-defined and being set to 0.0 due to no predicted samples. Use `zero_division` parameter to control this behavior.\n",
      "  _warn_prf(average, modifier, msg_start, len(result))\n",
      "/Users/raylinsoriano/anaconda3/lib/python3.8/site-packages/sklearn/metrics/_classification.py:1248: UndefinedMetricWarning: Precision is ill-defined and being set to 0.0 due to no predicted samples. Use `zero_division` parameter to control this behavior.\n",
      "  _warn_prf(average, modifier, msg_start, len(result))\n",
      "/Users/raylinsoriano/anaconda3/lib/python3.8/site-packages/sklearn/metrics/_classification.py:1248: UndefinedMetricWarning: Precision is ill-defined and being set to 0.0 due to no predicted samples. Use `zero_division` parameter to control this behavior.\n",
      "  _warn_prf(average, modifier, msg_start, len(result))\n",
      "/Users/raylinsoriano/anaconda3/lib/python3.8/site-packages/sklearn/metrics/_classification.py:1248: UndefinedMetricWarning: Precision is ill-defined and being set to 0.0 due to no predicted samples. Use `zero_division` parameter to control this behavior.\n",
      "  _warn_prf(average, modifier, msg_start, len(result))\n"
     ]
    },
    {
     "name": "stdout",
     "output_type": "stream",
     "text": [
      "[CV] END lg__C=0.01, lg__class_weight=None, lg__penalty=l2, lg__tol=0.1; total time=   0.1s\n",
      "[CV] END lg__C=0.01, lg__class_weight=None, lg__penalty=l2, lg__tol=0.1; total time=   0.1s\n"
     ]
    },
    {
     "name": "stderr",
     "output_type": "stream",
     "text": [
      "/Users/raylinsoriano/anaconda3/lib/python3.8/site-packages/sklearn/metrics/_classification.py:1248: UndefinedMetricWarning: Precision is ill-defined and being set to 0.0 due to no predicted samples. Use `zero_division` parameter to control this behavior.\n",
      "  _warn_prf(average, modifier, msg_start, len(result))\n",
      "/Users/raylinsoriano/anaconda3/lib/python3.8/site-packages/sklearn/metrics/_classification.py:1248: UndefinedMetricWarning: Precision is ill-defined and being set to 0.0 due to no predicted samples. Use `zero_division` parameter to control this behavior.\n",
      "  _warn_prf(average, modifier, msg_start, len(result))\n",
      "/Users/raylinsoriano/anaconda3/lib/python3.8/site-packages/sklearn/metrics/_classification.py:1248: UndefinedMetricWarning: Precision is ill-defined and being set to 0.0 due to no predicted samples. Use `zero_division` parameter to control this behavior.\n",
      "  _warn_prf(average, modifier, msg_start, len(result))\n",
      "/Users/raylinsoriano/anaconda3/lib/python3.8/site-packages/sklearn/metrics/_classification.py:1248: UndefinedMetricWarning: Precision is ill-defined and being set to 0.0 due to no predicted samples. Use `zero_division` parameter to control this behavior.\n",
      "  _warn_prf(average, modifier, msg_start, len(result))\n"
     ]
    },
    {
     "name": "stdout",
     "output_type": "stream",
     "text": [
      "[CV] END lg__C=0.01, lg__class_weight=None, lg__penalty=l2, lg__tol=0.1; total time=   0.1s\n",
      "[CV] END lg__C=0.01, lg__class_weight=None, lg__penalty=l2, lg__tol=0.1; total time=   0.1s\n"
     ]
    },
    {
     "name": "stderr",
     "output_type": "stream",
     "text": [
      "/Users/raylinsoriano/anaconda3/lib/python3.8/site-packages/sklearn/metrics/_classification.py:1248: UndefinedMetricWarning: Precision is ill-defined and being set to 0.0 due to no predicted samples. Use `zero_division` parameter to control this behavior.\n",
      "  _warn_prf(average, modifier, msg_start, len(result))\n",
      "/Users/raylinsoriano/anaconda3/lib/python3.8/site-packages/sklearn/metrics/_classification.py:1248: UndefinedMetricWarning: Precision is ill-defined and being set to 0.0 due to no predicted samples. Use `zero_division` parameter to control this behavior.\n",
      "  _warn_prf(average, modifier, msg_start, len(result))\n"
     ]
    },
    {
     "name": "stdout",
     "output_type": "stream",
     "text": [
      "[CV] END lg__C=0.01, lg__class_weight=None, lg__penalty=l2, lg__tol=0.1; total time=   0.1s\n",
      "[CV] END lg__C=0.01, lg__class_weight=balanced, lg__penalty=l1, lg__tol=0.0001; total time=   0.4s\n",
      "[CV] END lg__C=0.01, lg__class_weight=balanced, lg__penalty=l1, lg__tol=0.0001; total time=   0.6s\n",
      "[CV] END lg__C=0.01, lg__class_weight=balanced, lg__penalty=l1, lg__tol=0.0001; total time=   0.5s\n",
      "[CV] END lg__C=0.01, lg__class_weight=balanced, lg__penalty=l1, lg__tol=0.0001; total time=   0.4s\n",
      "[CV] END lg__C=0.01, lg__class_weight=balanced, lg__penalty=l1, lg__tol=0.0001; total time=   0.4s\n",
      "[CV] END lg__C=0.01, lg__class_weight=balanced, lg__penalty=l1, lg__tol=0.01; total time=   0.1s\n",
      "[CV] END lg__C=0.01, lg__class_weight=balanced, lg__penalty=l1, lg__tol=0.01; total time=   0.3s\n",
      "[CV] END lg__C=0.01, lg__class_weight=balanced, lg__penalty=l1, lg__tol=0.01; total time=   0.1s\n",
      "[CV] END lg__C=0.01, lg__class_weight=balanced, lg__penalty=l1, lg__tol=0.01; total time=   0.2s\n",
      "[CV] END lg__C=0.01, lg__class_weight=balanced, lg__penalty=l1, lg__tol=0.01; total time=   0.2s\n",
      "[CV] END lg__C=0.01, lg__class_weight=balanced, lg__penalty=l1, lg__tol=0.1; total time=   0.1s\n",
      "[CV] END lg__C=0.01, lg__class_weight=balanced, lg__penalty=l1, lg__tol=0.1; total time=   0.1s\n",
      "[CV] END lg__C=0.01, lg__class_weight=balanced, lg__penalty=l1, lg__tol=0.1; total time=   0.1s\n",
      "[CV] END lg__C=0.01, lg__class_weight=balanced, lg__penalty=l1, lg__tol=0.1; total time=   0.1s\n",
      "[CV] END lg__C=0.01, lg__class_weight=balanced, lg__penalty=l1, lg__tol=0.1; total time=   0.1s\n",
      "[CV] END lg__C=0.01, lg__class_weight=balanced, lg__penalty=l2, lg__tol=0.0001; total time=   6.2s\n",
      "[CV] END lg__C=0.01, lg__class_weight=balanced, lg__penalty=l2, lg__tol=0.0001; total time=   6.3s\n",
      "[CV] END lg__C=0.01, lg__class_weight=balanced, lg__penalty=l2, lg__tol=0.0001; total time=  10.6s\n",
      "[CV] END lg__C=0.01, lg__class_weight=balanced, lg__penalty=l2, lg__tol=0.0001; total time=   9.3s\n",
      "[CV] END lg__C=0.01, lg__class_weight=balanced, lg__penalty=l2, lg__tol=0.0001; total time=   2.7s\n",
      "[CV] END lg__C=0.01, lg__class_weight=balanced, lg__penalty=l2, lg__tol=0.01; total time=   0.5s\n",
      "[CV] END lg__C=0.01, lg__class_weight=balanced, lg__penalty=l2, lg__tol=0.01; total time=   0.8s\n",
      "[CV] END lg__C=0.01, lg__class_weight=balanced, lg__penalty=l2, lg__tol=0.01; total time=   0.4s\n",
      "[CV] END lg__C=0.01, lg__class_weight=balanced, lg__penalty=l2, lg__tol=0.01; total time=   0.4s\n",
      "[CV] END lg__C=0.01, lg__class_weight=balanced, lg__penalty=l2, lg__tol=0.01; total time=   0.4s\n",
      "[CV] END lg__C=0.01, lg__class_weight=balanced, lg__penalty=l2, lg__tol=0.1; total time=   0.5s\n",
      "[CV] END lg__C=0.01, lg__class_weight=balanced, lg__penalty=l2, lg__tol=0.1; total time=   0.1s\n",
      "[CV] END lg__C=0.01, lg__class_weight=balanced, lg__penalty=l2, lg__tol=0.1; total time=   0.4s\n",
      "[CV] END lg__C=0.01, lg__class_weight=balanced, lg__penalty=l2, lg__tol=0.1; total time=   0.4s\n",
      "[CV] END lg__C=0.01, lg__class_weight=balanced, lg__penalty=l2, lg__tol=0.1; total time=   0.4s\n"
     ]
    },
    {
     "data": {
      "text/plain": [
       "GridSearchCV(estimator=Pipeline(steps=[('lg',\n",
       "                                        LogisticRegression(max_iter=100000000,\n",
       "                                                           solver='liblinear'))]),\n",
       "             param_grid={'lg__C': [0.0001, 0.001, 0.01],\n",
       "                         'lg__class_weight': [None, 'balanced'],\n",
       "                         'lg__penalty': ['l1', 'l2'],\n",
       "                         'lg__tol': [0.0001, 0.01, 0.1]},\n",
       "             return_train_score=True, scoring='precision', verbose=2)"
      ]
     },
     "execution_count": 705,
     "metadata": {},
     "output_type": "execute_result"
    }
   ],
   "source": [
    "gridsearch = GridSearchCV(log_pipe, grid, return_train_score=True, scoring='precision',verbose=2)\n",
    "\n",
    "gridsearch.fit(df_train, y_train)"
   ]
  },
  {
   "cell_type": "code",
   "execution_count": 706,
   "id": "6cc511e0",
   "metadata": {},
   "outputs": [
    {
     "name": "stdout",
     "output_type": "stream",
     "text": [
      "gridsearch best parameters: {'lg__C': 0.01, 'lg__class_weight': None, 'lg__penalty': 'l2', 'lg__tol': 0.0001}\n",
      "gridsearch best score: 0.6056612118531624\n"
     ]
    }
   ],
   "source": [
    "print('gridsearch best parameters: {}'.format(gridsearch.best_params_))\n",
    "print('gridsearch best score: {}'.format(gridsearch.best_score_))"
   ]
  },
  {
   "cell_type": "code",
   "execution_count": 707,
   "id": "92ea57f4",
   "metadata": {},
   "outputs": [],
   "source": [
    "log_pipe2 = Pipeline([('lg', LogisticRegression(C=0.01, solver='liblinear',max_iter=100000000))\n",
    "                    ])\n",
    "\n"
   ]
  },
  {
   "cell_type": "code",
   "execution_count": 708,
   "id": "4991ede1",
   "metadata": {},
   "outputs": [
    {
     "data": {
      "text/plain": [
       "Pipeline(steps=[('lg',\n",
       "                 LogisticRegression(C=0.01, max_iter=100000000,\n",
       "                                    solver='liblinear'))])"
      ]
     },
     "execution_count": 708,
     "metadata": {},
     "output_type": "execute_result"
    }
   ],
   "source": [
    "log_pipe2.fit(df_train,  y_train)"
   ]
  },
  {
   "cell_type": "code",
   "execution_count": 709,
   "id": "b7091137",
   "metadata": {},
   "outputs": [
    {
     "name": "stdout",
     "output_type": "stream",
     "text": [
      "[0.94236603 0.94272714]\n",
      "Training Accuracy 0.9425465838509317\n",
      "##############\n",
      "Training Precision: 0.5608974358974359\n",
      "##############\n",
      "Training  Recall: 0.02189142678347935\n",
      "##############\n",
      "Training  F1: 0.042098853141175285\n"
     ]
    }
   ],
   "source": [
    "print_cv_scores(log_pipe2, df_train, y_train)"
   ]
  },
  {
   "cell_type": "code",
   "execution_count": 456,
   "id": "8bd1d5a3",
   "metadata": {},
   "outputs": [],
   "source": [
    "log_smote_pipe = imbpipe([('smote', SMOTE()),\n",
    "                        ('lg', LogisticRegression(C=0.01,solver='liblinear',max_iter=100000000))\n",
    "                    ])\n",
    "\n"
   ]
  },
  {
   "cell_type": "code",
   "execution_count": 457,
   "id": "279c0812",
   "metadata": {},
   "outputs": [
    {
     "data": {
      "text/plain": [
       "Pipeline(steps=[('smote', SMOTE()),\n",
       "                ('lg',\n",
       "                 LogisticRegression(C=0.01, max_iter=100000000,\n",
       "                                    solver='liblinear'))])"
      ]
     },
     "execution_count": 457,
     "metadata": {},
     "output_type": "execute_result"
    }
   ],
   "source": [
    "log_smote_pipe.fit(df_train, y_train)"
   ]
  },
  {
   "cell_type": "code",
   "execution_count": 458,
   "id": "1ed4c21c",
   "metadata": {},
   "outputs": [
    {
     "name": "stdout",
     "output_type": "stream",
     "text": [
      "[0.82247581 0.82875921]\n",
      "Training Accuracy 0.8256175068611873\n",
      "##############\n",
      "Training Precision: 0.23700912462681245\n",
      "##############\n",
      "Training  Recall: 0.9099382040050062\n",
      "##############\n",
      "Training  F1: 0.37604491714145083\n"
     ]
    }
   ],
   "source": [
    "print_cv_scores(log_smote_pipe, df_train, y_train)"
   ]
  },
  {
   "cell_type": "code",
   "execution_count": 532,
   "id": "a65d5655",
   "metadata": {},
   "outputs": [
    {
     "data": {
      "text/plain": [
       "0    26093\n",
       "1     1599\n",
       "Name: has_availability, dtype: int64"
      ]
     },
     "execution_count": 532,
     "metadata": {},
     "output_type": "execute_result"
    }
   ],
   "source": [
    "y_train.value_counts()"
   ]
  },
  {
   "cell_type": "code",
   "execution_count": 696,
   "id": "3361d522",
   "metadata": {},
   "outputs": [],
   "source": [
    "subset = {0:26093, 1:15990}"
   ]
  },
  {
   "cell_type": "code",
   "execution_count": 697,
   "id": "7f73d2eb",
   "metadata": {},
   "outputs": [],
   "source": [
    "log_smote_pipe2 = imbpipe([('smote', SMOTE(sampling_strategy=subset)),\n",
    "                        ('lg', LogisticRegression(C=0.01,solver='liblinear',max_iter=100000000))\n",
    "                    ])\n",
    "\n"
   ]
  },
  {
   "cell_type": "code",
   "execution_count": 698,
   "id": "f2803299",
   "metadata": {},
   "outputs": [
    {
     "data": {
      "text/plain": [
       "Pipeline(steps=[('smote', SMOTE(sampling_strategy={0: 26093, 1: 15990})),\n",
       "                ('lg',\n",
       "                 LogisticRegression(C=0.01, max_iter=100000000,\n",
       "                                    solver='liblinear'))])"
      ]
     },
     "execution_count": 698,
     "metadata": {},
     "output_type": "execute_result"
    }
   ],
   "source": [
    "log_smote_pipe2.fit(df_train, y_train)"
   ]
  },
  {
   "cell_type": "code",
   "execution_count": 699,
   "id": "3c36ae3d",
   "metadata": {},
   "outputs": [
    {
     "name": "stderr",
     "output_type": "stream",
     "text": [
      "/Users/raylinsoriano/anaconda3/lib/python3.8/site-packages/imblearn/utils/_validation.py:299: UserWarning: After over-sampling, the number of samples (26093) in class 0 will be larger than the number of samples in the majority class (class #0 -> 13046)\n",
      "  warnings.warn(\n",
      "/Users/raylinsoriano/anaconda3/lib/python3.8/site-packages/imblearn/utils/_validation.py:299: UserWarning: After over-sampling, the number of samples (15990) in class 1 will be larger than the number of samples in the majority class (class #0 -> 13046)\n",
      "  warnings.warn(\n",
      "/Users/raylinsoriano/anaconda3/lib/python3.8/site-packages/imblearn/utils/_validation.py:299: UserWarning: After over-sampling, the number of samples (26093) in class 0 will be larger than the number of samples in the majority class (class #0 -> 13047)\n",
      "  warnings.warn(\n",
      "/Users/raylinsoriano/anaconda3/lib/python3.8/site-packages/imblearn/utils/_validation.py:299: UserWarning: After over-sampling, the number of samples (15990) in class 1 will be larger than the number of samples in the majority class (class #0 -> 13047)\n",
      "  warnings.warn(\n"
     ]
    },
    {
     "name": "stdout",
     "output_type": "stream",
     "text": [
      "[0.85685397 0.86212625]\n",
      "Training Accuracy 0.8594901054456161\n",
      "##############\n",
      "Training Precision: 0.27039032396175255\n",
      "##############\n",
      "Training  Recall: 0.8436459637046307\n",
      "##############\n",
      "Training  F1: 0.40949452154426724\n"
     ]
    }
   ],
   "source": [
    "print_cv_scores(log_smote_pipe2, df_train, y_train)"
   ]
  },
  {
   "cell_type": "markdown",
   "id": "31c6a867",
   "metadata": {},
   "source": [
    "#### Random Rainforest"
   ]
  },
  {
   "cell_type": "code",
   "execution_count": 448,
   "id": "021e89f2",
   "metadata": {},
   "outputs": [],
   "source": [
    "rf_pipe = Pipeline([('rf', RandomForestClassifier())\n",
    "                    ])\n"
   ]
  },
  {
   "cell_type": "code",
   "execution_count": 449,
   "id": "ce1cec60",
   "metadata": {},
   "outputs": [
    {
     "data": {
      "text/plain": [
       "Pipeline(steps=[('rf', RandomForestClassifier())])"
      ]
     },
     "execution_count": 449,
     "metadata": {},
     "output_type": "execute_result"
    }
   ],
   "source": [
    "rf_pipe.fit(df_train, y_train)"
   ]
  },
  {
   "cell_type": "code",
   "execution_count": 450,
   "id": "cc66b18d",
   "metadata": {},
   "outputs": [
    {
     "name": "stdout",
     "output_type": "stream",
     "text": [
      "[0.9990611  0.99978333]\n",
      "Training Accuracy 0.9994222158023978\n",
      "##############\n",
      "Training Precision: 0.9981092110807994\n",
      "##############\n",
      "Training  Recall: 0.9918734355444305\n",
      "##############\n",
      "Training  F1: 0.9949752580557433\n"
     ]
    }
   ],
   "source": [
    "print_cv_scores(rf_pipe, df_train, y_train)"
   ]
  },
  {
   "cell_type": "code",
   "execution_count": 509,
   "id": "0a8a17e4",
   "metadata": {},
   "outputs": [],
   "source": [
    "#rf_pipe.predict_proba(df_train)"
   ]
  },
  {
   "cell_type": "code",
   "execution_count": 507,
   "id": "23df2ac0",
   "metadata": {},
   "outputs": [],
   "source": [
    "#pd.DataFrame(rf_pipe.predict_proba(df_train)*100, columns=rf_pipe.classes_)"
   ]
  },
  {
   "cell_type": "code",
   "execution_count": 451,
   "id": "a5a3659d",
   "metadata": {},
   "outputs": [],
   "source": [
    "grid2 = {\n",
    "        \"rf__n_estimators\": [10,25 , 50], \n",
    "        \"rf__max_depth\" : [10, 15, 20], \n",
    "        \"rf__min_samples_leaf\" : [1, 2, 3]\n",
    "       \n",
    "       \n",
    "       }\n",
    "\n",
    "gridsearch2 = GridSearchCV(rf_pipe, grid2, return_train_score=True, scoring='precision',verbose=2) \n",
    "\n"
   ]
  },
  {
   "cell_type": "code",
   "execution_count": 452,
   "id": "7fa054c4",
   "metadata": {},
   "outputs": [
    {
     "name": "stdout",
     "output_type": "stream",
     "text": [
      "Fitting 5 folds for each of 27 candidates, totalling 135 fits\n",
      "[CV] END rf__max_depth=10, rf__min_samples_leaf=1, rf__n_estimators=10; total time=   0.2s\n"
     ]
    },
    {
     "name": "stderr",
     "output_type": "stream",
     "text": [
      "/Users/raylinsoriano/anaconda3/lib/python3.8/site-packages/sklearn/metrics/_classification.py:1248: UndefinedMetricWarning: Precision is ill-defined and being set to 0.0 due to no predicted samples. Use `zero_division` parameter to control this behavior.\n",
      "  _warn_prf(average, modifier, msg_start, len(result))\n"
     ]
    },
    {
     "name": "stdout",
     "output_type": "stream",
     "text": [
      "[CV] END rf__max_depth=10, rf__min_samples_leaf=1, rf__n_estimators=10; total time=   0.2s\n",
      "[CV] END rf__max_depth=10, rf__min_samples_leaf=1, rf__n_estimators=10; total time=   0.2s\n",
      "[CV] END rf__max_depth=10, rf__min_samples_leaf=1, rf__n_estimators=10; total time=   0.2s\n",
      "[CV] END rf__max_depth=10, rf__min_samples_leaf=1, rf__n_estimators=10; total time=   0.2s\n"
     ]
    },
    {
     "name": "stderr",
     "output_type": "stream",
     "text": [
      "/Users/raylinsoriano/anaconda3/lib/python3.8/site-packages/sklearn/metrics/_classification.py:1248: UndefinedMetricWarning: Precision is ill-defined and being set to 0.0 due to no predicted samples. Use `zero_division` parameter to control this behavior.\n",
      "  _warn_prf(average, modifier, msg_start, len(result))\n"
     ]
    },
    {
     "name": "stdout",
     "output_type": "stream",
     "text": [
      "[CV] END rf__max_depth=10, rf__min_samples_leaf=1, rf__n_estimators=25; total time=   0.4s\n",
      "[CV] END rf__max_depth=10, rf__min_samples_leaf=1, rf__n_estimators=25; total time=   0.4s\n",
      "[CV] END rf__max_depth=10, rf__min_samples_leaf=1, rf__n_estimators=25; total time=   0.3s\n",
      "[CV] END rf__max_depth=10, rf__min_samples_leaf=1, rf__n_estimators=25; total time=   0.3s\n",
      "[CV] END rf__max_depth=10, rf__min_samples_leaf=1, rf__n_estimators=25; total time=   0.3s\n"
     ]
    },
    {
     "name": "stderr",
     "output_type": "stream",
     "text": [
      "/Users/raylinsoriano/anaconda3/lib/python3.8/site-packages/sklearn/metrics/_classification.py:1248: UndefinedMetricWarning: Precision is ill-defined and being set to 0.0 due to no predicted samples. Use `zero_division` parameter to control this behavior.\n",
      "  _warn_prf(average, modifier, msg_start, len(result))\n"
     ]
    },
    {
     "name": "stdout",
     "output_type": "stream",
     "text": [
      "[CV] END rf__max_depth=10, rf__min_samples_leaf=1, rf__n_estimators=50; total time=   0.6s\n",
      "[CV] END rf__max_depth=10, rf__min_samples_leaf=1, rf__n_estimators=50; total time=   0.6s\n",
      "[CV] END rf__max_depth=10, rf__min_samples_leaf=1, rf__n_estimators=50; total time=   0.6s\n",
      "[CV] END rf__max_depth=10, rf__min_samples_leaf=1, rf__n_estimators=50; total time=   0.6s\n",
      "[CV] END rf__max_depth=10, rf__min_samples_leaf=1, rf__n_estimators=50; total time=   0.6s\n",
      "[CV] END rf__max_depth=10, rf__min_samples_leaf=2, rf__n_estimators=10; total time=   0.1s\n",
      "[CV] END rf__max_depth=10, rf__min_samples_leaf=2, rf__n_estimators=10; total time=   0.1s\n",
      "[CV] END rf__max_depth=10, rf__min_samples_leaf=2, rf__n_estimators=10; total time=   0.1s\n",
      "[CV] END rf__max_depth=10, rf__min_samples_leaf=2, rf__n_estimators=10; total time=   0.2s\n",
      "[CV] END rf__max_depth=10, rf__min_samples_leaf=2, rf__n_estimators=10; total time=   0.2s\n",
      "[CV] END rf__max_depth=10, rf__min_samples_leaf=2, rf__n_estimators=25; total time=   0.3s\n",
      "[CV] END rf__max_depth=10, rf__min_samples_leaf=2, rf__n_estimators=25; total time=   0.3s\n",
      "[CV] END rf__max_depth=10, rf__min_samples_leaf=2, rf__n_estimators=25; total time=   0.3s\n",
      "[CV] END rf__max_depth=10, rf__min_samples_leaf=2, rf__n_estimators=25; total time=   0.5s\n",
      "[CV] END rf__max_depth=10, rf__min_samples_leaf=2, rf__n_estimators=25; total time=   0.4s\n"
     ]
    },
    {
     "name": "stderr",
     "output_type": "stream",
     "text": [
      "/Users/raylinsoriano/anaconda3/lib/python3.8/site-packages/sklearn/metrics/_classification.py:1248: UndefinedMetricWarning: Precision is ill-defined and being set to 0.0 due to no predicted samples. Use `zero_division` parameter to control this behavior.\n",
      "  _warn_prf(average, modifier, msg_start, len(result))\n"
     ]
    },
    {
     "name": "stdout",
     "output_type": "stream",
     "text": [
      "[CV] END rf__max_depth=10, rf__min_samples_leaf=2, rf__n_estimators=50; total time=   0.6s\n",
      "[CV] END rf__max_depth=10, rf__min_samples_leaf=2, rf__n_estimators=50; total time=   0.6s\n",
      "[CV] END rf__max_depth=10, rf__min_samples_leaf=2, rf__n_estimators=50; total time=   0.6s\n",
      "[CV] END rf__max_depth=10, rf__min_samples_leaf=2, rf__n_estimators=50; total time=   0.6s\n",
      "[CV] END rf__max_depth=10, rf__min_samples_leaf=2, rf__n_estimators=50; total time=   0.6s\n",
      "[CV] END rf__max_depth=10, rf__min_samples_leaf=3, rf__n_estimators=10; total time=   0.1s\n",
      "[CV] END rf__max_depth=10, rf__min_samples_leaf=3, rf__n_estimators=10; total time=   0.2s\n",
      "[CV] END rf__max_depth=10, rf__min_samples_leaf=3, rf__n_estimators=10; total time=   0.1s\n",
      "[CV] END rf__max_depth=10, rf__min_samples_leaf=3, rf__n_estimators=10; total time=   0.1s\n",
      "[CV] END rf__max_depth=10, rf__min_samples_leaf=3, rf__n_estimators=10; total time=   0.1s\n",
      "[CV] END rf__max_depth=10, rf__min_samples_leaf=3, rf__n_estimators=25; total time=   0.3s\n",
      "[CV] END rf__max_depth=10, rf__min_samples_leaf=3, rf__n_estimators=25; total time=   0.3s\n",
      "[CV] END rf__max_depth=10, rf__min_samples_leaf=3, rf__n_estimators=25; total time=   0.3s\n",
      "[CV] END rf__max_depth=10, rf__min_samples_leaf=3, rf__n_estimators=25; total time=   0.3s\n",
      "[CV] END rf__max_depth=10, rf__min_samples_leaf=3, rf__n_estimators=25; total time=   0.3s\n",
      "[CV] END rf__max_depth=10, rf__min_samples_leaf=3, rf__n_estimators=50; total time=   0.6s\n",
      "[CV] END rf__max_depth=10, rf__min_samples_leaf=3, rf__n_estimators=50; total time=   0.6s\n",
      "[CV] END rf__max_depth=10, rf__min_samples_leaf=3, rf__n_estimators=50; total time=   0.6s\n",
      "[CV] END rf__max_depth=10, rf__min_samples_leaf=3, rf__n_estimators=50; total time=   0.6s\n"
     ]
    },
    {
     "name": "stderr",
     "output_type": "stream",
     "text": [
      "/Users/raylinsoriano/anaconda3/lib/python3.8/site-packages/sklearn/metrics/_classification.py:1248: UndefinedMetricWarning: Precision is ill-defined and being set to 0.0 due to no predicted samples. Use `zero_division` parameter to control this behavior.\n",
      "  _warn_prf(average, modifier, msg_start, len(result))\n"
     ]
    },
    {
     "name": "stdout",
     "output_type": "stream",
     "text": [
      "[CV] END rf__max_depth=10, rf__min_samples_leaf=3, rf__n_estimators=50; total time=   0.6s\n",
      "[CV] END rf__max_depth=15, rf__min_samples_leaf=1, rf__n_estimators=10; total time=   0.2s\n",
      "[CV] END rf__max_depth=15, rf__min_samples_leaf=1, rf__n_estimators=10; total time=   0.2s\n",
      "[CV] END rf__max_depth=15, rf__min_samples_leaf=1, rf__n_estimators=10; total time=   0.2s\n",
      "[CV] END rf__max_depth=15, rf__min_samples_leaf=1, rf__n_estimators=10; total time=   0.2s\n",
      "[CV] END rf__max_depth=15, rf__min_samples_leaf=1, rf__n_estimators=10; total time=   0.2s\n",
      "[CV] END rf__max_depth=15, rf__min_samples_leaf=1, rf__n_estimators=25; total time=   0.4s\n",
      "[CV] END rf__max_depth=15, rf__min_samples_leaf=1, rf__n_estimators=25; total time=   0.4s\n",
      "[CV] END rf__max_depth=15, rf__min_samples_leaf=1, rf__n_estimators=25; total time=   0.4s\n",
      "[CV] END rf__max_depth=15, rf__min_samples_leaf=1, rf__n_estimators=25; total time=   0.4s\n",
      "[CV] END rf__max_depth=15, rf__min_samples_leaf=1, rf__n_estimators=25; total time=   0.6s\n",
      "[CV] END rf__max_depth=15, rf__min_samples_leaf=1, rf__n_estimators=50; total time=   0.9s\n",
      "[CV] END rf__max_depth=15, rf__min_samples_leaf=1, rf__n_estimators=50; total time=   0.9s\n",
      "[CV] END rf__max_depth=15, rf__min_samples_leaf=1, rf__n_estimators=50; total time=   0.8s\n",
      "[CV] END rf__max_depth=15, rf__min_samples_leaf=1, rf__n_estimators=50; total time=   0.8s\n",
      "[CV] END rf__max_depth=15, rf__min_samples_leaf=1, rf__n_estimators=50; total time=   0.7s\n",
      "[CV] END rf__max_depth=15, rf__min_samples_leaf=2, rf__n_estimators=10; total time=   0.2s\n",
      "[CV] END rf__max_depth=15, rf__min_samples_leaf=2, rf__n_estimators=10; total time=   0.2s\n",
      "[CV] END rf__max_depth=15, rf__min_samples_leaf=2, rf__n_estimators=10; total time=   0.2s\n",
      "[CV] END rf__max_depth=15, rf__min_samples_leaf=2, rf__n_estimators=10; total time=   0.2s\n",
      "[CV] END rf__max_depth=15, rf__min_samples_leaf=2, rf__n_estimators=10; total time=   0.2s\n",
      "[CV] END rf__max_depth=15, rf__min_samples_leaf=2, rf__n_estimators=25; total time=   0.3s\n",
      "[CV] END rf__max_depth=15, rf__min_samples_leaf=2, rf__n_estimators=25; total time=   0.4s\n",
      "[CV] END rf__max_depth=15, rf__min_samples_leaf=2, rf__n_estimators=25; total time=   0.3s\n",
      "[CV] END rf__max_depth=15, rf__min_samples_leaf=2, rf__n_estimators=25; total time=   0.4s\n",
      "[CV] END rf__max_depth=15, rf__min_samples_leaf=2, rf__n_estimators=25; total time=   0.4s\n",
      "[CV] END rf__max_depth=15, rf__min_samples_leaf=2, rf__n_estimators=50; total time=   0.6s\n",
      "[CV] END rf__max_depth=15, rf__min_samples_leaf=2, rf__n_estimators=50; total time=   0.6s\n",
      "[CV] END rf__max_depth=15, rf__min_samples_leaf=2, rf__n_estimators=50; total time=   0.7s\n",
      "[CV] END rf__max_depth=15, rf__min_samples_leaf=2, rf__n_estimators=50; total time=   1.1s\n",
      "[CV] END rf__max_depth=15, rf__min_samples_leaf=2, rf__n_estimators=50; total time=   2.7s\n",
      "[CV] END rf__max_depth=15, rf__min_samples_leaf=3, rf__n_estimators=10; total time=   0.6s\n",
      "[CV] END rf__max_depth=15, rf__min_samples_leaf=3, rf__n_estimators=10; total time=   0.5s\n",
      "[CV] END rf__max_depth=15, rf__min_samples_leaf=3, rf__n_estimators=10; total time=   0.5s\n",
      "[CV] END rf__max_depth=15, rf__min_samples_leaf=3, rf__n_estimators=10; total time=   0.3s\n",
      "[CV] END rf__max_depth=15, rf__min_samples_leaf=3, rf__n_estimators=10; total time=   0.3s\n",
      "[CV] END rf__max_depth=15, rf__min_samples_leaf=3, rf__n_estimators=25; total time=   0.7s\n",
      "[CV] END rf__max_depth=15, rf__min_samples_leaf=3, rf__n_estimators=25; total time=   0.7s\n",
      "[CV] END rf__max_depth=15, rf__min_samples_leaf=3, rf__n_estimators=25; total time=   0.8s\n",
      "[CV] END rf__max_depth=15, rf__min_samples_leaf=3, rf__n_estimators=25; total time=   0.6s\n",
      "[CV] END rf__max_depth=15, rf__min_samples_leaf=3, rf__n_estimators=25; total time=   0.7s\n",
      "[CV] END rf__max_depth=15, rf__min_samples_leaf=3, rf__n_estimators=50; total time=   1.4s\n",
      "[CV] END rf__max_depth=15, rf__min_samples_leaf=3, rf__n_estimators=50; total time=   1.2s\n",
      "[CV] END rf__max_depth=15, rf__min_samples_leaf=3, rf__n_estimators=50; total time=   0.8s\n",
      "[CV] END rf__max_depth=15, rf__min_samples_leaf=3, rf__n_estimators=50; total time=   0.7s\n",
      "[CV] END rf__max_depth=15, rf__min_samples_leaf=3, rf__n_estimators=50; total time=   0.7s\n",
      "[CV] END rf__max_depth=20, rf__min_samples_leaf=1, rf__n_estimators=10; total time=   0.2s\n",
      "[CV] END rf__max_depth=20, rf__min_samples_leaf=1, rf__n_estimators=10; total time=   0.2s\n",
      "[CV] END rf__max_depth=20, rf__min_samples_leaf=1, rf__n_estimators=10; total time=   0.2s\n",
      "[CV] END rf__max_depth=20, rf__min_samples_leaf=1, rf__n_estimators=10; total time=   0.2s\n",
      "[CV] END rf__max_depth=20, rf__min_samples_leaf=1, rf__n_estimators=10; total time=   0.2s\n",
      "[CV] END rf__max_depth=20, rf__min_samples_leaf=1, rf__n_estimators=25; total time=   0.4s\n",
      "[CV] END rf__max_depth=20, rf__min_samples_leaf=1, rf__n_estimators=25; total time=   0.6s\n",
      "[CV] END rf__max_depth=20, rf__min_samples_leaf=1, rf__n_estimators=25; total time=   0.6s\n",
      "[CV] END rf__max_depth=20, rf__min_samples_leaf=1, rf__n_estimators=25; total time=   0.9s\n",
      "[CV] END rf__max_depth=20, rf__min_samples_leaf=1, rf__n_estimators=25; total time=   1.4s\n",
      "[CV] END rf__max_depth=20, rf__min_samples_leaf=1, rf__n_estimators=50; total time=   1.7s\n",
      "[CV] END rf__max_depth=20, rf__min_samples_leaf=1, rf__n_estimators=50; total time=   0.9s\n",
      "[CV] END rf__max_depth=20, rf__min_samples_leaf=1, rf__n_estimators=50; total time=   0.7s\n",
      "[CV] END rf__max_depth=20, rf__min_samples_leaf=1, rf__n_estimators=50; total time=   0.7s\n",
      "[CV] END rf__max_depth=20, rf__min_samples_leaf=1, rf__n_estimators=50; total time=   0.7s\n",
      "[CV] END rf__max_depth=20, rf__min_samples_leaf=2, rf__n_estimators=10; total time=   0.2s\n",
      "[CV] END rf__max_depth=20, rf__min_samples_leaf=2, rf__n_estimators=10; total time=   0.2s\n",
      "[CV] END rf__max_depth=20, rf__min_samples_leaf=2, rf__n_estimators=10; total time=   0.2s\n",
      "[CV] END rf__max_depth=20, rf__min_samples_leaf=2, rf__n_estimators=10; total time=   0.2s\n",
      "[CV] END rf__max_depth=20, rf__min_samples_leaf=2, rf__n_estimators=10; total time=   0.2s\n",
      "[CV] END rf__max_depth=20, rf__min_samples_leaf=2, rf__n_estimators=25; total time=   0.4s\n",
      "[CV] END rf__max_depth=20, rf__min_samples_leaf=2, rf__n_estimators=25; total time=   0.4s\n",
      "[CV] END rf__max_depth=20, rf__min_samples_leaf=2, rf__n_estimators=25; total time=   0.4s\n",
      "[CV] END rf__max_depth=20, rf__min_samples_leaf=2, rf__n_estimators=25; total time=   0.4s\n",
      "[CV] END rf__max_depth=20, rf__min_samples_leaf=2, rf__n_estimators=25; total time=   0.4s\n",
      "[CV] END rf__max_depth=20, rf__min_samples_leaf=2, rf__n_estimators=50; total time=   0.7s\n",
      "[CV] END rf__max_depth=20, rf__min_samples_leaf=2, rf__n_estimators=50; total time=   0.7s\n",
      "[CV] END rf__max_depth=20, rf__min_samples_leaf=2, rf__n_estimators=50; total time=   0.7s\n",
      "[CV] END rf__max_depth=20, rf__min_samples_leaf=2, rf__n_estimators=50; total time=   0.7s\n",
      "[CV] END rf__max_depth=20, rf__min_samples_leaf=2, rf__n_estimators=50; total time=   0.7s\n",
      "[CV] END rf__max_depth=20, rf__min_samples_leaf=3, rf__n_estimators=10; total time=   0.2s\n",
      "[CV] END rf__max_depth=20, rf__min_samples_leaf=3, rf__n_estimators=10; total time=   0.2s\n",
      "[CV] END rf__max_depth=20, rf__min_samples_leaf=3, rf__n_estimators=10; total time=   0.2s\n",
      "[CV] END rf__max_depth=20, rf__min_samples_leaf=3, rf__n_estimators=10; total time=   0.2s\n",
      "[CV] END rf__max_depth=20, rf__min_samples_leaf=3, rf__n_estimators=10; total time=   0.2s\n",
      "[CV] END rf__max_depth=20, rf__min_samples_leaf=3, rf__n_estimators=25; total time=   0.5s\n",
      "[CV] END rf__max_depth=20, rf__min_samples_leaf=3, rf__n_estimators=25; total time=   0.4s\n",
      "[CV] END rf__max_depth=20, rf__min_samples_leaf=3, rf__n_estimators=25; total time=   0.4s\n",
      "[CV] END rf__max_depth=20, rf__min_samples_leaf=3, rf__n_estimators=25; total time=   0.4s\n",
      "[CV] END rf__max_depth=20, rf__min_samples_leaf=3, rf__n_estimators=25; total time=   0.4s\n",
      "[CV] END rf__max_depth=20, rf__min_samples_leaf=3, rf__n_estimators=50; total time=   0.7s\n",
      "[CV] END rf__max_depth=20, rf__min_samples_leaf=3, rf__n_estimators=50; total time=   0.7s\n",
      "[CV] END rf__max_depth=20, rf__min_samples_leaf=3, rf__n_estimators=50; total time=   0.7s\n",
      "[CV] END rf__max_depth=20, rf__min_samples_leaf=3, rf__n_estimators=50; total time=   0.7s\n",
      "[CV] END rf__max_depth=20, rf__min_samples_leaf=3, rf__n_estimators=50; total time=   0.7s\n"
     ]
    },
    {
     "data": {
      "text/plain": [
       "GridSearchCV(estimator=Pipeline(steps=[('rf', RandomForestClassifier())]),\n",
       "             param_grid={'rf__max_depth': [10, 15, 20],\n",
       "                         'rf__min_samples_leaf': [1, 2, 3],\n",
       "                         'rf__n_estimators': [10, 25, 50]},\n",
       "             return_train_score=True, scoring='precision', verbose=2)"
      ]
     },
     "execution_count": 452,
     "metadata": {},
     "output_type": "execute_result"
    }
   ],
   "source": [
    "gridsearch2.fit(df_train, y_train)"
   ]
  },
  {
   "cell_type": "code",
   "execution_count": 453,
   "id": "db172363",
   "metadata": {},
   "outputs": [
    {
     "name": "stdout",
     "output_type": "stream",
     "text": [
      "gridsearch best parameters: {'rf__max_depth': 10, 'rf__min_samples_leaf': 2, 'rf__n_estimators': 10}\n",
      "gridsearch best score: 0.689033189033189\n"
     ]
    }
   ],
   "source": [
    "print('gridsearch best parameters: {}'.format(gridsearch2.best_params_))\n",
    "print('gridsearch best score: {}'.format(gridsearch2.best_score_))"
   ]
  },
  {
   "cell_type": "code",
   "execution_count": 400,
   "id": "c334a17e",
   "metadata": {},
   "outputs": [],
   "source": [
    "#rf_pipe.steps[1][1].get_feature_names()"
   ]
  },
  {
   "cell_type": "code",
   "execution_count": 510,
   "id": "b24c4fa8",
   "metadata": {},
   "outputs": [],
   "source": [
    "rf_pipe2 = Pipeline([('rf', RandomForestClassifier(n_estimators=10, max_depth=10, min_samples_leaf=2))\n",
    "                    ])\n"
   ]
  },
  {
   "cell_type": "code",
   "execution_count": 511,
   "id": "0fdf1765",
   "metadata": {},
   "outputs": [
    {
     "data": {
      "text/plain": [
       "Pipeline(steps=[('rf',\n",
       "                 RandomForestClassifier(max_depth=10, min_samples_leaf=2,\n",
       "                                        n_estimators=10))])"
      ]
     },
     "execution_count": 511,
     "metadata": {},
     "output_type": "execute_result"
    }
   ],
   "source": [
    "rf_pipe2.fit(df_train,y_train)"
   ]
  },
  {
   "cell_type": "code",
   "execution_count": 512,
   "id": "d22503a6",
   "metadata": {},
   "outputs": [
    {
     "name": "stdout",
     "output_type": "stream",
     "text": [
      "[0.94316048 0.94489383]\n",
      "Training Accuracy 0.9440271558572872\n",
      "##############\n",
      "Training Precision: 0.8047619047619048\n",
      "##############\n",
      "Training  Recall: 0.04066254693366708\n",
      "##############\n",
      "Training  F1: 0.07658538452921634\n"
     ]
    }
   ],
   "source": [
    "print_cv_scores(rf_pipe2, df_train, y_train)"
   ]
  },
  {
   "cell_type": "markdown",
   "id": "a4a87312",
   "metadata": {},
   "source": [
    "#### XGBoost"
   ]
  },
  {
   "cell_type": "code",
   "execution_count": 396,
   "id": "13d2f50d",
   "metadata": {},
   "outputs": [],
   "source": [
    "xgb_pipe = Pipeline([('xgb', XGBClassifier(evals_result={'binary':'logistic'}, label_encoder=False))\n",
    "                    ])\n"
   ]
  },
  {
   "cell_type": "code",
   "execution_count": 397,
   "id": "5ad4c7cb",
   "metadata": {},
   "outputs": [
    {
     "name": "stdout",
     "output_type": "stream",
     "text": [
      "[13:33:54] WARNING: /Users/runner/miniforge3/conda-bld/xgboost-split_1631904775127/work/src/learner.cc:573: \n",
      "Parameters: { \"evals_result\", \"label_encoder\" } might not be used.\n",
      "\n",
      "  This may not be accurate due to some parameters are only used in language bindings but\n",
      "  passed down to XGBoost core.  Or some parameters are not used but slip through this\n",
      "  verification. Please open an issue if you find above cases.\n",
      "\n",
      "\n",
      "[13:33:54] WARNING: /Users/runner/miniforge3/conda-bld/xgboost-split_1631904775127/work/src/learner.cc:1095: Starting in XGBoost 1.3.0, the default evaluation metric used with the objective 'binary:logistic' was changed from 'error' to 'logloss'. Explicitly set eval_metric if you'd like to restore the old behavior.\n"
     ]
    },
    {
     "data": {
      "text/plain": [
       "Pipeline(steps=[('xgb',\n",
       "                 XGBClassifier(base_score=0.5, booster='gbtree',\n",
       "                               colsample_bylevel=1, colsample_bynode=1,\n",
       "                               colsample_bytree=1,\n",
       "                               evals_result={'binary': 'logistic'}, gamma=0,\n",
       "                               gpu_id=-1, importance_type='gain',\n",
       "                               interaction_constraints='', label_encoder=False,\n",
       "                               learning_rate=0.300000012, max_delta_step=0,\n",
       "                               max_depth=6, min_child_weight=1, missing=nan,\n",
       "                               monotone_constraints='()', n_estimators=100,\n",
       "                               n_jobs=4, num_parallel_tree=1, random_state=0,\n",
       "                               reg_alpha=0, reg_lambda=1, scale_pos_weight=1,\n",
       "                               subsample=1, tree_method='exact',\n",
       "                               validate_parameters=1, verbosity=None))])"
      ]
     },
     "execution_count": 397,
     "metadata": {},
     "output_type": "execute_result"
    }
   ],
   "source": [
    "xgb_pipe.fit(df_train,y_train)"
   ]
  },
  {
   "cell_type": "code",
   "execution_count": 399,
   "id": "75d8c87a",
   "metadata": {},
   "outputs": [
    {
     "name": "stderr",
     "output_type": "stream",
     "text": [
      "/Users/raylinsoriano/anaconda3/lib/python3.8/site-packages/xgboost/sklearn.py:1146: UserWarning: The use of label encoder in XGBClassifier is deprecated and will be removed in a future release. To remove this warning, do the following: 1) Pass option use_label_encoder=False when constructing XGBClassifier object; and 2) Encode your labels (y) as integers starting with 0, i.e. 0, 1, 2, ..., [num_class - 1].\n",
      "  warnings.warn(label_encoder_deprecation_msg, UserWarning)\n"
     ]
    },
    {
     "name": "stdout",
     "output_type": "stream",
     "text": [
      "[13:34:24] WARNING: /Users/runner/miniforge3/conda-bld/xgboost-split_1631904775127/work/src/learner.cc:573: \n",
      "Parameters: { \"evals_result\", \"label_encoder\" } might not be used.\n",
      "\n",
      "  This may not be accurate due to some parameters are only used in language bindings but\n",
      "  passed down to XGBoost core.  Or some parameters are not used but slip through this\n",
      "  verification. Please open an issue if you find above cases.\n",
      "\n",
      "\n",
      "[13:34:24] WARNING: /Users/runner/miniforge3/conda-bld/xgboost-split_1631904775127/work/src/learner.cc:1095: Starting in XGBoost 1.3.0, the default evaluation metric used with the objective 'binary:logistic' was changed from 'error' to 'logloss'. Explicitly set eval_metric if you'd like to restore the old behavior.\n"
     ]
    },
    {
     "name": "stderr",
     "output_type": "stream",
     "text": [
      "/Users/raylinsoriano/anaconda3/lib/python3.8/site-packages/xgboost/sklearn.py:1146: UserWarning: The use of label encoder in XGBClassifier is deprecated and will be removed in a future release. To remove this warning, do the following: 1) Pass option use_label_encoder=False when constructing XGBClassifier object; and 2) Encode your labels (y) as integers starting with 0, i.e. 0, 1, 2, ..., [num_class - 1].\n",
      "  warnings.warn(label_encoder_deprecation_msg, UserWarning)\n"
     ]
    },
    {
     "name": "stdout",
     "output_type": "stream",
     "text": [
      "[13:34:29] WARNING: /Users/runner/miniforge3/conda-bld/xgboost-split_1631904775127/work/src/learner.cc:573: \n",
      "Parameters: { \"evals_result\", \"label_encoder\" } might not be used.\n",
      "\n",
      "  This may not be accurate due to some parameters are only used in language bindings but\n",
      "  passed down to XGBoost core.  Or some parameters are not used but slip through this\n",
      "  verification. Please open an issue if you find above cases.\n",
      "\n",
      "\n",
      "[13:34:29] WARNING: /Users/runner/miniforge3/conda-bld/xgboost-split_1631904775127/work/src/learner.cc:1095: Starting in XGBoost 1.3.0, the default evaluation metric used with the objective 'binary:logistic' was changed from 'error' to 'logloss'. Explicitly set eval_metric if you'd like to restore the old behavior.\n",
      "[0.96923299 0.97580529]\n",
      "Training Accuracy 0.9725191391015455\n",
      "##############\n",
      "Training Precision: 0.8883444075304541\n",
      "##############\n",
      "Training  Recall: 0.5985255006257822\n",
      "##############\n",
      "Training  F1: 0.7148935051922229\n"
     ]
    }
   ],
   "source": [
    "print_cv_scores(xgb_pipe, df_train, y_train)"
   ]
  },
  {
   "cell_type": "code",
   "execution_count": 521,
   "id": "ece170b3",
   "metadata": {},
   "outputs": [],
   "source": [
    "xgb_sm_pipe = imbpipe([('smote', SMOTE()),\n",
    "                        ('xgb', XGBClassifier(evals_result={'binary':'logistic'}, label_encoder=False))\n",
    "                    ])\n"
   ]
  },
  {
   "cell_type": "code",
   "execution_count": 522,
   "id": "d6f6f5d7",
   "metadata": {},
   "outputs": [
    {
     "name": "stderr",
     "output_type": "stream",
     "text": [
      "/Users/raylinsoriano/anaconda3/lib/python3.8/site-packages/xgboost/sklearn.py:1146: UserWarning: The use of label encoder in XGBClassifier is deprecated and will be removed in a future release. To remove this warning, do the following: 1) Pass option use_label_encoder=False when constructing XGBClassifier object; and 2) Encode your labels (y) as integers starting with 0, i.e. 0, 1, 2, ..., [num_class - 1].\n",
      "  warnings.warn(label_encoder_deprecation_msg, UserWarning)\n"
     ]
    },
    {
     "name": "stdout",
     "output_type": "stream",
     "text": [
      "[11:22:33] WARNING: /Users/runner/miniforge3/conda-bld/xgboost-split_1631904775127/work/src/learner.cc:573: \n",
      "Parameters: { \"evals_result\", \"label_encoder\" } might not be used.\n",
      "\n",
      "  This may not be accurate due to some parameters are only used in language bindings but\n",
      "  passed down to XGBoost core.  Or some parameters are not used but slip through this\n",
      "  verification. Please open an issue if you find above cases.\n",
      "\n",
      "\n",
      "[11:22:33] WARNING: /Users/runner/miniforge3/conda-bld/xgboost-split_1631904775127/work/src/learner.cc:1095: Starting in XGBoost 1.3.0, the default evaluation metric used with the objective 'binary:logistic' was changed from 'error' to 'logloss'. Explicitly set eval_metric if you'd like to restore the old behavior.\n"
     ]
    },
    {
     "data": {
      "text/plain": [
       "Pipeline(steps=[('smote', SMOTE()),\n",
       "                ('xgb',\n",
       "                 XGBClassifier(base_score=0.5, booster='gbtree',\n",
       "                               colsample_bylevel=1, colsample_bynode=1,\n",
       "                               colsample_bytree=1,\n",
       "                               evals_result={'binary': 'logistic'}, gamma=0,\n",
       "                               gpu_id=-1, importance_type='gain',\n",
       "                               interaction_constraints='', label_encoder=False,\n",
       "                               learning_rate=0.300000012, max_delta_step=0,\n",
       "                               max_depth=6, min_child_weight=1, missing=nan,\n",
       "                               monotone_constraints='()', n_estimators=100,\n",
       "                               n_jobs=4, num_parallel_tree=1, random_state=0,\n",
       "                               reg_alpha=0, reg_lambda=1, scale_pos_weight=1,\n",
       "                               subsample=1, tree_method='exact',\n",
       "                               validate_parameters=1, verbosity=None))])"
      ]
     },
     "execution_count": 522,
     "metadata": {},
     "output_type": "execute_result"
    }
   ],
   "source": [
    "xgb_sm_pipe.fit(df_train, y_train)"
   ]
  },
  {
   "cell_type": "code",
   "execution_count": 523,
   "id": "6062c19c",
   "metadata": {},
   "outputs": [
    {
     "name": "stderr",
     "output_type": "stream",
     "text": [
      "/Users/raylinsoriano/anaconda3/lib/python3.8/site-packages/xgboost/sklearn.py:1146: UserWarning: The use of label encoder in XGBClassifier is deprecated and will be removed in a future release. To remove this warning, do the following: 1) Pass option use_label_encoder=False when constructing XGBClassifier object; and 2) Encode your labels (y) as integers starting with 0, i.e. 0, 1, 2, ..., [num_class - 1].\n",
      "  warnings.warn(label_encoder_deprecation_msg, UserWarning)\n"
     ]
    },
    {
     "name": "stdout",
     "output_type": "stream",
     "text": [
      "[11:23:21] WARNING: /Users/runner/miniforge3/conda-bld/xgboost-split_1631904775127/work/src/learner.cc:573: \n",
      "Parameters: { \"evals_result\", \"label_encoder\" } might not be used.\n",
      "\n",
      "  This may not be accurate due to some parameters are only used in language bindings but\n",
      "  passed down to XGBoost core.  Or some parameters are not used but slip through this\n",
      "  verification. Please open an issue if you find above cases.\n",
      "\n",
      "\n",
      "[11:23:21] WARNING: /Users/runner/miniforge3/conda-bld/xgboost-split_1631904775127/work/src/learner.cc:1095: Starting in XGBoost 1.3.0, the default evaluation metric used with the objective 'binary:logistic' was changed from 'error' to 'logloss'. Explicitly set eval_metric if you'd like to restore the old behavior.\n"
     ]
    },
    {
     "name": "stderr",
     "output_type": "stream",
     "text": [
      "/Users/raylinsoriano/anaconda3/lib/python3.8/site-packages/xgboost/sklearn.py:1146: UserWarning: The use of label encoder in XGBClassifier is deprecated and will be removed in a future release. To remove this warning, do the following: 1) Pass option use_label_encoder=False when constructing XGBClassifier object; and 2) Encode your labels (y) as integers starting with 0, i.e. 0, 1, 2, ..., [num_class - 1].\n",
      "  warnings.warn(label_encoder_deprecation_msg, UserWarning)\n"
     ]
    },
    {
     "name": "stdout",
     "output_type": "stream",
     "text": [
      "[11:23:29] WARNING: /Users/runner/miniforge3/conda-bld/xgboost-split_1631904775127/work/src/learner.cc:573: \n",
      "Parameters: { \"evals_result\", \"label_encoder\" } might not be used.\n",
      "\n",
      "  This may not be accurate due to some parameters are only used in language bindings but\n",
      "  passed down to XGBoost core.  Or some parameters are not used but slip through this\n",
      "  verification. Please open an issue if you find above cases.\n",
      "\n",
      "\n",
      "[11:23:29] WARNING: /Users/runner/miniforge3/conda-bld/xgboost-split_1631904775127/work/src/learner.cc:1095: Starting in XGBoost 1.3.0, the default evaluation metric used with the objective 'binary:logistic' was changed from 'error' to 'logloss'. Explicitly set eval_metric if you'd like to restore the old behavior.\n",
      "[0.969883   0.97320526]\n",
      "Training Accuracy 0.9715441282680919\n",
      "##############\n",
      "Training Precision: 0.760351352414933\n",
      "##############\n",
      "Training  Recall: 0.7423365143929912\n",
      "##############\n",
      "Training  F1: 0.7509770232936761\n"
     ]
    }
   ],
   "source": [
    "print_cv_scores(xgb_sm_pipe,df_train,y_train)"
   ]
  },
  {
   "cell_type": "code",
   "execution_count": null,
   "id": "ea350dee",
   "metadata": {},
   "outputs": [],
   "source": []
  },
  {
   "cell_type": "code",
   "execution_count": null,
   "id": "e30bb509",
   "metadata": {},
   "outputs": [],
   "source": []
  },
  {
   "cell_type": "code",
   "execution_count": null,
   "id": "c79f99fc",
   "metadata": {},
   "outputs": [],
   "source": [
    "# numeric_features = X_train.select_dtypes(exclude='object')\n",
    "# numeric_transformer = Pipeline(steps=[\n",
    "#     ('scaler', StandardScaler())])\n",
    "\n",
    "# categorical_features = [\"host_response_time\",\"host_has_profile_pic\",\"host_identity_verified\",\"host_is_superhost\"\n",
    "#             ,\"neighbourhood_group_cleansed\",\"room_type\",\"instant_bookable\", \"bathrooms_text\", \"has_availability\"]\n",
    "# categorical_transformer = Pipeline(steps=[\n",
    "#     ('onehot', OneHotEncoder(handle_unknown='ignore'))])\n",
    "\n",
    "# preprocessor = ColumnTransformer(\n",
    "#     transformers=[\n",
    "#         ('num', numeric_transformer, numeric_features),\n",
    "#         ('cat', categorical_transformer, categorical_features)])\n",
    "\n",
    "# clf = Pipeline(steps=[('preprocessor', preprocessor),\n",
    "#                        ('regressor',  LinearRegression())])\n",
    "\n",
    "# clf['preprocessor'][1][1]['onehot'].get_feature_names(categorical_features)"
   ]
  },
  {
   "cell_type": "code",
   "execution_count": null,
   "id": "d7203d97",
   "metadata": {},
   "outputs": [],
   "source": [
    "# # Continuous features\n",
    "# continuous = df_train.select_dtypes(exclude='object') \n",
    "\n",
    "# #train_continuous = df_train[continuous]\n",
    "# #test_continuous = X_test[continuous]\n",
    "\n",
    "# # Make StandardScaler object\n",
    "# scaler = StandardScaler()\n",
    "\n",
    "# # Fit the train data into the scaler\n",
    "# df_fit = scaler.fit_transform(df_train)\n",
    "\n",
    "# # Transform data\n",
    "# #train_data_scaled = df_fit.transform(train_continuous)\n",
    "# #test_data_scaled = df_fit.transform(test_continuous)\n",
    "# #names = scaler.get_feature_names(df_fit)\n",
    "# # Make them into Dataframe\n",
    "# train_scaled_df = pd.DataFrame(df_fit)\n",
    "# #test_scaled_df = pd.DataFrame(test_data_scaled, columns = continuous)\n"
   ]
  },
  {
   "cell_type": "code",
   "execution_count": null,
   "id": "e9541950",
   "metadata": {},
   "outputs": [],
   "source": []
  }
 ],
 "metadata": {
  "kernelspec": {
   "display_name": "Python 3 (ipykernel)",
   "language": "python",
   "name": "python3"
  },
  "language_info": {
   "codemirror_mode": {
    "name": "ipython",
    "version": 3
   },
   "file_extension": ".py",
   "mimetype": "text/x-python",
   "name": "python",
   "nbconvert_exporter": "python",
   "pygments_lexer": "ipython3",
   "version": "3.8.11"
  }
 },
 "nbformat": 4,
 "nbformat_minor": 5
}
